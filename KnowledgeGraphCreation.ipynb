{
 "cells": [
  {
   "cell_type": "code",
   "execution_count": 1,
   "metadata": {},
   "outputs": [],
   "source": [
    "import warnings\n",
    "warnings.filterwarnings(\"ignore\")"
   ]
  },
  {
   "cell_type": "code",
   "execution_count": 2,
   "metadata": {},
   "outputs": [
    {
     "name": "stdout",
     "output_type": "stream",
     "text": [
      "Python 3.7.4\n"
     ]
    }
   ],
   "source": [
    "!python --version"
   ]
  },
  {
   "cell_type": "code",
   "execution_count": 3,
   "metadata": {},
   "outputs": [
    {
     "data": {
      "text/plain": [
       "'C:\\\\Users\\\\hp\\\\Anaconda3'"
      ]
     },
     "execution_count": 3,
     "metadata": {},
     "output_type": "execute_result"
    }
   ],
   "source": [
    "import sys\n",
    "import os\n",
    "os.path.dirname(sys.executable)"
   ]
  },
  {
   "cell_type": "code",
   "execution_count": 23,
   "metadata": {},
   "outputs": [],
   "source": [
    "import pandas as pd\n",
    "import numpy as np\n",
    "import matplotlib.pyplot as plt\n",
    "import seaborn as sns\n",
    "pd.set_option(\"display.max_colwidth\", 500)"
   ]
  },
  {
   "cell_type": "code",
   "execution_count": 27,
   "metadata": {},
   "outputs": [],
   "source": [
    "movies_df = pd.read_csv(\"movies_metadata.csv\", low_memory=False)"
   ]
  },
  {
   "cell_type": "code",
   "execution_count": 28,
   "metadata": {},
   "outputs": [
    {
     "data": {
      "text/plain": [
       "Index(['adult', 'belongs_to_collection', 'budget', 'genres', 'homepage', 'id',\n",
       "       'imdb_id', 'original_language', 'original_title', 'overview',\n",
       "       'popularity', 'poster_path', 'production_companies',\n",
       "       'production_countries', 'release_date', 'revenue', 'runtime',\n",
       "       'spoken_languages', 'status', 'tagline', 'title', 'video',\n",
       "       'vote_average', 'vote_count'],\n",
       "      dtype='object')"
      ]
     },
     "execution_count": 28,
     "metadata": {},
     "output_type": "execute_result"
    }
   ],
   "source": [
    "movies_df.columns"
   ]
  },
  {
   "cell_type": "code",
   "execution_count": 29,
   "metadata": {},
   "outputs": [
    {
     "data": {
      "text/plain": [
       "(45466, 24)"
      ]
     },
     "execution_count": 29,
     "metadata": {},
     "output_type": "execute_result"
    }
   ],
   "source": [
    "movies_df.shape"
   ]
  },
  {
   "cell_type": "code",
   "execution_count": 30,
   "metadata": {},
   "outputs": [],
   "source": [
    "movies_df.drop_duplicates(subset=['id'], inplace=True)"
   ]
  },
  {
   "cell_type": "code",
   "execution_count": 31,
   "metadata": {},
   "outputs": [
    {
     "data": {
      "text/plain": [
       "(45436, 24)"
      ]
     },
     "execution_count": 31,
     "metadata": {},
     "output_type": "execute_result"
    }
   ],
   "source": [
    "movies_df.shape"
   ]
  },
  {
   "cell_type": "code",
   "execution_count": 32,
   "metadata": {},
   "outputs": [],
   "source": [
    "movies_df = movies_df.iloc[0:100]"
   ]
  },
  {
   "cell_type": "code",
   "execution_count": 12,
   "metadata": {},
   "outputs": [],
   "source": [
    "movies_df['genres'] = movies_df['genres'].apply(lambda x: eval(x))"
   ]
  },
  {
   "cell_type": "code",
   "execution_count": 13,
   "metadata": {},
   "outputs": [
    {
     "data": {
      "text/plain": [
       "\"[{'name': 'Sandollar Productions', 'id': 5842}, {'name': 'Touchstone Pictures', 'id': 9195}]\""
      ]
     },
     "execution_count": 13,
     "metadata": {},
     "output_type": "execute_result"
    }
   ],
   "source": [
    "movies_df['production_companies'][4]"
   ]
  },
  {
   "cell_type": "code",
   "execution_count": 14,
   "metadata": {},
   "outputs": [],
   "source": [
    "movies_df.dropna(subset=['title'], inplace=True)"
   ]
  },
  {
   "cell_type": "code",
   "execution_count": 15,
   "metadata": {},
   "outputs": [],
   "source": [
    "credits_df = pd.read_csv('credits.csv')\n",
    "credits_df.drop_duplicates(subset=['id'], inplace=True)"
   ]
  },
  {
   "cell_type": "code",
   "execution_count": 16,
   "metadata": {},
   "outputs": [],
   "source": [
    "credits_df= credits_df.iloc[0:100]"
   ]
  },
  {
   "cell_type": "code",
   "execution_count": 17,
   "metadata": {},
   "outputs": [
    {
     "data": {
      "text/plain": [
       "0"
      ]
     },
     "execution_count": 17,
     "metadata": {},
     "output_type": "execute_result"
    }
   ],
   "source": [
    "credits_df['cast'].isnull().sum()"
   ]
  },
  {
   "cell_type": "code",
   "execution_count": 18,
   "metadata": {},
   "outputs": [
    {
     "data": {
      "text/plain": [
       "((100, 24), (100, 3))"
      ]
     },
     "execution_count": 18,
     "metadata": {},
     "output_type": "execute_result"
    }
   ],
   "source": [
    "movies_df.shape, credits_df.shape"
   ]
  },
  {
   "cell_type": "code",
   "execution_count": 19,
   "metadata": {},
   "outputs": [],
   "source": [
    "movies_df['id'] = movies_df['id'].astype(str)\n",
    "credits_df['id'] = credits_df['id'].astype(str)"
   ]
  },
  {
   "cell_type": "code",
   "execution_count": 20,
   "metadata": {},
   "outputs": [],
   "source": [
    "credits_df['cast'] = credits_df['cast'].apply(lambda x: eval(x))"
   ]
  },
  {
   "cell_type": "markdown",
   "metadata": {},
   "source": [
    "# Prodcution Companies #"
   ]
  },
  {
   "cell_type": "code",
   "execution_count": 40,
   "metadata": {},
   "outputs": [],
   "source": [
    "movies_df['production_companies'] = movies_df['production_companies'].apply(lambda x: eval(x))"
   ]
  },
  {
   "cell_type": "markdown",
   "metadata": {},
   "source": [
    "XXXXXXXXXXXXXXXXX (ROUGH WORK)"
   ]
  },
  {
   "cell_type": "code",
   "execution_count": 296,
   "metadata": {},
   "outputs": [],
   "source": [
    "credits_df = pd.read_csv(\"credits.csv\")"
   ]
  },
  {
   "cell_type": "code",
   "execution_count": 191,
   "metadata": {},
   "outputs": [
    {
     "data": {
      "text/plain": [
       "{'cast_id': 14,\n",
       " 'character': 'Woody (voice)',\n",
       " 'credit_id': '52fe4284c3a36847f8024f95',\n",
       " 'gender': 2,\n",
       " 'id': 31,\n",
       " 'name': 'Tom Hanks',\n",
       " 'order': 0,\n",
       " 'profile_path': '/pQFoyx7rp09CJTAb932F2g8Nlho.jpg'}"
      ]
     },
     "execution_count": 191,
     "metadata": {},
     "output_type": "execute_result"
    }
   ],
   "source": [
    "credits_df.iloc[0]['cast'][0]"
   ]
  },
  {
   "cell_type": "code",
   "execution_count": null,
   "metadata": {},
   "outputs": [],
   "source": []
  },
  {
   "cell_type": "code",
   "execution_count": 234,
   "metadata": {},
   "outputs": [],
   "source": [
    "# def _pri(head_type,head_id,head_properties,tail_type,tail_id,tail_properties,rel_type):\n",
    "#     print(head_type, head_id, tail_type, tail_id)"
   ]
  },
  {
   "cell_type": "code",
   "execution_count": 236,
   "metadata": {},
   "outputs": [],
   "source": [
    "# for i in x:\n",
    "#     _pri(**i)\n",
    "#     print(\"***\")"
   ]
  },
  {
   "cell_type": "code",
   "execution_count": null,
   "metadata": {},
   "outputs": [],
   "source": []
  },
  {
   "cell_type": "code",
   "execution_count": 41,
   "metadata": {},
   "outputs": [],
   "source": [
    "for i in movies_df['budget']:\n",
    "    try:\n",
    "        float(i)\n",
    "    except:\n",
    "        print(i)"
   ]
  },
  {
   "cell_type": "code",
   "execution_count": 42,
   "metadata": {},
   "outputs": [],
   "source": [
    "class MoviesPreCleaner:\n",
    "    def driver(self, df):\n",
    "        df = self.remove"
   ]
  },
  {
   "cell_type": "code",
   "execution_count": 43,
   "metadata": {},
   "outputs": [
    {
     "data": {
      "text/html": [
       "<div>\n",
       "<style scoped>\n",
       "    .dataframe tbody tr th:only-of-type {\n",
       "        vertical-align: middle;\n",
       "    }\n",
       "\n",
       "    .dataframe tbody tr th {\n",
       "        vertical-align: top;\n",
       "    }\n",
       "\n",
       "    .dataframe thead th {\n",
       "        text-align: right;\n",
       "    }\n",
       "</style>\n",
       "<table border=\"1\" class=\"dataframe\">\n",
       "  <thead>\n",
       "    <tr style=\"text-align: right;\">\n",
       "      <th></th>\n",
       "      <th>adult</th>\n",
       "      <th>belongs_to_collection</th>\n",
       "      <th>budget</th>\n",
       "      <th>genres</th>\n",
       "      <th>homepage</th>\n",
       "      <th>id</th>\n",
       "      <th>imdb_id</th>\n",
       "      <th>original_language</th>\n",
       "      <th>original_title</th>\n",
       "      <th>overview</th>\n",
       "      <th>...</th>\n",
       "      <th>release_date</th>\n",
       "      <th>revenue</th>\n",
       "      <th>runtime</th>\n",
       "      <th>spoken_languages</th>\n",
       "      <th>status</th>\n",
       "      <th>tagline</th>\n",
       "      <th>title</th>\n",
       "      <th>video</th>\n",
       "      <th>vote_average</th>\n",
       "      <th>vote_count</th>\n",
       "    </tr>\n",
       "  </thead>\n",
       "  <tbody>\n",
       "  </tbody>\n",
       "</table>\n",
       "<p>0 rows × 24 columns</p>\n",
       "</div>"
      ],
      "text/plain": [
       "Empty DataFrame\n",
       "Columns: [adult, belongs_to_collection, budget, genres, homepage, id, imdb_id, original_language, original_title, overview, popularity, poster_path, production_companies, production_countries, release_date, revenue, runtime, spoken_languages, status, tagline, title, video, vote_average, vote_count]\n",
       "Index: []\n",
       "\n",
       "[0 rows x 24 columns]"
      ]
     },
     "execution_count": 43,
     "metadata": {},
     "output_type": "execute_result"
    }
   ],
   "source": [
    "movies_df[movies_df['budget']=='/ff9qCepilowshEtG2GYWwzt2bs4.jpg']"
   ]
  },
  {
   "cell_type": "code",
   "execution_count": 44,
   "metadata": {},
   "outputs": [
    {
     "data": {
      "text/plain": [
       "48"
      ]
     },
     "execution_count": 44,
     "metadata": {},
     "output_type": "execute_result"
    }
   ],
   "source": [
    "sum(movies_df['budget']=='0')"
   ]
  },
  {
   "cell_type": "code",
   "execution_count": 45,
   "metadata": {},
   "outputs": [],
   "source": [
    "ratings_df = pd.read_csv(\"ratings.csv\")"
   ]
  },
  {
   "cell_type": "code",
   "execution_count": 46,
   "metadata": {},
   "outputs": [
    {
     "data": {
      "text/html": [
       "<div>\n",
       "<style scoped>\n",
       "    .dataframe tbody tr th:only-of-type {\n",
       "        vertical-align: middle;\n",
       "    }\n",
       "\n",
       "    .dataframe tbody tr th {\n",
       "        vertical-align: top;\n",
       "    }\n",
       "\n",
       "    .dataframe thead th {\n",
       "        text-align: right;\n",
       "    }\n",
       "</style>\n",
       "<table border=\"1\" class=\"dataframe\">\n",
       "  <thead>\n",
       "    <tr style=\"text-align: right;\">\n",
       "      <th></th>\n",
       "      <th>userId</th>\n",
       "      <th>movieId</th>\n",
       "      <th>rating</th>\n",
       "      <th>timestamp</th>\n",
       "    </tr>\n",
       "  </thead>\n",
       "  <tbody>\n",
       "    <tr>\n",
       "      <td>0</td>\n",
       "      <td>1</td>\n",
       "      <td>110</td>\n",
       "      <td>1.0</td>\n",
       "      <td>1425941529</td>\n",
       "    </tr>\n",
       "    <tr>\n",
       "      <td>1</td>\n",
       "      <td>1</td>\n",
       "      <td>147</td>\n",
       "      <td>4.5</td>\n",
       "      <td>1425942435</td>\n",
       "    </tr>\n",
       "    <tr>\n",
       "      <td>2</td>\n",
       "      <td>1</td>\n",
       "      <td>858</td>\n",
       "      <td>5.0</td>\n",
       "      <td>1425941523</td>\n",
       "    </tr>\n",
       "    <tr>\n",
       "      <td>3</td>\n",
       "      <td>1</td>\n",
       "      <td>1221</td>\n",
       "      <td>5.0</td>\n",
       "      <td>1425941546</td>\n",
       "    </tr>\n",
       "    <tr>\n",
       "      <td>4</td>\n",
       "      <td>1</td>\n",
       "      <td>1246</td>\n",
       "      <td>5.0</td>\n",
       "      <td>1425941556</td>\n",
       "    </tr>\n",
       "    <tr>\n",
       "      <td>...</td>\n",
       "      <td>...</td>\n",
       "      <td>...</td>\n",
       "      <td>...</td>\n",
       "      <td>...</td>\n",
       "    </tr>\n",
       "    <tr>\n",
       "      <td>26024284</td>\n",
       "      <td>270896</td>\n",
       "      <td>58559</td>\n",
       "      <td>5.0</td>\n",
       "      <td>1257031564</td>\n",
       "    </tr>\n",
       "    <tr>\n",
       "      <td>26024285</td>\n",
       "      <td>270896</td>\n",
       "      <td>60069</td>\n",
       "      <td>5.0</td>\n",
       "      <td>1257032032</td>\n",
       "    </tr>\n",
       "    <tr>\n",
       "      <td>26024286</td>\n",
       "      <td>270896</td>\n",
       "      <td>63082</td>\n",
       "      <td>4.5</td>\n",
       "      <td>1257031764</td>\n",
       "    </tr>\n",
       "    <tr>\n",
       "      <td>26024287</td>\n",
       "      <td>270896</td>\n",
       "      <td>64957</td>\n",
       "      <td>4.5</td>\n",
       "      <td>1257033990</td>\n",
       "    </tr>\n",
       "    <tr>\n",
       "      <td>26024288</td>\n",
       "      <td>270896</td>\n",
       "      <td>71878</td>\n",
       "      <td>2.0</td>\n",
       "      <td>1257031858</td>\n",
       "    </tr>\n",
       "  </tbody>\n",
       "</table>\n",
       "<p>26024289 rows × 4 columns</p>\n",
       "</div>"
      ],
      "text/plain": [
       "          userId  movieId  rating   timestamp\n",
       "0              1      110     1.0  1425941529\n",
       "1              1      147     4.5  1425942435\n",
       "2              1      858     5.0  1425941523\n",
       "3              1     1221     5.0  1425941546\n",
       "4              1     1246     5.0  1425941556\n",
       "...          ...      ...     ...         ...\n",
       "26024284  270896    58559     5.0  1257031564\n",
       "26024285  270896    60069     5.0  1257032032\n",
       "26024286  270896    63082     4.5  1257031764\n",
       "26024287  270896    64957     4.5  1257033990\n",
       "26024288  270896    71878     2.0  1257031858\n",
       "\n",
       "[26024289 rows x 4 columns]"
      ]
     },
     "execution_count": 46,
     "metadata": {},
     "output_type": "execute_result"
    }
   ],
   "source": [
    " ratings_df"
   ]
  },
  {
   "cell_type": "code",
   "execution_count": 239,
   "metadata": {},
   "outputs": [],
   "source": [
    "# movies_df.head(1).T"
   ]
  },
  {
   "cell_type": "code",
   "execution_count": null,
   "metadata": {},
   "outputs": [],
   "source": []
  },
  {
   "cell_type": "markdown",
   "metadata": {},
   "source": [
    "XXXXXXXXXXXXXXXXX (END OF ROUGH WORK )"
   ]
  },
  {
   "cell_type": "markdown",
   "metadata": {},
   "source": [
    " ### Neo4J _ Knowledge Graph"
   ]
  },
  {
   "cell_type": "code",
   "execution_count": 47,
   "metadata": {},
   "outputs": [],
   "source": [
    "from neo4j import GraphDatabase"
   ]
  },
  {
   "cell_type": "code",
   "execution_count": 48,
   "metadata": {},
   "outputs": [],
   "source": [
    "# class HelloWorldExample:\n",
    "\n",
    "#     def __init__(self, uri, user, password):\n",
    "#         self.driver = GraphDatabase.driver(uri, auth=(user, password))\n",
    "\n",
    "#     def close(self):\n",
    "#         self.driver.close()\n",
    "# #\n",
    "#     def print_greeting(self, message):\n",
    "#         with self.driver.session() as session:\n",
    "#             greeting = session.write_transaction(self._create_and_return_greeting, message)\n",
    "#             print(greeting)\n",
    "\n",
    "#     @staticmethod\n",
    "#     def _create_and_return_greeting(tx, message):\n",
    "#         result = tx.run(\"CREATE (a:Greeting) \"\n",
    "#                         \"SET a.message = $message \"\n",
    "#                         \"RETURN a.message + ', from node ' + id(a)\", message=message)\n",
    "#         return result.single()[0]\n",
    "\n",
    "\n",
    "# if __name__ == \"__main__\":\n",
    "#     greeter = HelloWorldExample(\"bolt://localhost:7687\", \"neo4j\", \"admin\")\n",
    "#     greeter.print_greeting(\"hello, world\")\n",
    "#     greeter.close()"
   ]
  },
  {
   "cell_type": "code",
   "execution_count": 49,
   "metadata": {},
   "outputs": [],
   "source": [
    "d = GraphDatabase.driver(\"bolt://localhost:7687\", auth=(\"neo4j\", \"admin\"), encrypted=False)"
   ]
  },
  {
   "cell_type": "code",
   "execution_count": 50,
   "metadata": {},
   "outputs": [
    {
     "data": {
      "text/plain": [
       "<neo4j.BoltDriver at 0x288b40e488>"
      ]
     },
     "execution_count": 50,
     "metadata": {},
     "output_type": "execute_result"
    }
   ],
   "source": [
    "d"
   ]
  },
  {
   "cell_type": "code",
   "execution_count": 51,
   "metadata": {},
   "outputs": [],
   "source": [
    "def name_property_check(func):\n",
    "    def validate_func(**kwargs):\n",
    "        print(kwargs)\n",
    "        return func(*kwargs)\n",
    "    return validate_func"
   ]
  },
  {
   "cell_type": "code",
   "execution_count": null,
   "metadata": {},
   "outputs": [],
   "source": []
  },
  {
   "cell_type": "code",
   "execution_count": 52,
   "metadata": {},
   "outputs": [],
   "source": [
    "class GraphUtils:\n",
    "    def __init__(self):\n",
    "        pass\n",
    "    ## Utitlity to convert the dictionary object to into string ({'key1':'value1'} -> \"{key1:'value'}\")\n",
    "    def _get_property_in_cypher_format(self, dic):\n",
    "        format_string = \"{\"\n",
    "        for k,v in dic.items():\n",
    "            format_string += k + ':\"%s\", '%(v)\n",
    "        format_string = format_string[:-2] # removing the last/trailing \", \"\n",
    "        format_string+=\"}\"\n",
    "        return format_string\n",
    "    def insert_HTR(self, head_type,head_id,head_properties,tail_type,tail_id,tail_properties,rel_type,rel_properties=None):\n",
    "        ## all the properties expcet rel_properties must have a 'id' field\n",
    "        ## add a decorator here for validation\n",
    "        head_properties = self._get_property_in_cypher_format(head_properties)\n",
    "        tail_properties = self._get_property_in_cypher_format(tail_properties)\n",
    "        ## for relation types make sure to check before that, that particular relation doesn't exist\n",
    "        \n",
    "        if rel_properties is None:\n",
    "            query = \"\"\"\\\n",
    "            MERGE(head: {head_type} {{ id:\"{head_id}\" }})\n",
    "            SET head += {head_properties}\n",
    "            MERGE(tail: {tail_type} {{ id:\"{tail_id}\" }}) \n",
    "            SET tail += {tail_properties}\n",
    "            MERGE (head)-[rel: {rel_type}]->(tail) return head, tail, rel\"\"\".format(head_type=head_type,\n",
    "                                                                                    head_id=head_id, \n",
    "                                                                                    head_properties=head_properties,\n",
    "                                                                                    tail_type=tail_type, \n",
    "                                                                                    tail_id=tail_id,\n",
    "                                                                                    tail_properties=tail_properties, \n",
    "                                                                                    rel_type=rel_type)\n",
    "            ## initialize this d object with a singleton\n",
    "            with d.session() as session:\n",
    "                session.run(query)\n",
    "                "
   ]
  },
  {
   "cell_type": "code",
   "execution_count": 53,
   "metadata": {},
   "outputs": [],
   "source": [
    "from IPython.display import clear_output"
   ]
  },
  {
   "cell_type": "code",
   "execution_count": 54,
   "metadata": {},
   "outputs": [],
   "source": [
    "class HRT_Extractor:\n",
    "    def __init__(self):\n",
    "        pass\n",
    "    def _movie_genre_htr(self, mids, titles, genres):\n",
    "        for m_id, genre_json_list, title in zip(mids, genres, titles):\n",
    "            if len(genre_json_list)==0:\n",
    "                continue\n",
    "            for genre_json in genre_json_list:\n",
    "                htr_dict = {\n",
    "                       'head_type' : 'Movie',\n",
    "                       'head_id' : str(m_id),\n",
    "                       'head_properties' : {'id': str(m_id), 'title': str(title).replace('\"',\"'\")},\n",
    "                       'tail_type' : 'Genre',\n",
    "                       'tail_id' : str(genre_json['id']),\n",
    "                       'tail_properties' : genre_json,\n",
    "                       'rel_type' : 'has_genre'\n",
    "                   }\n",
    "                yield htr_dict\n",
    "                \n",
    "    def movie_genre_population(self, movie_ids_list: list, movie_titles_list: list, genres: dict):\n",
    "        idx = 0\n",
    "        for _obj in self._movie_genre_htr(movie_ids_list, movie_titles_list, genres):\n",
    "            GraphUtils().insert_HTR(**_obj)\n",
    "            \n",
    "            print(idx)\n",
    "            if idx%100==0:\n",
    "                clear_output()\n",
    "            idx+=1\n",
    "        clear_output()\n",
    "        print(idx, \"Completed\")\n",
    "        \n",
    "    def _movie_actor_htr(self, mids, actors):\n",
    "        for m_id, actor_json_list in zip(mids, actors):\n",
    "            if len(actor_json_list)==0:\n",
    "                continue\n",
    "            for actor_json in actor_json_list:\n",
    "                actor_json = {'id':actor_json['id'], 'name':actor_json['name'].replace('\"',\"'\"), 'gender':str(actor_json['gender'])}\n",
    "                if actor_json['name'] == \"\"\"\"Weird Al\" Yankovic\"\"\" or actor_json['name'] == \"'Weird Al' Yankovic\":\n",
    "                    print(actor_json)\n",
    "                # whyyyyyy\n",
    "                htr_dict = {\n",
    "                       'head_type' : 'Movie',\n",
    "                       'head_id' : str(m_id),\n",
    "                       'head_properties' : {'id': str(m_id)},\n",
    "                       'tail_type' : 'Actor',\n",
    "                       'tail_id' : str(actor_json['id']),\n",
    "                       'tail_properties' : actor_json,\n",
    "                       'rel_type' : 'acted_by'\n",
    "                   }\n",
    "                yield htr_dict\n",
    "                \n",
    "    def movie_actor_population(self, movie_ids_list: list, actors: dict):\n",
    "        idx = 0\n",
    "        for _obj in self._movie_actor_htr(movie_ids_list,actors):\n",
    "            GraphUtils().insert_HTR(**_obj)\n",
    "            \n",
    "            if idx%100==0:\n",
    "                print(idx)\n",
    "            if idx%1000==0:\n",
    "                clear_output()\n",
    "            idx+=1\n",
    "        clear_output()\n",
    "        print(idx, \"Completed\")\n",
    "        \n",
    "        \n",
    "    def _movie_production_company_htr(self, mids, titles, prod_comps):\n",
    "        for m_id, prod_comp_json_list, title in zip(mids, prod_comps, titles):\n",
    "            if len(prod_comp_json_list)==0:\n",
    "                continue\n",
    "            for prod_comp_json in prod_comp_json_list:\n",
    "                htr_dict = {\n",
    "                       'head_type' : 'Movie',\n",
    "                       'head_id' : str(m_id),\n",
    "                       'head_properties' : {'id': str(m_id), 'title': str(title).replace('\"',\"'\")},\n",
    "                       'tail_type' : 'ProductionCompany',\n",
    "                       'tail_id' : str(prod_comp_json['id']),\n",
    "                       'tail_properties' : prod_comp_json,\n",
    "                       'rel_type' : 'is_produced_by'\n",
    "                   }\n",
    "                yield htr_dict\n",
    "                \n",
    "    def movie_production_company_population(self, movie_ids_list: list, movie_titles_list: list, prod_comps: dict):\n",
    "        idx = 0\n",
    "        for _obj in self._movie_production_company_htr(movie_ids_list, movie_titles_list, prod_comps):\n",
    "            GraphUtils().insert_HTR(**_obj)\n",
    "            \n",
    "            print(idx)\n",
    "            if idx%100==0:\n",
    "                clear_output()\n",
    "            idx+=1\n",
    "        clear_output()\n",
    "        print(idx, \"Completed\")\n",
    "        \n",
    "        \n",
    "        \n",
    "    def _movie_year_htr(self, mids, titles, year):\n",
    "        for m_id, year, title in zip(mids, year, titles):\n",
    "            \n",
    "            htr_dict = {\n",
    "                       'head_type' : 'Movie',\n",
    "                       'head_id' : str(m_id),\n",
    "                       'head_properties' : {'id': str(m_id), 'title': str(title).replace('\"',\"'\")},\n",
    "                       'tail_type' : 'Year',\n",
    "                       'tail_id' : str(year),\n",
    "                       'tail_properties' : {'id': str(year), 'year': str(year)},\n",
    "                       'rel_type' : 'released_in'\n",
    "                   }\n",
    "            yield  htr_dict\n",
    "        \n",
    "                \n",
    "    def movie_year_population(self, movie_ids_list: list, movie_titles_list: list, year):\n",
    "        idx = 0\n",
    "        for _obj in self._movie_year_htr(movie_ids_list, movie_titles_list, year):\n",
    "            GraphUtils().insert_HTR(**_obj)\n",
    "            \n",
    "            print(idx)\n",
    "            if idx%100==0:\n",
    "                clear_output()\n",
    "            idx+=1\n",
    "        clear_output()\n",
    "        print(idx, \"Completed\")\n",
    "        \n",
    "        \n",
    "                \n",
    "    def _movie_director_htr(self, mids, directors):\n",
    "        for m_id, director_json_list in zip(mids, directors):\n",
    "            if len(director_json_list)==0:\n",
    "                continue\n",
    "            for director_json in director_json_list:\n",
    "                director_json = {'id':director_json['id'], 'name':director_json['name'].replace('\"',\"'\"), 'gender':str(director_json['gender'])}\n",
    "\n",
    "                htr_dict = {\n",
    "                       'head_type' : 'Movie',\n",
    "                       'head_id' : str(m_id),\n",
    "                       'head_properties' : {'id': str(m_id)},\n",
    "                       'tail_type' : 'director',\n",
    "                       'tail_id' : str(director_json['id']),\n",
    "                       'tail_properties' : director_json,\n",
    "                       'rel_type' : 'directed_by'\n",
    "                   }\n",
    "                yield htr_dict\n",
    "                \n",
    "    def movie_director_population(self, movie_ids_list: list, directors: dict):\n",
    "        idx = 0\n",
    "        for _obj in self._movie_director_htr(movie_ids_list,directors):\n",
    "            GraphUtils().insert_HTR(**_obj)\n",
    "            \n",
    "            if idx%100==0:\n",
    "                print(idx)\n",
    "            if idx%1000==0:\n",
    "                clear_output()\n",
    "            idx+=1\n",
    "        clear_output()\n",
    "        print(idx, \"Completed\")"
   ]
  },
  {
   "cell_type": "code",
   "execution_count": 55,
   "metadata": {},
   "outputs": [
    {
     "data": {
      "text/plain": [
       "0                                                                         [{'id': 16, 'name': 'Animation'}, {'id': 35, 'name': 'Comedy'}, {'id': 10751, 'name': 'Family'}]\n",
       "1                                                                        [{'id': 12, 'name': 'Adventure'}, {'id': 14, 'name': 'Fantasy'}, {'id': 10751, 'name': 'Family'}]\n",
       "2                                                                                                         [{'id': 10749, 'name': 'Romance'}, {'id': 35, 'name': 'Comedy'}]\n",
       "3                                                                            [{'id': 35, 'name': 'Comedy'}, {'id': 18, 'name': 'Drama'}, {'id': 10749, 'name': 'Romance'}]\n",
       "4                                                                                                                                           [{'id': 35, 'name': 'Comedy'}]\n",
       "                                                                                      ...                                                                                 \n",
       "95                                                                                                                                           [{'id': 18, 'name': 'Drama'}]\n",
       "96    [{'id': 28, 'name': 'Action'}, {'id': 12, 'name': 'Adventure'}, {'id': 18, 'name': 'Drama'}, {'id': 878, 'name': 'Science Fiction'}, {'id': 53, 'name': 'Thriller'}]\n",
       "97                                                                                                                                     [{'id': 99, 'name': 'Documentary'}]\n",
       "98                                                                                                           [{'id': 18, 'name': 'Drama'}, {'id': 53, 'name': 'Thriller'}]\n",
       "99                                                                                [{'id': 35, 'name': 'Comedy'}, {'id': 80, 'name': 'Crime'}, {'id': 18, 'name': 'Drama'}]\n",
       "Name: genres, Length: 100, dtype: object"
      ]
     },
     "execution_count": 55,
     "metadata": {},
     "output_type": "execute_result"
    }
   ],
   "source": [
    "movies_df['genres']"
   ]
  },
  {
   "cell_type": "code",
   "execution_count": 289,
   "metadata": {},
   "outputs": [],
   "source": [
    "#HRT_Extractor().movie_genre_population([1,2,3], ['A', 'B', 'C'], movies_df['genres'].iloc[:4])"
   ]
  },
  {
   "cell_type": "markdown",
   "metadata": {},
   "source": [
    "population Movie - Genre edges"
   ]
  },
  {
   "cell_type": "code",
   "execution_count": 59,
   "metadata": {},
   "outputs": [
    {
     "name": "stdout",
     "output_type": "stream",
     "text": [
      "242 Completed\n"
     ]
    }
   ],
   "source": [
    "HRT_Extractor().movie_genre_population(movies_df['id'], movies_df['title'], movies_df['genres'])"
   ]
  },
  {
   "cell_type": "code",
   "execution_count": null,
   "metadata": {},
   "outputs": [],
   "source": []
  },
  {
   "cell_type": "code",
   "execution_count": 57,
   "metadata": {},
   "outputs": [],
   "source": [
    "movies_df = pd.merge(movies_df, credits_df, how='inner', on='id')"
   ]
  },
  {
   "cell_type": "code",
   "execution_count": 67,
   "metadata": {},
   "outputs": [],
   "source": [
    "#with d.session() as session:\n",
    " #   session.run(\"CREATE INDEX e FOR (a:Movie) ON (a.id)\")\n",
    "    \n",
    "   "
   ]
  },
  {
   "cell_type": "markdown",
   "metadata": {},
   "source": [
    "Creating Index on Movies"
   ]
  },
  {
   "cell_type": "code",
   "execution_count": 60,
   "metadata": {},
   "outputs": [],
   "source": [
    "#with d.session() as session:\n",
    "#    session.run(\"CREATE INDEX movie_id_index FOR (n:Movie) on (n.id)\")"
   ]
  },
  {
   "cell_type": "code",
   "execution_count": 356,
   "metadata": {},
   "outputs": [],
   "source": [
    "# def temp(mids, actors):\n",
    "#         for m_id, actor_json_list in zip(mids, actors):\n",
    "#             if len(actor_json_list)==0:\n",
    "#                 continue\n",
    "#             for actor_json in actor_json_list:\n",
    "#                 actor_json = {'id':actor_json['id'], 'name':actor_json['name'].replace('\"',\"'\"), 'gender':str(actor_json['gender'])}\n",
    "#                 if actor_json['name'] == \"\"\"\"Weird Al\" Yankovic\"\"\" or actor_json['name'] == \"'Weird Al' Yankovic\":\n",
    "#                     print(actor_json)"
   ]
  },
  {
   "cell_type": "code",
   "execution_count": 357,
   "metadata": {},
   "outputs": [],
   "source": [
    "#temp(movies_df['id'], movies_df['cast'])"
   ]
  },
  {
   "cell_type": "markdown",
   "metadata": {},
   "source": [
    "population Movie - Actor edges"
   ]
  },
  {
   "cell_type": "code",
   "execution_count": 68,
   "metadata": {},
   "outputs": [
    {
     "name": "stdout",
     "output_type": "stream",
     "text": [
      "1680 Completed\n"
     ]
    }
   ],
   "source": [
    "HRT_Extractor().movie_actor_population(movies_df['id'], movies_df['cast'])"
   ]
  },
  {
   "cell_type": "markdown",
   "metadata": {},
   "source": [
    "# Adding production companies #"
   ]
  },
  {
   "cell_type": "code",
   "execution_count": 69,
   "metadata": {},
   "outputs": [
    {
     "name": "stdout",
     "output_type": "stream",
     "text": [
      "250 Completed\n"
     ]
    }
   ],
   "source": [
    "HRT_Extractor().movie_production_company_population(movies_df['id'], movies_df['title'], movies_df['production_companies'])"
   ]
  },
  {
   "cell_type": "code",
   "execution_count": null,
   "metadata": {
    "scrolled": true
   },
   "outputs": [],
   "source": [
    "production_company"
   ]
  },
  {
   "cell_type": "markdown",
   "metadata": {},
   "source": [
    "# Adding Time node #\n",
    "\n"
   ]
  },
  {
   "cell_type": "code",
   "execution_count": 70,
   "metadata": {},
   "outputs": [
    {
     "data": {
      "text/plain": [
       "0     1995-10-30\n",
       "1     1995-12-15\n",
       "2     1995-12-22\n",
       "3     1995-12-22\n",
       "4     1995-02-10\n",
       "         ...    \n",
       "95    1995-05-31\n",
       "96    1994-12-06\n",
       "97    1995-12-27\n",
       "98    1996-02-16\n",
       "99    1996-02-21\n",
       "Name: release_date, Length: 100, dtype: object"
      ]
     },
     "execution_count": 70,
     "metadata": {},
     "output_type": "execute_result"
    }
   ],
   "source": [
    "movies_df['release_date']"
   ]
  },
  {
   "cell_type": "code",
   "execution_count": 71,
   "metadata": {},
   "outputs": [],
   "source": [
    "from datetime import datetime\n",
    "def Extract_year(x): \n",
    "    dt = datetime.strptime(x, '%Y-%m-%d')\n",
    "    return dt.year"
   ]
  },
  {
   "cell_type": "code",
   "execution_count": 72,
   "metadata": {},
   "outputs": [],
   "source": [
    "movies_df['release_year'] = movies_df['release_date'].apply(lambda x: Extract_year(x))"
   ]
  },
  {
   "cell_type": "code",
   "execution_count": 73,
   "metadata": {},
   "outputs": [
    {
     "name": "stdout",
     "output_type": "stream",
     "text": [
      "100 Completed\n"
     ]
    }
   ],
   "source": [
    "HRT_Extractor().movie_year_population(movies_df['id'], movies_df['title'], movies_df['release_year'])"
   ]
  },
  {
   "cell_type": "code",
   "execution_count": 90,
   "metadata": {},
   "outputs": [
    {
     "data": {
      "text/plain": [
       "4"
      ]
     },
     "execution_count": 90,
     "metadata": {},
     "output_type": "execute_result"
    }
   ],
   "source": [
    "movies_df['release_year'].nunique()"
   ]
  },
  {
   "cell_type": "markdown",
   "metadata": {},
   "source": [
    "# Adding director and writer #"
   ]
  },
  {
   "cell_type": "code",
   "execution_count": 24,
   "metadata": {},
   "outputs": [
    {
     "data": {
      "text/html": [
       "<div>\n",
       "<style scoped>\n",
       "    .dataframe tbody tr th:only-of-type {\n",
       "        vertical-align: middle;\n",
       "    }\n",
       "\n",
       "    .dataframe tbody tr th {\n",
       "        vertical-align: top;\n",
       "    }\n",
       "\n",
       "    .dataframe thead th {\n",
       "        text-align: right;\n",
       "    }\n",
       "</style>\n",
       "<table border=\"1\" class=\"dataframe\">\n",
       "  <thead>\n",
       "    <tr style=\"text-align: right;\">\n",
       "      <th></th>\n",
       "      <th>cast</th>\n",
       "      <th>crew</th>\n",
       "      <th>id</th>\n",
       "    </tr>\n",
       "  </thead>\n",
       "  <tbody>\n",
       "    <tr>\n",
       "      <td>0</td>\n",
       "      <td>[{'cast_id': 14, 'character': 'Woody (voice)', 'credit_id': '52fe4284c3a36847f8024f95', 'gender': 2, 'id': 31, 'name': 'Tom Hanks', 'order': 0, 'profile_path': '/pQFoyx7rp09CJTAb932F2g8Nlho.jpg'}, {'cast_id': 15, 'character': 'Buzz Lightyear (voice)', 'credit_id': '52fe4284c3a36847f8024f99', 'gender': 2, 'id': 12898, 'name': 'Tim Allen', 'order': 1, 'profile_path': '/uX2xVf6pMmPepxnvFWyBtjexzgY.jpg'}, {'cast_id': 16, 'character': 'Mr. Potato Head (voice)', 'credit_id': '52fe4284c3a36847f8024...</td>\n",
       "      <td>[{'credit_id': '52fe4284c3a36847f8024f49', 'department': 'Directing', 'gender': 2, 'id': 7879, 'job': 'Director', 'name': 'John Lasseter', 'profile_path': '/7EdqiNbr4FRjIhKHyPPdFfEEEFG.jpg'}, {'credit_id': '52fe4284c3a36847f8024f4f', 'department': 'Writing', 'gender': 2, 'id': 12891, 'job': 'Screenplay', 'name': 'Joss Whedon', 'profile_path': '/dTiVsuaTVTeGmvkhcyJvKp2A5kr.jpg'}, {'credit_id': '52fe4284c3a36847f8024f55', 'department': 'Writing', 'gender': 2, 'id': 7, 'job': 'Screenplay', 'nam...</td>\n",
       "      <td>862</td>\n",
       "    </tr>\n",
       "    <tr>\n",
       "      <td>1</td>\n",
       "      <td>[{'cast_id': 1, 'character': 'Alan Parrish', 'credit_id': '52fe44bfc3a36847f80a7c73', 'gender': 2, 'id': 2157, 'name': 'Robin Williams', 'order': 0, 'profile_path': '/sojtJyIV3lkUeThD7A2oHNm8183.jpg'}, {'cast_id': 8, 'character': 'Samuel Alan Parrish / Van Pelt', 'credit_id': '52fe44bfc3a36847f80a7c99', 'gender': 2, 'id': 8537, 'name': 'Jonathan Hyde', 'order': 1, 'profile_path': '/7il5D76vx6QVRVlpVvBPEC40MBi.jpg'}, {'cast_id': 2, 'character': 'Judy Sheperd', 'credit_id': '52fe44bfc3a36847f8...</td>\n",
       "      <td>[{'credit_id': '52fe44bfc3a36847f80a7cd1', 'department': 'Production', 'gender': 2, 'id': 511, 'job': 'Executive Producer', 'name': 'Larry J. Franco', 'profile_path': None}, {'credit_id': '52fe44bfc3a36847f80a7c89', 'department': 'Writing', 'gender': 2, 'id': 876, 'job': 'Screenplay', 'name': 'Jonathan Hensleigh', 'profile_path': '/l1c4UFD3g0HVWj5f0CxXAvMAGiT.jpg'}, {'credit_id': '52fe44bfc3a36847f80a7cdd', 'department': 'Sound', 'gender': 2, 'id': 1729, 'job': 'Original Music Composer', 'na...</td>\n",
       "      <td>8844</td>\n",
       "    </tr>\n",
       "    <tr>\n",
       "      <td>2</td>\n",
       "      <td>[{'cast_id': 2, 'character': 'Max Goldman', 'credit_id': '52fe466a9251416c75077a8d', 'gender': 2, 'id': 6837, 'name': 'Walter Matthau', 'order': 0, 'profile_path': '/xJVkvprOnzP5Zdh5y63y8HHniDZ.jpg'}, {'cast_id': 3, 'character': 'John Gustafson', 'credit_id': '52fe466a9251416c75077a91', 'gender': 2, 'id': 3151, 'name': 'Jack Lemmon', 'order': 1, 'profile_path': '/chZmNRYMtqkiDlatprGDH4BzGqG.jpg'}, {'cast_id': 4, 'character': 'Ariel Gustafson', 'credit_id': '52fe466a9251416c75077a95', 'gender...</td>\n",
       "      <td>[{'credit_id': '52fe466a9251416c75077a89', 'department': 'Directing', 'gender': 2, 'id': 26502, 'job': 'Director', 'name': 'Howard Deutch', 'profile_path': '/68Vae1HkU1NxQZ6KEmuxIpno7c9.jpg'}, {'credit_id': '52fe466b9251416c75077aa3', 'department': 'Writing', 'gender': 2, 'id': 16837, 'job': 'Characters', 'name': 'Mark Steven Johnson', 'profile_path': '/6trChNn3o2bi4i2ipgMEAytwmZp.jpg'}, {'credit_id': '52fe466b9251416c75077aa9', 'department': 'Writing', 'gender': 2, 'id': 16837, 'job': 'Writ...</td>\n",
       "      <td>15602</td>\n",
       "    </tr>\n",
       "  </tbody>\n",
       "</table>\n",
       "</div>"
      ],
      "text/plain": [
       "                                                                                                                                                                                                                                                                                                                                                                                                                                                                                                                  cast  \\\n",
       "0  [{'cast_id': 14, 'character': 'Woody (voice)', 'credit_id': '52fe4284c3a36847f8024f95', 'gender': 2, 'id': 31, 'name': 'Tom Hanks', 'order': 0, 'profile_path': '/pQFoyx7rp09CJTAb932F2g8Nlho.jpg'}, {'cast_id': 15, 'character': 'Buzz Lightyear (voice)', 'credit_id': '52fe4284c3a36847f8024f99', 'gender': 2, 'id': 12898, 'name': 'Tim Allen', 'order': 1, 'profile_path': '/uX2xVf6pMmPepxnvFWyBtjexzgY.jpg'}, {'cast_id': 16, 'character': 'Mr. Potato Head (voice)', 'credit_id': '52fe4284c3a36847f8024...   \n",
       "1  [{'cast_id': 1, 'character': 'Alan Parrish', 'credit_id': '52fe44bfc3a36847f80a7c73', 'gender': 2, 'id': 2157, 'name': 'Robin Williams', 'order': 0, 'profile_path': '/sojtJyIV3lkUeThD7A2oHNm8183.jpg'}, {'cast_id': 8, 'character': 'Samuel Alan Parrish / Van Pelt', 'credit_id': '52fe44bfc3a36847f80a7c99', 'gender': 2, 'id': 8537, 'name': 'Jonathan Hyde', 'order': 1, 'profile_path': '/7il5D76vx6QVRVlpVvBPEC40MBi.jpg'}, {'cast_id': 2, 'character': 'Judy Sheperd', 'credit_id': '52fe44bfc3a36847f8...   \n",
       "2  [{'cast_id': 2, 'character': 'Max Goldman', 'credit_id': '52fe466a9251416c75077a8d', 'gender': 2, 'id': 6837, 'name': 'Walter Matthau', 'order': 0, 'profile_path': '/xJVkvprOnzP5Zdh5y63y8HHniDZ.jpg'}, {'cast_id': 3, 'character': 'John Gustafson', 'credit_id': '52fe466a9251416c75077a91', 'gender': 2, 'id': 3151, 'name': 'Jack Lemmon', 'order': 1, 'profile_path': '/chZmNRYMtqkiDlatprGDH4BzGqG.jpg'}, {'cast_id': 4, 'character': 'Ariel Gustafson', 'credit_id': '52fe466a9251416c75077a95', 'gender...   \n",
       "\n",
       "                                                                                                                                                                                                                                                                                                                                                                                                                                                                                                                  crew  \\\n",
       "0  [{'credit_id': '52fe4284c3a36847f8024f49', 'department': 'Directing', 'gender': 2, 'id': 7879, 'job': 'Director', 'name': 'John Lasseter', 'profile_path': '/7EdqiNbr4FRjIhKHyPPdFfEEEFG.jpg'}, {'credit_id': '52fe4284c3a36847f8024f4f', 'department': 'Writing', 'gender': 2, 'id': 12891, 'job': 'Screenplay', 'name': 'Joss Whedon', 'profile_path': '/dTiVsuaTVTeGmvkhcyJvKp2A5kr.jpg'}, {'credit_id': '52fe4284c3a36847f8024f55', 'department': 'Writing', 'gender': 2, 'id': 7, 'job': 'Screenplay', 'nam...   \n",
       "1  [{'credit_id': '52fe44bfc3a36847f80a7cd1', 'department': 'Production', 'gender': 2, 'id': 511, 'job': 'Executive Producer', 'name': 'Larry J. Franco', 'profile_path': None}, {'credit_id': '52fe44bfc3a36847f80a7c89', 'department': 'Writing', 'gender': 2, 'id': 876, 'job': 'Screenplay', 'name': 'Jonathan Hensleigh', 'profile_path': '/l1c4UFD3g0HVWj5f0CxXAvMAGiT.jpg'}, {'credit_id': '52fe44bfc3a36847f80a7cdd', 'department': 'Sound', 'gender': 2, 'id': 1729, 'job': 'Original Music Composer', 'na...   \n",
       "2  [{'credit_id': '52fe466a9251416c75077a89', 'department': 'Directing', 'gender': 2, 'id': 26502, 'job': 'Director', 'name': 'Howard Deutch', 'profile_path': '/68Vae1HkU1NxQZ6KEmuxIpno7c9.jpg'}, {'credit_id': '52fe466b9251416c75077aa3', 'department': 'Writing', 'gender': 2, 'id': 16837, 'job': 'Characters', 'name': 'Mark Steven Johnson', 'profile_path': '/6trChNn3o2bi4i2ipgMEAytwmZp.jpg'}, {'credit_id': '52fe466b9251416c75077aa9', 'department': 'Writing', 'gender': 2, 'id': 16837, 'job': 'Writ...   \n",
       "\n",
       "      id  \n",
       "0    862  \n",
       "1   8844  \n",
       "2  15602  "
      ]
     },
     "execution_count": 24,
     "metadata": {},
     "output_type": "execute_result"
    }
   ],
   "source": [
    "credits_df.head(3)"
   ]
  },
  {
   "cell_type": "code",
   "execution_count": 74,
   "metadata": {},
   "outputs": [],
   "source": [
    "credits_df['crew'] = credits_df['crew'].apply(lambda x: eval(x))"
   ]
  },
  {
   "cell_type": "code",
   "execution_count": 75,
   "metadata": {},
   "outputs": [
    {
     "data": {
      "text/plain": [
       "106"
      ]
     },
     "execution_count": 75,
     "metadata": {},
     "output_type": "execute_result"
    }
   ],
   "source": [
    "len(credits_df['crew'][0])"
   ]
  },
  {
   "cell_type": "code",
   "execution_count": 120,
   "metadata": {},
   "outputs": [
    {
     "name": "stdout",
     "output_type": "stream",
     "text": [
      "{'credit_id': '52fe4284c3a36847f8024f49', 'department': 'Directing', 'gender': 2, 'id': 7879, 'job': 'Director', 'name': 'John Lasseter', 'profile_path': '/7EdqiNbr4FRjIhKHyPPdFfEEEFG.jpg'}\n"
     ]
    }
   ],
   "source": [
    "for i in range (106):\n",
    "    if (credits_df['crew'][0][i]['job']== 'Director'):\n",
    "        print (credits_df['crew'][0][i])\n",
    "    "
   ]
  },
  {
   "cell_type": "code",
   "execution_count": 76,
   "metadata": {},
   "outputs": [],
   "source": [
    "def MovieDirector(movie_crew):\n",
    "    t=[]\n",
    "    for i in range (len(movie_crew)):\n",
    "        if (movie_crew[i]['job']== 'Director'):\n",
    "            t.append(movie_crew[i])\n",
    "    return (t)"
   ]
  },
  {
   "cell_type": "code",
   "execution_count": 77,
   "metadata": {},
   "outputs": [
    {
     "data": {
      "text/plain": [
       "[{'credit_id': '52fe458b9251416c7505a35b',\n",
       "  'department': 'Directing',\n",
       "  'gender': 2,\n",
       "  'id': 5655,\n",
       "  'job': 'Director',\n",
       "  'name': 'Wes Anderson',\n",
       "  'profile_path': '/s03CeUeC5yAXyB1acqP0zGNo2SC.jpg'}]"
      ]
     },
     "execution_count": 77,
     "metadata": {},
     "output_type": "execute_result"
    }
   ],
   "source": [
    "MovieDirector(credits_df['crew'][99])"
   ]
  },
  {
   "cell_type": "code",
   "execution_count": 78,
   "metadata": {},
   "outputs": [],
   "source": [
    "movies_df['crew'] = movies_df['crew'].apply(lambda x : eval(x))"
   ]
  },
  {
   "cell_type": "code",
   "execution_count": 164,
   "metadata": {},
   "outputs": [
    {
     "data": {
      "text/plain": [
       "Index(['adult', 'belongs_to_collection', 'budget', 'genres', 'homepage', 'id',\n",
       "       'imdb_id', 'original_language', 'original_title', 'overview',\n",
       "       'popularity', 'poster_path', 'production_companies',\n",
       "       'production_countries', 'release_date', 'revenue', 'runtime',\n",
       "       'spoken_languages', 'status', 'tagline', 'title', 'video',\n",
       "       'vote_average', 'vote_count', 'cast', 'crew'],\n",
       "      dtype='object')"
      ]
     },
     "execution_count": 164,
     "metadata": {},
     "output_type": "execute_result"
    }
   ],
   "source": [
    "movies_df.columns"
   ]
  },
  {
   "cell_type": "code",
   "execution_count": 79,
   "metadata": {},
   "outputs": [],
   "source": [
    "movies_df['Director'] = movies_df['crew'].apply(lambda x : MovieDirector(x))"
   ]
  },
  {
   "cell_type": "code",
   "execution_count": 80,
   "metadata": {},
   "outputs": [
    {
     "name": "stdout",
     "output_type": "stream",
     "text": [
      "106 Completed\n"
     ]
    }
   ],
   "source": [
    "HRT_Extractor().movie_director_population(movies_df['id'],  movies_df['Director'])"
   ]
  },
  {
   "cell_type": "code",
   "execution_count": 105,
   "metadata": {},
   "outputs": [
    {
     "name": "stdout",
     "output_type": "stream",
     "text": [
      "genres    [{'id': 16, 'name': 'Animation'}, {'id': 35, 'name': 'Comedy'}, {'id': 10751, 'name': 'Family'}]\n",
      "title                                                                                            Toy Story\n",
      "Name: 0, dtype: object\n",
      "genres    [{'id': 12, 'name': 'Adventure'}, {'id': 14, 'name': 'Fantasy'}, {'id': 10751, 'name': 'Family'}]\n",
      "title                                                                                               Jumanji\n",
      "Name: 1, dtype: object\n",
      "genres    [{'id': 10749, 'name': 'Romance'}, {'id': 35, 'name': 'Comedy'}]\n",
      "title                                                     Grumpier Old Men\n",
      "Name: 2, dtype: object\n",
      "genres    [{'id': 35, 'name': 'Comedy'}, {'id': 18, 'name': 'Drama'}, {'id': 10749, 'name': 'Romance'}]\n",
      "title                                                                                 Waiting to Exhale\n",
      "Name: 3, dtype: object\n",
      "genres    [{'id': 35, 'name': 'Comedy'}]\n",
      "title        Father of the Bride Part II\n",
      "Name: 4, dtype: object\n",
      "genres    [{'id': 28, 'name': 'Action'}, {'id': 80, 'name': 'Crime'}, {'id': 18, 'name': 'Drama'}, {'id': ...\n",
      "title                                                                                                    Heat\n",
      "Name: 5, dtype: object\n",
      "genres    [{'id': 35, 'name': 'Comedy'}, {'id': 10749, 'name': 'Romance'}]\n",
      "title                                                              Sabrina\n",
      "Name: 6, dtype: object\n",
      "genres    [{'id': 28, 'name': 'Action'}, {'id': 12, 'name': 'Adventure'}, {'id': 18, 'name': 'Drama'}, {'i...\n",
      "title                                                                                            Tom and Huck\n",
      "Name: 7, dtype: object\n",
      "genres    [{'id': 28, 'name': 'Action'}, {'id': 12, 'name': 'Adventure'}, {'id': 53, 'name': 'Thriller'}]\n",
      "title                                                                                        Sudden Death\n",
      "Name: 8, dtype: object\n",
      "genres    [{'id': 12, 'name': 'Adventure'}, {'id': 28, 'name': 'Action'}, {'id': 53, 'name': 'Thriller'}]\n",
      "title                                                                                           GoldenEye\n",
      "Name: 9, dtype: object\n",
      "genres    [{'id': 35, 'name': 'Comedy'}, {'id': 18, 'name': 'Drama'}, {'id': 10749, 'name': 'Romance'}]\n",
      "title                                                                            The American President\n",
      "Name: 10, dtype: object\n",
      "genres    [{'id': 35, 'name': 'Comedy'}, {'id': 27, 'name': 'Horror'}]\n",
      "title                                      Dracula: Dead and Loving It\n",
      "Name: 11, dtype: object\n",
      "genres    [{'id': 10751, 'name': 'Family'}, {'id': 16, 'name': 'Animation'}, {'id': 12, 'name': 'Adventure'}]\n",
      "title                                                                                                   Balto\n",
      "Name: 12, dtype: object\n",
      "genres    [{'id': 36, 'name': 'History'}, {'id': 18, 'name': 'Drama'}]\n",
      "title                                                            Nixon\n",
      "Name: 13, dtype: object\n",
      "genres    [{'id': 28, 'name': 'Action'}, {'id': 12, 'name': 'Adventure'}]\n",
      "title                                                    Cutthroat Island\n",
      "Name: 14, dtype: object\n",
      "genres    [{'id': 18, 'name': 'Drama'}, {'id': 80, 'name': 'Crime'}]\n",
      "title                                                         Casino\n",
      "Name: 15, dtype: object\n",
      "genres    [{'id': 18, 'name': 'Drama'}, {'id': 10749, 'name': 'Romance'}]\n",
      "title                                               Sense and Sensibility\n",
      "Name: 16, dtype: object\n",
      "genres    [{'id': 80, 'name': 'Crime'}, {'id': 35, 'name': 'Comedy'}]\n",
      "title                                                      Four Rooms\n",
      "Name: 17, dtype: object\n",
      "genres    [{'id': 80, 'name': 'Crime'}, {'id': 35, 'name': 'Comedy'}, {'id': 12, 'name': 'Adventure'}]\n",
      "title                                                                   Ace Ventura: When Nature Calls\n",
      "Name: 18, dtype: object\n",
      "genres    [{'id': 28, 'name': 'Action'}, {'id': 35, 'name': 'Comedy'}, {'id': 80, 'name': 'Crime'}]\n",
      "title                                                                                   Money Train\n",
      "Name: 19, dtype: object\n",
      "genres    [{'id': 35, 'name': 'Comedy'}, {'id': 53, 'name': 'Thriller'}, {'id': 80, 'name': 'Crime'}]\n",
      "title                                                                                      Get Shorty\n",
      "Name: 20, dtype: object\n",
      "genres    [{'id': 18, 'name': 'Drama'}, {'id': 53, 'name': 'Thriller'}]\n",
      "title                                                           Copycat\n",
      "Name: 21, dtype: object\n",
      "genres    [{'id': 28, 'name': 'Action'}, {'id': 12, 'name': 'Adventure'}, {'id': 80, 'name': 'Crime'}, {'i...\n",
      "title                                                                                               Assassins\n",
      "Name: 22, dtype: object\n",
      "genres    [{'id': 18, 'name': 'Drama'}, {'id': 14, 'name': 'Fantasy'}, {'id': 878, 'name': 'Science Fictio...\n",
      "title                                                                                                  Powder\n",
      "Name: 23, dtype: object\n",
      "genres    [{'id': 18, 'name': 'Drama'}, {'id': 10749, 'name': 'Romance'}]\n",
      "title                                                   Leaving Las Vegas\n",
      "Name: 24, dtype: object\n",
      "genres    [{'id': 18, 'name': 'Drama'}]\n",
      "title                           Othello\n",
      "Name: 25, dtype: object\n",
      "genres    [{'id': 35, 'name': 'Comedy'}, {'id': 18, 'name': 'Drama'}, {'id': 10751, 'name': 'Family'}]\n",
      "title                                                                                     Now and Then\n",
      "Name: 26, dtype: object\n",
      "genres    [{'id': 18, 'name': 'Drama'}, {'id': 10749, 'name': 'Romance'}]\n",
      "title                                                          Persuasion\n",
      "Name: 27, dtype: object\n",
      "genres    [{'id': 14, 'name': 'Fantasy'}, {'id': 878, 'name': 'Science Fiction'}, {'id': 12, 'name': 'Adve...\n",
      "title                                                                               The City of Lost Children\n",
      "Name: 28, dtype: object\n",
      "genres    [{'id': 18, 'name': 'Drama'}, {'id': 80, 'name': 'Crime'}]\n",
      "title                                                 Shanghai Triad\n",
      "Name: 29, dtype: object\n",
      "genres    [{'id': 18, 'name': 'Drama'}, {'id': 80, 'name': 'Crime'}]\n",
      "title                                                Dangerous Minds\n",
      "Name: 30, dtype: object\n",
      "genres    [{'id': 878, 'name': 'Science Fiction'}, {'id': 53, 'name': 'Thriller'}, {'id': 9648, 'name': 'M...\n",
      "title                                                                                          Twelve Monkeys\n",
      "Name: 31, dtype: object\n",
      "genres    [{'id': 10749, 'name': 'Romance'}, {'id': 12, 'name': 'Adventure'}]\n",
      "title                                                        Wings of Courage\n",
      "Name: 32, dtype: object\n",
      "genres    [{'id': 14, 'name': 'Fantasy'}, {'id': 18, 'name': 'Drama'}, {'id': 35, 'name': 'Comedy'}, {'id'...\n",
      "title                                                                                                    Babe\n",
      "Name: 33, dtype: object\n",
      "genres    [{'id': 36, 'name': 'History'}, {'id': 18, 'name': 'Drama'}, {'id': 10749, 'name': 'Romance'}]\n",
      "title                                                                                         Carrington\n",
      "Name: 34, dtype: object\n",
      "genres    [{'id': 18, 'name': 'Drama'}]\n",
      "title                  Dead Man Walking\n",
      "Name: 35, dtype: object\n",
      "genres    [{'id': 12, 'name': 'Adventure'}, {'id': 36, 'name': 'History'}, {'id': 18, 'name': 'Drama'}, {'...\n",
      "title                                                                                  Across the Sea of Time\n",
      "Name: 36, dtype: object\n",
      "genres    [{'id': 35, 'name': 'Comedy'}, {'id': 10751, 'name': 'Family'}, {'id': 10749, 'name': 'Romance'}]\n",
      "title                                                                                          It Takes Two\n",
      "Name: 37, dtype: object\n",
      "genres    [{'id': 35, 'name': 'Comedy'}, {'id': 18, 'name': 'Drama'}, {'id': 10749, 'name': 'Romance'}]\n",
      "title                                                                                          Clueless\n",
      "Name: 38, dtype: object\n",
      "genres    [{'id': 18, 'name': 'Drama'}]\n",
      "title          Cry, the Beloved Country\n",
      "Name: 39, dtype: object\n",
      "genres    [{'id': 18, 'name': 'Drama'}, {'id': 10752, 'name': 'War'}]\n",
      "title                                                     Richard III\n",
      "Name: 40, dtype: object\n",
      "genres    [{'id': 28, 'name': 'Action'}, {'id': 80, 'name': 'Crime'}, {'id': 18, 'name': 'Drama'}, {'id': ...\n",
      "title                                                                                         Dead Presidents\n",
      "Name: 41, dtype: object\n",
      "genres    [{'id': 18, 'name': 'Drama'}, {'id': 10749, 'name': 'Romance'}]\n",
      "title                                                         Restoration\n",
      "Name: 42, dtype: object\n",
      "genres    [{'id': 28, 'name': 'Action'}, {'id': 14, 'name': 'Fantasy'}]\n",
      "title                                                     Mortal Kombat\n",
      "Name: 43, dtype: object\n",
      "genres    [{'id': 14, 'name': 'Fantasy'}, {'id': 18, 'name': 'Drama'}, {'id': 35, 'name': 'Comedy'}, {'id'...\n",
      "title                                                                                              To Die For\n",
      "Name: 44, dtype: object\n",
      "genres    [{'id': 18, 'name': 'Drama'}, {'id': 10749, 'name': 'Romance'}]\n",
      "title                                       How To Make An American Quilt\n",
      "Name: 45, dtype: object\n",
      "genres    [{'id': 80, 'name': 'Crime'}, {'id': 9648, 'name': 'Mystery'}, {'id': 53, 'name': 'Thriller'}]\n",
      "title                                                                                              Se7en\n",
      "Name: 46, dtype: object\n",
      "genres    [{'id': 12, 'name': 'Adventure'}, {'id': 16, 'name': 'Animation'}, {'id': 18, 'name': 'Drama'}, ...\n",
      "title                                                                                              Pocahontas\n",
      "Name: 47, dtype: object\n",
      "genres    [{'id': 18, 'name': 'Drama'}, {'id': 10749, 'name': 'Romance'}]\n",
      "title                                               When Night Is Falling\n",
      "Name: 48, dtype: object\n",
      "genres    [{'id': 18, 'name': 'Drama'}, {'id': 80, 'name': 'Crime'}, {'id': 53, 'name': 'Thriller'}]\n",
      "title                                                                             The Usual Suspects\n",
      "Name: 49, dtype: object\n",
      "genres    [{'id': 28, 'name': 'Action'}, {'id': 53, 'name': 'Thriller'}, {'id': 18, 'name': 'Drama'}]\n",
      "title                                                                                  Guardian Angel\n",
      "Name: 50, dtype: object\n",
      "genres    [{'id': 35, 'name': 'Comedy'}, {'id': 10749, 'name': 'Romance'}]\n",
      "title                                                     Mighty Aphrodite\n",
      "Name: 51, dtype: object\n",
      "genres    [{'id': 18, 'name': 'Drama'}, {'id': 10769, 'name': 'Foreign'}]\n",
      "title                                                            Lamerica\n",
      "Name: 52, dtype: object\n",
      "genres    [{'id': 28, 'name': 'Action'}, {'id': 12, 'name': 'Adventure'}, {'id': 35, 'name': 'Comedy'}, {'...\n",
      "title                                                                                           The Big Green\n",
      "Name: 53, dtype: object\n",
      "genres    [{'id': 18, 'name': 'Drama'}]\n",
      "title                           Georgia\n",
      "Name: 54, dtype: object\n",
      "genres                         []\n",
      "title     Kids of the Round Table\n",
      "Name: 55, dtype: object\n",
      "genres    [{'id': 35, 'name': 'Comedy'}, {'id': 18, 'name': 'Drama'}, {'id': 10749, 'name': 'Romance'}]\n",
      "title                                                                             Home for the Holidays\n",
      "Name: 56, dtype: object\n",
      "genres    [{'id': 35, 'name': 'Comedy'}, {'id': 18, 'name': 'Drama'}, {'id': 10749, 'name': 'Romance'}]\n",
      "title                                                                                       The Postman\n",
      "Name: 57, dtype: object\n",
      "genres    [{'id': 53, 'name': 'Thriller'}, {'id': 18, 'name': 'Drama'}, {'id': 9648, 'name': 'Mystery'}]\n",
      "title                                                                                   The Confessional\n",
      "Name: 58, dtype: object\n",
      "genres    [{'id': 12, 'name': 'Adventure'}, {'id': 10751, 'name': 'Family'}, {'id': 14, 'name': 'Fantasy'}]\n",
      "title                                                                            The Indian in the Cupboard\n",
      "Name: 59, dtype: object\n",
      "genres    [{'id': 18, 'name': 'Drama'}, {'id': 53, 'name': 'Thriller'}]\n",
      "title                                                    Eye for an Eye\n",
      "Name: 60, dtype: object\n",
      "genres    [{'id': 10402, 'name': 'Music'}, {'id': 18, 'name': 'Drama'}, {'id': 10751, 'name': 'Family'}]\n",
      "title                                                                                 Mr. Holland's Opus\n",
      "Name: 61, dtype: object\n",
      "genres                                              [{'id': 35, 'name': 'Comedy'}]\n",
      "title     Don't Be a Menace to South Central While Drinking Your Juice in the Hood\n",
      "Name: 62, dtype: object\n",
      "genres    [{'id': 35, 'name': 'Comedy'}, {'id': 10749, 'name': 'Romance'}]\n",
      "title                                                        Two If by Sea\n",
      "Name: 63, dtype: object\n",
      "genres    [{'id': 35, 'name': 'Comedy'}]\n",
      "title                           Bio-Dome\n",
      "Name: 64, dtype: object\n",
      "genres    [{'id': 28, 'name': 'Action'}, {'id': 878, 'name': 'Science Fiction'}]\n",
      "title                                         Lawnmower Man 2: Beyond Cyberspace\n",
      "Name: 65, dtype: object\n",
      "genres    [{'id': 18, 'name': 'Drama'}, {'id': 10751, 'name': 'Family'}]\n",
      "title                                                           Two Bits\n",
      "Name: 66, dtype: object\n",
      "genres    [{'id': 35, 'name': 'Comedy'}, {'id': 10749, 'name': 'Romance'}]\n",
      "title                                                         French Twist\n",
      "Name: 67, dtype: object\n",
      "genres    [{'id': 35, 'name': 'Comedy'}]\n",
      "title                             Friday\n",
      "Name: 68, dtype: object\n",
      "genres    [{'id': 27, 'name': 'Horror'}, {'id': 28, 'name': 'Action'}, {'id': 53, 'name': 'Thriller'}, {'i...\n",
      "title                                                                                     From Dusk Till Dawn\n",
      "Name: 69, dtype: object\n",
      "genres    [{'id': 28, 'name': 'Action'}, {'id': 53, 'name': 'Thriller'}, {'id': 10749, 'name': 'Romance'}]\n",
      "title                                                                                            Fair Game\n",
      "Name: 70, dtype: object\n",
      "genres    [{'id': 35, 'name': 'Comedy'}, {'id': 18, 'name': 'Drama'}, {'id': 10749, 'name': 'Romance'}]\n",
      "title                                                                             Kicking and Screaming\n",
      "Name: 71, dtype: object\n",
      "genres    [{'id': 18, 'name': 'Drama'}, {'id': 36, 'name': 'History'}]\n",
      "title                                                   Les Miserables\n",
      "Name: 72, dtype: object\n",
      "genres    [{'id': 18, 'name': 'Drama'}, {'id': 10749, 'name': 'Romance'}]\n",
      "title                                                        Bed of Roses\n",
      "Name: 73, dtype: object\n",
      "genres    [{'id': 35, 'name': 'Comedy'}, {'id': 10751, 'name': 'Family'}]\n",
      "title                                                           Big Bully\n",
      "Name: 74, dtype: object\n",
      "genres    [{'id': 27, 'name': 'Horror'}, {'id': 878, 'name': 'Science Fiction'}]\n",
      "title                                                                  Screamers\n",
      "Name: 75, dtype: object\n",
      "genres    [{'id': 99, 'name': 'Documentary'}]\n",
      "title                               Nico Icon\n",
      "Name: 76, dtype: object\n",
      "genres    [{'id': 18, 'name': 'Drama'}, {'id': 53, 'name': 'Thriller'}]\n",
      "title                                                The Crossing Guard\n",
      "Name: 77, dtype: object\n",
      "genres    [{'id': 18, 'name': 'Drama'}, {'id': 53, 'name': 'Thriller'}]\n",
      "title                                                         The Juror\n",
      "Name: 78, dtype: object\n",
      "genres    [{'id': 10751, 'name': 'Family'}, {'id': 18, 'name': 'Drama'}]\n",
      "title                                                  The White Balloon\n",
      "Name: 79, dtype: object\n",
      "genres    [{'id': 18, 'name': 'Drama'}, {'id': 80, 'name': 'Crime'}]\n",
      "title                        Things to Do in Denver When You're Dead\n",
      "Name: 80, dtype: object\n",
      "genres    [{'id': 18, 'name': 'Drama'}, {'id': 35, 'name': 'Comedy'}]\n",
      "title                                                  Antonia's Line\n",
      "Name: 81, dtype: object\n",
      "genres    [{'id': 10749, 'name': 'Romance'}, {'id': 18, 'name': 'Drama'}]\n",
      "title                            Once Upon a Time... When We Were Colored\n",
      "Name: 82, dtype: object\n",
      "genres                             []\n",
      "title     Last Summer in the Hamptons\n",
      "Name: 83, dtype: object\n",
      "genres    [{'id': 18, 'name': 'Drama'}, {'id': 10749, 'name': 'Romance'}]\n",
      "title                                                  Angels and Insects\n",
      "Name: 84, dtype: object\n",
      "genres    [{'id': 28, 'name': 'Action'}, {'id': 18, 'name': 'Drama'}]\n",
      "title                                                    White Squall\n",
      "Name: 85, dtype: object\n",
      "genres    [{'id': 12, 'name': 'Adventure'}, {'id': 35, 'name': 'Comedy'}, {'id': 10751, 'name': 'Family'}]\n",
      "title                                                                                    Dunston Checks In\n",
      "Name: 86, dtype: object\n",
      "genres    [{'id': 35, 'name': 'Comedy'}]\n",
      "title                        Black Sheep\n",
      "Name: 87, dtype: object\n",
      "genres    [{'id': 80, 'name': 'Crime'}, {'id': 18, 'name': 'Drama'}, {'id': 53, 'name': 'Thriller'}]\n",
      "title                                                                                   Nick of Time\n",
      "Name: 88, dtype: object\n",
      "genres    [{'id': 18, 'name': 'Drama'}]\n",
      "title        The Journey of August King\n",
      "Name: 89, dtype: object\n",
      "genres    [{'id': 18, 'name': 'Drama'}, {'id': 27, 'name': 'Horror'}, {'id': 53, 'name': 'Thriller'}, {'id...\n",
      "title                                                                                             Mary Reilly\n",
      "Name: 90, dtype: object\n",
      "genres    [{'id': 35, 'name': 'Comedy'}, {'id': 27, 'name': 'Horror'}, {'id': 10749, 'name': 'Romance'}]\n",
      "title                                                                                Vampire in Brooklyn\n",
      "Name: 91, dtype: object\n",
      "genres    [{'id': 35, 'name': 'Comedy'}, {'id': 18, 'name': 'Drama'}, {'id': 10749, 'name': 'Romance'}]\n",
      "title                                                                                   Beautiful Girls\n",
      "Name: 92, dtype: object\n",
      "genres    [{'id': 28, 'name': 'Action'}, {'id': 12, 'name': 'Adventure'}, {'id': 18, 'name': 'Drama'}, {'i...\n",
      "title                                                                                            Broken Arrow\n",
      "Name: 93, dtype: object\n",
      "genres    [{'id': 35, 'name': 'Comedy'}]\n",
      "title                 A Midwinter's Tale\n",
      "Name: 94, dtype: object\n",
      "genres    [{'id': 18, 'name': 'Drama'}]\n",
      "title                          La Haine\n",
      "Name: 95, dtype: object\n",
      "genres    [{'id': 28, 'name': 'Action'}, {'id': 12, 'name': 'Adventure'}, {'id': 18, 'name': 'Drama'}, {'i...\n",
      "title                                                                                                Shopping\n",
      "Name: 96, dtype: object\n",
      "genres    [{'id': 99, 'name': 'Documentary'}]\n",
      "title           Heidi Fleiss: Hollywood Madam\n",
      "Name: 97, dtype: object\n",
      "genres    [{'id': 18, 'name': 'Drama'}, {'id': 53, 'name': 'Thriller'}]\n",
      "title                                                         City Hall\n",
      "Name: 98, dtype: object\n",
      "genres    [{'id': 35, 'name': 'Comedy'}, {'id': 80, 'name': 'Crime'}, {'id': 18, 'name': 'Drama'}]\n",
      "title                                                                                Bottle Rocket\n",
      "Name: 99, dtype: object\n"
     ]
    }
   ],
   "source": [
    "for i in range(100):\n",
    "    print(movies_df[['genres','title' ]].iloc[i])\n"
   ]
  },
  {
   "cell_type": "code",
   "execution_count": 25,
   "metadata": {},
   "outputs": [
    {
     "data": {
      "text/plain": [
       "0                                                                         [{'id': 16, 'name': 'Animation'}, {'id': 35, 'name': 'Comedy'}, {'id': 10751, 'name': 'Family'}]\n",
       "1                                                                        [{'id': 12, 'name': 'Adventure'}, {'id': 14, 'name': 'Fantasy'}, {'id': 10751, 'name': 'Family'}]\n",
       "2                                                                                                         [{'id': 10749, 'name': 'Romance'}, {'id': 35, 'name': 'Comedy'}]\n",
       "3                                                                            [{'id': 35, 'name': 'Comedy'}, {'id': 18, 'name': 'Drama'}, {'id': 10749, 'name': 'Romance'}]\n",
       "4                                                                                                                                           [{'id': 35, 'name': 'Comedy'}]\n",
       "                                                                                      ...                                                                                 \n",
       "95                                                                                                                                           [{'id': 18, 'name': 'Drama'}]\n",
       "96    [{'id': 28, 'name': 'Action'}, {'id': 12, 'name': 'Adventure'}, {'id': 18, 'name': 'Drama'}, {'id': 878, 'name': 'Science Fiction'}, {'id': 53, 'name': 'Thriller'}]\n",
       "97                                                                                                                                     [{'id': 99, 'name': 'Documentary'}]\n",
       "98                                                                                                           [{'id': 18, 'name': 'Drama'}, {'id': 53, 'name': 'Thriller'}]\n",
       "99                                                                                [{'id': 35, 'name': 'Comedy'}, {'id': 80, 'name': 'Crime'}, {'id': 18, 'name': 'Drama'}]\n",
       "Name: genres, Length: 100, dtype: object"
      ]
     },
     "execution_count": 25,
     "metadata": {},
     "output_type": "execute_result"
    }
   ],
   "source": [
    "movies_df['genres']"
   ]
  },
  {
   "cell_type": "code",
   "execution_count": 35,
   "metadata": {},
   "outputs": [
    {
     "ename": "TypeError",
     "evalue": "eval() arg 1 must be a string, bytes or code object",
     "output_type": "error",
     "traceback": [
      "\u001b[1;31m---------------------------------------------------------------------------\u001b[0m",
      "\u001b[1;31mTypeError\u001b[0m                                 Traceback (most recent call last)",
      "\u001b[1;32m<ipython-input-35-32e72f31f891>\u001b[0m in \u001b[0;36m<module>\u001b[1;34m\u001b[0m\n\u001b[1;32m----> 1\u001b[1;33m \u001b[0mmovies_df\u001b[0m\u001b[1;33m[\u001b[0m\u001b[1;34m'genres'\u001b[0m\u001b[1;33m]\u001b[0m \u001b[1;33m=\u001b[0m \u001b[0mmovies_df\u001b[0m\u001b[1;33m[\u001b[0m\u001b[1;34m'genres'\u001b[0m\u001b[1;33m]\u001b[0m\u001b[1;33m.\u001b[0m\u001b[0mapply\u001b[0m\u001b[1;33m(\u001b[0m\u001b[1;32mlambda\u001b[0m \u001b[0mx\u001b[0m\u001b[1;33m:\u001b[0m \u001b[0meval\u001b[0m\u001b[1;33m(\u001b[0m\u001b[0mx\u001b[0m\u001b[1;33m)\u001b[0m\u001b[1;33m)\u001b[0m\u001b[1;33m\u001b[0m\u001b[1;33m\u001b[0m\u001b[0m\n\u001b[0m",
      "\u001b[1;32m~\\Anaconda3\\lib\\site-packages\\pandas\\core\\series.py\u001b[0m in \u001b[0;36mapply\u001b[1;34m(self, func, convert_dtype, args, **kwds)\u001b[0m\n\u001b[0;32m   4040\u001b[0m             \u001b[1;32melse\u001b[0m\u001b[1;33m:\u001b[0m\u001b[1;33m\u001b[0m\u001b[1;33m\u001b[0m\u001b[0m\n\u001b[0;32m   4041\u001b[0m                 \u001b[0mvalues\u001b[0m \u001b[1;33m=\u001b[0m \u001b[0mself\u001b[0m\u001b[1;33m.\u001b[0m\u001b[0mastype\u001b[0m\u001b[1;33m(\u001b[0m\u001b[0mobject\u001b[0m\u001b[1;33m)\u001b[0m\u001b[1;33m.\u001b[0m\u001b[0mvalues\u001b[0m\u001b[1;33m\u001b[0m\u001b[1;33m\u001b[0m\u001b[0m\n\u001b[1;32m-> 4042\u001b[1;33m                 \u001b[0mmapped\u001b[0m \u001b[1;33m=\u001b[0m \u001b[0mlib\u001b[0m\u001b[1;33m.\u001b[0m\u001b[0mmap_infer\u001b[0m\u001b[1;33m(\u001b[0m\u001b[0mvalues\u001b[0m\u001b[1;33m,\u001b[0m \u001b[0mf\u001b[0m\u001b[1;33m,\u001b[0m \u001b[0mconvert\u001b[0m\u001b[1;33m=\u001b[0m\u001b[0mconvert_dtype\u001b[0m\u001b[1;33m)\u001b[0m\u001b[1;33m\u001b[0m\u001b[1;33m\u001b[0m\u001b[0m\n\u001b[0m\u001b[0;32m   4043\u001b[0m \u001b[1;33m\u001b[0m\u001b[0m\n\u001b[0;32m   4044\u001b[0m         \u001b[1;32mif\u001b[0m \u001b[0mlen\u001b[0m\u001b[1;33m(\u001b[0m\u001b[0mmapped\u001b[0m\u001b[1;33m)\u001b[0m \u001b[1;32mand\u001b[0m \u001b[0misinstance\u001b[0m\u001b[1;33m(\u001b[0m\u001b[0mmapped\u001b[0m\u001b[1;33m[\u001b[0m\u001b[1;36m0\u001b[0m\u001b[1;33m]\u001b[0m\u001b[1;33m,\u001b[0m \u001b[0mSeries\u001b[0m\u001b[1;33m)\u001b[0m\u001b[1;33m:\u001b[0m\u001b[1;33m\u001b[0m\u001b[1;33m\u001b[0m\u001b[0m\n",
      "\u001b[1;32mpandas\\_libs\\lib.pyx\u001b[0m in \u001b[0;36mpandas._libs.lib.map_infer\u001b[1;34m()\u001b[0m\n",
      "\u001b[1;32m<ipython-input-35-32e72f31f891>\u001b[0m in \u001b[0;36m<lambda>\u001b[1;34m(x)\u001b[0m\n\u001b[1;32m----> 1\u001b[1;33m \u001b[0mmovies_df\u001b[0m\u001b[1;33m[\u001b[0m\u001b[1;34m'genres'\u001b[0m\u001b[1;33m]\u001b[0m \u001b[1;33m=\u001b[0m \u001b[0mmovies_df\u001b[0m\u001b[1;33m[\u001b[0m\u001b[1;34m'genres'\u001b[0m\u001b[1;33m]\u001b[0m\u001b[1;33m.\u001b[0m\u001b[0mapply\u001b[0m\u001b[1;33m(\u001b[0m\u001b[1;32mlambda\u001b[0m \u001b[0mx\u001b[0m\u001b[1;33m:\u001b[0m \u001b[0meval\u001b[0m\u001b[1;33m(\u001b[0m\u001b[0mx\u001b[0m\u001b[1;33m)\u001b[0m\u001b[1;33m)\u001b[0m\u001b[1;33m\u001b[0m\u001b[1;33m\u001b[0m\u001b[0m\n\u001b[0m",
      "\u001b[1;31mTypeError\u001b[0m: eval() arg 1 must be a string, bytes or code object"
     ]
    }
   ],
   "source": [
    "movies_df['genres'] = movies_df['genres'].apply(lambda x: eval(x))"
   ]
  },
  {
   "cell_type": "code",
   "execution_count": 34,
   "metadata": {},
   "outputs": [
    {
     "data": {
      "text/plain": [
       "0                                                                         [{'id': 16, 'name': 'Animation'}, {'id': 35, 'name': 'Comedy'}, {'id': 10751, 'name': 'Family'}]\n",
       "1                                                                        [{'id': 12, 'name': 'Adventure'}, {'id': 14, 'name': 'Fantasy'}, {'id': 10751, 'name': 'Family'}]\n",
       "2                                                                                                         [{'id': 10749, 'name': 'Romance'}, {'id': 35, 'name': 'Comedy'}]\n",
       "3                                                                            [{'id': 35, 'name': 'Comedy'}, {'id': 18, 'name': 'Drama'}, {'id': 10749, 'name': 'Romance'}]\n",
       "4                                                                                                                                           [{'id': 35, 'name': 'Comedy'}]\n",
       "                                                                                      ...                                                                                 \n",
       "95                                                                                                                                           [{'id': 18, 'name': 'Drama'}]\n",
       "96    [{'id': 28, 'name': 'Action'}, {'id': 12, 'name': 'Adventure'}, {'id': 18, 'name': 'Drama'}, {'id': 878, 'name': 'Science Fiction'}, {'id': 53, 'name': 'Thriller'}]\n",
       "97                                                                                                                                     [{'id': 99, 'name': 'Documentary'}]\n",
       "98                                                                                                           [{'id': 18, 'name': 'Drama'}, {'id': 53, 'name': 'Thriller'}]\n",
       "99                                                                                [{'id': 35, 'name': 'Comedy'}, {'id': 80, 'name': 'Crime'}, {'id': 18, 'name': 'Drama'}]\n",
       "Name: genres, Length: 100, dtype: object"
      ]
     },
     "execution_count": 34,
     "metadata": {},
     "output_type": "execute_result"
    }
   ],
   "source": [
    "movies_df['genres']"
   ]
  },
  {
   "cell_type": "code",
   "execution_count": null,
   "metadata": {},
   "outputs": [],
   "source": []
  }
 ],
 "metadata": {
  "kernelspec": {
   "display_name": "Python 3",
   "language": "python",
   "name": "python3"
  },
  "language_info": {
   "codemirror_mode": {
    "name": "ipython",
    "version": 3
   },
   "file_extension": ".py",
   "mimetype": "text/x-python",
   "name": "python",
   "nbconvert_exporter": "python",
   "pygments_lexer": "ipython3",
   "version": "3.7.4"
  }
 },
 "nbformat": 4,
 "nbformat_minor": 4
}
