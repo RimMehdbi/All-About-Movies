{
  "nbformat": 4,
  "nbformat_minor": 0,
  "metadata": {
    "colab": {
      "name": "dataloader.ipynb",
      "provenance": [],
      "authorship_tag": "ABX9TyMhjyCrfto9HFAQrO30cN9O",
      "include_colab_link": true
    },
    "kernelspec": {
      "name": "python3",
      "display_name": "Python 3"
    },
    "language_info": {
      "name": "python"
    },
    "accelerator": "GPU"
  },
  "cells": [
    {
      "cell_type": "markdown",
      "metadata": {
        "id": "view-in-github",
        "colab_type": "text"
      },
      "source": [
        "<a href=\"https://colab.research.google.com/github/prabhnoor0212/All-About-Movies/blob/main/dataloader.ipynb\" target=\"_parent\"><img src=\"https://colab.research.google.com/assets/colab-badge.svg\" alt=\"Open In Colab\"/></a>"
      ]
    },
    {
      "cell_type": "code",
      "execution_count": 1,
      "metadata": {
        "id": "__52Y9SRjUwH"
      },
      "outputs": [],
      "source": [
        "!pip install -q torch==1.10.0 torchvision"
      ]
    },
    {
      "cell_type": "code",
      "source": [
        "!pip install pillow"
      ],
      "metadata": {
        "colab": {
          "base_uri": "https://localhost:8080/"
        },
        "id": "53DRDsUXjeBy",
        "outputId": "1970606f-eb3e-4f57-c388-f9c85237d5f6"
      },
      "execution_count": 2,
      "outputs": [
        {
          "output_type": "stream",
          "name": "stdout",
          "text": [
            "Requirement already satisfied: pillow in /usr/local/lib/python3.7/dist-packages (7.1.2)\n"
          ]
        }
      ]
    },
    {
      "cell_type": "code",
      "source": [
        "from google.colab import drive\n",
        "drive.mount('/content/gdrive')"
      ],
      "metadata": {
        "colab": {
          "base_uri": "https://localhost:8080/"
        },
        "id": "BvPBW4uwlY7P",
        "outputId": "d5e7864c-51d6-4f47-efc6-857407a39b2f"
      },
      "execution_count": 1,
      "outputs": [
        {
          "output_type": "stream",
          "name": "stdout",
          "text": [
            "Mounted at /content/gdrive\n"
          ]
        }
      ]
    },
    {
      "cell_type": "code",
      "source": [
        "import os\n",
        "import zipfile\n",
        "import urllib.request\n",
        "from typing import Any, Dict\n",
        "\n",
        "import torch\n",
        "import torchvision\n",
        "from torch.utils.data import Dataset\n",
        "from PIL import Image\n",
        "import numpy as np"
      ],
      "metadata": {
        "id": "zNCnvLqCkaRS"
      },
      "execution_count": 2,
      "outputs": []
    },
    {
      "cell_type": "code",
      "source": [
        ""
      ],
      "metadata": {
        "id": "ssAcRLgglX6D"
      },
      "execution_count": null,
      "outputs": []
    },
    {
      "cell_type": "code",
      "source": [
        "dataset = {\n",
        "    'url': '/content/gdrive/MyDrive/DATASETS/few-shot-image-datasets.zip',\n",
        "    'archive': 'few-shot-image-datasets.zip',\n",
        "    'destination': 'few-shot-image-datasets',\n",
        "}"
      ],
      "metadata": {
        "id": "eHeEU8a-kaqI"
      },
      "execution_count": 3,
      "outputs": []
    },
    {
      "cell_type": "code",
      "source": [
        "def extract_dataset(root: str,\n",
        "                    url: str,\n",
        "                    archive: str,\n",
        "                    destination: str):\n",
        "    destination_path = os.path.join(root, destination)\n",
        "    archive_path = os.path.join(root, archive)\n",
        "\n",
        "    if not os.path.isdir(destination_path):\n",
        "        urllib.request.urlretrieve(url, archive_path)\n",
        "\n",
        "        if archive_path.endswith('.zip'):\n",
        "            with zipfile.ZipFile(archive_path, 'r') as zip:\n",
        "                zip.extractall(root)"
      ],
      "metadata": {
        "id": "njg8enA0ka_U"
      },
      "execution_count": 13,
      "outputs": []
    },
    {
      "cell_type": "code",
      "source": [
        "class MergeFewShotImageDatasets:\n",
        "\n",
        "    def __init__(self, root: str):\n",
        "        extract_dataset(\n",
        "                root=root,\n",
        "                url=_dataset['url'],\n",
        "                archive=_dataset['archive'],\n",
        "                destination=_dataset['destination'],\n",
        "            )\n"
      ],
      "metadata": {
        "id": "dBV97peykbVb"
      },
      "execution_count": 14,
      "outputs": []
    },
    {
      "cell_type": "code",
      "source": [
        "class FewShotImageDataset(MergeFewShotImageDatasets, Dataset):\n",
        "\n",
        "\n",
        "    def __init__(self, root: str,\n",
        "                       subdirectory: str):\n",
        "        super().__init__(root)\n",
        "        self._root = os.path.join(root, subdirectory)\n",
        "        self._files = os.listdir(self._root)\n",
        "\n",
        "        self._transforms = torchvision.transforms.Compose([\n",
        "                torchvision.transforms.Resize((1024, 1024)),\n",
        "                torchvision.transforms.RandomHorizontalFlip(p=0.5),\n",
        "            ])"
      ],
      "metadata": {
        "id": "Xabm-5TbkbtU"
      },
      "execution_count": 15,
      "outputs": []
    },
    {
      "cell_type": "code",
      "source": [
        "def _length_(self):\n",
        "        return len(self._files)"
      ],
      "metadata": {
        "id": "6lo5ngNOkcGy"
      },
      "execution_count": 16,
      "outputs": []
    },
    {
      "cell_type": "code",
      "source": [
        "def retrieveimage(self, index: int) -> Dict[str, Any]:\n",
        "        image_path = os.path.join(self._root, self._files[index])\n",
        "        image = Image.open(image_path).convert('RGB')\n",
        "        image = torch.from_numpy(np.array(image))\n",
        "        image = image.permute(2, 0, 1)\n",
        "        image = self._transforms(image)\n",
        "        return {'image': image}"
      ],
      "metadata": {
        "id": "Vyp4TF_okcjU"
      },
      "execution_count": 17,
      "outputs": []
    },
    {
      "cell_type": "code",
      "source": [
        "class NoiseDataset(Dataset):\n",
        "\n",
        "    def __init__(self, size: int, channels: int):\n",
        "        self._size = size\n",
        "        self._channels = channels\n",
        "\n",
        "    def _length_(self):\n",
        "        return self._size\n",
        "\n",
        "    def retrieveimage(self, index: int) -> torch.Tensor:\n",
        "        return torch.zeros(self._channels, 1, 1).normal_(0.0, 1.0)"
      ],
      "metadata": {
        "id": "hBAaT4rikcp-"
      },
      "execution_count": 18,
      "outputs": []
    },
    {
      "cell_type": "code",
      "source": [
        ""
      ],
      "metadata": {
        "id": "3NtzwKZVkcs6"
      },
      "execution_count": 12,
      "outputs": []
    },
    {
      "cell_type": "markdown",
      "source": [
        "Reference:https://github.com/silentz/Towards-Faster-And-Stabilized-GAN-Training-For-High-Fidelity-Few-Shot-Image-Synthesis\n"
      ],
      "metadata": {
        "id": "xyj3pNOAn87m"
      }
    },
    {
      "cell_type": "code",
      "source": [
        ""
      ],
      "metadata": {
        "id": "AMtm-12Xkcvm"
      },
      "execution_count": null,
      "outputs": []
    },
    {
      "cell_type": "code",
      "source": [
        ""
      ],
      "metadata": {
        "id": "G2ZW8dVpkcyQ"
      },
      "execution_count": null,
      "outputs": []
    },
    {
      "cell_type": "code",
      "source": [
        ""
      ],
      "metadata": {
        "id": "9zFH8BY4kc0y"
      },
      "execution_count": null,
      "outputs": []
    },
    {
      "cell_type": "code",
      "source": [
        ""
      ],
      "metadata": {
        "id": "qHSAzhnvkc3U"
      },
      "execution_count": null,
      "outputs": []
    },
    {
      "cell_type": "code",
      "source": [
        ""
      ],
      "metadata": {
        "id": "Z_4Gt7lfkc5y"
      },
      "execution_count": null,
      "outputs": []
    },
    {
      "cell_type": "code",
      "source": [
        ""
      ],
      "metadata": {
        "id": "3b0pPNxFkc8G"
      },
      "execution_count": null,
      "outputs": []
    },
    {
      "cell_type": "code",
      "source": [
        ""
      ],
      "metadata": {
        "id": "60V0ahsUkc-o"
      },
      "execution_count": null,
      "outputs": []
    },
    {
      "cell_type": "code",
      "source": [
        ""
      ],
      "metadata": {
        "id": "X_Yk7DvNkdCG"
      },
      "execution_count": null,
      "outputs": []
    }
  ]
}