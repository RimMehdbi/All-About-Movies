{
  "nbformat": 4,
  "nbformat_minor": 0,
  "metadata": {
    "colab": {
      "name": "USER_MOVIE_EMBED_MISCELLANEOUS.ipynb",
      "provenance": [],
      "collapsed_sections": []
    },
    "kernelspec": {
      "name": "python3",
      "display_name": "Python 3"
    },
    "accelerator": "GPU"
  },
  "cells": [
    {
      "cell_type": "markdown",
      "metadata": {
        "id": "S5Bhi2vIiiXr"
      },
      "source": [
        "### NOTEBOOK CONTENTS:\n",
        "\n",
        "1. Movie Latent Vectors\n",
        "2. User Latent Vectors\n",
        "3. Movie Community Detection and basic Exploratory Data Analysis\n",
        "4. Input JSON for FLOWER PLOT preparation\n"
      ]
    },
    {
      "cell_type": "markdown",
      "source": [
        "# Basic Statistics\n",
        "\n",
        "<img src=\"https://drive.google.com/uc?export=view&id=1FLsndvwBUC3XdEYExFTWgRcNRfm0G-qA\"></img>"
      ],
      "metadata": {
        "id": "nTjNPEgcuKFi"
      }
    },
    {
      "cell_type": "markdown",
      "source": [
        "# Idea of Analysis\n",
        "\n",
        "1) Start from user-movie ratings data (which doesn't have any information about movies or user meta-data).\n",
        "\n",
        "2) Generate user and movie embeddings using NCF.\n",
        "\n",
        "3) Gerate a user network and a movie network using the embeddings.\n",
        "\n",
        "4) Discover communities of users as well as movies.\n",
        "\n",
        "5) Now PLUG IN the meta data to find \"insights\" i.e. the driving factors of movie viewership and user consumption.\n",
        "\n",
        "<img src=\"https://drive.google.com/uc?export=view&id=1UI9v6xsoXef60lgCCgDZVDphn4dUfong\"></img>"
      ],
      "metadata": {
        "id": "kXoxMYH2zdM8"
      }
    },
    {
      "cell_type": "markdown",
      "source": [
        "### SUMMARY OF MAJOR RESULTS:\n",
        "\n",
        "Distribution of average_movie_ratings and avg_votes contrast nicely over various movie communities"
      ],
      "metadata": {
        "id": "ZnjS_UEwtp7p"
      }
    },
    {
      "cell_type": "code",
      "source": [
        "## imports for NCF\n",
        "!pip install torch==1.8.0\n",
        "!pip install -Uqq fastbook\n",
        "import fastbook\n",
        "fastbook.setup_book()\n",
        "from fastbook import *\n",
        "import torch\n",
        "from bokeh.plotting import figure, show, output_notebook, save\n",
        "from bokeh.models import HoverTool, value, LabelSet, Legend, ColumnDataSource\n",
        "output_notebook()\n",
        "from IPython.core.debugger import set_trace #debugging\n",
        "#fastai library imports: https://github.com/fastai/fastai\n",
        "from fastai.learner import *\n",
        "#from fastai.column_data import *\n",
        "from fastai.tabular.all import *\n",
        "from fastai.tabular import *\n",
        "import pandas as pd\n",
        "\n",
        "## imports for Community Detection\n",
        "import numpy as np\n",
        "import matplotlib.pyplot as plt\n",
        "import seaborn as sns\n",
        "import pickle\n",
        "import joblib\n",
        "from sklearn import metrics\n",
        "import networkx as nx\n",
        "import community as community_louvain\n",
        "import scipy\n",
        "from collections import defaultdict"
      ],
      "metadata": {
        "id": "44TvwHMx1NA1"
      },
      "execution_count": 2,
      "outputs": []
    },
    {
      "cell_type": "markdown",
      "metadata": {
        "id": "1lMcekZdx81z"
      },
      "source": [
        "## 1. Generating user and movie embeddings"
      ]
    },
    {
      "cell_type": "code",
      "metadata": {
        "id": "qTqniRmdQ_oO",
        "colab": {
          "base_uri": "https://localhost:8080/",
          "height": 143
        },
        "outputId": "7e351455-45d8-459c-a5ec-09fd9921d4d6"
      },
      "source": [
        "## data loading\n",
        "ratings = pd.read_csv(f'/content/gdrive/MyDrive/movies_big/emb/ratings.csv')\n",
        "ratings.head(3)"
      ],
      "execution_count": 6,
      "outputs": [
        {
          "output_type": "execute_result",
          "data": {
            "text/html": [
              "\n",
              "  <div id=\"df-d3ef471b-8b68-4d4b-8c2c-1119e11b8a84\">\n",
              "    <div class=\"colab-df-container\">\n",
              "      <div>\n",
              "<style scoped>\n",
              "    .dataframe tbody tr th:only-of-type {\n",
              "        vertical-align: middle;\n",
              "    }\n",
              "\n",
              "    .dataframe tbody tr th {\n",
              "        vertical-align: top;\n",
              "    }\n",
              "\n",
              "    .dataframe thead th {\n",
              "        text-align: right;\n",
              "    }\n",
              "</style>\n",
              "<table border=\"1\" class=\"dataframe\">\n",
              "  <thead>\n",
              "    <tr style=\"text-align: right;\">\n",
              "      <th></th>\n",
              "      <th>userId</th>\n",
              "      <th>movieId</th>\n",
              "      <th>rating</th>\n",
              "      <th>timestamp</th>\n",
              "    </tr>\n",
              "  </thead>\n",
              "  <tbody>\n",
              "    <tr>\n",
              "      <th>0</th>\n",
              "      <td>1</td>\n",
              "      <td>110</td>\n",
              "      <td>1.0</td>\n",
              "      <td>1425941529</td>\n",
              "    </tr>\n",
              "    <tr>\n",
              "      <th>1</th>\n",
              "      <td>1</td>\n",
              "      <td>147</td>\n",
              "      <td>4.5</td>\n",
              "      <td>1425942435</td>\n",
              "    </tr>\n",
              "    <tr>\n",
              "      <th>2</th>\n",
              "      <td>1</td>\n",
              "      <td>858</td>\n",
              "      <td>5.0</td>\n",
              "      <td>1425941523</td>\n",
              "    </tr>\n",
              "  </tbody>\n",
              "</table>\n",
              "</div>\n",
              "      <button class=\"colab-df-convert\" onclick=\"convertToInteractive('df-d3ef471b-8b68-4d4b-8c2c-1119e11b8a84')\"\n",
              "              title=\"Convert this dataframe to an interactive table.\"\n",
              "              style=\"display:none;\">\n",
              "        \n",
              "  <svg xmlns=\"http://www.w3.org/2000/svg\" height=\"24px\"viewBox=\"0 0 24 24\"\n",
              "       width=\"24px\">\n",
              "    <path d=\"M0 0h24v24H0V0z\" fill=\"none\"/>\n",
              "    <path d=\"M18.56 5.44l.94 2.06.94-2.06 2.06-.94-2.06-.94-.94-2.06-.94 2.06-2.06.94zm-11 1L8.5 8.5l.94-2.06 2.06-.94-2.06-.94L8.5 2.5l-.94 2.06-2.06.94zm10 10l.94 2.06.94-2.06 2.06-.94-2.06-.94-.94-2.06-.94 2.06-2.06.94z\"/><path d=\"M17.41 7.96l-1.37-1.37c-.4-.4-.92-.59-1.43-.59-.52 0-1.04.2-1.43.59L10.3 9.45l-7.72 7.72c-.78.78-.78 2.05 0 2.83L4 21.41c.39.39.9.59 1.41.59.51 0 1.02-.2 1.41-.59l7.78-7.78 2.81-2.81c.8-.78.8-2.07 0-2.86zM5.41 20L4 18.59l7.72-7.72 1.47 1.35L5.41 20z\"/>\n",
              "  </svg>\n",
              "      </button>\n",
              "      \n",
              "  <style>\n",
              "    .colab-df-container {\n",
              "      display:flex;\n",
              "      flex-wrap:wrap;\n",
              "      gap: 12px;\n",
              "    }\n",
              "\n",
              "    .colab-df-convert {\n",
              "      background-color: #E8F0FE;\n",
              "      border: none;\n",
              "      border-radius: 50%;\n",
              "      cursor: pointer;\n",
              "      display: none;\n",
              "      fill: #1967D2;\n",
              "      height: 32px;\n",
              "      padding: 0 0 0 0;\n",
              "      width: 32px;\n",
              "    }\n",
              "\n",
              "    .colab-df-convert:hover {\n",
              "      background-color: #E2EBFA;\n",
              "      box-shadow: 0px 1px 2px rgba(60, 64, 67, 0.3), 0px 1px 3px 1px rgba(60, 64, 67, 0.15);\n",
              "      fill: #174EA6;\n",
              "    }\n",
              "\n",
              "    [theme=dark] .colab-df-convert {\n",
              "      background-color: #3B4455;\n",
              "      fill: #D2E3FC;\n",
              "    }\n",
              "\n",
              "    [theme=dark] .colab-df-convert:hover {\n",
              "      background-color: #434B5C;\n",
              "      box-shadow: 0px 1px 3px 1px rgba(0, 0, 0, 0.15);\n",
              "      filter: drop-shadow(0px 1px 2px rgba(0, 0, 0, 0.3));\n",
              "      fill: #FFFFFF;\n",
              "    }\n",
              "  </style>\n",
              "\n",
              "      <script>\n",
              "        const buttonEl =\n",
              "          document.querySelector('#df-d3ef471b-8b68-4d4b-8c2c-1119e11b8a84 button.colab-df-convert');\n",
              "        buttonEl.style.display =\n",
              "          google.colab.kernel.accessAllowed ? 'block' : 'none';\n",
              "\n",
              "        async function convertToInteractive(key) {\n",
              "          const element = document.querySelector('#df-d3ef471b-8b68-4d4b-8c2c-1119e11b8a84');\n",
              "          const dataTable =\n",
              "            await google.colab.kernel.invokeFunction('convertToInteractive',\n",
              "                                                     [key], {});\n",
              "          if (!dataTable) return;\n",
              "\n",
              "          const docLinkHtml = 'Like what you see? Visit the ' +\n",
              "            '<a target=\"_blank\" href=https://colab.research.google.com/notebooks/data_table.ipynb>data table notebook</a>'\n",
              "            + ' to learn more about interactive tables.';\n",
              "          element.innerHTML = '';\n",
              "          dataTable['output_type'] = 'display_data';\n",
              "          await google.colab.output.renderOutput(dataTable, element);\n",
              "          const docLink = document.createElement('div');\n",
              "          docLink.innerHTML = docLinkHtml;\n",
              "          element.appendChild(docLink);\n",
              "        }\n",
              "      </script>\n",
              "    </div>\n",
              "  </div>\n",
              "  "
            ],
            "text/plain": [
              "   userId  movieId  rating   timestamp\n",
              "0       1      110     1.0  1425941529\n",
              "1       1      147     4.5  1425942435\n",
              "2       1      858     5.0  1425941523"
            ]
          },
          "metadata": {},
          "execution_count": 6
        }
      ]
    },
    {
      "cell_type": "code",
      "metadata": {
        "colab": {
          "base_uri": "https://localhost:8080/"
        },
        "id": "ANMi-ocESexl",
        "outputId": "8f6a51e1-7fd5-46b3-d9a7-ad7c7579ce63"
      },
      "source": [
        "print(\"No of unique user-movie rating rows: %s\"%(ratings.shape[0]))\n",
        "mini_ratings = ratings.sample(frac=0.01).reset_index(drop=True)\n",
        "ratings = mini_ratings.copy()"
      ],
      "execution_count": 10,
      "outputs": [
        {
          "output_type": "stream",
          "name": "stdout",
          "text": [
            "No of unique user-movie rating rows: 26024289\n"
          ]
        }
      ]
    },
    {
      "cell_type": "markdown",
      "source": [
        "## 1.1 Neural Collaborative Filtering \n",
        "\n",
        "CODE: https://docs.fast.ai/collab.html \n",
        "\n",
        "Using the Fast.ai implementation"
      ],
      "metadata": {
        "id": "0OuwT7Di7uVe"
      }
    },
    {
      "cell_type": "code",
      "metadata": {
        "id": "8-wqv8F-UDUI"
      },
      "source": [
        "#There were some in issues in recovering the movie and user ids so making the changes in the source code to handle them.\n",
        "class TabularCollab(TabularPandas):\n",
        "    \"Instance of `TabularPandas` suitable for collaborative filtering (with no continuous variable)\"\n",
        "    with_cont=False\n",
        "\n",
        "#export\n",
        "class CollabDataLoaders(DataLoaders):\n",
        "    \"Base `DataLoaders` for collaborative filtering.\"\n",
        "    @delegates(DataLoaders.from_dblock)\n",
        "    @classmethod\n",
        "    def from_df(cls, ratings, valid_pct=0.2, user_name=None, item_name=None, rating_name=None, seed=None, path='.', **kwargs):\n",
        "        \"Create a `DataLoaders` suitable for collaborative filtering from `ratings`.\"\n",
        "        user_name   = ifnone(user_name,   ratings.columns[0])\n",
        "        item_name   = ifnone(item_name,   ratings.columns[1])\n",
        "        rating_name = ifnone(rating_name, ratings.columns[2])\n",
        "        cat_names = [user_name,item_name]\n",
        "        splits = RandomSplitter(valid_pct=valid_pct, seed=seed)(range_of(ratings))\n",
        "        to = TabularCollab(ratings, [Categorify], cat_names, y_names=[rating_name], y_block=TransformBlock(), splits=splits)\n",
        "        return to.dataloaders(path=path, **kwargs)\n",
        "\n",
        "    @classmethod\n",
        "    def from_csv(cls, csv, **kwargs):\n",
        "        \"Create a `DataLoaders` suitable for collaborative filtering from `csv`.\"\n",
        "        return cls.from_df(pd.read_csv(csv), **kwargs)\n",
        "\n",
        "#export\n",
        "class EmbeddingDotBias(Module):\n",
        "    \"Base dot model for collaborative filtering.\"\n",
        "    def __init__(self, n_factors, n_users, n_items, y_range=None):\n",
        "        self.y_range = y_range\n",
        "        (self.u_weight, self.i_weight, self.u_bias, self.i_bias) = [Embedding(*o) for o in [\n",
        "            (n_users, n_factors), (n_items, n_factors), (n_users,1), (n_items,1)\n",
        "        ]]\n",
        "\n",
        "    def forward(self, x):\n",
        "        users,items = x[:,0],x[:,1]\n",
        "        dot = self.u_weight(users)* self.i_weight(items)\n",
        "        res = dot.sum(1) + self.u_bias(users).squeeze() + self.i_bias(items).squeeze()\n",
        "        if self.y_range is None: return res\n",
        "        return torch.sigmoid(res) * (self.y_range[1]-self.y_range[0]) + self.y_range[0]\n",
        "\n",
        "    @classmethod\n",
        "    def from_classes(cls, n_factors, classes, user=None, item=None, y_range=None):\n",
        "        \"Build a model with `n_factors` by inferring `n_users` and  `n_items` from `classes`\"\n",
        "        if user is None: user = list(classes.keys())[0]\n",
        "        if item is None: item = list(classes.keys())[1]\n",
        "        res = cls(n_factors, len(classes[user]), len(classes[item]), y_range=y_range)\n",
        "        res.classes,res.user,res.item = classes,user,item\n",
        "        return res\n",
        "\n",
        "    def _get_idx(self, arr, is_item=True):\n",
        "        \"Fetch item or user (based on `is_item`) for all in `arr`\"\n",
        "        assert hasattr(self, 'classes'), \"Build your model with `EmbeddingDotBias.from_classes` to use this functionality.\"\n",
        "        classes = self.classes[self.item] if is_item else self.classes[self.user]\n",
        "        c2i = {v:k for k,v in enumerate(classes)}\n",
        "        try: return tensor([c2i[o] for o in arr])\n",
        "        except Exception as e:\n",
        "            print(f\"\"\"You're trying to access {'an item' if is_item else 'a user'} that isn't in the training data.\n",
        "                  If it was in your original data, it may have been split such that it's only in the validation set now.\"\"\")\n",
        "\n",
        "    def bias(self, arr, is_item=True):\n",
        "        \"Bias for item or user (based on `is_item`) for all in `arr`\"\n",
        "        idx = self._get_idx(arr, is_item)\n",
        "        layer = (self.i_bias if is_item else self.u_bias).eval().cpu()\n",
        "        return to_detach(layer(idx).squeeze(),gather=False)\n",
        "\n",
        "    def weight(self, arr, is_item=True):\n",
        "        \"Weight for item or user (based on `is_item`) for all in `arr`\"\n",
        "        idx = self._get_idx(arr, is_item)\n",
        "        layer = (self.i_weight if is_item else self.u_weight).eval().cpu()\n",
        "        return to_detach(layer(idx),gather=False)\n",
        "#export \n",
        "class EmbeddingNN(TabularModel):\n",
        "    \"Subclass `TabularModel` to create a NN suitable for collaborative filtering.\"\n",
        "    @delegates(TabularModel.__init__)\n",
        "    def __init__(self, emb_szs, layers, **kwargs):\n",
        "        super().__init__(emb_szs=emb_szs, n_cont=0, out_sz=1, layers=layers, **kwargs)\n",
        "# export\n",
        "@delegates(Learner.__init__)\n",
        "def collab_learner(dls, n_factors=50, use_nn=False, emb_szs=None, layers=None, config=None, y_range=None, loss_func=None, **kwargs):\n",
        "    \"Create a Learner for collaborative filtering on `dls`.\"\n",
        "    emb_szs = get_emb_sz(dls, ifnone(emb_szs, {}))\n",
        "    if loss_func is None: loss_func = MSELossFlat()\n",
        "    if config is None: config = tabular_config()\n",
        "    if y_range is not None: config['y_range'] = y_range\n",
        "    if layers is None: layers = [n_factors]\n",
        "    if use_nn: model = EmbeddingNN(emb_szs=emb_szs, layers=layers, **config)\n",
        "    else:      model = EmbeddingDotBias.from_classes(n_factors, dls.classes, y_range=y_range)\n",
        "    return Learner(dls, model, loss_func=loss_func, **kwargs)\n",
        "\n",
        "CollabDataLoaders.from_csv = delegates(to=CollabDataLoaders.from_df)(CollabDataLoaders.from_csv)"
      ],
      "execution_count": null,
      "outputs": []
    },
    {
      "cell_type": "code",
      "metadata": {
        "id": "DArZYwsQsw3J"
      },
      "source": [
        "## function to generate and write the user and movie embeddings learnt from NCF\n",
        "def generate_user_movie_embeddings_nn(mini_ratings, emb_szs={'user': 512, 'item':512}, out_folder = \"/content/gdrive/MyDrive/movies_big/emb\"):\n",
        "    \"\"\"\n",
        "    mini_ratings : pd.DataFrame | with columns <userId, movieId, rating>\n",
        "    emb_szs : dict | A dictionary with keys as 'user', 'item' specifying embedding dimensions\n",
        "    out_folder : str | path of the folder to dump the emebddings\n",
        "    \"\"\"\n",
        "    dls = CollabDataLoaders.from_df(mini_ratings, bs=64)\n",
        "    learn = collab_learner(dls, y_range=(0,5),use_nn=True, emb_szs=emb_szs)\n",
        "    learn.fit_one_cycle(1)  \n",
        "    try:\n",
        "        u_mat = to_np(learn.model.embeds[0].weight[1:])\n",
        "        m_mat = to_np(learn.model.embeds[1].weight[1:]) \n",
        "        u_ids = np.array(learn.dls.train_ds.classes['userId'][1:])\n",
        "        m_ids = np.array(learn.dls.train_ds.classes['movieId'][1:])\n",
        "        print(u_mat.shape, m_mat.shape, u_ids.shape, m_ids.shape)\n",
        "        if out_folder:\n",
        "            with open(out_folder+'/u_mat.pkl','wb') as f:\n",
        "                pickle.dump(u_mat, f)\n",
        "            with open(out_folder+'/m_mat.pkl','wb') as f:\n",
        "                pickle.dump(m_mat, f)\n",
        "            with open(out_folder+'/u_ids.pkl','wb') as f:\n",
        "                pickle.dump(u_ids, f)\n",
        "            with open(out_folder+'/m_ids.pkl','wb') as f:\n",
        "                pickle.dump(m_ids, f)\n",
        "    except Exception as e:\n",
        "        print(e)\n",
        "        return learn\n",
        "    return learn"
      ],
      "execution_count": null,
      "outputs": []
    },
    {
      "cell_type": "code",
      "metadata": {
        "id": "IrHjoelA0Pq6"
      },
      "source": [
        "l = generate_user_movie_embeddings_nn(ratings)\n",
        "with open('/content/gdrive/MyDrive/movies_big/emb'+'/l.pkl','wb') as f:\n",
        "    pickle.dump(l, f)\n",
        "ratings.to_csv(\"/content/gdrive/MyDrive/movies_big/emb/ratings.csv\")"
      ],
      "execution_count": 12,
      "outputs": []
    },
    {
      "cell_type": "markdown",
      "metadata": {
        "id": "Rkp1sVQ-jUzq"
      },
      "source": [
        "## 2. Movie Communities"
      ]
    },
    {
      "cell_type": "code",
      "metadata": {
        "id": "HiX6fiGhzGAj"
      },
      "source": [
        "## Loading the embeddings\n",
        "f_name = \"/content/drive/MyDrive/movies_big/emb\"\n",
        "def load_embeddings(f_name):\n",
        "    with open(f_name+'/u_mat.pkl','rb') as f:\n",
        "                u_mat = pickle.load(f)\n",
        "    with open(f_name+'/m_mat.pkl','rb') as f:\n",
        "                m_mat = pickle.load(f)\n",
        "    with open(f_name+'/m_ids.pkl','rb') as f:\n",
        "                m_ids = pickle.load(f)\n",
        "    with open(f_name+'/u_ids.pkl','rb') as f:\n",
        "                u_ids = pickle.load(f)\n",
        "    return m_mat, m_ids, u_mat, u_ids\n",
        "\n",
        "m_mat, m_ids, u_mat, u_ids = load_embeddings(f_name)\n",
        "m_mat.shape, m_ids.shape, u_mat.shape, u_ids.shape\n",
        "ratings = pd.read_csv(f_name+\"/ratings.csv\")\n",
        "#del u_mat, u_ids"
      ],
      "execution_count": 14,
      "outputs": []
    },
    {
      "cell_type": "markdown",
      "metadata": {
        "id": "RNfU3z4AjcUs"
      },
      "source": [
        "### 2.1 Movie Network/Graph creation"
      ]
    },
    {
      "cell_type": "markdown",
      "source": [
        "Logic:\n",
        "\n",
        "1) Create an NXN adjacency matrix by taking pairwise cosine similarity of movie embeddings.\n",
        "\n",
        "2) There will be an edge between two movies if their similarity is above a certain threshold. So, update the weighted adjacency matrix by removing the edges having weight below the threshold."
      ],
      "metadata": {
        "id": "J7mjEAOFBVnH"
      }
    },
    {
      "cell_type": "code",
      "metadata": {
        "colab": {
          "base_uri": "https://localhost:8080/"
        },
        "id": "pdcEI0X3-RYh",
        "outputId": "9ca3bad6-9524-464a-e377-e18cef2a28ab"
      },
      "source": [
        "def create_weighted_adjacency_mat(mat, thresh):\n",
        "    \"\"\"\n",
        "    Function to filter out below threshold edges\n",
        "    \"\"\"\n",
        "    mat[mat<thresh]=0\n",
        "    return mat\n",
        "\n",
        "\n",
        "## Adj matrix creation (fully connected graph)\n",
        "movie_sim = metrics.pairwise.cosine_similarity(m_mat)\n",
        "\n",
        "## Filter out unwanted edges and remove the movies which end up with no edges\n",
        "movie_sim = create_weighted_adjacency_mat(movie_sim, 0.9)\n",
        "np.fill_diagonal(movie_sim, 0)\n",
        "r_keep_idxs = ~np.all(movie_sim == 0, axis=1)\n",
        "c_keep_idxs = ~np.all(movie_sim.T == 0, axis=1)\n",
        "print(\"Sanity: \", np.all(r_keep_idxs == c_keep_idxs))\n",
        "#sum(r_keep_idxs) #13563\n",
        "\n",
        "## Converting the matrix to sparse matrix to save up on the resources\n",
        "movie_sim = scipy.sparse.csr_matrix(movie_sim)\n",
        "movie_sim = movie_sim[r_keep_idxs]\n",
        "movie_sim = movie_sim.T[c_keep_idxs].T"
      ],
      "execution_count": null,
      "outputs": [
        {
          "output_type": "stream",
          "text": [
            "Sanity:  True\n"
          ],
          "name": "stdout"
        }
      ]
    },
    {
      "cell_type": "markdown",
      "source": [
        "## 2.2 Community Detection : Louvain's algorithm"
      ],
      "metadata": {
        "id": "QD4h_QcyDYJN"
      }
    },
    {
      "cell_type": "code",
      "metadata": {
        "colab": {
          "base_uri": "https://localhost:8080/"
        },
        "id": "Ngey3InD9IkA",
        "outputId": "cc94c53c-e824-4304-b412-312776c2aec8"
      },
      "source": [
        "# networkx graph creation\n",
        "G = nx.convert_matrix.from_scipy_sparse_matrix(movie_sim) #G = nx.read_gpickle(\"/content/drive/MyDrive/movies_big/emb/movies_graph.gpickle\")\n",
        "# dumping the graph\n",
        "nx.write_gpickle(G, f_name+\"/movies_graph.gpickle\")\n",
        "# community detection\n",
        "partition = community_louvain.best_partition(G, weight='weight')\n",
        "## Modularity\n",
        "community_louvain.modularity(partition, G, weight='weight')"
      ],
      "execution_count": null,
      "outputs": [
        {
          "output_type": "execute_result",
          "data": {
            "text/plain": [
              "0.5244945066692962"
            ]
          },
          "metadata": {
            "tags": []
          },
          "execution_count": 7
        }
      ]
    },
    {
      "cell_type": "code",
      "metadata": {
        "colab": {
          "base_uri": "https://localhost:8080/"
        },
        "id": "jXXH2KukCqZz",
        "outputId": "9271763e-726d-4962-b2e0-2c5ed5525fd2"
      },
      "source": [
        "# Community IDs found\n",
        "np.unique(list(partition.values()))"
      ],
      "execution_count": null,
      "outputs": [
        {
          "output_type": "execute_result",
          "data": {
            "text/plain": [
              "array([ 0,  1,  2,  3,  4,  5,  6,  7,  8,  9, 10, 11, 12, 13])"
            ]
          },
          "metadata": {
            "tags": []
          },
          "execution_count": 13
        }
      ]
    },
    {
      "cell_type": "code",
      "metadata": {
        "id": "MUYRVtjhJyfG"
      },
      "source": [
        "keep_m_ids = m_ids[r_keep_idxs]"
      ],
      "execution_count": null,
      "outputs": []
    },
    {
      "cell_type": "markdown",
      "metadata": {
        "id": "T71155cDkDEa"
      },
      "source": [
        "## 2.3 Basic EDA on Movie Communities"
      ]
    },
    {
      "cell_type": "markdown",
      "source": [
        "Visualize the distributions of \n",
        "- Average movie ratings for each of the movie communities (to capture the quality/goodness of the movie)\n",
        "- Number of votes for each of the movie communities (to capture the popularity of the movie)"
      ],
      "metadata": {
        "id": "cxIy0JtuTeAP"
      }
    },
    {
      "cell_type": "code",
      "metadata": {
        "id": "S3-rfxidKI3v"
      },
      "source": [
        "# Some processing needs to be done for fetching the above distributions\n",
        "\n",
        "## Currently, we have user-movie-rating relationship. We need to find a single rating value for each movie \n",
        "## and this can be done by taking the average of all the ratings given to each movie\n",
        "\n",
        "### Similarly, we need to find the number of times a given movie was rated.\n",
        "\n",
        "\n",
        "communitites = defaultdict(list)\n",
        "\n",
        "for key, value in sorted(partition.items()):\n",
        "    communitites[value].append(keep_m_ids[key])\n",
        "\n",
        "m_group = ratings.groupby(\"movieId\")\n",
        "movies_df = pd.DataFrame()\n",
        "m_list = []\n",
        "for g in m_group:\n",
        "    m_list.append(g[0])\n",
        "movies_df['id'] = m_list\n",
        "del m_list\n",
        "\n",
        "movies_df['average_ml_rating'] = m_group['rating'].apply(lambda x: np.mean(list(x))).values\n",
        "movies_df['n_ratings'] = m_group['userId'].apply(lambda x: len(list(x))).values\n",
        "movie_community_rating_df = pd.DataFrame({'community':communitites.keys(), 'id':communitites.values()}).explode('id')\n",
        "movie_community_rating_df = movie_community_rating_df.merge(movies_df, how='left')\n",
        "movie_community_rating_df = movie_community_rating_df.merge(pd.DataFrame(list(enumerate(keep_m_ids)),columns=['graph_idx', 'id']), how='left')"
      ],
      "execution_count": null,
      "outputs": []
    },
    {
      "cell_type": "code",
      "metadata": {
        "colab": {
          "base_uri": "https://localhost:8080/",
          "height": 77
        },
        "id": "eGMW0fRsf09M",
        "outputId": "92bc6cfd-90dc-4797-e5f2-f78332c57318"
      },
      "source": [
        "movie_community_rating_df.head(1)"
      ],
      "execution_count": null,
      "outputs": [
        {
          "output_type": "execute_result",
          "data": {
            "text/html": [
              "<div>\n",
              "<style scoped>\n",
              "    .dataframe tbody tr th:only-of-type {\n",
              "        vertical-align: middle;\n",
              "    }\n",
              "\n",
              "    .dataframe tbody tr th {\n",
              "        vertical-align: top;\n",
              "    }\n",
              "\n",
              "    .dataframe thead th {\n",
              "        text-align: right;\n",
              "    }\n",
              "</style>\n",
              "<table border=\"1\" class=\"dataframe\">\n",
              "  <thead>\n",
              "    <tr style=\"text-align: right;\">\n",
              "      <th></th>\n",
              "      <th>community</th>\n",
              "      <th>id</th>\n",
              "      <th>average_ml_rating</th>\n",
              "      <th>n_ratings</th>\n",
              "      <th>graph_idx</th>\n",
              "    </tr>\n",
              "  </thead>\n",
              "  <tbody>\n",
              "    <tr>\n",
              "      <th>0</th>\n",
              "      <td>5</td>\n",
              "      <td>1</td>\n",
              "      <td>3.888157</td>\n",
              "      <td>66008</td>\n",
              "      <td>0</td>\n",
              "    </tr>\n",
              "  </tbody>\n",
              "</table>\n",
              "</div>"
            ],
            "text/plain": [
              "   community id  average_ml_rating  n_ratings  graph_idx\n",
              "0          5  1           3.888157      66008          0"
            ]
          },
          "metadata": {
            "tags": []
          },
          "execution_count": 44
        }
      ]
    },
    {
      "cell_type": "code",
      "metadata": {
        "colab": {
          "base_uri": "https://localhost:8080/",
          "height": 491
        },
        "id": "SYXzhcpEZ_yL",
        "outputId": "66969ff8-e4a7-4516-b19c-7a5be7e08986"
      },
      "source": [
        "movie_community_rating_df.groupby('community').aggregate(np.mean)\n",
        "# movie_community_rating_df.to_csv('/content/drive/MyDrive/movies_big/emb/m_communities.csv', index=False)"
      ],
      "execution_count": null,
      "outputs": [
        {
          "output_type": "execute_result",
          "data": {
            "text/html": [
              "<div>\n",
              "<style scoped>\n",
              "    .dataframe tbody tr th:only-of-type {\n",
              "        vertical-align: middle;\n",
              "    }\n",
              "\n",
              "    .dataframe tbody tr th {\n",
              "        vertical-align: top;\n",
              "    }\n",
              "\n",
              "    .dataframe thead th {\n",
              "        text-align: right;\n",
              "    }\n",
              "</style>\n",
              "<table border=\"1\" class=\"dataframe\">\n",
              "  <thead>\n",
              "    <tr style=\"text-align: right;\">\n",
              "      <th></th>\n",
              "      <th>average_ml_rating</th>\n",
              "      <th>n_ratings</th>\n",
              "    </tr>\n",
              "    <tr>\n",
              "      <th>community</th>\n",
              "      <th></th>\n",
              "      <th></th>\n",
              "    </tr>\n",
              "  </thead>\n",
              "  <tbody>\n",
              "    <tr>\n",
              "      <th>0</th>\n",
              "      <td>2.675108</td>\n",
              "      <td>72.500000</td>\n",
              "    </tr>\n",
              "    <tr>\n",
              "      <th>1</th>\n",
              "      <td>3.225300</td>\n",
              "      <td>248.000000</td>\n",
              "    </tr>\n",
              "    <tr>\n",
              "      <th>2</th>\n",
              "      <td>3.436913</td>\n",
              "      <td>41.500000</td>\n",
              "    </tr>\n",
              "    <tr>\n",
              "      <th>3</th>\n",
              "      <td>3.658895</td>\n",
              "      <td>376.000461</td>\n",
              "    </tr>\n",
              "    <tr>\n",
              "      <th>4</th>\n",
              "      <td>3.769104</td>\n",
              "      <td>2614.793696</td>\n",
              "    </tr>\n",
              "    <tr>\n",
              "      <th>5</th>\n",
              "      <td>4.037579</td>\n",
              "      <td>25519.601562</td>\n",
              "    </tr>\n",
              "    <tr>\n",
              "      <th>6</th>\n",
              "      <td>3.467889</td>\n",
              "      <td>73.914270</td>\n",
              "    </tr>\n",
              "    <tr>\n",
              "      <th>7</th>\n",
              "      <td>3.497291</td>\n",
              "      <td>29.323077</td>\n",
              "    </tr>\n",
              "    <tr>\n",
              "      <th>8</th>\n",
              "      <td>2.958559</td>\n",
              "      <td>417.000000</td>\n",
              "    </tr>\n",
              "    <tr>\n",
              "      <th>9</th>\n",
              "      <td>3.321392</td>\n",
              "      <td>1272.500000</td>\n",
              "    </tr>\n",
              "    <tr>\n",
              "      <th>10</th>\n",
              "      <td>3.841659</td>\n",
              "      <td>36779.250000</td>\n",
              "    </tr>\n",
              "    <tr>\n",
              "      <th>11</th>\n",
              "      <td>4.020108</td>\n",
              "      <td>47877.333333</td>\n",
              "    </tr>\n",
              "    <tr>\n",
              "      <th>12</th>\n",
              "      <td>2.208025</td>\n",
              "      <td>98.145418</td>\n",
              "    </tr>\n",
              "    <tr>\n",
              "      <th>13</th>\n",
              "      <td>2.281746</td>\n",
              "      <td>25.500000</td>\n",
              "    </tr>\n",
              "  </tbody>\n",
              "</table>\n",
              "</div>"
            ],
            "text/plain": [
              "           average_ml_rating     n_ratings\n",
              "community                                 \n",
              "0                   2.675108     72.500000\n",
              "1                   3.225300    248.000000\n",
              "2                   3.436913     41.500000\n",
              "3                   3.658895    376.000461\n",
              "4                   3.769104   2614.793696\n",
              "5                   4.037579  25519.601562\n",
              "6                   3.467889     73.914270\n",
              "7                   3.497291     29.323077\n",
              "8                   2.958559    417.000000\n",
              "9                   3.321392   1272.500000\n",
              "10                  3.841659  36779.250000\n",
              "11                  4.020108  47877.333333\n",
              "12                  2.208025     98.145418\n",
              "13                  2.281746     25.500000"
            ]
          },
          "metadata": {
            "tags": []
          },
          "execution_count": 26
        }
      ]
    },
    {
      "cell_type": "markdown",
      "source": [
        "For better contrast and substantial findings, consdering only the communities which more than 100 movies in them. Basically, ignoring the outlier communities."
      ],
      "metadata": {
        "id": "kxpWbKeNWDXk"
      }
    },
    {
      "cell_type": "code",
      "metadata": {
        "colab": {
          "base_uri": "https://localhost:8080/"
        },
        "id": "jFHQzo2UaCmV",
        "outputId": "36c8d921-d4dc-479d-e74b-9385c83b092d"
      },
      "source": [
        "movie_community_rating_df['community'].value_counts()"
      ],
      "execution_count": null,
      "outputs": [
        {
          "output_type": "execute_result",
          "data": {
            "text/plain": [
              "7     4420\n",
              "12    2957\n",
              "3     2169\n",
              "4     2094\n",
              "6     1773\n",
              "5      128\n",
              "11       6\n",
              "10       4\n",
              "13       2\n",
              "2        2\n",
              "9        2\n",
              "1        2\n",
              "8        2\n",
              "0        2\n",
              "Name: community, dtype: int64"
            ]
          },
          "metadata": {
            "tags": []
          },
          "execution_count": 75
        }
      ]
    },
    {
      "cell_type": "code",
      "metadata": {
        "colab": {
          "base_uri": "https://localhost:8080/",
          "height": 653
        },
        "id": "YCk1ksICmdJ3",
        "outputId": "8518b8e8-5606-4e34-f8a5-543b627fb69b"
      },
      "source": [
        "## Plotting distribution\n",
        "for g in movie_community_rating_df.groupby('community'):\n",
        "    com = g[0]\n",
        "    avg_ratings = g[1]['average_ml_rating']\n",
        "    n_ratings = g[1]['n_ratings']\n",
        "    if len(avg_ratings)>100:\n",
        "        sns.distplot(avg_ratings, hist=False, label=com)\n",
        "    plt.legend()\n",
        "    plt.plot()"
      ],
      "execution_count": null,
      "outputs": [
        {
          "output_type": "stream",
          "text": [
            "No handles with labels found to put in legend.\n",
            "No handles with labels found to put in legend.\n",
            "No handles with labels found to put in legend.\n",
            "/usr/local/lib/python3.6/dist-packages/seaborn/distributions.py:2557: FutureWarning: `distplot` is a deprecated function and will be removed in a future version. Please adapt your code to use either `displot` (a figure-level function with similar flexibility) or `kdeplot` (an axes-level function for kernel density plots).\n",
            "  warnings.warn(msg, FutureWarning)\n",
            "/usr/local/lib/python3.6/dist-packages/seaborn/distributions.py:2557: FutureWarning: `distplot` is a deprecated function and will be removed in a future version. Please adapt your code to use either `displot` (a figure-level function with similar flexibility) or `kdeplot` (an axes-level function for kernel density plots).\n",
            "  warnings.warn(msg, FutureWarning)\n",
            "/usr/local/lib/python3.6/dist-packages/seaborn/distributions.py:2557: FutureWarning: `distplot` is a deprecated function and will be removed in a future version. Please adapt your code to use either `displot` (a figure-level function with similar flexibility) or `kdeplot` (an axes-level function for kernel density plots).\n",
            "  warnings.warn(msg, FutureWarning)\n",
            "/usr/local/lib/python3.6/dist-packages/seaborn/distributions.py:2557: FutureWarning: `distplot` is a deprecated function and will be removed in a future version. Please adapt your code to use either `displot` (a figure-level function with similar flexibility) or `kdeplot` (an axes-level function for kernel density plots).\n",
            "  warnings.warn(msg, FutureWarning)\n",
            "/usr/local/lib/python3.6/dist-packages/seaborn/distributions.py:2557: FutureWarning: `distplot` is a deprecated function and will be removed in a future version. Please adapt your code to use either `displot` (a figure-level function with similar flexibility) or `kdeplot` (an axes-level function for kernel density plots).\n",
            "  warnings.warn(msg, FutureWarning)\n",
            "/usr/local/lib/python3.6/dist-packages/seaborn/distributions.py:2557: FutureWarning: `distplot` is a deprecated function and will be removed in a future version. Please adapt your code to use either `displot` (a figure-level function with similar flexibility) or `kdeplot` (an axes-level function for kernel density plots).\n",
            "  warnings.warn(msg, FutureWarning)\n"
          ],
          "name": "stderr"
        },
        {
          "output_type": "stream",
          "text": [
            "3\n",
            "4\n",
            "5\n",
            "6\n",
            "7\n",
            "12\n"
          ],
          "name": "stdout"
        },
        {
          "output_type": "display_data",
          "data": {
            "image/png": "[encoded data removed]",
            "text/plain": [
              "<Figure size 432x288 with 1 Axes>"
            ]
          },
          "metadata": {
            "tags": [],
            "needs_background": "light"
          }
        }
      ]
    },
    {
      "cell_type": "code",
      "metadata": {
        "colab": {
          "base_uri": "https://localhost:8080/",
          "height": 556
        },
        "id": "xLEVMOgin7um",
        "outputId": "bd673cf8-23f9-49df-a5c4-b39f4feb9505"
      },
      "source": [
        "## Plotting distribution\n",
        "for g in movie_community_rating_df.groupby('community'):\n",
        "    com = g[0]\n",
        "    avg_ratings = g[1]['average_ml_rating']\n",
        "    n_ratings = g[1]['n_ratings']\n",
        "    plt.xscale('log')\n",
        "    if len(avg_ratings)>100:\n",
        "        sns.distplot(n_ratings, hist=False, label=com)\n",
        "        plt.plot()\n",
        "    plt.legend()\n",
        "    plt.plot()"
      ],
      "execution_count": null,
      "outputs": [
        {
          "output_type": "stream",
          "text": [
            "No handles with labels found to put in legend.\n",
            "No handles with labels found to put in legend.\n",
            "No handles with labels found to put in legend.\n",
            "/usr/local/lib/python3.6/dist-packages/seaborn/distributions.py:2557: FutureWarning: `distplot` is a deprecated function and will be removed in a future version. Please adapt your code to use either `displot` (a figure-level function with similar flexibility) or `kdeplot` (an axes-level function for kernel density plots).\n",
            "  warnings.warn(msg, FutureWarning)\n",
            "/usr/local/lib/python3.6/dist-packages/seaborn/distributions.py:2557: FutureWarning: `distplot` is a deprecated function and will be removed in a future version. Please adapt your code to use either `displot` (a figure-level function with similar flexibility) or `kdeplot` (an axes-level function for kernel density plots).\n",
            "  warnings.warn(msg, FutureWarning)\n",
            "/usr/local/lib/python3.6/dist-packages/seaborn/distributions.py:2557: FutureWarning: `distplot` is a deprecated function and will be removed in a future version. Please adapt your code to use either `displot` (a figure-level function with similar flexibility) or `kdeplot` (an axes-level function for kernel density plots).\n",
            "  warnings.warn(msg, FutureWarning)\n",
            "/usr/local/lib/python3.6/dist-packages/seaborn/distributions.py:2557: FutureWarning: `distplot` is a deprecated function and will be removed in a future version. Please adapt your code to use either `displot` (a figure-level function with similar flexibility) or `kdeplot` (an axes-level function for kernel density plots).\n",
            "  warnings.warn(msg, FutureWarning)\n",
            "/usr/local/lib/python3.6/dist-packages/seaborn/distributions.py:2557: FutureWarning: `distplot` is a deprecated function and will be removed in a future version. Please adapt your code to use either `displot` (a figure-level function with similar flexibility) or `kdeplot` (an axes-level function for kernel density plots).\n",
            "  warnings.warn(msg, FutureWarning)\n",
            "/usr/local/lib/python3.6/dist-packages/seaborn/distributions.py:2557: FutureWarning: `distplot` is a deprecated function and will be removed in a future version. Please adapt your code to use either `displot` (a figure-level function with similar flexibility) or `kdeplot` (an axes-level function for kernel density plots).\n",
            "  warnings.warn(msg, FutureWarning)\n"
          ],
          "name": "stderr"
        },
        {
          "output_type": "display_data",
          "data": {
            "image/png": "[encoded data removed]",
            "text/plain": [
              "<Figure size 432x288 with 1 Axes>"
            ]
          },
          "metadata": {
            "tags": [],
            "needs_background": "light"
          }
        }
      ]
    },
    {
      "cell_type": "code",
      "metadata": {
        "colab": {
          "base_uri": "https://localhost:8080/",
          "height": 402
        },
        "id": "Ym4djJY_a3Ez",
        "outputId": "683dd59e-e02b-4ac7-846e-2973d36d726c"
      },
      "source": [
        "movie_community_rating_df[movie_community_rating_df['community']==5]"
      ],
      "execution_count": null,
      "outputs": [
        {
          "output_type": "execute_result",
          "data": {
            "text/html": [
              "<div>\n",
              "<style scoped>\n",
              "    .dataframe tbody tr th:only-of-type {\n",
              "        vertical-align: middle;\n",
              "    }\n",
              "\n",
              "    .dataframe tbody tr th {\n",
              "        vertical-align: top;\n",
              "    }\n",
              "\n",
              "    .dataframe thead th {\n",
              "        text-align: right;\n",
              "    }\n",
              "</style>\n",
              "<table border=\"1\" class=\"dataframe\">\n",
              "  <thead>\n",
              "    <tr style=\"text-align: right;\">\n",
              "      <th></th>\n",
              "      <th>community</th>\n",
              "      <th>id</th>\n",
              "      <th>average_ml_rating</th>\n",
              "      <th>n_ratings</th>\n",
              "      <th>graph_idx</th>\n",
              "    </tr>\n",
              "  </thead>\n",
              "  <tbody>\n",
              "    <tr>\n",
              "      <th>0</th>\n",
              "      <td>5</td>\n",
              "      <td>1</td>\n",
              "      <td>3.888157</td>\n",
              "      <td>66008</td>\n",
              "      <td>0</td>\n",
              "    </tr>\n",
              "    <tr>\n",
              "      <th>1</th>\n",
              "      <td>5</td>\n",
              "      <td>36</td>\n",
              "      <td>3.931582</td>\n",
              "      <td>23751</td>\n",
              "      <td>5</td>\n",
              "    </tr>\n",
              "    <tr>\n",
              "      <th>2</th>\n",
              "      <td>5</td>\n",
              "      <td>47</td>\n",
              "      <td>4.068128</td>\n",
              "      <td>52658</td>\n",
              "      <td>8</td>\n",
              "    </tr>\n",
              "    <tr>\n",
              "      <th>3</th>\n",
              "      <td>5</td>\n",
              "      <td>50</td>\n",
              "      <td>4.300189</td>\n",
              "      <td>59271</td>\n",
              "      <td>10</td>\n",
              "    </tr>\n",
              "    <tr>\n",
              "      <th>4</th>\n",
              "      <td>5</td>\n",
              "      <td>58</td>\n",
              "      <td>3.965011</td>\n",
              "      <td>13347</td>\n",
              "      <td>14</td>\n",
              "    </tr>\n",
              "    <tr>\n",
              "      <th>...</th>\n",
              "      <td>...</td>\n",
              "      <td>...</td>\n",
              "      <td>...</td>\n",
              "      <td>...</td>\n",
              "      <td>...</td>\n",
              "    </tr>\n",
              "    <tr>\n",
              "      <th>123</th>\n",
              "      <td>5</td>\n",
              "      <td>106782</td>\n",
              "      <td>3.858644</td>\n",
              "      <td>11517</td>\n",
              "      <td>9676</td>\n",
              "    </tr>\n",
              "    <tr>\n",
              "      <th>124</th>\n",
              "      <td>5</td>\n",
              "      <td>112552</td>\n",
              "      <td>4.120284</td>\n",
              "      <td>8455</td>\n",
              "      <td>10116</td>\n",
              "    </tr>\n",
              "    <tr>\n",
              "      <th>125</th>\n",
              "      <td>5</td>\n",
              "      <td>112556</td>\n",
              "      <td>3.932529</td>\n",
              "      <td>10649</td>\n",
              "      <td>10117</td>\n",
              "    </tr>\n",
              "    <tr>\n",
              "      <th>126</th>\n",
              "      <td>5</td>\n",
              "      <td>122882</td>\n",
              "      <td>3.829349</td>\n",
              "      <td>10457</td>\n",
              "      <td>10714</td>\n",
              "    </tr>\n",
              "    <tr>\n",
              "      <th>127</th>\n",
              "      <td>5</td>\n",
              "      <td>161582</td>\n",
              "      <td>3.886400</td>\n",
              "      <td>1250</td>\n",
              "      <td>12905</td>\n",
              "    </tr>\n",
              "  </tbody>\n",
              "</table>\n",
              "<p>128 rows × 5 columns</p>\n",
              "</div>"
            ],
            "text/plain": [
              "     community      id  average_ml_rating  n_ratings  graph_idx\n",
              "0            5       1           3.888157      66008          0\n",
              "1            5      36           3.931582      23751          5\n",
              "2            5      47           4.068128      52658          8\n",
              "3            5      50           4.300189      59271         10\n",
              "4            5      58           3.965011      13347         14\n",
              "..         ...     ...                ...        ...        ...\n",
              "123          5  106782           3.858644      11517       9676\n",
              "124          5  112552           4.120284       8455      10116\n",
              "125          5  112556           3.932529      10649      10117\n",
              "126          5  122882           3.829349      10457      10714\n",
              "127          5  161582           3.886400       1250      12905\n",
              "\n",
              "[128 rows x 5 columns]"
            ]
          },
          "metadata": {
            "tags": []
          },
          "execution_count": 47
        }
      ]
    },
    {
      "cell_type": "markdown",
      "source": [
        "# Summary of findings from basic EDA"
      ],
      "metadata": {
        "id": "vV-4U63sYW7X"
      }
    },
    {
      "cell_type": "markdown",
      "source": [
        "<img src=\"https://drive.google.com/uc?export=view&id=1ISJnsMQmmbFUsI_jEvMWHVvPIPYkAD_O\"></img>"
      ],
      "metadata": {
        "id": "dB7OameXYmFi"
      }
    },
    {
      "cell_type": "markdown",
      "source": [
        "<img src=\"https://drive.google.com/uc?export=view&id=1fXDIKyb6z0kKp60DgNNXLwaRs2jDtBiC\"></img>"
      ],
      "metadata": {
        "id": "_reqdmnwo37U"
      }
    },
    {
      "cell_type": "markdown",
      "source": [
        "## 2.4 Meta Data Analysis / Driving Factor Analysis (Flower Plot)"
      ],
      "metadata": {
        "id": "gm8jrVfQdrcO"
      }
    },
    {
      "cell_type": "code",
      "metadata": {
        "id": "t0QYtyLV5Iym"
      },
      "source": [
        "def community_top_movies(G, com_df, n_movies=30):\n",
        "    top_movies = {}\n",
        "    for g in com_df.groupby('community'):\n",
        "        g_ixs = g[1]['graph_idx'].values\n",
        "        items = sorted(nx.pagerank(G.subgraph(g_ixs)).items(), key=lambda x: x[1], reverse=True)[:n_movies]\n",
        "        items = [i[0] for i in items]\n",
        "        top_movies[g[0]] = items\n",
        "    return top_movies\n",
        "\n",
        "def get_in_format_viz(row):\n",
        "    imdb_rating = row['imdb_id']\n",
        "    community = row['community']\n",
        "    genres = \", \".join([g['name'] for g in row['genres']])\n",
        "    title = row['title']\n",
        "    average_ml_rating = row['average_ml_rating']\n",
        "    n_ratings = row['n_ratings']\n",
        "    rel_year = row['release_year']\n",
        "    if rel_year<1990:\n",
        "        rel_year = \"<1990\"\n",
        "    elif rel_year<2000:\n",
        "        rel_year = \"1990-1999\"\n",
        "    elif rel_year<2010:\n",
        "        rel_year = \"2000-2009\"\n",
        "    else:\n",
        "        rel_year = \"2010-2020\"\n",
        "\n",
        "    key = imdb_rating\n",
        "    value = {\n",
        "        \"Title\":str(title),\n",
        "        \"Year\":str(community),\n",
        "        #\"Rated\": np.random.choice([\"PG-13\",\"PG\",\"R\", \"G\"]),\n",
        "        \"Rated\":rel_year,\n",
        "        \"Genre\":genres,\n",
        "        \"imdbRating\":str(np.round(average_ml_rating,2)),\n",
        "        \"imdbVotes\":str(n_ratings)\n",
        "    }\n",
        "    return key, value"
      ],
      "execution_count": null,
      "outputs": []
    },
    {
      "cell_type": "code",
      "metadata": {
        "id": "-wHwmziIkPr6"
      },
      "source": [
        "#g_ixs = movie_community_rating_df[movie_community_rating_df['community']==5]['graph_idx'].values\n",
        "link_df = pd.read_csv('/content/drive/MyDrive/movies_big/emb/links.csv')\n",
        "movie_community_rating_df=movie_community_rating_df.merge(link_df, left_on='id', right_on='movieId')\n",
        "top_movies = community_top_movies(G, movie_community_rating_df)\n",
        "# import json\n",
        "# with open(f_name+'/json_res/top_movies.json', 'w') as f:\n",
        "#     json.dump({k: list(map(int, v)) for k,v in top_movies.items()}, f)\n",
        "\n",
        "\n",
        "# Preparing data from flower plot\n",
        "top_movies_df=pd.DataFrame({\n",
        "    'community':list(top_movies.keys()),\n",
        "    'graph_idx':list(top_movies.values())\n",
        "}).explode('graph_idx')\n",
        "\n",
        "top_movies_df = top_movies_df.merge(movie_community_rating_df)\n",
        "#top_movies_df.to_csv(\"/content/drive/MyDrive/movies_big/emb/json_res/top_movies_cols.df\", index=False)\n",
        "meta_movies = pd.read_csv(\"/content/drive/MyDrive/movies_big/emb/movies_metadata.csv\")\n",
        "\n",
        "meta_movies.drop_duplicates(subset=['id'], inplace=True)\n",
        "meta_movies['genres'] = meta_movies['genres'].apply(lambda x: eval(x))\n",
        "meta_movies.dropna(subset=['title'], inplace=True)\n",
        "meta_movies.dropna(subset=['imdb_id'], inplace=True)\n",
        "meta_movies['imdbId']=meta_movies['imdb_id'].apply(lambda x: int(x.replace(\"tt\", \"\")))\n",
        "\n",
        "meta_movies['id'] = meta_movies['id'].astype(int)\n",
        "\n",
        "top_movies_df = top_movies_df.merge(meta_movies, how='inner', left_on='imdbId', right_on='imdbId')\n",
        "top_movies_df['release_year'] = top_movies_df['release_date'].apply(lambda x: int(x.split(\"-\")[0]))"
      ],
      "execution_count": null,
      "outputs": []
    },
    {
      "cell_type": "code",
      "metadata": {
        "id": "lXeMwV1QJFgJ"
      },
      "source": [
        "# movies_top = {}\n",
        "# for idx, row in top_movies_df.iterrows():\n",
        "#     key, val = get_in_format_viz(row)\n",
        "#     movies_top[key]=val\n",
        "\n",
        "# import json\n",
        "# with open(f_name+'/json_res/result_movies_top.json', 'w') as f:\n",
        "#     json.dump(movies_top, f)"
      ],
      "execution_count": null,
      "outputs": []
    },
    {
      "cell_type": "code",
      "metadata": {
        "id": "_JL8yQRldmuU"
      },
      "source": [
        "import json\n",
        "with open(\"/content/drive/MyDrive/movies_big/emb/json_res/top_movies.json\", 'r') as f:\n",
        "    top_movies = json.load(f)"
      ],
      "execution_count": null,
      "outputs": []
    },
    {
      "cell_type": "code",
      "metadata": {
        "colab": {
          "base_uri": "https://localhost:8080/"
        },
        "id": "5wAipIRbKuIS",
        "outputId": "644c9f57-8b3d-4310-b36a-0db3a56a2d88"
      },
      "source": [
        "movies_top = {}\n",
        "for c in top_movies:\n",
        "    graph_idxs = top_movies[c]\n",
        "    # print(c,graph_idxs)\n",
        "    if len(graph_idxs)>10:\n",
        "        idx = 0\n",
        "        for g_idx in graph_idxs:\n",
        "            # print(g_idx)\n",
        "            row = top_movies_df[top_movies_df['graph_idx']==g_idx]\n",
        "            if row.shape[0]!=0:\n",
        "                key, val = get_in_format_viz(row.iloc[0])\n",
        "                # print(key,val)\n",
        "                movies_top[key]=val\n",
        "                idx+=1\n",
        "                if idx==5:\n",
        "                    break\n",
        "            else:\n",
        "                print(\"Error at:\", g_idx)"
      ],
      "execution_count": null,
      "outputs": [
        {
          "output_type": "stream",
          "text": [
            "Error at: 12633\n"
          ],
          "name": "stdout"
        }
      ]
    },
    {
      "cell_type": "code",
      "metadata": {
        "id": "Gg9vsLecYMAP"
      },
      "source": [
        "import json\n",
        "f_name = \"/content/drive/MyDrive/movies_big/emb\"\n",
        "with open(f_name+'/json_res/result_movies_top_2.json', 'w') as f:\n",
        "    json.dump(movies_top, f)"
      ],
      "execution_count": null,
      "outputs": []
    },
    {
      "cell_type": "code",
      "metadata": {
        "id": "nYiUJ7kyXlA-"
      },
      "source": [
        ""
      ],
      "execution_count": null,
      "outputs": []
    },
    {
      "cell_type": "markdown",
      "source": [
        "# Flower plot contrasting movies in movie communities\n",
        "\n",
        "Original json for flowers: https://observablehq.com/@sxywu/5-turn-petals-into-flowers-for-each-movie"
      ],
      "metadata": {
        "id": "6-ig4Qr0gbHs"
      }
    },
    {
      "cell_type": "markdown",
      "source": [
        "<img src=\"https://drive.google.com/uc?export=view&id=1N-iJ5l7LSjx0c6kAXYHZ7_eatcCiuGk7\"></img>"
      ],
      "metadata": {
        "id": "K1-o9ePhgh1w"
      }
    },
    {
      "cell_type": "markdown",
      "source": [
        "<img src=\"https://drive.google.com/uc?export=view&id=1jyxBRCfPrTVobhRn__wmTHK3a8Uk89wk\"></img>"
      ],
      "metadata": {
        "id": "kesbara5g7Z_"
      }
    },
    {
      "cell_type": "code",
      "source": [
        ""
      ],
      "metadata": {
        "id": "kzKjMlD9hCWc"
      },
      "execution_count": null,
      "outputs": []
    }
  ]
}