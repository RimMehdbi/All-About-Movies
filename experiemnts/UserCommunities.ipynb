{
  "nbformat": 4,
  "nbformat_minor": 0,
  "metadata": {
    "colab": {
      "name": "UserCommunities.ipynb",
      "provenance": [],
      "collapsed_sections": []
    },
    "kernelspec": {
      "name": "python3",
      "display_name": "Python 3"
    }
  },
  "cells": [
    {
      "cell_type": "markdown",
      "metadata": {
        "id": "hRKQYX1lcCkv"
      },
      "source": [
        "### NOTEBOOK CONTENTS:\n",
        "\n",
        "1. User Communities detection\n",
        "2. User Communities EDA\n",
        "3. User Communities Deep Dive - insights"
      ]
    },
    {
      "cell_type": "code",
      "metadata": {
        "id": "HgBUk966kdwn"
      },
      "source": [
        "import numpy as np\n",
        "import pandas as pd\n",
        "import matplotlib.pyplot as plt\n",
        "import seaborn as sns\n",
        "import joblib\n",
        "\n",
        "import scipy\n",
        "import networkx as nx\n",
        "from collections import defaultdict\n",
        "from itertools import chain\n",
        "\n",
        "from collections import Counter"
      ],
      "execution_count": null,
      "outputs": []
    },
    {
      "cell_type": "markdown",
      "metadata": {
        "id": "sosMK6gqcLqv"
      },
      "source": [
        "Loading Vectos and stuff"
      ]
    },
    {
      "cell_type": "code",
      "metadata": {
        "id": "6aSufAF5kexj"
      },
      "source": [
        "ratings_df = pd.read_csv(\"/content/drive/MyDrive/movies_big/emb/ratings.csv\")"
      ],
      "execution_count": null,
      "outputs": []
    },
    {
      "cell_type": "code",
      "metadata": {
        "id": "mCfSZdG3lOU9"
      },
      "source": [
        "## Keeping only those users who have given more than 5 ratings and less than 200 \n",
        "uids, f = np.unique(ratings_df['userId'], return_counts=True)\n",
        "p = f/sum(f)\n",
        "np.min(f), np.max(f), np.median(f), np.mean(f)#np.min(f), np.max(f), np.median(f), np.mean(f)\n",
        "uids = uids[(f<200) & (f>5)]\n",
        "f = f[(f<200) & (f>5)]\n",
        "final_uids = np.random.choice(uids, p=f/sum(f), size=30000, replace=False)"
      ],
      "execution_count": null,
      "outputs": []
    },
    {
      "cell_type": "code",
      "metadata": {
        "colab": {
          "base_uri": "https://localhost:8080/"
        },
        "id": "g8B011DVvI2Z",
        "outputId": "ef7779af-4a56-4157-f295-63012d645806"
      },
      "source": [
        "len(np.unique(final_uids))"
      ],
      "execution_count": null,
      "outputs": [
        {
          "output_type": "execute_result",
          "data": {
            "text/plain": [
              "30000"
            ]
          },
          "metadata": {
            "tags": []
          },
          "execution_count": 11
        }
      ]
    },
    {
      "cell_type": "code",
      "metadata": {
        "id": "r1gfBr161ge8"
      },
      "source": [
        "import pickle\n",
        "f_name = \"/content/drive/MyDrive/movies_big/emb\"\n",
        "def load_embeddings(f_name):\n",
        "    with open(f_name+'/u_mat.pkl','rb') as f:\n",
        "                u_mat = pickle.load(f)\n",
        "    with open(f_name+'/m_mat.pkl','rb') as f:\n",
        "                m_mat = pickle.load(f)\n",
        "    with open(f_name+'/m_ids.pkl','rb') as f:\n",
        "                m_ids = pickle.load(f)\n",
        "    with open(f_name+'/u_ids.pkl','rb') as f:\n",
        "                u_ids = pickle.load(f)\n",
        "    return m_mat, m_ids, u_mat, u_ids"
      ],
      "execution_count": null,
      "outputs": []
    },
    {
      "cell_type": "code",
      "metadata": {
        "colab": {
          "base_uri": "https://localhost:8080/"
        },
        "id": "yM866HtM1nly",
        "outputId": "428d8856-a422-4f0c-9cb7-7143099da144"
      },
      "source": [
        "m_mat, m_ids, u_mat, u_ids = load_embeddings(f_name)\n",
        "m_mat.shape, m_ids.shape, u_mat.shape, u_ids.shape\n",
        "sampled_idxs = [idx for idx, uid in enumerate(u_ids) if uid in final_uids]"
      ],
      "execution_count": null,
      "outputs": [
        {
          "output_type": "execute_result",
          "data": {
            "text/plain": [
              "((43350, 600), (43350,), (269696, 600), (269696,))"
            ]
          },
          "metadata": {
            "tags": []
          },
          "execution_count": 3
        }
      ]
    },
    {
      "cell_type": "markdown",
      "metadata": {
        "id": "aENgnQ_dcQGP"
      },
      "source": [
        "## 1. Creating Graph / Network of users"
      ]
    },
    {
      "cell_type": "code",
      "metadata": {
        "id": "Vr1KWw6Q5O1v"
      },
      "source": [
        "from sklearn import metrics\n",
        "def create_weighted_adjacency_mat(mat, thresh):\n",
        "    mat[mat<thresh]=0\n",
        "    return mat"
      ],
      "execution_count": null,
      "outputs": []
    },
    {
      "cell_type": "code",
      "metadata": {
        "id": "RQZhHpSJ8aPw"
      },
      "source": [
        "## Building graph of users\n",
        "u_ids = u_ids[sampled_idxs]\n",
        "u_mat = u_mat[sampled_idxs]\n",
        "u_sim = metrics.pairwise.cosine_similarity(u_mat)\n",
        "\n",
        "u_sim = create_weighted_adjacency_mat(u_sim, 0.8)\n",
        "np.fill_diagonal(u_sim, 0)\n",
        "\n",
        "r_keep_idxs = ~np.all(u_sim == 0, axis=1)\n",
        "c_keep_idxs = ~np.all(u_sim.T == 0, axis=1)\n",
        "print(\"Sanity: \", np.all(r_keep_idxs == c_keep_idxs))\n",
        "\n",
        "u_sim = scipy.sparse.csr_matrix(u_sim)\n",
        "u_sim = u_sim[r_keep_idxs]\n",
        "u_sim = u_sim.T[c_keep_idxs].T"
      ],
      "execution_count": null,
      "outputs": []
    },
    {
      "cell_type": "markdown",
      "metadata": {
        "id": "BPPa4gq9cXXr"
      },
      "source": [
        "## 2. Community Detection"
      ]
    },
    {
      "cell_type": "code",
      "metadata": {
        "colab": {
          "base_uri": "https://localhost:8080/"
        },
        "id": "pVQnXt9iAz4v",
        "outputId": "dc328ff0-b77f-4162-90dc-b38cb206896c"
      },
      "source": [
        "G = nx.convert_matrix.from_scipy_sparse_matrix(u_sim)\n",
        "partition = community_louvain.best_partition(G, weight='weight')\n",
        "## Modularity metric score\n",
        "keep_u_ids = u_ids[r_keep_idxs]\n",
        "community_louvain.modularity(partition, G, weight='weight')"
      ],
      "execution_count": null,
      "outputs": [
        {
          "output_type": "execute_result",
          "data": {
            "text/plain": [
              "0.34374850116304256"
            ]
          },
          "metadata": {
            "tags": []
          },
          "execution_count": 23
        }
      ]
    },
    {
      "cell_type": "code",
      "metadata": {
        "colab": {
          "base_uri": "https://localhost:8080/"
        },
        "id": "ZaTeIkCA-Org",
        "outputId": "c3e2ae7b-b0d4-4061-b87f-7ca7a1297b2a"
      },
      "source": [
        "## Number of communities\n",
        "np.unique(list(partition.values()))"
      ],
      "execution_count": null,
      "outputs": [
        {
          "output_type": "execute_result",
          "data": {
            "text/plain": [
              "array([ 0,  1,  2,  3,  4,  5,  6,  7,  8,  9, 10, 11, 12, 13, 14, 15, 16,\n",
              "       17, 18, 19, 20, 21, 22, 23, 24, 25])"
            ]
          },
          "metadata": {
            "tags": []
          },
          "execution_count": 31
        }
      ]
    },
    {
      "cell_type": "markdown",
      "metadata": {
        "id": "CEIN4PDMcrNM"
      },
      "source": [
        "## 3. User Communities EDA"
      ]
    },
    {
      "cell_type": "code",
      "metadata": {
        "colab": {
          "base_uri": "https://localhost:8080/"
        },
        "id": "ZFQOr5ssJlak",
        "outputId": "4e0bed47-a542-4974-b3ed-f0a69fa45c88"
      },
      "source": [
        "communitites = defaultdict(list)\n",
        "\n",
        "for key, value in sorted(partition.items()):\n",
        "    communitites[value].append(keep_u_ids[key])\n",
        "## reject outlier communities\n",
        "for i in communitites:\n",
        "    print(i, len(communitites[i]))"
      ],
      "execution_count": null,
      "outputs": [
        {
          "output_type": "stream",
          "text": [
            "0 3025\n",
            "1 5147\n",
            "2 5972\n",
            "4 3902\n",
            "14 2\n",
            "16 2\n",
            "17 3\n",
            "19 2\n",
            "20 3\n",
            "23 2\n",
            "18 6\n",
            "21 3\n",
            "22 5\n",
            "25 2\n",
            "6 2\n",
            "7 3\n",
            "8 3\n",
            "9 2\n",
            "10 2\n",
            "11 2\n",
            "15 2\n",
            "13 3\n",
            "24 2\n",
            "12 3\n",
            "3 2\n",
            "5 2\n"
          ],
          "name": "stdout"
        }
      ]
    },
    {
      "cell_type": "code",
      "metadata": {
        "id": "ajw7gXLIM6rL"
      },
      "source": [
        "## Preparing and processing data for distribution plots\n",
        "user_community_df = pd.DataFrame({'community':communitites.keys(),\n",
        "              'user_id':communitites.values()\n",
        "              })\n",
        "\n",
        "user_community_df = user_community_df.explode('user_id')\n",
        "user_community_df = user_community_df.merge(ratings_df[['userId', 'movieId', 'rating']], left_on='user_id', right_on='userId')\n",
        "user_community_df = pd.DataFrame(user_community_df.groupby('user_id').agg({'community': lambda x: x.tolist()[0],\n",
        "                                          'movieId': lambda x: x.tolist(),\n",
        "                                          'rating': lambda x: x.tolist()}).rename({\n",
        "                                              'movieId':'movie_list',\n",
        "                                              'rating':'rating_list'\n",
        "                                          }, axis=1).reset_index())\n",
        "user_community_df.to_csv(\"/content/drive/MyDrive/movies_big/users/user_community_df.csv\", index=False)"
      ],
      "execution_count": null,
      "outputs": []
    },
    {
      "cell_type": "code",
      "metadata": {
        "colab": {
          "base_uri": "https://localhost:8080/",
          "height": 77
        },
        "id": "S0VRqF6YVdWs",
        "outputId": "b94ef685-c9d9-4163-d18d-2405990a4ff2"
      },
      "source": [
        "user_community_df.head(1)"
      ],
      "execution_count": null,
      "outputs": [
        {
          "output_type": "execute_result",
          "data": {
            "text/html": [
              "<div>\n",
              "<style scoped>\n",
              "    .dataframe tbody tr th:only-of-type {\n",
              "        vertical-align: middle;\n",
              "    }\n",
              "\n",
              "    .dataframe tbody tr th {\n",
              "        vertical-align: top;\n",
              "    }\n",
              "\n",
              "    .dataframe thead th {\n",
              "        text-align: right;\n",
              "    }\n",
              "</style>\n",
              "<table border=\"1\" class=\"dataframe\">\n",
              "  <thead>\n",
              "    <tr style=\"text-align: right;\">\n",
              "      <th></th>\n",
              "      <th>user_id</th>\n",
              "      <th>community</th>\n",
              "      <th>movie_list</th>\n",
              "      <th>rating_list</th>\n",
              "    </tr>\n",
              "  </thead>\n",
              "  <tbody>\n",
              "    <tr>\n",
              "      <th>0</th>\n",
              "      <td>16</td>\n",
              "      <td>0</td>\n",
              "      <td>[32, 50, 111, 198, 260, 296, 316, 318, 380, 48...</td>\n",
              "      <td>[4.5, 5.0, 5.0, 4.5, 3.5, 5.0, 3.5, 5.0, 4.0, ...</td>\n",
              "    </tr>\n",
              "  </tbody>\n",
              "</table>\n",
              "</div>"
            ],
            "text/plain": [
              "   user_id  ...                                        rating_list\n",
              "0       16  ...  [4.5, 5.0, 5.0, 4.5, 3.5, 5.0, 3.5, 5.0, 4.0, ...\n",
              "\n",
              "[1 rows x 4 columns]"
            ]
          },
          "metadata": {
            "tags": []
          },
          "execution_count": 65
        }
      ]
    },
    {
      "cell_type": "code",
      "metadata": {
        "id": "xACihYxfP-Ku"
      },
      "source": [
        "community_df = pd.DataFrame(user_community_df.groupby('community').agg({\n",
        "    'user_id': lambda x: list(x),\n",
        "    'movie_list': lambda x: list(chain.from_iterable(x)),\n",
        "    'rating_list': lambda x: list(chain.from_iterable(x))\n",
        "}).reset_index())"
      ],
      "execution_count": null,
      "outputs": []
    },
    {
      "cell_type": "code",
      "metadata": {
        "colab": {
          "base_uri": "https://localhost:8080/",
          "height": 77
        },
        "id": "8iMrQSIBdl1y",
        "outputId": "cd4ad73b-f90f-478f-b0a8-adca3f4ac9fe"
      },
      "source": [
        "community_df.head(1)"
      ],
      "execution_count": null,
      "outputs": [
        {
          "output_type": "execute_result",
          "data": {
            "text/html": [
              "<div>\n",
              "<style scoped>\n",
              "    .dataframe tbody tr th:only-of-type {\n",
              "        vertical-align: middle;\n",
              "    }\n",
              "\n",
              "    .dataframe tbody tr th {\n",
              "        vertical-align: top;\n",
              "    }\n",
              "\n",
              "    .dataframe thead th {\n",
              "        text-align: right;\n",
              "    }\n",
              "</style>\n",
              "<table border=\"1\" class=\"dataframe\">\n",
              "  <thead>\n",
              "    <tr style=\"text-align: right;\">\n",
              "      <th></th>\n",
              "      <th>community</th>\n",
              "      <th>user_id</th>\n",
              "      <th>movie_list</th>\n",
              "      <th>rating_list</th>\n",
              "    </tr>\n",
              "  </thead>\n",
              "  <tbody>\n",
              "    <tr>\n",
              "      <th>0</th>\n",
              "      <td>0</td>\n",
              "      <td>[16, 55, 89, 227, 273, 451, 471, 495, 517, 619...</td>\n",
              "      <td>[32, 50, 111, 198, 260, 296, 316, 318, 380, 48...</td>\n",
              "      <td>[4.5, 5.0, 5.0, 4.5, 3.5, 5.0, 3.5, 5.0, 4.0, ...</td>\n",
              "    </tr>\n",
              "  </tbody>\n",
              "</table>\n",
              "</div>"
            ],
            "text/plain": [
              "   community  ...                                        rating_list\n",
              "0          0  ...  [4.5, 5.0, 5.0, 4.5, 3.5, 5.0, 3.5, 5.0, 4.0, ...\n",
              "\n",
              "[1 rows x 4 columns]"
            ]
          },
          "metadata": {
            "tags": []
          },
          "execution_count": 76
        }
      ]
    },
    {
      "cell_type": "code",
      "metadata": {
        "colab": {
          "base_uri": "https://localhost:8080/",
          "height": 419
        },
        "id": "Gerr1A0DVJRc",
        "outputId": "d185527e-05f0-4ce2-841f-d60454e7634f"
      },
      "source": [
        "## Plot distributions\n",
        "for _,row in community_df.iterrows():\n",
        "    com = row['community']\n",
        "    if com in [0,1,2,4]:\n",
        "        ratings = row['rating_list']\n",
        "        sns.distplot(ratings, hist=False, label=com)\n",
        "        plt.legend()\n",
        "        plt.plot()"
      ],
      "execution_count": null,
      "outputs": [
        {
          "output_type": "stream",
          "text": [
            "/usr/local/lib/python3.7/dist-packages/seaborn/distributions.py:2557: FutureWarning: `distplot` is a deprecated function and will be removed in a future version. Please adapt your code to use either `displot` (a figure-level function with similar flexibility) or `kdeplot` (an axes-level function for kernel density plots).\n",
            "  warnings.warn(msg, FutureWarning)\n",
            "/usr/local/lib/python3.7/dist-packages/seaborn/distributions.py:2557: FutureWarning: `distplot` is a deprecated function and will be removed in a future version. Please adapt your code to use either `displot` (a figure-level function with similar flexibility) or `kdeplot` (an axes-level function for kernel density plots).\n",
            "  warnings.warn(msg, FutureWarning)\n",
            "/usr/local/lib/python3.7/dist-packages/seaborn/distributions.py:2557: FutureWarning: `distplot` is a deprecated function and will be removed in a future version. Please adapt your code to use either `displot` (a figure-level function with similar flexibility) or `kdeplot` (an axes-level function for kernel density plots).\n",
            "  warnings.warn(msg, FutureWarning)\n",
            "/usr/local/lib/python3.7/dist-packages/seaborn/distributions.py:2557: FutureWarning: `distplot` is a deprecated function and will be removed in a future version. Please adapt your code to use either `displot` (a figure-level function with similar flexibility) or `kdeplot` (an axes-level function for kernel density plots).\n",
            "  warnings.warn(msg, FutureWarning)\n"
          ],
          "name": "stderr"
        },
        {
          "output_type": "display_data",
          "data": {
            "image/png": "[encoded data removed]",
            "text/plain": [
              "<Figure size 432x288 with 1 Axes>"
            ]
          },
          "metadata": {
            "tags": [],
            "needs_background": "light"
          }
        }
      ]
    },
    {
      "cell_type": "code",
      "metadata": {
        "colab": {
          "base_uri": "https://localhost:8080/",
          "height": 77
        },
        "id": "B9O-Ep8pPHYD",
        "outputId": "5e8ee3e5-28c7-4d16-b8e6-e2d597596b38"
      },
      "source": [
        "user_community_df['rating_list'] = user_community_df['rating_list'].apply(lambda x: eval(x))\n",
        "user_community_df['movie_list']=user_community_df['movie_list'].apply(lambda x: eval(x))\n",
        "user_community_df['avg_user_ratings'] = user_community_df['rating_list'].apply(lambda x: np.mean(x))\n",
        "user_community_df.head(1)"
      ],
      "execution_count": null,
      "outputs": [
        {
          "output_type": "execute_result",
          "data": {
            "text/html": [
              "<div>\n",
              "<style scoped>\n",
              "    .dataframe tbody tr th:only-of-type {\n",
              "        vertical-align: middle;\n",
              "    }\n",
              "\n",
              "    .dataframe tbody tr th {\n",
              "        vertical-align: top;\n",
              "    }\n",
              "\n",
              "    .dataframe thead th {\n",
              "        text-align: right;\n",
              "    }\n",
              "</style>\n",
              "<table border=\"1\" class=\"dataframe\">\n",
              "  <thead>\n",
              "    <tr style=\"text-align: right;\">\n",
              "      <th></th>\n",
              "      <th>user_id</th>\n",
              "      <th>community</th>\n",
              "      <th>movie_list</th>\n",
              "      <th>rating_list</th>\n",
              "      <th>avg_user_ratings</th>\n",
              "    </tr>\n",
              "  </thead>\n",
              "  <tbody>\n",
              "    <tr>\n",
              "      <th>0</th>\n",
              "      <td>16</td>\n",
              "      <td>0</td>\n",
              "      <td>[32, 50, 111, 198, 260, 296, 316, 318, 380, 48...</td>\n",
              "      <td>[4.5, 5.0, 5.0, 4.5, 3.5, 5.0, 3.5, 5.0, 4.0, ...</td>\n",
              "      <td>4.417582</td>\n",
              "    </tr>\n",
              "  </tbody>\n",
              "</table>\n",
              "</div>"
            ],
            "text/plain": [
              "   user_id  ...  avg_user_ratings\n",
              "0       16  ...          4.417582\n",
              "\n",
              "[1 rows x 5 columns]"
            ]
          },
          "metadata": {
            "tags": []
          },
          "execution_count": 18
        }
      ]
    },
    {
      "cell_type": "code",
      "metadata": {
        "id": "2fuMEdVEPHbj"
      },
      "source": [
        "from itertools import chain\n",
        "community_df = pd.DataFrame(user_community_df.groupby('community').agg({\n",
        "    'user_id': lambda x: list(x),\n",
        "    'movie_list': lambda x: list(chain.from_iterable(x)),\n",
        "    'rating_list': lambda x: list(chain.from_iterable(x)),\n",
        "    'avg_user_ratings': lambda x: list(x.values)\n",
        "}).reset_index())"
      ],
      "execution_count": null,
      "outputs": []
    },
    {
      "cell_type": "code",
      "metadata": {
        "colab": {
          "base_uri": "https://localhost:8080/",
          "height": 77
        },
        "id": "mTpcyf73QcU2",
        "outputId": "9534108c-869a-45c6-bdf1-d0de098e4d68"
      },
      "source": [
        "community_df.head(1)"
      ],
      "execution_count": null,
      "outputs": [
        {
          "output_type": "execute_result",
          "data": {
            "text/html": [
              "<div>\n",
              "<style scoped>\n",
              "    .dataframe tbody tr th:only-of-type {\n",
              "        vertical-align: middle;\n",
              "    }\n",
              "\n",
              "    .dataframe tbody tr th {\n",
              "        vertical-align: top;\n",
              "    }\n",
              "\n",
              "    .dataframe thead th {\n",
              "        text-align: right;\n",
              "    }\n",
              "</style>\n",
              "<table border=\"1\" class=\"dataframe\">\n",
              "  <thead>\n",
              "    <tr style=\"text-align: right;\">\n",
              "      <th></th>\n",
              "      <th>community</th>\n",
              "      <th>user_id</th>\n",
              "      <th>movie_list</th>\n",
              "      <th>rating_list</th>\n",
              "      <th>avg_user_ratings</th>\n",
              "    </tr>\n",
              "  </thead>\n",
              "  <tbody>\n",
              "    <tr>\n",
              "      <th>0</th>\n",
              "      <td>0</td>\n",
              "      <td>[16, 55, 89, 227, 273, 451, 471, 495, 517, 619...</td>\n",
              "      <td>[32, 50, 111, 198, 260, 296, 316, 318, 380, 48...</td>\n",
              "      <td>[4.5, 5.0, 5.0, 4.5, 3.5, 5.0, 3.5, 5.0, 4.0, ...</td>\n",
              "      <td>[4.417582417582418, 4.443609022556391, 4.2, 3....</td>\n",
              "    </tr>\n",
              "  </tbody>\n",
              "</table>\n",
              "</div>"
            ],
            "text/plain": [
              "   community  ...                                   avg_user_ratings\n",
              "0          0  ...  [4.417582417582418, 4.443609022556391, 4.2, 3....\n",
              "\n",
              "[1 rows x 5 columns]"
            ]
          },
          "metadata": {
            "tags": []
          },
          "execution_count": 30
        }
      ]
    },
    {
      "cell_type": "code",
      "metadata": {
        "colab": {
          "base_uri": "https://localhost:8080/",
          "height": 434
        },
        "id": "aD0p2MSgQcZR",
        "outputId": "83afd42a-5da6-489e-af7c-5315d94de206"
      },
      "source": [
        "for _,row in community_df.iterrows():\n",
        "    com = row['community']\n",
        "    if com in [0,1,2,4]:\n",
        "        ratings = row['avg_user_ratings']\n",
        "        sns.distplot(ratings, hist=False, label=com)\n",
        "        plt.legend()\n",
        "        plt.xlabel(\"Average User Rating\")\n",
        "        plt.plot()"
      ],
      "execution_count": null,
      "outputs": [
        {
          "output_type": "stream",
          "text": [
            "/usr/local/lib/python3.7/dist-packages/seaborn/distributions.py:2557: FutureWarning: `distplot` is a deprecated function and will be removed in a future version. Please adapt your code to use either `displot` (a figure-level function with similar flexibility) or `kdeplot` (an axes-level function for kernel density plots).\n",
            "  warnings.warn(msg, FutureWarning)\n",
            "/usr/local/lib/python3.7/dist-packages/seaborn/distributions.py:2557: FutureWarning: `distplot` is a deprecated function and will be removed in a future version. Please adapt your code to use either `displot` (a figure-level function with similar flexibility) or `kdeplot` (an axes-level function for kernel density plots).\n",
            "  warnings.warn(msg, FutureWarning)\n",
            "/usr/local/lib/python3.7/dist-packages/seaborn/distributions.py:2557: FutureWarning: `distplot` is a deprecated function and will be removed in a future version. Please adapt your code to use either `displot` (a figure-level function with similar flexibility) or `kdeplot` (an axes-level function for kernel density plots).\n",
            "  warnings.warn(msg, FutureWarning)\n",
            "/usr/local/lib/python3.7/dist-packages/seaborn/distributions.py:2557: FutureWarning: `distplot` is a deprecated function and will be removed in a future version. Please adapt your code to use either `displot` (a figure-level function with similar flexibility) or `kdeplot` (an axes-level function for kernel density plots).\n",
            "  warnings.warn(msg, FutureWarning)\n"
          ],
          "name": "stderr"
        },
        {
          "output_type": "display_data",
          "data": {
            "image/png": "[encoded data removed]",
            "text/plain": [
              "<Figure size 432x288 with 1 Axes>"
            ]
          },
          "metadata": {
            "tags": [],
            "needs_background": "light"
          }
        }
      ]
    },
    {
      "cell_type": "code",
      "metadata": {
        "colab": {
          "base_uri": "https://localhost:8080/",
          "height": 77
        },
        "id": "9wwjYepifWpL",
        "outputId": "2a75cd30-d4f8-4b35-def4-8f38cf4e8f42"
      },
      "source": [
        "ratings_df.head(1)"
      ],
      "execution_count": null,
      "outputs": [
        {
          "output_type": "execute_result",
          "data": {
            "text/html": [
              "<div>\n",
              "<style scoped>\n",
              "    .dataframe tbody tr th:only-of-type {\n",
              "        vertical-align: middle;\n",
              "    }\n",
              "\n",
              "    .dataframe tbody tr th {\n",
              "        vertical-align: top;\n",
              "    }\n",
              "\n",
              "    .dataframe thead th {\n",
              "        text-align: right;\n",
              "    }\n",
              "</style>\n",
              "<table border=\"1\" class=\"dataframe\">\n",
              "  <thead>\n",
              "    <tr style=\"text-align: right;\">\n",
              "      <th></th>\n",
              "      <th>Unnamed: 0</th>\n",
              "      <th>userId</th>\n",
              "      <th>movieId</th>\n",
              "      <th>rating</th>\n",
              "      <th>timestamp</th>\n",
              "    </tr>\n",
              "  </thead>\n",
              "  <tbody>\n",
              "    <tr>\n",
              "      <th>0</th>\n",
              "      <td>0</td>\n",
              "      <td>1</td>\n",
              "      <td>110</td>\n",
              "      <td>1.0</td>\n",
              "      <td>1425941529</td>\n",
              "    </tr>\n",
              "  </tbody>\n",
              "</table>\n",
              "</div>"
            ],
            "text/plain": [
              "   Unnamed: 0  userId  movieId  rating   timestamp\n",
              "0           0       1      110     1.0  1425941529"
            ]
          },
          "metadata": {
            "tags": []
          },
          "execution_count": 35
        }
      ]
    },
    {
      "cell_type": "code",
      "metadata": {
        "id": "g9OP2Xf_Qcdd"
      },
      "source": [
        "avg_movie_ratings = ratings_df.groupby('movieId').agg(\n",
        "    {'rating':lambda x: np.mean(x.values)}\n",
        ").reset_index()\n",
        "\n",
        "com_movie_df = community_df[['community','movie_list']].explode('movie_list')\n",
        "com_movie_df = com_movie_df.merge(avg_movie_ratings, left_on='movie_list', right_on='movieId')\n",
        "\n",
        "com_movie_df = com_movie_df.groupby('community').agg(\n",
        "    {'rating': lambda x: list(x.values)}\n",
        ").reset_index()"
      ],
      "execution_count": null,
      "outputs": []
    },
    {
      "cell_type": "code",
      "metadata": {
        "colab": {
          "base_uri": "https://localhost:8080/",
          "height": 77
        },
        "id": "-D2PY6JBjKCZ",
        "outputId": "9b5206f9-91b1-40fa-e2ea-0e8945e90c26"
      },
      "source": [
        "com_movie_df.head(1)"
      ],
      "execution_count": null,
      "outputs": [
        {
          "output_type": "execute_result",
          "data": {
            "text/html": [
              "<div>\n",
              "<style scoped>\n",
              "    .dataframe tbody tr th:only-of-type {\n",
              "        vertical-align: middle;\n",
              "    }\n",
              "\n",
              "    .dataframe tbody tr th {\n",
              "        vertical-align: top;\n",
              "    }\n",
              "\n",
              "    .dataframe thead th {\n",
              "        text-align: right;\n",
              "    }\n",
              "</style>\n",
              "<table border=\"1\" class=\"dataframe\">\n",
              "  <thead>\n",
              "    <tr style=\"text-align: right;\">\n",
              "      <th></th>\n",
              "      <th>community</th>\n",
              "      <th>rating</th>\n",
              "    </tr>\n",
              "  </thead>\n",
              "  <tbody>\n",
              "    <tr>\n",
              "      <th>0</th>\n",
              "      <td>0</td>\n",
              "      <td>[3.888769242293719, 3.888769242293719, 3.88876...</td>\n",
              "    </tr>\n",
              "  </tbody>\n",
              "</table>\n",
              "</div>"
            ],
            "text/plain": [
              "   community                                             rating\n",
              "0          0  [3.888769242293719, 3.888769242293719, 3.88876..."
            ]
          },
          "metadata": {
            "tags": []
          },
          "execution_count": 69
        }
      ]
    },
    {
      "cell_type": "code",
      "metadata": {
        "colab": {
          "base_uri": "https://localhost:8080/",
          "height": 434
        },
        "id": "LpXdYqFLfr2V",
        "outputId": "3eee8a02-6370-4f50-c170-394e995738a6"
      },
      "source": [
        "for _,row in com_movie_df.iterrows():\n",
        "    com = row['community']\n",
        "    if com in [0,1,2,4]:\n",
        "        ratings = row['rating']\n",
        "        sns.distplot(ratings, hist=False, label=com)\n",
        "        plt.legend()\n",
        "        plt.xlabel(\"Average Movie Rating\")\n",
        "        plt.plot()"
      ],
      "execution_count": null,
      "outputs": [
        {
          "output_type": "stream",
          "text": [
            "/usr/local/lib/python3.7/dist-packages/seaborn/distributions.py:2557: FutureWarning: `distplot` is a deprecated function and will be removed in a future version. Please adapt your code to use either `displot` (a figure-level function with similar flexibility) or `kdeplot` (an axes-level function for kernel density plots).\n",
            "  warnings.warn(msg, FutureWarning)\n",
            "/usr/local/lib/python3.7/dist-packages/seaborn/distributions.py:2557: FutureWarning: `distplot` is a deprecated function and will be removed in a future version. Please adapt your code to use either `displot` (a figure-level function with similar flexibility) or `kdeplot` (an axes-level function for kernel density plots).\n",
            "  warnings.warn(msg, FutureWarning)\n",
            "/usr/local/lib/python3.7/dist-packages/seaborn/distributions.py:2557: FutureWarning: `distplot` is a deprecated function and will be removed in a future version. Please adapt your code to use either `displot` (a figure-level function with similar flexibility) or `kdeplot` (an axes-level function for kernel density plots).\n",
            "  warnings.warn(msg, FutureWarning)\n",
            "/usr/local/lib/python3.7/dist-packages/seaborn/distributions.py:2557: FutureWarning: `distplot` is a deprecated function and will be removed in a future version. Please adapt your code to use either `displot` (a figure-level function with similar flexibility) or `kdeplot` (an axes-level function for kernel density plots).\n",
            "  warnings.warn(msg, FutureWarning)\n"
          ],
          "name": "stderr"
        },
        {
          "output_type": "display_data",
          "data": {
            "image/png": "[encoded data removed]",
            "text/plain": [
              "<Figure size 432x288 with 1 Axes>"
            ]
          },
          "metadata": {
            "tags": [],
            "needs_background": "light"
          }
        }
      ]
    },
    {
      "cell_type": "markdown",
      "metadata": {
        "id": "EohwvmiHmvyL"
      },
      "source": [
        "## 4. Meta Data Analysis"
      ]
    },
    {
      "cell_type": "code",
      "metadata": {
        "colab": {
          "base_uri": "https://localhost:8080/"
        },
        "id": "ZxDZfvLTmxxX",
        "outputId": "0643b345-e838-42f2-e5dc-d7dba3e3f81a"
      },
      "source": [
        "m_meta = pd.read_csv(\"/content/drive/MyDrive/movies_big/movies_metadata.csv\")"
      ],
      "execution_count": null,
      "outputs": [
        {
          "output_type": "stream",
          "text": [
            "/usr/local/lib/python3.7/dist-packages/IPython/core/interactiveshell.py:2718: DtypeWarning: Columns (10) have mixed types.Specify dtype option on import or set low_memory=False.\n",
            "  interactivity=interactivity, compiler=compiler, result=result)\n"
          ],
          "name": "stderr"
        }
      ]
    },
    {
      "cell_type": "code",
      "metadata": {
        "id": "odFBAUG8m4l7"
      },
      "source": [
        "m_meta.drop_duplicates(subset=['id'], inplace=True)\n",
        "m_meta['genres'] = m_meta['genres'].apply(lambda x: eval(x))\n",
        "m_meta.dropna(subset=['title'], inplace=True)\n",
        "m_meta['production_companies'] = m_meta['production_companies'].apply(lambda x: eval(x))\n",
        "m_meta['id'] = m_meta['id'].astype(int)\n",
        "m_meta.dropna(subset=['imdb_id'], inplace=True)\n",
        "m_meta['imdbId']=m_meta['imdb_id'].apply(lambda x: int(x.replace(\"tt\", \"\")))\n",
        "m_meta['genre_list'] = m_meta['genres'].apply(lambda x:  [g['name'] for g in x])"
      ],
      "execution_count": null,
      "outputs": []
    },
    {
      "cell_type": "code",
      "metadata": {
        "colab": {
          "base_uri": "https://localhost:8080/",
          "height": 181
        },
        "id": "uPxobpYim_mY",
        "outputId": "46dcb834-cf3e-4790-feb5-28f0361c8bab"
      },
      "source": [
        "m_meta.head(1)"
      ],
      "execution_count": null,
      "outputs": [
        {
          "output_type": "execute_result",
          "data": {
            "text/html": [
              "<div>\n",
              "<style scoped>\n",
              "    .dataframe tbody tr th:only-of-type {\n",
              "        vertical-align: middle;\n",
              "    }\n",
              "\n",
              "    .dataframe tbody tr th {\n",
              "        vertical-align: top;\n",
              "    }\n",
              "\n",
              "    .dataframe thead th {\n",
              "        text-align: right;\n",
              "    }\n",
              "</style>\n",
              "<table border=\"1\" class=\"dataframe\">\n",
              "  <thead>\n",
              "    <tr style=\"text-align: right;\">\n",
              "      <th></th>\n",
              "      <th>adult</th>\n",
              "      <th>belongs_to_collection</th>\n",
              "      <th>budget</th>\n",
              "      <th>genres</th>\n",
              "      <th>homepage</th>\n",
              "      <th>id</th>\n",
              "      <th>imdb_id</th>\n",
              "      <th>original_language</th>\n",
              "      <th>original_title</th>\n",
              "      <th>overview</th>\n",
              "      <th>popularity</th>\n",
              "      <th>poster_path</th>\n",
              "      <th>production_companies</th>\n",
              "      <th>production_countries</th>\n",
              "      <th>release_date</th>\n",
              "      <th>revenue</th>\n",
              "      <th>runtime</th>\n",
              "      <th>spoken_languages</th>\n",
              "      <th>status</th>\n",
              "      <th>tagline</th>\n",
              "      <th>title</th>\n",
              "      <th>video</th>\n",
              "      <th>vote_average</th>\n",
              "      <th>vote_count</th>\n",
              "      <th>imdbId</th>\n",
              "      <th>genre_list</th>\n",
              "    </tr>\n",
              "  </thead>\n",
              "  <tbody>\n",
              "    <tr>\n",
              "      <th>0</th>\n",
              "      <td>False</td>\n",
              "      <td>{'id': 10194, 'name': 'Toy Story Collection', ...</td>\n",
              "      <td>30000000</td>\n",
              "      <td>[{'id': 16, 'name': 'Animation'}, {'id': 35, '...</td>\n",
              "      <td>http://toystory.disney.com/toy-story</td>\n",
              "      <td>862</td>\n",
              "      <td>tt0114709</td>\n",
              "      <td>en</td>\n",
              "      <td>Toy Story</td>\n",
              "      <td>Led by Woody, Andy's toys live happily in his ...</td>\n",
              "      <td>21.9469</td>\n",
              "      <td>/rhIRbceoE9lR4veEXuwCC2wARtG.jpg</td>\n",
              "      <td>[{'name': 'Pixar Animation Studios', 'id': 3}]</td>\n",
              "      <td>[{'iso_3166_1': 'US', 'name': 'United States o...</td>\n",
              "      <td>1995-10-30</td>\n",
              "      <td>373554033.0</td>\n",
              "      <td>81.0</td>\n",
              "      <td>[{'iso_639_1': 'en', 'name': 'English'}]</td>\n",
              "      <td>Released</td>\n",
              "      <td>NaN</td>\n",
              "      <td>Toy Story</td>\n",
              "      <td>False</td>\n",
              "      <td>7.7</td>\n",
              "      <td>5415.0</td>\n",
              "      <td>114709</td>\n",
              "      <td>[Animation, Comedy, Family]</td>\n",
              "    </tr>\n",
              "  </tbody>\n",
              "</table>\n",
              "</div>"
            ],
            "text/plain": [
              "   adult  ...                   genre_list\n",
              "0  False  ...  [Animation, Comedy, Family]\n",
              "\n",
              "[1 rows x 26 columns]"
            ]
          },
          "metadata": {
            "tags": []
          },
          "execution_count": 91
        }
      ]
    },
    {
      "cell_type": "code",
      "metadata": {
        "id": "pMMYZ96srlYS"
      },
      "source": [
        "links_df = pd.read_csv(\"/content/drive/MyDrive/movies_big/emb/links.csv\")\n",
        "temp_df = community_df[['community', 'movie_list']].explode('movie_list')\n",
        "temp_df = temp_df.merge(links_df, left_on='movie_list', right_on='movieId').merge(m_meta[['imdbId','genre_list']], on='imdbId')"
      ],
      "execution_count": null,
      "outputs": []
    },
    {
      "cell_type": "markdown",
      "metadata": {
        "id": "UaTbK04SdBoO"
      },
      "source": [
        "Contribution of genres across movie communities"
      ]
    },
    {
      "cell_type": "code",
      "metadata": {
        "id": "Yf7ZCnypot5C"
      },
      "source": [
        "temp_df = temp_df[['community','genre_list']].groupby('community').agg({\n",
        "    'genre_list': lambda x: Counter(list(chain.from_iterable(x.values)))\n",
        "}).reset_index()"
      ],
      "execution_count": null,
      "outputs": []
    },
    {
      "cell_type": "code",
      "metadata": {
        "colab": {
          "base_uri": "https://localhost:8080/",
          "height": 1000
        },
        "id": "l5nuWubfqXQL",
        "outputId": "8acc63ea-caf3-4555-d4c5-56aab33a3f23"
      },
      "source": [
        "for _,row in temp_df.iterrows():\n",
        "    c = row['community']\n",
        "    \n",
        "    if c in [0,1,2,4]:\n",
        "        print(\"Community: \", c)\n",
        "        temp = row['genre_list'].most_common(10)\n",
        "        plt.bar([t[0] for t in temp], [t[1] for t in temp])\n",
        "        plt.xticks(rotation=45)\n",
        "        plt.show()\n"
      ],
      "execution_count": null,
      "outputs": [
        {
          "output_type": "stream",
          "text": [
            "Community:  0\n"
          ],
          "name": "stdout"
        },
        {
          "output_type": "display_data",
          "data": {
            "image/png": "[encoded data removed]",
            "text/plain": [
              "<Figure size 432x288 with 1 Axes>"
            ]
          },
          "metadata": {
            "tags": [],
            "needs_background": "light"
          }
        },
        {
          "output_type": "stream",
          "text": [
            "Community:  1\n"
          ],
          "name": "stdout"
        },
        {
          "output_type": "display_data",
          "data": {
            "image/png": "[encoded data removed]",
            "text/plain": [
              "<Figure size 432x288 with 1 Axes>"
            ]
          },
          "metadata": {
            "tags": [],
            "needs_background": "light"
          }
        },
        {
          "output_type": "stream",
          "text": [
            "Community:  2\n"
          ],
          "name": "stdout"
        },
        {
          "output_type": "display_data",
          "data": {
            "image/png": "[encoded data removed]",
            "text/plain": [
              "<Figure size 432x288 with 1 Axes>"
            ]
          },
          "metadata": {
            "tags": [],
            "needs_background": "light"
          }
        },
        {
          "output_type": "stream",
          "text": [
            "Community:  4\n"
          ],
          "name": "stdout"
        },
        {
          "output_type": "display_data",
          "data": {
            "image/png": "[encoded data removed]",
            "text/plain": [
              "<Figure size 432x288 with 1 Axes>"
            ]
          },
          "metadata": {
            "tags": [],
            "needs_background": "light"
          }
        }
      ]
    },
    {
      "cell_type": "markdown",
      "metadata": {
        "id": "CPLFyOQ4cVUD"
      },
      "source": [
        "## -1. GSP (Non fruitful experimentation)"
      ]
    },
    {
      "cell_type": "code",
      "metadata": {
        "id": "8_50NQLOcJmi"
      },
      "source": [
        "#user_community_df = pd.read_csv(\"/content/drive/MyDrive/movies_big/users/user_community_df.csv\")\n",
        "#ratings_df = pd.read_csv(\"/content/drive/MyDrive/movies_big/emb/ratings.csv\")\n",
        "#user_community_df.head(1)\n",
        "# user_history = ratings_df[ratings_df['userId'].isin(user_community_df['user_id'])]\n",
        "# user_history = user_history[user_history['rating']>4].reset_index()\n",
        "# user_history['movie_time'] = user_history[['movieId', 'timestamp']].apply(lambda x: (x[0], x[1]), axis=1)\n",
        "# user_history = user_history.groupby('userId').agg({\n",
        "#     'movie_time': lambda x: sorted(list(x.values), key=lambda k: k[1])\n",
        "# }).reset_index()\n",
        "# user_history['sorted_movie_ids'] = user_history['movie_time'].apply(lambda x: [i[0] for i in x])\n",
        "\n",
        "# from gsppy.gsp import GSP\n",
        "# result = GSP(user_history['sorted_movie_ids'].values).search(0.05)\n",
        "# joblib.dump(result, \"/content/drive/MyDrive/movies_big/gsp_result_0.05.pkl\")"
      ],
      "execution_count": null,
      "outputs": []
    }
  ]
}