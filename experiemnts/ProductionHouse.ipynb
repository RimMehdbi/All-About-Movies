{
  "nbformat": 4,
  "nbformat_minor": 0,
  "metadata": {
    "kernelspec": {
      "display_name": "Python 3",
      "language": "python",
      "name": "python3"
    },
    "language_info": {
      "codemirror_mode": {
        "name": "ipython",
        "version": 3
      },
      "file_extension": ".py",
      "mimetype": "text/x-python",
      "name": "python",
      "nbconvert_exporter": "python",
      "pygments_lexer": "ipython3",
      "version": "3.7.1"
    },
    "colab": {
      "name": "ProductionHouse.ipynb",
      "provenance": [],
      "collapsed_sections": []
    }
  },
  "cells": [
    {
      "cell_type": "markdown",
      "metadata": {
        "id": "rDV9y_zceMja"
      },
      "source": [
        "### NOTEBOOK CONTENTS:\n",
        "\n",
        "1. Production House Creation based on movie ratings distribution\n",
        "2. Community Detection\n",
        "3. Analysis"
      ]
    },
    {
      "cell_type": "markdown",
      "source": [
        "# Strategy\n",
        "\n",
        "- ProductionHouse_i is represented by a list of movies that it has produced = [Movei_1, Movie_2, Movie_5, ..., Movie_n]\n",
        "\n",
        "- Each of this movie can be represented by the average of the avg_rating that it has received. ProductionHouse_i = [AvgRating_1, AvgRating_2, AvgRating_5, ..., AvgRating_n]\n",
        "\n",
        "- Using this representation of the production houses, plot a graph of production houses with following edge rule\n",
        "    - T-Test (PH_i, PH_j) = True => Edge\n",
        "    - T-Test (PH_i, PH_j) = False => No Edge\n",
        "\n",
        "- Community Detection\n",
        "\n",
        "- Insights"
      ],
      "metadata": {
        "id": "tnyWSyKd2F7x"
      }
    },
    {
      "cell_type": "markdown",
      "source": [
        "# Results\n",
        "\n",
        "<img src=\"https://drive.google.com/uc?export=view&id=16-57SLRJGJllTi8vWS864sPGQCUAoJC4\"></img>"
      ],
      "metadata": {
        "id": "L4alprnR8ekt"
      }
    },
    {
      "cell_type": "code",
      "metadata": {
        "id": "aRnBjGOxDLVF"
      },
      "source": [
        "import numpy as np\n",
        "import seaborn as sns\n",
        "import matplotlib.pyplot as plt\n",
        "import pandas as pd\n",
        "import pickle\n",
        "\n",
        "import networkx as nx\n",
        "import community as community_louvain\n",
        "from sklearn import metrics\n",
        "import scipy"
      ],
      "execution_count": null,
      "outputs": []
    },
    {
      "cell_type": "markdown",
      "source": [
        "data loading"
      ],
      "metadata": {
        "id": "uiABPBbH4kkS"
      }
    },
    {
      "cell_type": "code",
      "metadata": {
        "id": "Jh4E6PU_DLVP",
        "outputId": "97fd0885-61db-41f8-d73b-d76159ecf77b"
      },
      "source": [
        "ratings = pd.read_csv(\"ratings.csv\")\n",
        "ratings.head()"
      ],
      "execution_count": null,
      "outputs": [
        {
          "output_type": "execute_result",
          "data": {
            "text/html": [
              "<div>\n",
              "<style scoped>\n",
              "    .dataframe tbody tr th:only-of-type {\n",
              "        vertical-align: middle;\n",
              "    }\n",
              "\n",
              "    .dataframe tbody tr th {\n",
              "        vertical-align: top;\n",
              "    }\n",
              "\n",
              "    .dataframe thead th {\n",
              "        text-align: right;\n",
              "    }\n",
              "</style>\n",
              "<table border=\"1\" class=\"dataframe\">\n",
              "  <thead>\n",
              "    <tr style=\"text-align: right;\">\n",
              "      <th></th>\n",
              "      <th>userId</th>\n",
              "      <th>movieId</th>\n",
              "      <th>rating</th>\n",
              "      <th>timestamp</th>\n",
              "    </tr>\n",
              "  </thead>\n",
              "  <tbody>\n",
              "    <tr>\n",
              "      <th>0</th>\n",
              "      <td>1</td>\n",
              "      <td>110</td>\n",
              "      <td>1.0</td>\n",
              "      <td>1425941529</td>\n",
              "    </tr>\n",
              "    <tr>\n",
              "      <th>1</th>\n",
              "      <td>1</td>\n",
              "      <td>147</td>\n",
              "      <td>4.5</td>\n",
              "      <td>1425942435</td>\n",
              "    </tr>\n",
              "    <tr>\n",
              "      <th>2</th>\n",
              "      <td>1</td>\n",
              "      <td>858</td>\n",
              "      <td>5.0</td>\n",
              "      <td>1425941523</td>\n",
              "    </tr>\n",
              "    <tr>\n",
              "      <th>3</th>\n",
              "      <td>1</td>\n",
              "      <td>1221</td>\n",
              "      <td>5.0</td>\n",
              "      <td>1425941546</td>\n",
              "    </tr>\n",
              "    <tr>\n",
              "      <th>4</th>\n",
              "      <td>1</td>\n",
              "      <td>1246</td>\n",
              "      <td>5.0</td>\n",
              "      <td>1425941556</td>\n",
              "    </tr>\n",
              "  </tbody>\n",
              "</table>\n",
              "</div>"
            ],
            "text/plain": [
              "   userId  movieId  rating   timestamp\n",
              "0       1      110     1.0  1425941529\n",
              "1       1      147     4.5  1425942435\n",
              "2       1      858     5.0  1425941523\n",
              "3       1     1221     5.0  1425941546\n",
              "4       1     1246     5.0  1425941556"
            ]
          },
          "metadata": {
            "tags": []
          },
          "execution_count": 4
        }
      ]
    },
    {
      "cell_type": "code",
      "metadata": {
        "id": "cT7MVLFjDLVR"
      },
      "source": [
        "## load embeddings\n",
        "f_name = \"embeddings\"\n",
        "def load_embeddings(f_name):\n",
        "    with open(f_name+'/u_mat.pkl','rb') as f:\n",
        "                u_mat = pickle.load(f)\n",
        "    with open(f_name+'/m_mat.pkl','rb') as f:\n",
        "                m_mat = pickle.load(f)\n",
        "    with open(f_name+'/m_ids.pkl','rb') as f:\n",
        "                m_ids = pickle.load(f)\n",
        "    with open(f_name+'/u_ids.pkl','rb') as f:\n",
        "                u_ids = pickle.load(f)\n",
        "    return m_mat, m_ids, u_mat, u_ids\n",
        "m_mat, m_ids, u_mat, u_ids = load_embeddings(f_name)"
      ],
      "execution_count": null,
      "outputs": []
    },
    {
      "cell_type": "markdown",
      "source": [
        "## 1. Graph Creation (Production Houses) using statistical T-Test"
      ],
      "metadata": {
        "id": "X06pZEEW4yev"
      }
    },
    {
      "cell_type": "code",
      "metadata": {
        "id": "1K0jyHHfDLVb"
      },
      "source": [
        "## loading & preparing movie data\n",
        "movies_df = pd.read_csv(\"movies_metadata.csv\")\n",
        "movies_df.drop_duplicates(subset=['id'], inplace=True)\n",
        "movies_df['genres'] = movies_df['genres'].apply(lambda x: eval(x))\n",
        "movies_df.dropna(subset=['title'], inplace=True)\n",
        "movies_df['production_companies'] = movies_df['production_companies'].apply(lambda x: eval(x))\n",
        "## loading & preparing production data\n",
        "production_df = movies_df[['id', 'production_companies', 'vote_average']]\n",
        "production_df['production_companies'] = production_df['production_companies'].apply(lambda x: [n['name'] for n in x])\n",
        "production_df = production_df.explode('production_companies')\n",
        "production_df.dropna(inplace=True)"
      ],
      "execution_count": null,
      "outputs": []
    },
    {
      "cell_type": "code",
      "metadata": {
        "id": "AYhuqQZRDLVd"
      },
      "source": [
        "## Generating necessary columns\n",
        "group_production=production_df.groupby('production_companies')\n",
        "production_df = pd.DataFrame()\n",
        "companies = []\n",
        "scores = []\n",
        "for g in group_production:\n",
        "    companies.append(g[0])\n",
        "    scores.append(list(g[1]['vote_average']))\n",
        "production_df['production_company'] = companies\n",
        "production_df['scores'] = scores\n",
        "del companies, scores\n",
        "\n",
        "final_production_df = production_df[production_df['scores'].apply(lambda x: len(x))>3]"
      ],
      "execution_count": null,
      "outputs": []
    },
    {
      "cell_type": "code",
      "metadata": {
        "id": "pC5foSL4DLVe",
        "outputId": "53a00f0f-2118-49fe-9414-0660be46766b"
      },
      "source": [
        "final_production_df.head()"
      ],
      "execution_count": null,
      "outputs": [
        {
          "output_type": "execute_result",
          "data": {
            "text/html": [
              "<div>\n",
              "<style scoped>\n",
              "    .dataframe tbody tr th:only-of-type {\n",
              "        vertical-align: middle;\n",
              "    }\n",
              "\n",
              "    .dataframe tbody tr th {\n",
              "        vertical-align: top;\n",
              "    }\n",
              "\n",
              "    .dataframe thead th {\n",
              "        text-align: right;\n",
              "    }\n",
              "</style>\n",
              "<table border=\"1\" class=\"dataframe\">\n",
              "  <thead>\n",
              "    <tr style=\"text-align: right;\">\n",
              "      <th></th>\n",
              "      <th>production_company</th>\n",
              "      <th>scores</th>\n",
              "    </tr>\n",
              "  </thead>\n",
              "  <tbody>\n",
              "    <tr>\n",
              "      <th>24</th>\n",
              "      <td>10th Hole Productions</td>\n",
              "      <td>[6.5, 4.8, 7.4, 5.7]</td>\n",
              "    </tr>\n",
              "    <tr>\n",
              "      <th>27</th>\n",
              "      <td>120 Films</td>\n",
              "      <td>[7.1, 5.0, 5.9, 6.8, 5.8, 7.1]</td>\n",
              "    </tr>\n",
              "    <tr>\n",
              "      <th>29</th>\n",
              "      <td>120dB Films</td>\n",
              "      <td>[6.1, 6.5, 6.2, 7.1, 5.1, 7.4, 5.6, 5.2, 5.3, ...</td>\n",
              "    </tr>\n",
              "    <tr>\n",
              "      <th>33</th>\n",
              "      <td>13 Productions</td>\n",
              "      <td>[7.4, 6.1, 7.1, 5.3]</td>\n",
              "    </tr>\n",
              "    <tr>\n",
              "      <th>40</th>\n",
              "      <td>1492 Pictures</td>\n",
              "      <td>[5.5, 5.5, 6.9, 6.9, 4.2, 7.5, 7.4, 7.7, 5.2, ...</td>\n",
              "    </tr>\n",
              "  </tbody>\n",
              "</table>\n",
              "</div>"
            ],
            "text/plain": [
              "       production_company                                             scores\n",
              "24  10th Hole Productions                               [6.5, 4.8, 7.4, 5.7]\n",
              "27              120 Films                     [7.1, 5.0, 5.9, 6.8, 5.8, 7.1]\n",
              "29            120dB Films  [6.1, 6.5, 6.2, 7.1, 5.1, 7.4, 5.6, 5.2, 5.3, ...\n",
              "33         13 Productions                               [7.4, 6.1, 7.1, 5.3]\n",
              "40          1492 Pictures  [5.5, 5.5, 6.9, 6.9, 4.2, 7.5, 7.4, 7.7, 5.2, ..."
            ]
          },
          "metadata": {
            "tags": []
          },
          "execution_count": 37
        }
      ]
    },
    {
      "cell_type": "markdown",
      "metadata": {
        "id": "sNRvtZ0DJKSB"
      },
      "source": [
        "T_TEST BASED GRAPH CREATION"
      ]
    },
    {
      "cell_type": "code",
      "metadata": {
        "id": "czoBjCbXDLVf"
      },
      "source": [
        "def return_edge_list(entity, scores):\n",
        "    edge_list = []\n",
        "    for idx1 in range(len(entity)-1):\n",
        "        for idx2 in range(idx1+1, len(entity)):\n",
        "            ent1 = entity[idx1]\n",
        "            ent2 = entity[idx2]\n",
        "            score1 = scores[idx1]\n",
        "            score2 = scores[idx2]\n",
        "            p_val = scipy.stats.ttest_ind(score1, score2)\n",
        "            #print(p_val[1])\n",
        "            if p_val[1] > 0.05:\n",
        "                edge_list.append([ent1, ent2])\n",
        "        print(idx1)\n",
        "    return edge_list"
      ],
      "execution_count": null,
      "outputs": []
    },
    {
      "cell_type": "code",
      "metadata": {
        "scrolled": true,
        "id": "8rh5kCSpDLVg"
      },
      "source": [
        "## Graph generation\n",
        "production_edges = return_edge_list(final_production_df['production_company'].values, final_production_df['scores'].values)\n",
        "production_G = nx.Graph()\n",
        "production_G.add_edges_from(production_edges)\n",
        "## Community Detection\n",
        "partition = community_louvain.best_partition(production_G, weight='weight')"
      ],
      "execution_count": null,
      "outputs": []
    },
    {
      "cell_type": "code",
      "metadata": {
        "id": "Q5jVkfO6DLVh",
        "outputId": "8c4fbc5f-160f-4488-eaf8-713d965747c0"
      },
      "source": [
        "np.unique(list(partition.values()))"
      ],
      "execution_count": null,
      "outputs": [
        {
          "output_type": "execute_result",
          "data": {
            "text/plain": [
              "array([0, 1])"
            ]
          },
          "metadata": {
            "tags": []
          },
          "execution_count": 66
        }
      ]
    },
    {
      "cell_type": "code",
      "metadata": {
        "id": "ctaaxk41DLVh",
        "outputId": "84dd73e2-f7f8-4a76-8525-824beb67a4ba"
      },
      "source": [
        "## Merging the communities data with the production house data\n",
        "final_production_df['mean'] = final_production_df['scores'].apply(lambda x: np.mean(x))\n",
        "community_df = pd.DataFrame({'production_company':list(partition.keys()), 'community':list(partition.values())})\n",
        "final_production_df = final_production_df.merge(community_df)"
      ],
      "execution_count": null,
      "outputs": [
        {
          "output_type": "stream",
          "text": [
            "C:\\Users\\prabh\\Anaconda3\\lib\\site-packages\\ipykernel_launcher.py:1: SettingWithCopyWarning: \n",
            "A value is trying to be set on a copy of a slice from a DataFrame.\n",
            "Try using .loc[row_indexer,col_indexer] = value instead\n",
            "\n",
            "See the caveats in the documentation: http://pandas.pydata.org/pandas-docs/stable/user_guide/indexing.html#returning-a-view-versus-a-copy\n",
            "  \"\"\"Entry point for launching an IPython kernel.\n"
          ],
          "name": "stderr"
        }
      ]
    },
    {
      "cell_type": "code",
      "metadata": {
        "id": "qYxV0vREDLVi",
        "outputId": "a4b08c4a-e53f-4053-c6a6-c1d59068af83"
      },
      "source": [
        "final_production_df"
      ],
      "execution_count": null,
      "outputs": [
        {
          "output_type": "execute_result",
          "data": {
            "text/html": [
              "<div>\n",
              "<style scoped>\n",
              "    .dataframe tbody tr th:only-of-type {\n",
              "        vertical-align: middle;\n",
              "    }\n",
              "\n",
              "    .dataframe tbody tr th {\n",
              "        vertical-align: top;\n",
              "    }\n",
              "\n",
              "    .dataframe thead th {\n",
              "        text-align: right;\n",
              "    }\n",
              "</style>\n",
              "<table border=\"1\" class=\"dataframe\">\n",
              "  <thead>\n",
              "    <tr style=\"text-align: right;\">\n",
              "      <th></th>\n",
              "      <th>production_company</th>\n",
              "      <th>scores</th>\n",
              "      <th>mean</th>\n",
              "      <th>community</th>\n",
              "    </tr>\n",
              "  </thead>\n",
              "  <tbody>\n",
              "    <tr>\n",
              "      <th>0</th>\n",
              "      <td>10th Hole Productions</td>\n",
              "      <td>[6.5, 4.8, 7.4, 5.7]</td>\n",
              "      <td>6.100000</td>\n",
              "      <td>0</td>\n",
              "    </tr>\n",
              "    <tr>\n",
              "      <th>1</th>\n",
              "      <td>120 Films</td>\n",
              "      <td>[7.1, 5.0, 5.9, 6.8, 5.8, 7.1]</td>\n",
              "      <td>6.283333</td>\n",
              "      <td>0</td>\n",
              "    </tr>\n",
              "    <tr>\n",
              "      <th>2</th>\n",
              "      <td>120dB Films</td>\n",
              "      <td>[6.1, 6.5, 6.2, 7.1, 5.1, 7.4, 5.6, 5.2, 5.3, ...</td>\n",
              "      <td>5.800000</td>\n",
              "      <td>1</td>\n",
              "    </tr>\n",
              "    <tr>\n",
              "      <th>3</th>\n",
              "      <td>13 Productions</td>\n",
              "      <td>[7.4, 6.1, 7.1, 5.3]</td>\n",
              "      <td>6.475000</td>\n",
              "      <td>0</td>\n",
              "    </tr>\n",
              "    <tr>\n",
              "      <th>4</th>\n",
              "      <td>1492 Pictures</td>\n",
              "      <td>[5.5, 5.5, 6.9, 6.9, 4.2, 7.5, 7.4, 7.7, 5.2, ...</td>\n",
              "      <td>6.200000</td>\n",
              "      <td>0</td>\n",
              "    </tr>\n",
              "    <tr>\n",
              "      <th>...</th>\n",
              "      <td>...</td>\n",
              "      <td>...</td>\n",
              "      <td>...</td>\n",
              "      <td>...</td>\n",
              "    </tr>\n",
              "    <tr>\n",
              "      <th>3343</th>\n",
              "      <td>ufotable</td>\n",
              "      <td>[8.1, 7.0, 7.3, 7.0, 6.8, 7.2, 7.2, 7.2, 6.3]</td>\n",
              "      <td>7.122222</td>\n",
              "      <td>0</td>\n",
              "    </tr>\n",
              "    <tr>\n",
              "      <th>3344</th>\n",
              "      <td>Ízaro Films</td>\n",
              "      <td>[6.8, 7.6, 5.4, 7.0]</td>\n",
              "      <td>6.700000</td>\n",
              "      <td>0</td>\n",
              "    </tr>\n",
              "    <tr>\n",
              "      <th>3345</th>\n",
              "      <td>Österreichischer Rundfunk (ORF)</td>\n",
              "      <td>[6.6, 6.1, 6.2, 7.7, 7.3, 5.5, 8.0, 6.9, 6.3, ...</td>\n",
              "      <td>6.303704</td>\n",
              "      <td>0</td>\n",
              "    </tr>\n",
              "    <tr>\n",
              "      <th>3346</th>\n",
              "      <td>Österreichisches Filminstitut</td>\n",
              "      <td>[7.0, 8.0, 5.9, 7.2]</td>\n",
              "      <td>7.025000</td>\n",
              "      <td>0</td>\n",
              "    </tr>\n",
              "    <tr>\n",
              "      <th>3347</th>\n",
              "      <td>Česká televize</td>\n",
              "      <td>[6.7, 6.7, 6.6, 6.4, 4.5, 4.0, 7.0, 7.3, 8.0, ...</td>\n",
              "      <td>6.300000</td>\n",
              "      <td>0</td>\n",
              "    </tr>\n",
              "  </tbody>\n",
              "</table>\n",
              "<p>3348 rows × 4 columns</p>\n",
              "</div>"
            ],
            "text/plain": [
              "                   production_company  \\\n",
              "0               10th Hole Productions   \n",
              "1                           120 Films   \n",
              "2                         120dB Films   \n",
              "3                      13 Productions   \n",
              "4                       1492 Pictures   \n",
              "...                               ...   \n",
              "3343                         ufotable   \n",
              "3344                      Ízaro Films   \n",
              "3345  Österreichischer Rundfunk (ORF)   \n",
              "3346    Österreichisches Filminstitut   \n",
              "3347                   Česká televize   \n",
              "\n",
              "                                                 scores      mean  community  \n",
              "0                                  [6.5, 4.8, 7.4, 5.7]  6.100000          0  \n",
              "1                        [7.1, 5.0, 5.9, 6.8, 5.8, 7.1]  6.283333          0  \n",
              "2     [6.1, 6.5, 6.2, 7.1, 5.1, 7.4, 5.6, 5.2, 5.3, ...  5.800000          1  \n",
              "3                                  [7.4, 6.1, 7.1, 5.3]  6.475000          0  \n",
              "4     [5.5, 5.5, 6.9, 6.9, 4.2, 7.5, 7.4, 7.7, 5.2, ...  6.200000          0  \n",
              "...                                                 ...       ...        ...  \n",
              "3343      [8.1, 7.0, 7.3, 7.0, 6.8, 7.2, 7.2, 7.2, 6.3]  7.122222          0  \n",
              "3344                               [6.8, 7.6, 5.4, 7.0]  6.700000          0  \n",
              "3345  [6.6, 6.1, 6.2, 7.7, 7.3, 5.5, 8.0, 6.9, 6.3, ...  6.303704          0  \n",
              "3346                               [7.0, 8.0, 5.9, 7.2]  7.025000          0  \n",
              "3347  [6.7, 6.7, 6.6, 6.4, 4.5, 4.0, 7.0, 7.3, 8.0, ...  6.300000          0  \n",
              "\n",
              "[3348 rows x 4 columns]"
            ]
          },
          "metadata": {
            "tags": []
          },
          "execution_count": 82
        }
      ]
    },
    {
      "cell_type": "markdown",
      "source": [
        "The distribution of Mean of avg ratings given to movies produced by by production houses looks somewhat like a single gaussian "
      ],
      "metadata": {
        "id": "MK5OcUUQ6xT8"
      }
    },
    {
      "cell_type": "code",
      "metadata": {
        "id": "ZFpmqDtEDLVi",
        "outputId": "a7c49bf7-997d-42b1-8018-85d73f4573b5"
      },
      "source": [
        "sns.distplot(final_production_df['mean'])"
      ],
      "execution_count": null,
      "outputs": [
        {
          "output_type": "execute_result",
          "data": {
            "text/plain": [
              "<matplotlib.axes._subplots.AxesSubplot at 0x23d18fb39b0>"
            ]
          },
          "metadata": {
            "tags": []
          },
          "execution_count": 94
        },
        {
          "output_type": "display_data",
          "data": {
            "image/png": "[encoded data removed]",
            "text/plain": [
              "<Figure size 432x288 with 1 Axes>"
            ]
          },
          "metadata": {
            "tags": [],
            "needs_background": "light"
          }
        }
      ]
    },
    {
      "cell_type": "markdown",
      "source": [
        "However, the two communities suggest that there are in fact 2 different distributions. It must be somewhat of a Gaussian Mixture."
      ],
      "metadata": {
        "id": "Yy3zLTjp7EAM"
      }
    },
    {
      "cell_type": "code",
      "metadata": {
        "id": "oqCDRW7oDLVj"
      },
      "source": [
        "production_group = final_production_df[['mean', 'community']].groupby('community')"
      ],
      "execution_count": null,
      "outputs": []
    },
    {
      "cell_type": "code",
      "metadata": {
        "id": "WBV8VxfrDLVj",
        "outputId": "d99eced4-2e34-4712-df7d-abc23bf04b15"
      },
      "source": [
        "for g in production_group:\n",
        "    sns.distplot(g[1]['mean'].values)"
      ],
      "execution_count": null,
      "outputs": [
        {
          "output_type": "display_data",
          "data": {
            "image/png": "[encoded data removed]",
            "text/plain": [
              "<Figure size 432x288 with 1 Axes>"
            ]
          },
          "metadata": {
            "tags": [],
            "needs_background": "light"
          }
        }
      ]
    },
    {
      "cell_type": "code",
      "metadata": {
        "id": "jeZhyL_RDLVk"
      },
      "source": [
        "# temp = []\n",
        "# for g in production_group:\n",
        "#     temp.append(g[1]['mean'].values)\n",
        "# #scipy.stats.ttest_ind(temp[0], temp[1])"
      ],
      "execution_count": 2,
      "outputs": []
    },
    {
      "cell_type": "code",
      "metadata": {
        "id": "g9wLYbseDLVm",
        "outputId": "fcfd10d7-c43d-4e3c-a84e-72454098e298"
      },
      "source": [
        "## Revenue comparison\n",
        "map_df = movies_df[['id', 'production_companies', 'vote_average', 'budget', 'revenue']]\n",
        "map_df['production_companies'] = map_df['production_companies'].apply(lambda x: [n['name'] for n in x])\n",
        "map_df = map_df.explode('production_companies')\n",
        "map_df.dropna(inplace=True)\n",
        "\n",
        "map_df = pd.merge(final_production_df, map_df, how='left', left_on='production_company', right_on='production_companies')\n",
        "map_group = map_df[map_df['revenue']!=0].groupby(\"community\")\n",
        "\n",
        "temp = []\n",
        "for g in map_group:\n",
        "    temp.append(g[1]['revenue'].values)\n",
        "np.mean(temp[0]), np.mean(temp[1])"
      ],
      "execution_count": null,
      "outputs": [
        {
          "output_type": "execute_result",
          "data": {
            "text/plain": [
              "(102784865.76955856, 79907003.60742706)"
            ]
          },
          "metadata": {
            "tags": []
          },
          "execution_count": 131
        }
      ]
    },
    {
      "cell_type": "code",
      "metadata": {
        "id": "Q_jECNBBDLVm"
      },
      "source": [
        "#scipy.stats.ttest_ind(temp[0], temp[1])"
      ],
      "execution_count": 1,
      "outputs": []
    },
    {
      "cell_type": "code",
      "metadata": {
        "id": "3Xg_agyXDLVn",
        "outputId": "1dd6f771-621d-43fc-8020-5cde1e85c75e"
      },
      "source": [
        "## Relative Difference in revenues\n",
        "(np.mean(temp[0])-np.mean(temp[1]))/np.mean(temp[1])"
      ],
      "execution_count": null,
      "outputs": [
        {
          "output_type": "execute_result",
          "data": {
            "text/plain": [
              "0.2863060949516707"
            ]
          },
          "metadata": {
            "tags": []
          },
          "execution_count": 136
        }
      ]
    },
    {
      "cell_type": "code",
      "metadata": {
        "id": "cib6S6hkDLVn"
      },
      "source": [
        ""
      ],
      "execution_count": null,
      "outputs": []
    }
  ]
}