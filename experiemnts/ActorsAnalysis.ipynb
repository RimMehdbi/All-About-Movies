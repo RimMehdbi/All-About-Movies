{
  "nbformat": 4,
  "nbformat_minor": 0,
  "metadata": {
    "colab": {
      "name": "ActorsAnalysis.ipynb",
      "provenance": []
    },
    "kernelspec": {
      "name": "python3",
      "display_name": "Python 3"
    },
    "language_info": {
      "name": "python"
    }
  },
  "cells": [
    {
      "cell_type": "markdown",
      "metadata": {
        "id": "g-mwVOKodwe_"
      },
      "source": [
        "### NOTEBOOK CONTENTS:\n",
        "\n",
        "1. Actors Graph Creation based on movie ratings distribution\n",
        "2. Community Detection\n",
        "3. On the found communities, Sub-graphs creation based on topic distribution\n",
        "4. Analysis"
      ]
    },
    {
      "cell_type": "code",
      "metadata": {
        "id": "9Zbk3mALA35y"
      },
      "source": [
        "import numpy as np\n",
        "import pandas as pd\n",
        "import matplotlib.pyplot as plt\n",
        "import seaborn as sns\n",
        "import joblib"
      ],
      "execution_count": 1,
      "outputs": []
    },
    {
      "cell_type": "code",
      "metadata": {
        "id": "AEX0ClbaC9qD",
        "colab": {
          "base_uri": "https://localhost:8080/"
        },
        "outputId": "3a85a713-e4bb-4682-f360-54bde779aad6"
      },
      "source": [
        "m_meta = pd.read_csv(\"/content/drive/MyDrive/movies_big/movies_metadata.csv\")\n",
        "m_meta.drop_duplicates(subset=['id'], inplace=True)\n",
        "m_meta['genres'] = m_meta['genres'].apply(lambda x: eval(x))\n",
        "m_meta.dropna(subset=['title'], inplace=True)\n",
        "m_meta['production_companies'] = m_meta['production_companies'].apply(lambda x: eval(x))\n",
        "m_meta['id'] = m_meta['id'].astype(int)\n",
        "m_meta.dropna(subset=['imdb_id'], inplace=True)\n",
        "m_meta['imdbId']=m_meta['imdb_id'].apply(lambda x: int(x.replace(\"tt\", \"\")))\n",
        "m_meta['genre_list'] = m_meta['genres'].apply(lambda x:  [g['name'] for g in x])"
      ],
      "execution_count": 2,
      "outputs": [
        {
          "output_type": "stream",
          "text": [
            "/usr/local/lib/python3.7/dist-packages/IPython/core/interactiveshell.py:2718: DtypeWarning: Columns (10) have mixed types.Specify dtype option on import or set low_memory=False.\n",
            "  interactivity=interactivity, compiler=compiler, result=result)\n"
          ],
          "name": "stderr"
        }
      ]
    },
    {
      "cell_type": "code",
      "metadata": {
        "id": "PQRU0A7dEmCr"
      },
      "source": [
        "links_df = pd.read_csv(\"/content/drive/MyDrive/movies_big/emb/links.csv\")\n",
        "ratings_df = pd.read_csv(\"/content/drive/MyDrive/movies_big/emb/ratings.csv\")\n",
        "credits_df = pd.read_csv(\"/content/drive/MyDrive/movies_big/credits.csv\")"
      ],
      "execution_count": 3,
      "outputs": []
    },
    {
      "cell_type": "code",
      "metadata": {
        "id": "hY-jFeQdFAz0"
      },
      "source": [
        "credits_df['cast'] = credits_df['cast'].apply(lambda x: eval(x))"
      ],
      "execution_count": 4,
      "outputs": []
    },
    {
      "cell_type": "code",
      "metadata": {
        "colab": {
          "base_uri": "https://localhost:8080/"
        },
        "id": "QF6F2zPHFG87",
        "outputId": "b56c0853-b598-4470-d068-ce401c3ef826"
      },
      "source": [
        "m_ids = []\n",
        "c_ids = []\n",
        "c_name = []\n",
        "for _iter, row in credits_df.iterrows():\n",
        "    cast_list = row['cast']\n",
        "    m_id = row['id']\n",
        "    for cast in cast_list:\n",
        "        c_ids.append(cast['id'])\n",
        "        c_name.append(cast['name'])\n",
        "        m_ids.append(m_id)\n",
        "len(m_ids), len(c_ids), len(c_name)"
      ],
      "execution_count": 5,
      "outputs": [
        {
          "output_type": "execute_result",
          "data": {
            "text/plain": [
              "(562474, 562474, 562474)"
            ]
          },
          "metadata": {
            "tags": []
          },
          "execution_count": 5
        }
      ]
    },
    {
      "cell_type": "code",
      "metadata": {
        "id": "kC5n8XYQFKsZ"
      },
      "source": [
        "cast_df = pd.DataFrame({'cast_id':c_ids, 'cast_name':c_name, 'id':m_ids})\n",
        "cast_df = cast_df.merge(links_df, left_on='id', right_on='tmdbId')\n",
        "cast_df = cast_df.merge(m_meta[['id', 'vote_average']], left_on='movieId', right_on='id')"
      ],
      "execution_count": 6,
      "outputs": []
    },
    {
      "cell_type": "code",
      "metadata": {
        "colab": {
          "base_uri": "https://localhost:8080/",
          "height": 136
        },
        "id": "svYOtinDFMzw",
        "outputId": "1639629c-cfbb-47f2-bc8c-433819b44869"
      },
      "source": [
        "cast_df.head(3)"
      ],
      "execution_count": 7,
      "outputs": [
        {
          "output_type": "execute_result",
          "data": {
            "text/html": [
              "<div>\n",
              "<style scoped>\n",
              "    .dataframe tbody tr th:only-of-type {\n",
              "        vertical-align: middle;\n",
              "    }\n",
              "\n",
              "    .dataframe tbody tr th {\n",
              "        vertical-align: top;\n",
              "    }\n",
              "\n",
              "    .dataframe thead th {\n",
              "        text-align: right;\n",
              "    }\n",
              "</style>\n",
              "<table border=\"1\" class=\"dataframe\">\n",
              "  <thead>\n",
              "    <tr style=\"text-align: right;\">\n",
              "      <th></th>\n",
              "      <th>cast_id</th>\n",
              "      <th>cast_name</th>\n",
              "      <th>id_x</th>\n",
              "      <th>movieId</th>\n",
              "      <th>imdbId</th>\n",
              "      <th>tmdbId</th>\n",
              "      <th>id_y</th>\n",
              "      <th>vote_average</th>\n",
              "    </tr>\n",
              "  </thead>\n",
              "  <tbody>\n",
              "    <tr>\n",
              "      <th>0</th>\n",
              "      <td>2157</td>\n",
              "      <td>Robin Williams</td>\n",
              "      <td>8844</td>\n",
              "      <td>2</td>\n",
              "      <td>113497</td>\n",
              "      <td>8844.0</td>\n",
              "      <td>2</td>\n",
              "      <td>7.1</td>\n",
              "    </tr>\n",
              "    <tr>\n",
              "      <th>1</th>\n",
              "      <td>8537</td>\n",
              "      <td>Jonathan Hyde</td>\n",
              "      <td>8844</td>\n",
              "      <td>2</td>\n",
              "      <td>113497</td>\n",
              "      <td>8844.0</td>\n",
              "      <td>2</td>\n",
              "      <td>7.1</td>\n",
              "    </tr>\n",
              "    <tr>\n",
              "      <th>2</th>\n",
              "      <td>205</td>\n",
              "      <td>Kirsten Dunst</td>\n",
              "      <td>8844</td>\n",
              "      <td>2</td>\n",
              "      <td>113497</td>\n",
              "      <td>8844.0</td>\n",
              "      <td>2</td>\n",
              "      <td>7.1</td>\n",
              "    </tr>\n",
              "  </tbody>\n",
              "</table>\n",
              "</div>"
            ],
            "text/plain": [
              "   cast_id       cast_name  id_x  movieId  imdbId  tmdbId  id_y  vote_average\n",
              "0     2157  Robin Williams  8844        2  113497  8844.0     2           7.1\n",
              "1     8537   Jonathan Hyde  8844        2  113497  8844.0     2           7.1\n",
              "2      205   Kirsten Dunst  8844        2  113497  8844.0     2           7.1"
            ]
          },
          "metadata": {
            "tags": []
          },
          "execution_count": 7
        }
      ]
    },
    {
      "cell_type": "code",
      "metadata": {
        "id": "MvClFnTDFON9"
      },
      "source": [
        "cast_ratings = pd.DataFrame(cast_df.groupby('cast_id').agg({\n",
        "    'vote_average': lambda x: x.tolist()\n",
        "}).rename({'vote_average':'ratings'}, axis=1).reset_index())\n",
        "cast_ratings['avg_rating'] = cast_ratings['ratings'].apply(lambda x: np.mean(x))"
      ],
      "execution_count": 8,
      "outputs": []
    },
    {
      "cell_type": "code",
      "metadata": {
        "colab": {
          "base_uri": "https://localhost:8080/",
          "height": 77
        },
        "id": "1LBI5dIBIp4A",
        "outputId": "c9345416-d91a-4ed4-bcbb-7fc6b526e2e7"
      },
      "source": [
        "cast_ratings.head(1)"
      ],
      "execution_count": 9,
      "outputs": [
        {
          "output_type": "execute_result",
          "data": {
            "text/html": [
              "<div>\n",
              "<style scoped>\n",
              "    .dataframe tbody tr th:only-of-type {\n",
              "        vertical-align: middle;\n",
              "    }\n",
              "\n",
              "    .dataframe tbody tr th {\n",
              "        vertical-align: top;\n",
              "    }\n",
              "\n",
              "    .dataframe thead th {\n",
              "        text-align: right;\n",
              "    }\n",
              "</style>\n",
              "<table border=\"1\" class=\"dataframe\">\n",
              "  <thead>\n",
              "    <tr style=\"text-align: right;\">\n",
              "      <th></th>\n",
              "      <th>cast_id</th>\n",
              "      <th>ratings</th>\n",
              "    </tr>\n",
              "  </thead>\n",
              "  <tbody>\n",
              "    <tr>\n",
              "      <th>0</th>\n",
              "      <td>1</td>\n",
              "      <td>[5.4, 5.7, 5.6]</td>\n",
              "    </tr>\n",
              "  </tbody>\n",
              "</table>\n",
              "</div>"
            ],
            "text/plain": [
              "   cast_id          ratings\n",
              "0        1  [5.4, 5.7, 5.6]"
            ]
          },
          "metadata": {
            "tags": []
          },
          "execution_count": 9
        }
      ]
    },
    {
      "cell_type": "code",
      "metadata": {
        "colab": {
          "base_uri": "https://localhost:8080/"
        },
        "id": "BB1MscnlZ_qO",
        "outputId": "075c5295-7218-4d53-b2f4-c154a11b9edd"
      },
      "source": [
        "cast_ratings.shape"
      ],
      "execution_count": 10,
      "outputs": [
        {
          "output_type": "execute_result",
          "data": {
            "text/plain": [
              "(60701, 2)"
            ]
          },
          "metadata": {
            "tags": []
          },
          "execution_count": 10
        }
      ]
    },
    {
      "cell_type": "code",
      "metadata": {
        "id": "jyHAT1OsFq7P"
      },
      "source": [
        "cast_ratings = cast_ratings[cast_ratings['ratings'].apply(lambda x: True if len(x)>5 else False)]"
      ],
      "execution_count": 11,
      "outputs": []
    },
    {
      "cell_type": "code",
      "metadata": {
        "colab": {
          "base_uri": "https://localhost:8080/"
        },
        "id": "7qDWyaJ0Is1S",
        "outputId": "173e0acd-4fba-450a-f343-6aeb1ed7b422"
      },
      "source": [
        "cast_ratings.shape"
      ],
      "execution_count": 12,
      "outputs": [
        {
          "output_type": "execute_result",
          "data": {
            "text/plain": [
              "(2646, 2)"
            ]
          },
          "metadata": {
            "tags": []
          },
          "execution_count": 12
        }
      ]
    },
    {
      "cell_type": "markdown",
      "metadata": {
        "id": "4l934y25JOF8"
      },
      "source": [
        "T-TEST based graph creation"
      ]
    },
    {
      "cell_type": "code",
      "metadata": {
        "id": "97DlGLwEJP62"
      },
      "source": [
        "import scipy\n",
        "def return_edge_list(entity, scores):\n",
        "    edge_list = []\n",
        "    for idx1 in range(len(entity)-1):\n",
        "        for idx2 in range(idx1+1, len(entity)):\n",
        "            ent1 = entity[idx1]\n",
        "            ent2 = entity[idx2]\n",
        "            score1 = scores[idx1]\n",
        "            score2 = scores[idx2]\n",
        "            p_val = scipy.stats.ttest_ind(score1, score2)\n",
        "            #print(p_val[1])\n",
        "            if p_val[1] > 0.05:\n",
        "                edge_list.append([ent1, ent2])\n",
        "        print(idx1)\n",
        "    return edge_list"
      ],
      "execution_count": 31,
      "outputs": []
    },
    {
      "cell_type": "code",
      "metadata": {
        "colab": {
          "base_uri": "https://localhost:8080/"
        },
        "id": "EbYWFbvaJQU-",
        "outputId": "f001a9b0-0a39-45e1-aaaf-9f132ef4bf3c"
      },
      "source": [
        "production_edges = return_edge_list(cast_ratings['cast_id'].values, cast_ratings['ratings'].values)"
      ],
      "execution_count": 35,
      "outputs": [
        {
          "output_type": "stream",
          "text": [
            "0\n",
            "1\n",
            "2\n",
            "3\n",
            "4\n",
            "5\n",
            "6\n",
            "7\n",
            "8\n",
            "9\n",
            "10\n",
            "11\n",
            "12\n",
            "13\n",
            "14\n",
            "15\n",
            "16\n",
            "17\n",
            "18\n",
            "19\n",
            "20\n",
            "21\n",
            "22\n",
            "23\n",
            "24\n",
            "25\n",
            "26\n",
            "27\n",
            "28\n",
            "29\n",
            "30\n",
            "31\n",
            "32\n",
            "33\n",
            "34\n",
            "35\n",
            "36\n",
            "37\n",
            "38\n",
            "39\n",
            "40\n",
            "41\n",
            "42\n",
            "43\n",
            "44\n",
            "45\n",
            "46\n",
            "47\n",
            "48\n",
            "49\n",
            "50\n",
            "51\n",
            "52\n",
            "53\n",
            "54\n",
            "55\n",
            "56\n",
            "57\n",
            "58\n",
            "59\n",
            "60\n",
            "61\n",
            "62\n",
            "63\n",
            "64\n",
            "65\n",
            "66\n",
            "67\n",
            "68\n",
            "69\n",
            "70\n",
            "71\n",
            "72\n",
            "73\n",
            "74\n",
            "75\n",
            "76\n",
            "77\n",
            "78\n",
            "79\n",
            "80\n",
            "81\n",
            "82\n",
            "83\n",
            "84\n",
            "85\n",
            "86\n",
            "87\n",
            "88\n",
            "89\n",
            "90\n",
            "91\n",
            "92\n",
            "93\n",
            "94\n",
            "95\n",
            "96\n",
            "97\n",
            "98\n",
            "99\n",
            "100\n",
            "101\n",
            "102\n",
            "103\n",
            "104\n",
            "105\n",
            "106\n",
            "107\n",
            "108\n",
            "109\n",
            "110\n",
            "111\n",
            "112\n",
            "113\n",
            "114\n",
            "115\n",
            "116\n",
            "117\n",
            "118\n",
            "119\n",
            "120\n",
            "121\n",
            "122\n",
            "123\n",
            "124\n",
            "125\n",
            "126\n",
            "127\n",
            "128\n",
            "129\n",
            "130\n",
            "131\n",
            "132\n",
            "133\n",
            "134\n",
            "135\n",
            "136\n",
            "137\n",
            "138\n",
            "139\n",
            "140\n",
            "141\n",
            "142\n",
            "143\n",
            "144\n",
            "145\n",
            "146\n",
            "147\n",
            "148\n",
            "149\n",
            "150\n",
            "151\n",
            "152\n",
            "153\n",
            "154\n",
            "155\n",
            "156\n",
            "157\n",
            "158\n",
            "159\n",
            "160\n",
            "161\n",
            "162\n",
            "163\n",
            "164\n",
            "165\n",
            "166\n",
            "167\n",
            "168\n",
            "169\n",
            "170\n",
            "171\n",
            "172\n",
            "173\n",
            "174\n",
            "175\n",
            "176\n",
            "177\n",
            "178\n",
            "179\n",
            "180\n",
            "181\n",
            "182\n",
            "183\n",
            "184\n",
            "185\n",
            "186\n",
            "187\n",
            "188\n",
            "189\n",
            "190\n",
            "191\n",
            "192\n",
            "193\n",
            "194\n",
            "195\n",
            "196\n",
            "197\n",
            "198\n",
            "199\n",
            "200\n",
            "201\n",
            "202\n",
            "203\n",
            "204\n",
            "205\n",
            "206\n",
            "207\n",
            "208\n",
            "209\n",
            "210\n",
            "211\n",
            "212\n",
            "213\n",
            "214\n",
            "215\n",
            "216\n",
            "217\n",
            "218\n",
            "219\n",
            "220\n",
            "221\n",
            "222\n",
            "223\n",
            "224\n",
            "225\n",
            "226\n",
            "227\n",
            "228\n",
            "229\n",
            "230\n",
            "231\n",
            "232\n",
            "233\n",
            "234\n",
            "235\n",
            "236\n",
            "237\n",
            "238\n",
            "239\n",
            "240\n",
            "241\n",
            "242\n",
            "243\n",
            "244\n",
            "245\n",
            "246\n",
            "247\n",
            "248\n",
            "249\n",
            "250\n",
            "251\n",
            "252\n",
            "253\n",
            "254\n",
            "255\n",
            "256\n",
            "257\n",
            "258\n",
            "259\n",
            "260\n",
            "261\n",
            "262\n",
            "263\n",
            "264\n",
            "265\n",
            "266\n",
            "267\n",
            "268\n",
            "269\n",
            "270\n",
            "271\n",
            "272\n",
            "273\n",
            "274\n",
            "275\n",
            "276\n",
            "277\n",
            "278\n",
            "279\n",
            "280\n",
            "281\n",
            "282\n",
            "283\n",
            "284\n",
            "285\n",
            "286\n",
            "287\n",
            "288\n",
            "289\n",
            "290\n",
            "291\n",
            "292\n",
            "293\n",
            "294\n",
            "295\n",
            "296\n",
            "297\n",
            "298\n",
            "299\n",
            "300\n",
            "301\n",
            "302\n",
            "303\n",
            "304\n",
            "305\n",
            "306\n",
            "307\n",
            "308\n",
            "309\n",
            "310\n",
            "311\n",
            "312\n",
            "313\n",
            "314\n",
            "315\n",
            "316\n",
            "317\n",
            "318\n",
            "319\n",
            "320\n",
            "321\n",
            "322\n",
            "323\n",
            "324\n",
            "325\n",
            "326\n",
            "327\n",
            "328\n",
            "329\n",
            "330\n",
            "331\n",
            "332\n",
            "333\n",
            "334\n",
            "335\n",
            "336\n",
            "337\n",
            "338\n",
            "339\n",
            "340\n",
            "341\n",
            "342\n",
            "343\n",
            "344\n",
            "345\n",
            "346\n",
            "347\n",
            "348\n",
            "349\n",
            "350\n",
            "351\n",
            "352\n",
            "353\n",
            "354\n",
            "355\n",
            "356\n",
            "357\n",
            "358\n",
            "359\n",
            "360\n",
            "361\n",
            "362\n",
            "363\n",
            "364\n",
            "365\n",
            "366\n",
            "367\n",
            "368\n",
            "369\n",
            "370\n",
            "371\n",
            "372\n",
            "373\n",
            "374\n",
            "375\n",
            "376\n",
            "377\n",
            "378\n",
            "379\n",
            "380\n",
            "381\n",
            "382\n",
            "383\n",
            "384\n",
            "385\n",
            "386\n",
            "387\n",
            "388\n",
            "389\n",
            "390\n",
            "391\n",
            "392\n",
            "393\n",
            "394\n",
            "395\n",
            "396\n",
            "397\n",
            "398\n",
            "399\n",
            "400\n",
            "401\n",
            "402\n",
            "403\n",
            "404\n",
            "405\n",
            "406\n",
            "407\n",
            "408\n",
            "409\n",
            "410\n",
            "411\n",
            "412\n",
            "413\n",
            "414\n",
            "415\n",
            "416\n",
            "417\n",
            "418\n",
            "419\n",
            "420\n",
            "421\n",
            "422\n",
            "423\n",
            "424\n",
            "425\n",
            "426\n",
            "427\n",
            "428\n",
            "429\n",
            "430\n",
            "431\n",
            "432\n",
            "433\n",
            "434\n",
            "435\n",
            "436\n",
            "437\n",
            "438\n",
            "439\n",
            "440\n",
            "441\n",
            "442\n",
            "443\n",
            "444\n",
            "445\n",
            "446\n",
            "447\n",
            "448\n",
            "449\n",
            "450\n",
            "451\n",
            "452\n",
            "453\n",
            "454\n",
            "455\n",
            "456\n",
            "457\n",
            "458\n",
            "459\n",
            "460\n",
            "461\n",
            "462\n",
            "463\n",
            "464\n",
            "465\n",
            "466\n",
            "467\n",
            "468\n",
            "469\n",
            "470\n",
            "471\n",
            "472\n",
            "473\n",
            "474\n",
            "475\n",
            "476\n",
            "477\n",
            "478\n",
            "479\n",
            "480\n",
            "481\n",
            "482\n",
            "483\n",
            "484\n",
            "485\n",
            "486\n",
            "487\n",
            "488\n",
            "489\n",
            "490\n",
            "491\n",
            "492\n",
            "493\n",
            "494\n",
            "495\n",
            "496\n",
            "497\n",
            "498\n",
            "499\n",
            "500\n",
            "501\n",
            "502\n",
            "503\n",
            "504\n",
            "505\n",
            "506\n",
            "507\n",
            "508\n",
            "509\n",
            "510\n",
            "511\n",
            "512\n",
            "513\n",
            "514\n",
            "515\n",
            "516\n",
            "517\n",
            "518\n",
            "519\n",
            "520\n",
            "521\n",
            "522\n",
            "523\n",
            "524\n",
            "525\n",
            "526\n",
            "527\n",
            "528\n",
            "529\n",
            "530\n",
            "531\n",
            "532\n",
            "533\n",
            "534\n",
            "535\n",
            "536\n",
            "537\n",
            "538\n",
            "539\n",
            "540\n",
            "541\n",
            "542\n",
            "543\n",
            "544\n",
            "545\n",
            "546\n",
            "547\n",
            "548\n",
            "549\n",
            "550\n",
            "551\n",
            "552\n",
            "553\n",
            "554\n",
            "555\n",
            "556\n",
            "557\n",
            "558\n",
            "559\n",
            "560\n",
            "561\n",
            "562\n",
            "563\n",
            "564\n",
            "565\n",
            "566\n",
            "567\n",
            "568\n",
            "569\n",
            "570\n",
            "571\n",
            "572\n",
            "573\n",
            "574\n",
            "575\n",
            "576\n",
            "577\n",
            "578\n",
            "579\n",
            "580\n",
            "581\n",
            "582\n",
            "583\n",
            "584\n",
            "585\n",
            "586\n",
            "587\n",
            "588\n",
            "589\n",
            "590\n",
            "591\n",
            "592\n",
            "593\n",
            "594\n",
            "595\n",
            "596\n",
            "597\n",
            "598\n",
            "599\n",
            "600\n",
            "601\n",
            "602\n",
            "603\n",
            "604\n",
            "605\n",
            "606\n",
            "607\n",
            "608\n",
            "609\n",
            "610\n",
            "611\n",
            "612\n",
            "613\n",
            "614\n",
            "615\n",
            "616\n",
            "617\n",
            "618\n",
            "619\n",
            "620\n",
            "621\n",
            "622\n",
            "623\n",
            "624\n",
            "625\n",
            "626\n",
            "627\n",
            "628\n",
            "629\n",
            "630\n",
            "631\n",
            "632\n",
            "633\n",
            "634\n",
            "635\n",
            "636\n",
            "637\n",
            "638\n",
            "639\n",
            "640\n",
            "641\n",
            "642\n",
            "643\n",
            "644\n",
            "645\n",
            "646\n",
            "647\n",
            "648\n",
            "649\n",
            "650\n",
            "651\n",
            "652\n",
            "653\n",
            "654\n",
            "655\n",
            "656\n",
            "657\n",
            "658\n",
            "659\n",
            "660\n",
            "661\n",
            "662\n",
            "663\n",
            "664\n",
            "665\n",
            "666\n",
            "667\n",
            "668\n",
            "669\n",
            "670\n",
            "671\n",
            "672\n",
            "673\n",
            "674\n",
            "675\n",
            "676\n",
            "677\n",
            "678\n",
            "679\n",
            "680\n",
            "681\n",
            "682\n",
            "683\n",
            "684\n",
            "685\n",
            "686\n",
            "687\n",
            "688\n",
            "689\n",
            "690\n",
            "691\n",
            "692\n",
            "693\n",
            "694\n",
            "695\n",
            "696\n",
            "697\n",
            "698\n",
            "699\n",
            "700\n",
            "701\n",
            "702\n",
            "703\n",
            "704\n",
            "705\n",
            "706\n",
            "707\n",
            "708\n",
            "709\n",
            "710\n",
            "711\n",
            "712\n",
            "713\n",
            "714\n",
            "715\n",
            "716\n",
            "717\n",
            "718\n",
            "719\n",
            "720\n",
            "721\n",
            "722\n",
            "723\n",
            "724\n",
            "725\n",
            "726\n",
            "727\n",
            "728\n",
            "729\n",
            "730\n",
            "731\n",
            "732\n",
            "733\n",
            "734\n",
            "735\n",
            "736\n",
            "737\n",
            "738\n",
            "739\n",
            "740\n",
            "741\n",
            "742\n",
            "743\n",
            "744\n",
            "745\n",
            "746\n",
            "747\n",
            "748\n",
            "749\n",
            "750\n",
            "751\n",
            "752\n",
            "753\n",
            "754\n",
            "755\n",
            "756\n",
            "757\n",
            "758\n",
            "759\n",
            "760\n",
            "761\n",
            "762\n",
            "763\n",
            "764\n",
            "765\n",
            "766\n",
            "767\n",
            "768\n",
            "769\n",
            "770\n",
            "771\n",
            "772\n",
            "773\n",
            "774\n",
            "775\n",
            "776\n",
            "777\n",
            "778\n",
            "779\n",
            "780\n",
            "781\n",
            "782\n",
            "783\n",
            "784\n",
            "785\n",
            "786\n",
            "787\n",
            "788\n",
            "789\n",
            "790\n",
            "791\n",
            "792\n",
            "793\n",
            "794\n",
            "795\n",
            "796\n",
            "797\n",
            "798\n",
            "799\n",
            "800\n",
            "801\n",
            "802\n",
            "803\n",
            "804\n",
            "805\n",
            "806\n",
            "807\n",
            "808\n",
            "809\n",
            "810\n",
            "811\n",
            "812\n",
            "813\n",
            "814\n",
            "815\n",
            "816\n",
            "817\n",
            "818\n",
            "819\n",
            "820\n",
            "821\n",
            "822\n",
            "823\n",
            "824\n",
            "825\n",
            "826\n",
            "827\n",
            "828\n",
            "829\n",
            "830\n",
            "831\n",
            "832\n",
            "833\n",
            "834\n",
            "835\n",
            "836\n",
            "837\n",
            "838\n",
            "839\n",
            "840\n",
            "841\n",
            "842\n",
            "843\n",
            "844\n",
            "845\n",
            "846\n",
            "847\n",
            "848\n",
            "849\n",
            "850\n",
            "851\n",
            "852\n",
            "853\n",
            "854\n",
            "855\n",
            "856\n",
            "857\n",
            "858\n",
            "859\n",
            "860\n",
            "861\n",
            "862\n",
            "863\n",
            "864\n",
            "865\n",
            "866\n",
            "867\n",
            "868\n",
            "869\n",
            "870\n",
            "871\n",
            "872\n",
            "873\n",
            "874\n",
            "875\n",
            "876\n",
            "877\n",
            "878\n",
            "879\n",
            "880\n",
            "881\n",
            "882\n",
            "883\n",
            "884\n",
            "885\n",
            "886\n",
            "887\n",
            "888\n",
            "889\n",
            "890\n",
            "891\n",
            "892\n",
            "893\n",
            "894\n",
            "895\n",
            "896\n",
            "897\n",
            "898\n",
            "899\n",
            "900\n",
            "901\n",
            "902\n",
            "903\n",
            "904\n",
            "905\n",
            "906\n",
            "907\n",
            "908\n",
            "909\n",
            "910\n",
            "911\n",
            "912\n",
            "913\n",
            "914\n",
            "915\n",
            "916\n",
            "917\n",
            "918\n",
            "919\n",
            "920\n",
            "921\n",
            "922\n",
            "923\n",
            "924\n",
            "925\n",
            "926\n",
            "927\n",
            "928\n",
            "929\n",
            "930\n",
            "931\n",
            "932\n",
            "933\n",
            "934\n",
            "935\n",
            "936\n",
            "937\n",
            "938\n",
            "939\n",
            "940\n",
            "941\n",
            "942\n",
            "943\n",
            "944\n",
            "945\n",
            "946\n",
            "947\n",
            "948\n",
            "949\n",
            "950\n",
            "951\n",
            "952\n",
            "953\n",
            "954\n",
            "955\n",
            "956\n",
            "957\n",
            "958\n",
            "959\n",
            "960\n",
            "961\n",
            "962\n",
            "963\n",
            "964\n",
            "965\n",
            "966\n",
            "967\n",
            "968\n",
            "969\n",
            "970\n",
            "971\n",
            "972\n",
            "973\n",
            "974\n",
            "975\n",
            "976\n",
            "977\n",
            "978\n",
            "979\n",
            "980\n",
            "981\n",
            "982\n",
            "983\n",
            "984\n",
            "985\n",
            "986\n",
            "987\n",
            "988\n",
            "989\n",
            "990\n",
            "991\n",
            "992\n",
            "993\n",
            "994\n",
            "995\n",
            "996\n",
            "997\n",
            "998\n",
            "999\n",
            "1000\n",
            "1001\n",
            "1002\n",
            "1003\n",
            "1004\n",
            "1005\n",
            "1006\n",
            "1007\n",
            "1008\n",
            "1009\n",
            "1010\n",
            "1011\n",
            "1012\n",
            "1013\n",
            "1014\n",
            "1015\n",
            "1016\n",
            "1017\n",
            "1018\n",
            "1019\n",
            "1020\n",
            "1021\n",
            "1022\n",
            "1023\n",
            "1024\n",
            "1025\n",
            "1026\n",
            "1027\n",
            "1028\n",
            "1029\n",
            "1030\n",
            "1031\n",
            "1032\n",
            "1033\n",
            "1034\n",
            "1035\n",
            "1036\n",
            "1037\n",
            "1038\n",
            "1039\n",
            "1040\n",
            "1041\n",
            "1042\n",
            "1043\n",
            "1044\n",
            "1045\n",
            "1046\n",
            "1047\n",
            "1048\n",
            "1049\n",
            "1050\n",
            "1051\n",
            "1052\n",
            "1053\n",
            "1054\n",
            "1055\n",
            "1056\n",
            "1057\n",
            "1058\n",
            "1059\n",
            "1060\n",
            "1061\n",
            "1062\n",
            "1063\n",
            "1064\n",
            "1065\n",
            "1066\n",
            "1067\n",
            "1068\n",
            "1069\n",
            "1070\n",
            "1071\n",
            "1072\n",
            "1073\n",
            "1074\n",
            "1075\n",
            "1076\n",
            "1077\n",
            "1078\n",
            "1079\n",
            "1080\n",
            "1081\n",
            "1082\n",
            "1083\n",
            "1084\n",
            "1085\n",
            "1086\n",
            "1087\n",
            "1088\n",
            "1089\n",
            "1090\n",
            "1091\n",
            "1092\n",
            "1093\n",
            "1094\n",
            "1095\n",
            "1096\n",
            "1097\n",
            "1098\n",
            "1099\n",
            "1100\n",
            "1101\n",
            "1102\n",
            "1103\n",
            "1104\n",
            "1105\n",
            "1106\n",
            "1107\n",
            "1108\n",
            "1109\n",
            "1110\n",
            "1111\n",
            "1112\n",
            "1113\n",
            "1114\n",
            "1115\n",
            "1116\n",
            "1117\n",
            "1118\n",
            "1119\n",
            "1120\n",
            "1121\n",
            "1122\n",
            "1123\n",
            "1124\n",
            "1125\n",
            "1126\n",
            "1127\n",
            "1128\n",
            "1129\n",
            "1130\n",
            "1131\n",
            "1132\n",
            "1133\n",
            "1134\n",
            "1135\n",
            "1136\n",
            "1137\n",
            "1138\n",
            "1139\n",
            "1140\n",
            "1141\n",
            "1142\n",
            "1143\n",
            "1144\n",
            "1145\n",
            "1146\n",
            "1147\n",
            "1148\n",
            "1149\n",
            "1150\n",
            "1151\n",
            "1152\n",
            "1153\n",
            "1154\n",
            "1155\n",
            "1156\n",
            "1157\n",
            "1158\n",
            "1159\n",
            "1160\n",
            "1161\n",
            "1162\n",
            "1163\n",
            "1164\n",
            "1165\n",
            "1166\n",
            "1167\n",
            "1168\n",
            "1169\n",
            "1170\n",
            "1171\n",
            "1172\n",
            "1173\n",
            "1174\n",
            "1175\n",
            "1176\n",
            "1177\n",
            "1178\n",
            "1179\n",
            "1180\n",
            "1181\n",
            "1182\n",
            "1183\n",
            "1184\n",
            "1185\n",
            "1186\n",
            "1187\n",
            "1188\n",
            "1189\n",
            "1190\n",
            "1191\n",
            "1192\n",
            "1193\n",
            "1194\n",
            "1195\n",
            "1196\n",
            "1197\n",
            "1198\n",
            "1199\n",
            "1200\n",
            "1201\n",
            "1202\n",
            "1203\n",
            "1204\n",
            "1205\n",
            "1206\n",
            "1207\n",
            "1208\n",
            "1209\n",
            "1210\n",
            "1211\n",
            "1212\n",
            "1213\n",
            "1214\n",
            "1215\n",
            "1216\n",
            "1217\n",
            "1218\n",
            "1219\n",
            "1220\n",
            "1221\n",
            "1222\n",
            "1223\n",
            "1224\n",
            "1225\n",
            "1226\n",
            "1227\n",
            "1228\n",
            "1229\n",
            "1230\n",
            "1231\n",
            "1232\n",
            "1233\n",
            "1234\n",
            "1235\n",
            "1236\n",
            "1237\n",
            "1238\n",
            "1239\n",
            "1240\n",
            "1241\n",
            "1242\n",
            "1243\n",
            "1244\n",
            "1245\n",
            "1246\n",
            "1247\n",
            "1248\n",
            "1249\n",
            "1250\n",
            "1251\n",
            "1252\n",
            "1253\n",
            "1254\n",
            "1255\n",
            "1256\n",
            "1257\n",
            "1258\n",
            "1259\n",
            "1260\n",
            "1261\n",
            "1262\n",
            "1263\n",
            "1264\n",
            "1265\n",
            "1266\n",
            "1267\n",
            "1268\n",
            "1269\n",
            "1270\n",
            "1271\n",
            "1272\n",
            "1273\n",
            "1274\n",
            "1275\n",
            "1276\n",
            "1277\n",
            "1278\n",
            "1279\n",
            "1280\n",
            "1281\n",
            "1282\n",
            "1283\n",
            "1284\n",
            "1285\n",
            "1286\n",
            "1287\n",
            "1288\n",
            "1289\n",
            "1290\n",
            "1291\n",
            "1292\n",
            "1293\n",
            "1294\n",
            "1295\n",
            "1296\n",
            "1297\n",
            "1298\n",
            "1299\n",
            "1300\n",
            "1301\n",
            "1302\n",
            "1303\n",
            "1304\n",
            "1305\n",
            "1306\n",
            "1307\n",
            "1308\n",
            "1309\n",
            "1310\n",
            "1311\n",
            "1312\n",
            "1313\n",
            "1314\n",
            "1315\n",
            "1316\n",
            "1317\n",
            "1318\n",
            "1319\n",
            "1320\n",
            "1321\n",
            "1322\n",
            "1323\n",
            "1324\n",
            "1325\n",
            "1326\n",
            "1327\n",
            "1328\n",
            "1329\n",
            "1330\n",
            "1331\n",
            "1332\n",
            "1333\n",
            "1334\n",
            "1335\n",
            "1336\n",
            "1337\n",
            "1338\n",
            "1339\n",
            "1340\n",
            "1341\n",
            "1342\n",
            "1343\n",
            "1344\n",
            "1345\n",
            "1346\n",
            "1347\n",
            "1348\n",
            "1349\n",
            "1350\n",
            "1351\n",
            "1352\n",
            "1353\n",
            "1354\n",
            "1355\n",
            "1356\n",
            "1357\n",
            "1358\n",
            "1359\n",
            "1360\n",
            "1361\n",
            "1362\n",
            "1363\n",
            "1364\n",
            "1365\n",
            "1366\n",
            "1367\n",
            "1368\n",
            "1369\n",
            "1370\n",
            "1371\n",
            "1372\n",
            "1373\n",
            "1374\n",
            "1375\n",
            "1376\n",
            "1377\n",
            "1378\n",
            "1379\n",
            "1380\n",
            "1381\n",
            "1382\n",
            "1383\n",
            "1384\n",
            "1385\n",
            "1386\n",
            "1387\n",
            "1388\n",
            "1389\n",
            "1390\n",
            "1391\n",
            "1392\n",
            "1393\n",
            "1394\n",
            "1395\n",
            "1396\n",
            "1397\n",
            "1398\n",
            "1399\n",
            "1400\n",
            "1401\n",
            "1402\n",
            "1403\n",
            "1404\n",
            "1405\n",
            "1406\n",
            "1407\n",
            "1408\n",
            "1409\n",
            "1410\n",
            "1411\n",
            "1412\n",
            "1413\n",
            "1414\n",
            "1415\n",
            "1416\n",
            "1417\n",
            "1418\n",
            "1419\n",
            "1420\n",
            "1421\n",
            "1422\n",
            "1423\n",
            "1424\n",
            "1425\n",
            "1426\n",
            "1427\n",
            "1428\n",
            "1429\n",
            "1430\n",
            "1431\n",
            "1432\n",
            "1433\n",
            "1434\n",
            "1435\n",
            "1436\n",
            "1437\n",
            "1438\n",
            "1439\n",
            "1440\n",
            "1441\n",
            "1442\n",
            "1443\n",
            "1444\n",
            "1445\n",
            "1446\n",
            "1447\n",
            "1448\n",
            "1449\n",
            "1450\n",
            "1451\n",
            "1452\n",
            "1453\n",
            "1454\n",
            "1455\n",
            "1456\n",
            "1457\n",
            "1458\n",
            "1459\n",
            "1460\n",
            "1461\n",
            "1462\n",
            "1463\n",
            "1464\n",
            "1465\n",
            "1466\n",
            "1467\n",
            "1468\n",
            "1469\n",
            "1470\n",
            "1471\n",
            "1472\n",
            "1473\n",
            "1474\n",
            "1475\n",
            "1476\n",
            "1477\n",
            "1478\n",
            "1479\n",
            "1480\n",
            "1481\n",
            "1482\n",
            "1483\n",
            "1484\n",
            "1485\n",
            "1486\n",
            "1487\n",
            "1488\n",
            "1489\n",
            "1490\n",
            "1491\n",
            "1492\n",
            "1493\n",
            "1494\n",
            "1495\n",
            "1496\n",
            "1497\n",
            "1498\n",
            "1499\n",
            "1500\n",
            "1501\n",
            "1502\n",
            "1503\n",
            "1504\n",
            "1505\n",
            "1506\n",
            "1507\n",
            "1508\n",
            "1509\n",
            "1510\n",
            "1511\n",
            "1512\n",
            "1513\n",
            "1514\n",
            "1515\n",
            "1516\n",
            "1517\n",
            "1518\n",
            "1519\n",
            "1520\n",
            "1521\n",
            "1522\n",
            "1523\n",
            "1524\n",
            "1525\n",
            "1526\n",
            "1527\n",
            "1528\n",
            "1529\n",
            "1530\n",
            "1531\n",
            "1532\n",
            "1533\n",
            "1534\n",
            "1535\n",
            "1536\n",
            "1537\n",
            "1538\n",
            "1539\n",
            "1540\n",
            "1541\n",
            "1542\n",
            "1543\n",
            "1544\n",
            "1545\n",
            "1546\n",
            "1547\n",
            "1548\n",
            "1549\n",
            "1550\n",
            "1551\n",
            "1552\n",
            "1553\n",
            "1554\n",
            "1555\n",
            "1556\n",
            "1557\n",
            "1558\n",
            "1559\n",
            "1560\n",
            "1561\n",
            "1562\n",
            "1563\n",
            "1564\n",
            "1565\n",
            "1566\n",
            "1567\n",
            "1568\n",
            "1569\n",
            "1570\n",
            "1571\n",
            "1572\n",
            "1573\n",
            "1574\n",
            "1575\n",
            "1576\n",
            "1577\n",
            "1578\n",
            "1579\n",
            "1580\n",
            "1581\n",
            "1582\n",
            "1583\n",
            "1584\n",
            "1585\n",
            "1586\n",
            "1587\n",
            "1588\n",
            "1589\n",
            "1590\n",
            "1591\n",
            "1592\n",
            "1593\n",
            "1594\n",
            "1595\n",
            "1596\n",
            "1597\n",
            "1598\n",
            "1599\n",
            "1600\n",
            "1601\n",
            "1602\n",
            "1603\n",
            "1604\n",
            "1605\n",
            "1606\n",
            "1607\n",
            "1608\n",
            "1609\n",
            "1610\n",
            "1611\n",
            "1612\n",
            "1613\n",
            "1614\n",
            "1615\n",
            "1616\n",
            "1617\n",
            "1618\n",
            "1619\n",
            "1620\n",
            "1621\n",
            "1622\n",
            "1623\n",
            "1624\n",
            "1625\n",
            "1626\n",
            "1627\n",
            "1628\n",
            "1629\n",
            "1630\n",
            "1631\n",
            "1632\n",
            "1633\n",
            "1634\n",
            "1635\n",
            "1636\n",
            "1637\n",
            "1638\n",
            "1639\n",
            "1640\n",
            "1641\n",
            "1642\n",
            "1643\n",
            "1644\n",
            "1645\n",
            "1646\n",
            "1647\n",
            "1648\n",
            "1649\n",
            "1650\n",
            "1651\n",
            "1652\n",
            "1653\n",
            "1654\n",
            "1655\n",
            "1656\n",
            "1657\n",
            "1658\n",
            "1659\n",
            "1660\n",
            "1661\n",
            "1662\n",
            "1663\n",
            "1664\n",
            "1665\n",
            "1666\n",
            "1667\n",
            "1668\n",
            "1669\n",
            "1670\n",
            "1671\n",
            "1672\n",
            "1673\n",
            "1674\n",
            "1675\n",
            "1676\n",
            "1677\n",
            "1678\n",
            "1679\n",
            "1680\n",
            "1681\n",
            "1682\n",
            "1683\n",
            "1684\n",
            "1685\n",
            "1686\n",
            "1687\n",
            "1688\n",
            "1689\n",
            "1690\n",
            "1691\n",
            "1692\n",
            "1693\n",
            "1694\n",
            "1695\n",
            "1696\n",
            "1697\n",
            "1698\n",
            "1699\n",
            "1700\n",
            "1701\n",
            "1702\n",
            "1703\n",
            "1704\n",
            "1705\n",
            "1706\n",
            "1707\n",
            "1708\n",
            "1709\n",
            "1710\n",
            "1711\n",
            "1712\n",
            "1713\n",
            "1714\n",
            "1715\n",
            "1716\n",
            "1717\n",
            "1718\n",
            "1719\n",
            "1720\n",
            "1721\n",
            "1722\n",
            "1723\n",
            "1724\n",
            "1725\n",
            "1726\n",
            "1727\n",
            "1728\n",
            "1729\n",
            "1730\n",
            "1731\n",
            "1732\n",
            "1733\n",
            "1734\n",
            "1735\n",
            "1736\n",
            "1737\n",
            "1738\n",
            "1739\n",
            "1740\n",
            "1741\n",
            "1742\n",
            "1743\n",
            "1744\n",
            "1745\n",
            "1746\n",
            "1747\n",
            "1748\n",
            "1749\n",
            "1750\n",
            "1751\n",
            "1752\n",
            "1753\n",
            "1754\n",
            "1755\n",
            "1756\n",
            "1757\n",
            "1758\n",
            "1759\n",
            "1760\n",
            "1761\n",
            "1762\n",
            "1763\n",
            "1764\n",
            "1765\n",
            "1766\n",
            "1767\n",
            "1768\n",
            "1769\n",
            "1770\n",
            "1771\n",
            "1772\n",
            "1773\n",
            "1774\n",
            "1775\n",
            "1776\n",
            "1777\n",
            "1778\n",
            "1779\n",
            "1780\n",
            "1781\n",
            "1782\n",
            "1783\n",
            "1784\n",
            "1785\n",
            "1786\n",
            "1787\n",
            "1788\n",
            "1789\n",
            "1790\n",
            "1791\n",
            "1792\n",
            "1793\n",
            "1794\n",
            "1795\n",
            "1796\n",
            "1797\n",
            "1798\n",
            "1799\n",
            "1800\n",
            "1801\n",
            "1802\n",
            "1803\n",
            "1804\n",
            "1805\n",
            "1806\n",
            "1807\n",
            "1808\n",
            "1809\n",
            "1810\n",
            "1811\n",
            "1812\n",
            "1813\n",
            "1814\n",
            "1815\n",
            "1816\n",
            "1817\n",
            "1818\n",
            "1819\n",
            "1820\n",
            "1821\n",
            "1822\n",
            "1823\n",
            "1824\n",
            "1825\n",
            "1826\n",
            "1827\n",
            "1828\n",
            "1829\n",
            "1830\n",
            "1831\n",
            "1832\n",
            "1833\n",
            "1834\n",
            "1835\n",
            "1836\n",
            "1837\n",
            "1838\n",
            "1839\n",
            "1840\n",
            "1841\n",
            "1842\n",
            "1843\n",
            "1844\n",
            "1845\n",
            "1846\n",
            "1847\n",
            "1848\n",
            "1849\n",
            "1850\n",
            "1851\n",
            "1852\n",
            "1853\n",
            "1854\n",
            "1855\n",
            "1856\n",
            "1857\n",
            "1858\n",
            "1859\n",
            "1860\n",
            "1861\n",
            "1862\n",
            "1863\n",
            "1864\n",
            "1865\n",
            "1866\n",
            "1867\n",
            "1868\n",
            "1869\n",
            "1870\n",
            "1871\n",
            "1872\n",
            "1873\n",
            "1874\n",
            "1875\n",
            "1876\n",
            "1877\n",
            "1878\n",
            "1879\n",
            "1880\n",
            "1881\n",
            "1882\n",
            "1883\n",
            "1884\n",
            "1885\n",
            "1886\n",
            "1887\n",
            "1888\n",
            "1889\n",
            "1890\n",
            "1891\n",
            "1892\n",
            "1893\n",
            "1894\n",
            "1895\n",
            "1896\n",
            "1897\n",
            "1898\n",
            "1899\n",
            "1900\n",
            "1901\n",
            "1902\n",
            "1903\n",
            "1904\n",
            "1905\n",
            "1906\n",
            "1907\n",
            "1908\n",
            "1909\n",
            "1910\n",
            "1911\n",
            "1912\n",
            "1913\n",
            "1914\n",
            "1915\n",
            "1916\n",
            "1917\n",
            "1918\n",
            "1919\n",
            "1920\n",
            "1921\n",
            "1922\n",
            "1923\n",
            "1924\n",
            "1925\n",
            "1926\n",
            "1927\n",
            "1928\n",
            "1929\n",
            "1930\n",
            "1931\n",
            "1932\n",
            "1933\n",
            "1934\n",
            "1935\n",
            "1936\n",
            "1937\n",
            "1938\n",
            "1939\n",
            "1940\n",
            "1941\n",
            "1942\n",
            "1943\n",
            "1944\n",
            "1945\n",
            "1946\n",
            "1947\n",
            "1948\n",
            "1949\n",
            "1950\n",
            "1951\n",
            "1952\n",
            "1953\n",
            "1954\n",
            "1955\n",
            "1956\n",
            "1957\n",
            "1958\n",
            "1959\n",
            "1960\n",
            "1961\n",
            "1962\n",
            "1963\n",
            "1964\n",
            "1965\n",
            "1966\n",
            "1967\n",
            "1968\n",
            "1969\n",
            "1970\n",
            "1971\n",
            "1972\n",
            "1973\n",
            "1974\n",
            "1975\n",
            "1976\n",
            "1977\n",
            "1978\n",
            "1979\n",
            "1980\n",
            "1981\n",
            "1982\n",
            "1983\n",
            "1984\n",
            "1985\n",
            "1986\n",
            "1987\n",
            "1988\n",
            "1989\n",
            "1990\n",
            "1991\n",
            "1992\n",
            "1993\n",
            "1994\n",
            "1995\n",
            "1996\n",
            "1997\n",
            "1998\n",
            "1999\n",
            "2000\n",
            "2001\n",
            "2002\n",
            "2003\n",
            "2004\n",
            "2005\n",
            "2006\n",
            "2007\n",
            "2008\n",
            "2009\n",
            "2010\n",
            "2011\n",
            "2012\n",
            "2013\n",
            "2014\n",
            "2015\n",
            "2016\n",
            "2017\n",
            "2018\n",
            "2019\n",
            "2020\n",
            "2021\n",
            "2022\n",
            "2023\n",
            "2024\n",
            "2025\n",
            "2026\n",
            "2027\n",
            "2028\n",
            "2029\n",
            "2030\n",
            "2031\n",
            "2032\n",
            "2033\n",
            "2034\n",
            "2035\n",
            "2036\n",
            "2037\n",
            "2038\n",
            "2039\n",
            "2040\n",
            "2041\n",
            "2042\n",
            "2043\n",
            "2044\n",
            "2045\n",
            "2046\n",
            "2047\n",
            "2048\n",
            "2049\n",
            "2050\n",
            "2051\n",
            "2052\n",
            "2053\n",
            "2054\n",
            "2055\n",
            "2056\n",
            "2057\n",
            "2058\n",
            "2059\n",
            "2060\n",
            "2061\n",
            "2062\n",
            "2063\n",
            "2064\n",
            "2065\n",
            "2066\n",
            "2067\n",
            "2068\n",
            "2069\n",
            "2070\n",
            "2071\n",
            "2072\n",
            "2073\n",
            "2074\n",
            "2075\n",
            "2076\n",
            "2077\n",
            "2078\n",
            "2079\n",
            "2080\n",
            "2081\n",
            "2082\n",
            "2083\n",
            "2084\n",
            "2085\n",
            "2086\n",
            "2087\n",
            "2088\n",
            "2089\n",
            "2090\n",
            "2091\n",
            "2092\n",
            "2093\n",
            "2094\n",
            "2095\n",
            "2096\n",
            "2097\n",
            "2098\n",
            "2099\n",
            "2100\n",
            "2101\n",
            "2102\n",
            "2103\n",
            "2104\n",
            "2105\n",
            "2106\n",
            "2107\n",
            "2108\n",
            "2109\n",
            "2110\n",
            "2111\n",
            "2112\n",
            "2113\n",
            "2114\n",
            "2115\n",
            "2116\n",
            "2117\n",
            "2118\n",
            "2119\n",
            "2120\n",
            "2121\n",
            "2122\n",
            "2123\n",
            "2124\n",
            "2125\n",
            "2126\n",
            "2127\n",
            "2128\n",
            "2129\n",
            "2130\n",
            "2131\n",
            "2132\n",
            "2133\n",
            "2134\n",
            "2135\n",
            "2136\n",
            "2137\n",
            "2138\n",
            "2139\n",
            "2140\n",
            "2141\n",
            "2142\n",
            "2143\n",
            "2144\n",
            "2145\n",
            "2146\n",
            "2147\n",
            "2148\n",
            "2149\n",
            "2150\n",
            "2151\n",
            "2152\n",
            "2153\n",
            "2154\n",
            "2155\n",
            "2156\n",
            "2157\n",
            "2158\n",
            "2159\n",
            "2160\n",
            "2161\n",
            "2162\n",
            "2163\n",
            "2164\n",
            "2165\n",
            "2166\n",
            "2167\n",
            "2168\n",
            "2169\n",
            "2170\n",
            "2171\n",
            "2172\n",
            "2173\n",
            "2174\n",
            "2175\n",
            "2176\n",
            "2177\n",
            "2178\n",
            "2179\n",
            "2180\n",
            "2181\n",
            "2182\n",
            "2183\n",
            "2184\n",
            "2185\n",
            "2186\n",
            "2187\n",
            "2188\n",
            "2189\n",
            "2190\n",
            "2191\n",
            "2192\n",
            "2193\n",
            "2194\n",
            "2195\n",
            "2196\n",
            "2197\n",
            "2198\n",
            "2199\n",
            "2200\n",
            "2201\n",
            "2202\n",
            "2203\n",
            "2204\n",
            "2205\n",
            "2206\n",
            "2207\n",
            "2208\n",
            "2209\n",
            "2210\n",
            "2211\n",
            "2212\n",
            "2213\n",
            "2214\n",
            "2215\n",
            "2216\n",
            "2217\n",
            "2218\n",
            "2219\n",
            "2220\n",
            "2221\n",
            "2222\n",
            "2223\n",
            "2224\n",
            "2225\n",
            "2226\n",
            "2227\n",
            "2228\n",
            "2229\n",
            "2230\n",
            "2231\n",
            "2232\n",
            "2233\n",
            "2234\n",
            "2235\n",
            "2236\n",
            "2237\n",
            "2238\n",
            "2239\n",
            "2240\n",
            "2241\n",
            "2242\n",
            "2243\n",
            "2244\n",
            "2245\n",
            "2246\n",
            "2247\n",
            "2248\n",
            "2249\n",
            "2250\n",
            "2251\n",
            "2252\n",
            "2253\n",
            "2254\n",
            "2255\n",
            "2256\n",
            "2257\n",
            "2258\n",
            "2259\n",
            "2260\n",
            "2261\n",
            "2262\n",
            "2263\n",
            "2264\n",
            "2265\n",
            "2266\n",
            "2267\n",
            "2268\n",
            "2269\n",
            "2270\n",
            "2271\n",
            "2272\n",
            "2273\n",
            "2274\n",
            "2275\n",
            "2276\n",
            "2277\n",
            "2278\n",
            "2279\n",
            "2280\n",
            "2281\n",
            "2282\n",
            "2283\n",
            "2284\n",
            "2285\n",
            "2286\n",
            "2287\n",
            "2288\n",
            "2289\n",
            "2290\n",
            "2291\n",
            "2292\n",
            "2293\n",
            "2294\n",
            "2295\n",
            "2296\n",
            "2297\n",
            "2298\n",
            "2299\n",
            "2300\n",
            "2301\n",
            "2302\n",
            "2303\n",
            "2304\n",
            "2305\n",
            "2306\n",
            "2307\n",
            "2308\n",
            "2309\n",
            "2310\n",
            "2311\n",
            "2312\n",
            "2313\n",
            "2314\n",
            "2315\n",
            "2316\n",
            "2317\n",
            "2318\n",
            "2319\n",
            "2320\n",
            "2321\n",
            "2322\n",
            "2323\n",
            "2324\n",
            "2325\n",
            "2326\n",
            "2327\n",
            "2328\n",
            "2329\n",
            "2330\n",
            "2331\n",
            "2332\n",
            "2333\n",
            "2334\n",
            "2335\n",
            "2336\n",
            "2337\n",
            "2338\n",
            "2339\n",
            "2340\n",
            "2341\n",
            "2342\n",
            "2343\n",
            "2344\n",
            "2345\n",
            "2346\n",
            "2347\n",
            "2348\n",
            "2349\n",
            "2350\n",
            "2351\n",
            "2352\n",
            "2353\n",
            "2354\n",
            "2355\n",
            "2356\n",
            "2357\n",
            "2358\n",
            "2359\n",
            "2360\n",
            "2361\n",
            "2362\n",
            "2363\n",
            "2364\n",
            "2365\n",
            "2366\n",
            "2367\n",
            "2368\n",
            "2369\n",
            "2370\n",
            "2371\n",
            "2372\n",
            "2373\n",
            "2374\n",
            "2375\n",
            "2376\n",
            "2377\n",
            "2378\n",
            "2379\n",
            "2380\n",
            "2381\n",
            "2382\n",
            "2383\n",
            "2384\n",
            "2385\n",
            "2386\n",
            "2387\n",
            "2388\n",
            "2389\n",
            "2390\n",
            "2391\n",
            "2392\n",
            "2393\n",
            "2394\n",
            "2395\n",
            "2396\n",
            "2397\n",
            "2398\n",
            "2399\n",
            "2400\n",
            "2401\n",
            "2402\n",
            "2403\n",
            "2404\n",
            "2405\n",
            "2406\n",
            "2407\n",
            "2408\n",
            "2409\n",
            "2410\n",
            "2411\n",
            "2412\n",
            "2413\n",
            "2414\n",
            "2415\n",
            "2416\n",
            "2417\n",
            "2418\n",
            "2419\n",
            "2420\n",
            "2421\n",
            "2422\n",
            "2423\n",
            "2424\n",
            "2425\n",
            "2426\n",
            "2427\n",
            "2428\n",
            "2429\n",
            "2430\n",
            "2431\n",
            "2432\n",
            "2433\n",
            "2434\n",
            "2435\n",
            "2436\n",
            "2437\n",
            "2438\n",
            "2439\n",
            "2440\n",
            "2441\n",
            "2442\n",
            "2443\n",
            "2444\n",
            "2445\n",
            "2446\n",
            "2447\n",
            "2448\n",
            "2449\n",
            "2450\n",
            "2451\n",
            "2452\n",
            "2453\n",
            "2454\n",
            "2455\n",
            "2456\n",
            "2457\n",
            "2458\n",
            "2459\n",
            "2460\n",
            "2461\n",
            "2462\n",
            "2463\n",
            "2464\n",
            "2465\n",
            "2466\n",
            "2467\n",
            "2468\n",
            "2469\n",
            "2470\n",
            "2471\n",
            "2472\n",
            "2473\n",
            "2474\n",
            "2475\n",
            "2476\n",
            "2477\n",
            "2478\n",
            "2479\n",
            "2480\n",
            "2481\n",
            "2482\n",
            "2483\n",
            "2484\n",
            "2485\n",
            "2486\n",
            "2487\n",
            "2488\n",
            "2489\n",
            "2490\n",
            "2491\n",
            "2492\n",
            "2493\n",
            "2494\n",
            "2495\n",
            "2496\n",
            "2497\n",
            "2498\n",
            "2499\n",
            "2500\n",
            "2501\n",
            "2502\n",
            "2503\n",
            "2504\n",
            "2505\n",
            "2506\n",
            "2507\n",
            "2508\n",
            "2509\n",
            "2510\n",
            "2511\n",
            "2512\n",
            "2513\n",
            "2514\n",
            "2515\n",
            "2516\n",
            "2517\n",
            "2518\n",
            "2519\n",
            "2520\n",
            "2521\n",
            "2522\n",
            "2523\n",
            "2524\n",
            "2525\n",
            "2526\n",
            "2527\n",
            "2528\n",
            "2529\n",
            "2530\n",
            "2531\n",
            "2532\n",
            "2533\n",
            "2534\n",
            "2535\n",
            "2536\n",
            "2537\n",
            "2538\n",
            "2539\n",
            "2540\n",
            "2541\n",
            "2542\n",
            "2543\n",
            "2544\n",
            "2545\n",
            "2546\n",
            "2547\n",
            "2548\n",
            "2549\n",
            "2550\n",
            "2551\n",
            "2552\n",
            "2553\n",
            "2554\n",
            "2555\n",
            "2556\n",
            "2557\n",
            "2558\n",
            "2559\n",
            "2560\n",
            "2561\n",
            "2562\n",
            "2563\n",
            "2564\n",
            "2565\n",
            "2566\n",
            "2567\n",
            "2568\n",
            "2569\n",
            "2570\n",
            "2571\n",
            "2572\n",
            "2573\n",
            "2574\n",
            "2575\n",
            "2576\n",
            "2577\n",
            "2578\n",
            "2579\n",
            "2580\n",
            "2581\n",
            "2582\n",
            "2583\n",
            "2584\n",
            "2585\n",
            "2586\n",
            "2587\n",
            "2588\n",
            "2589\n",
            "2590\n",
            "2591\n",
            "2592\n",
            "2593\n",
            "2594\n",
            "2595\n",
            "2596\n",
            "2597\n",
            "2598\n",
            "2599\n",
            "2600\n",
            "2601\n",
            "2602\n",
            "2603\n",
            "2604\n",
            "2605\n",
            "2606\n",
            "2607\n",
            "2608\n",
            "2609\n",
            "2610\n",
            "2611\n",
            "2612\n",
            "2613\n",
            "2614\n",
            "2615\n",
            "2616\n",
            "2617\n",
            "2618\n",
            "2619\n",
            "2620\n",
            "2621\n",
            "2622\n",
            "2623\n",
            "2624\n",
            "2625\n",
            "2626\n",
            "2627\n",
            "2628\n",
            "2629\n",
            "2630\n",
            "2631\n",
            "2632\n",
            "2633\n",
            "2634\n",
            "2635\n",
            "2636\n",
            "2637\n",
            "2638\n",
            "2639\n",
            "2640\n",
            "2641\n",
            "2642\n",
            "2643\n",
            "2644\n"
          ],
          "name": "stdout"
        }
      ]
    },
    {
      "cell_type": "code",
      "metadata": {
        "colab": {
          "base_uri": "https://localhost:8080/"
        },
        "id": "8Bf5Rq_lJcAm",
        "outputId": "52a56676-da4d-4ab7-c54d-597d0a2a8911"
      },
      "source": [
        "len(production_edges)"
      ],
      "execution_count": 36,
      "outputs": [
        {
          "output_type": "execute_result",
          "data": {
            "text/plain": [
              "3269727"
            ]
          },
          "metadata": {
            "tags": []
          },
          "execution_count": 36
        }
      ]
    },
    {
      "cell_type": "code",
      "metadata": {
        "id": "63SgSz7bYffD"
      },
      "source": [
        "import networkx as nx\n",
        "G = nx.Graph()\n",
        "G.add_edges_from(production_edges)"
      ],
      "execution_count": 37,
      "outputs": []
    },
    {
      "cell_type": "code",
      "metadata": {
        "colab": {
          "base_uri": "https://localhost:8080/"
        },
        "id": "BR98d2h8ZO3l",
        "outputId": "c952cf8b-e3ec-43f8-bb77-75efec73fc0d"
      },
      "source": [
        "import community as community_louvain\n",
        "partition = community_louvain.best_partition(G, weight='weight')\n",
        "np.unique(list(partition.values()))"
      ],
      "execution_count": 38,
      "outputs": [
        {
          "output_type": "execute_result",
          "data": {
            "text/plain": [
              "array([0, 1])"
            ]
          },
          "metadata": {
            "tags": []
          },
          "execution_count": 38
        }
      ]
    },
    {
      "cell_type": "code",
      "metadata": {
        "id": "2iXKqx4ElzVQ"
      },
      "source": [
        "community_df = pd.DataFrame({'cast_id':list(partition.keys()), 'community':list(partition.values())})"
      ],
      "execution_count": 49,
      "outputs": []
    },
    {
      "cell_type": "code",
      "metadata": {
        "id": "vb1zxxe4nm0i"
      },
      "source": [
        "cast_ratings = cast_ratings.merge(community_df)"
      ],
      "execution_count": 51,
      "outputs": []
    },
    {
      "cell_type": "code",
      "metadata": {
        "id": "-DIXVfaPqfVe"
      },
      "source": [
        ""
      ],
      "execution_count": 80,
      "outputs": []
    },
    {
      "cell_type": "code",
      "metadata": {
        "colab": {
          "base_uri": "https://localhost:8080/"
        },
        "id": "pz13YBhIpNo6",
        "outputId": "ebeb2d21-9897-47f7-f4fe-93192094c269"
      },
      "source": [
        "scipy.stats.ttest_ind(cast_ratings[cast_ratings['community']==0]['avg_rating'], cast_ratings[cast_ratings['community']==1]['avg_rating'])"
      ],
      "execution_count": 60,
      "outputs": [
        {
          "output_type": "execute_result",
          "data": {
            "text/plain": [
              "Ttest_indResult(statistic=-56.64290348056189, pvalue=0.0)"
            ]
          },
          "metadata": {
            "tags": []
          },
          "execution_count": 60
        }
      ]
    },
    {
      "cell_type": "code",
      "metadata": {
        "colab": {
          "base_uri": "https://localhost:8080/"
        },
        "id": "NMKlBm7jp0G4",
        "outputId": "c8253c24-a3db-48e4-c964-df13908449cc"
      },
      "source": [
        "np.mean(cast_ratings[cast_ratings['community']==0]['avg_rating'])/2, np.mean(cast_ratings[cast_ratings['community']==1]['avg_rating'])/2"
      ],
      "execution_count": 63,
      "outputs": [
        {
          "output_type": "execute_result",
          "data": {
            "text/plain": [
              "(2.831099099396861, 3.2623796986124094)"
            ]
          },
          "metadata": {
            "tags": []
          },
          "execution_count": 63
        }
      ]
    },
    {
      "cell_type": "code",
      "metadata": {
        "colab": {
          "base_uri": "https://localhost:8080/"
        },
        "id": "1688qfyvqBZK",
        "outputId": "1ed11472-e237-4933-d5c0-ac8a669a92d6"
      },
      "source": [
        "cast_ratings['community'].value_counts()"
      ],
      "execution_count": 80,
      "outputs": [
        {
          "output_type": "execute_result",
          "data": {
            "text/plain": [
              "1    1349\n",
              "0    1297\n",
              "Name: community, dtype: int64"
            ]
          },
          "metadata": {
            "tags": []
          },
          "execution_count": 80
        }
      ]
    },
    {
      "cell_type": "code",
      "metadata": {
        "colab": {
          "base_uri": "https://localhost:8080/",
          "height": 353
        },
        "id": "AsbaqumCsGgd",
        "outputId": "6ce5e442-52c3-4826-f557-7105342305bb"
      },
      "source": [
        "plt.figure(figsize=(7,5))\n",
        "sns.boxplot(y=cast_ratings['avg_rating'], x=cast_ratings['community'])"
      ],
      "execution_count": 83,
      "outputs": [
        {
          "output_type": "execute_result",
          "data": {
            "text/plain": [
              "<matplotlib.axes._subplots.AxesSubplot at 0x7f2123b74810>"
            ]
          },
          "metadata": {
            "tags": []
          },
          "execution_count": 83
        },
        {
          "output_type": "display_data",
          "data": {
            "image/png": "[encoded data removed]",
            "text/plain": [
              "<Figure size 504x360 with 1 Axes>"
            ]
          },
          "metadata": {
            "tags": [],
            "needs_background": "light"
          }
        }
      ]
    },
    {
      "cell_type": "code",
      "metadata": {
        "id": "KIlNrJn4sRJ3"
      },
      "source": [
        "bad_actors = nx.pagerank(G.subgraph(community_df[community_df['community']==0]['cast_id'].values))\n",
        "good_actors = nx.pagerank(G.subgraph(community_df[community_df['community']==1]['cast_id'].values))"
      ],
      "execution_count": 88,
      "outputs": []
    },
    {
      "cell_type": "code",
      "metadata": {
        "id": "F1ss_EocvAQv"
      },
      "source": [
        "def name_actor(cast_df, x):\n",
        "    return cast_df[cast_df['cast_id']==x]['cast_name'].values[0]"
      ],
      "execution_count": null,
      "outputs": []
    },
    {
      "cell_type": "code",
      "metadata": {
        "colab": {
          "base_uri": "https://localhost:8080/"
        },
        "id": "zuALNgVOsjuK",
        "outputId": "dde38611-db74-43d4-f62a-c2607cedcba9"
      },
      "source": [
        "[(x[0], name_actor(cast_df, x[0]), x[1]) for x in sorted(bad_actors.items(), key=lambda x:x[1], reverse=True)[:20]]"
      ],
      "execution_count": 105,
      "outputs": [
        {
          "output_type": "execute_result",
          "data": {
            "text/plain": [
              "[(1904, 'Anthony Michael Hall', 0.0007790130919335551),\n",
              " (1926, 'Eddie Izzard', 0.0007790130919335551),\n",
              " (18313, 'Michael Rispoli', 0.0007790130919335551),\n",
              " (10224, 'Clifton James', 0.0007790130919335551),\n",
              " (2055, 'Robert Davi', 0.0007790130919335551),\n",
              " (59410, 'Bob Odenkirk', 0.0007790130919335551),\n",
              " (2141, 'Ned Bellamy', 0.0007790130919335551),\n",
              " (51310, 'Henry Wilcoxon', 0.0007790130919335551),\n",
              " (10367, 'John Waters', 0.0007790130919335551),\n",
              " (10461, 'Caroline Munro', 0.0007790130919335551),\n",
              " (26847, 'Adam West', 0.0007790130919335551),\n",
              " (1145, 'Zbigniew Zamachowski', 0.0007790130919335549),\n",
              " (50398, 'Devon Sawa', 0.0007790130919335549),\n",
              " (1272, 'Richard Bradford', 0.0007790130919335549),\n",
              " (1284, 'Noah Taylor', 0.0007790130919335549),\n",
              " (42279, 'Laura Fraser', 0.0007790130919335549),\n",
              " (34098, 'Ernie Adams', 0.0007790130919335549),\n",
              " (148868, 'Will Stanton', 0.0007790130919335549),\n",
              " (34187, 'Chuck Hamilton', 0.0007790130919335549),\n",
              " (83362, 'Dennis Burkley', 0.0007790130919335549)]"
            ]
          },
          "metadata": {
            "tags": []
          },
          "execution_count": 105
        }
      ]
    },
    {
      "cell_type": "code",
      "metadata": {
        "colab": {
          "base_uri": "https://localhost:8080/"
        },
        "id": "VLsgagRvsq8u",
        "outputId": "b2a4e9f1-7b62-427d-ba41-279e2022138a"
      },
      "source": [
        "[(x[0], name_actor(cast_df, x[0]), x[1]) for x in sorted(good_actors.items(), key=lambda x:x[1], reverse=True)[:20]]"
      ],
      "execution_count": 102,
      "outputs": [
        {
          "output_type": "execute_result",
          "data": {
            "text/plain": [
              "[(14405, 'Courteney Cox', 0.0007488870853460844),\n",
              " (6930, 'Diane Baker', 0.0007488870853460843),\n",
              " (7090, 'Kelsey Grammer', 0.0007488870853460843),\n",
              " (7621, 'Courtney Love', 0.0007488870853460843),\n",
              " (7631, 'Stella Stevens', 0.0007488870853460843),\n",
              " (7863, 'Tantoo Cardinal', 0.0007488870853460843),\n",
              " (8183, 'Kathleen Quinlan', 0.0007488870853460843),\n",
              " (8198, 'Ulrich Tukur', 0.0007488870853460843),\n",
              " (8253, 'Robert Ryan', 0.0007488870853460843),\n",
              " (8256, 'Anne Heche', 0.0007488870853460843),\n",
              " (8262, 'L.Q. Jones', 0.0007488870853460843),\n",
              " (8318, 'Brian Blessed', 0.0007488870853460843),\n",
              " (8608, 'Murray Hamilton', 0.0007488870853460843),\n",
              " (8727, 'Basil Rathbone', 0.0007488870853460843),\n",
              " (8728, 'Eugene Pallette', 0.0007488870853460843),\n",
              " (8730, 'Melville Cooper', 0.0007488870853460843),\n",
              " (8792, 'Lynn Cohen', 0.0007488870853460843),\n",
              " (8830, 'Henry B. Walthall', 0.0007488870853460843),\n",
              " (8874, 'Ernie Hudson', 0.0007488870853460843),\n",
              " (8949, 'Peter Fonda', 0.0007488870853460843)]"
            ]
          },
          "metadata": {
            "tags": []
          },
          "execution_count": 102
        }
      ]
    },
    {
      "cell_type": "code",
      "metadata": {
        "id": "imjuagM9vIRW"
      },
      "source": [
        "cast_ratings['name']=cast_ratings['cast_id'].apply(lambda x: name_actor(cast_df, x))"
      ],
      "execution_count": 112,
      "outputs": []
    },
    {
      "cell_type": "code",
      "metadata": {
        "colab": {
          "base_uri": "https://localhost:8080/",
          "height": 491
        },
        "id": "eKIA8cQLuebV",
        "outputId": "31323c59-76c8-4fa3-84c1-f4ba4ce36b9e"
      },
      "source": [
        "cast_ratings.sort_values(by=['avg_rating'])[:15]"
      ],
      "execution_count": 116,
      "outputs": [
        {
          "output_type": "execute_result",
          "data": {
            "text/html": [
              "<div>\n",
              "<style scoped>\n",
              "    .dataframe tbody tr th:only-of-type {\n",
              "        vertical-align: middle;\n",
              "    }\n",
              "\n",
              "    .dataframe tbody tr th {\n",
              "        vertical-align: top;\n",
              "    }\n",
              "\n",
              "    .dataframe thead th {\n",
              "        text-align: right;\n",
              "    }\n",
              "</style>\n",
              "<table border=\"1\" class=\"dataframe\">\n",
              "  <thead>\n",
              "    <tr style=\"text-align: right;\">\n",
              "      <th></th>\n",
              "      <th>cast_id</th>\n",
              "      <th>ratings</th>\n",
              "      <th>avg_rating</th>\n",
              "      <th>community</th>\n",
              "      <th>name</th>\n",
              "    </tr>\n",
              "  </thead>\n",
              "  <tbody>\n",
              "    <tr>\n",
              "      <th>2535</th>\n",
              "      <td>109701</td>\n",
              "      <td>[0.0, 0.0, 2.9, 6.0, 0.0, 7.0, 6.3, 0.0, 3.9]</td>\n",
              "      <td>2.900000</td>\n",
              "      <td>0</td>\n",
              "      <td>Barbara Hale</td>\n",
              "    </tr>\n",
              "    <tr>\n",
              "      <th>2414</th>\n",
              "      <td>83203</td>\n",
              "      <td>[6.9, 5.7, 0.0, 1.0, 0.0, 6.0]</td>\n",
              "      <td>3.266667</td>\n",
              "      <td>0</td>\n",
              "      <td>Fujio Suga</td>\n",
              "    </tr>\n",
              "    <tr>\n",
              "      <th>2397</th>\n",
              "      <td>80704</td>\n",
              "      <td>[8.5, 6.9, 7.0, 1.0, 0.0, 0.0, 0.0]</td>\n",
              "      <td>3.342857</td>\n",
              "      <td>0</td>\n",
              "      <td>Shintarô Katsu</td>\n",
              "    </tr>\n",
              "    <tr>\n",
              "      <th>2542</th>\n",
              "      <td>116157</td>\n",
              "      <td>[6.6, 5.0, 3.5, 5.5, 0.0, 0.0]</td>\n",
              "      <td>3.433333</td>\n",
              "      <td>0</td>\n",
              "      <td>Vesa-Matti Loiri</td>\n",
              "    </tr>\n",
              "    <tr>\n",
              "      <th>857</th>\n",
              "      <td>6832</td>\n",
              "      <td>[4.9, 6.7, 7.8, 0.0, 5.0, 0.0, 0.0]</td>\n",
              "      <td>3.485714</td>\n",
              "      <td>0</td>\n",
              "      <td>Melissa Leo</td>\n",
              "    </tr>\n",
              "    <tr>\n",
              "      <th>2313</th>\n",
              "      <td>64896</td>\n",
              "      <td>[6.1, 6.1, 2.9, 0.0, 5.9, 0.0]</td>\n",
              "      <td>3.500000</td>\n",
              "      <td>0</td>\n",
              "      <td>Michael Wong</td>\n",
              "    </tr>\n",
              "    <tr>\n",
              "      <th>948</th>\n",
              "      <td>8171</td>\n",
              "      <td>[6.1, 4.7, 0.0, 5.0, 5.3, 0.0]</td>\n",
              "      <td>3.516667</td>\n",
              "      <td>0</td>\n",
              "      <td>Ludacris</td>\n",
              "    </tr>\n",
              "    <tr>\n",
              "      <th>2544</th>\n",
              "      <td>116494</td>\n",
              "      <td>[5.5, 4.0, 2.1, 4.3, 5.0, 2.6, 1.7, 4.5]</td>\n",
              "      <td>3.712500</td>\n",
              "      <td>0</td>\n",
              "      <td>Eddy Waller</td>\n",
              "    </tr>\n",
              "    <tr>\n",
              "      <th>1277</th>\n",
              "      <td>12139</td>\n",
              "      <td>[5.1, 6.1, 4.5, 0.0, 5.1, 0.0, 5.3]</td>\n",
              "      <td>3.728571</td>\n",
              "      <td>0</td>\n",
              "      <td>Lolita Davidovich</td>\n",
              "    </tr>\n",
              "    <tr>\n",
              "      <th>1851</th>\n",
              "      <td>26727</td>\n",
              "      <td>[6.4, 5.6, 1.0, 5.0, 4.5, 0.0]</td>\n",
              "      <td>3.750000</td>\n",
              "      <td>0</td>\n",
              "      <td>Dean Shek</td>\n",
              "    </tr>\n",
              "    <tr>\n",
              "      <th>2490</th>\n",
              "      <td>96302</td>\n",
              "      <td>[4.6, 6.2, 4.9, 4.3, 0.0, 2.6]</td>\n",
              "      <td>3.766667</td>\n",
              "      <td>0</td>\n",
              "      <td>Paul E. Burns</td>\n",
              "    </tr>\n",
              "    <tr>\n",
              "      <th>1989</th>\n",
              "      <td>31717</td>\n",
              "      <td>[6.2, 5.1, 0.0, 0.0, 6.0, 5.3]</td>\n",
              "      <td>3.766667</td>\n",
              "      <td>0</td>\n",
              "      <td>January Jones</td>\n",
              "    </tr>\n",
              "    <tr>\n",
              "      <th>1928</th>\n",
              "      <td>29987</td>\n",
              "      <td>[6.5, 7.7, 7.6, 3.9, 0.0, 0.0, 5.0, 0.0]</td>\n",
              "      <td>3.837500</td>\n",
              "      <td>0</td>\n",
              "      <td>Bert Roach</td>\n",
              "    </tr>\n",
              "    <tr>\n",
              "      <th>2025</th>\n",
              "      <td>33971</td>\n",
              "      <td>[7.4, 6.3, 5.0, 4.5, 0.0, 0.0]</td>\n",
              "      <td>3.866667</td>\n",
              "      <td>0</td>\n",
              "      <td>Bud Geary</td>\n",
              "    </tr>\n",
              "    <tr>\n",
              "      <th>2388</th>\n",
              "      <td>79856</td>\n",
              "      <td>[0.0, 6.5, 6.6, 4.8, 5.3, 0.0]</td>\n",
              "      <td>3.866667</td>\n",
              "      <td>0</td>\n",
              "      <td>Tony Maudsley</td>\n",
              "    </tr>\n",
              "  </tbody>\n",
              "</table>\n",
              "</div>"
            ],
            "text/plain": [
              "      cast_id  ...               name\n",
              "2535   109701  ...       Barbara Hale\n",
              "2414    83203  ...         Fujio Suga\n",
              "2397    80704  ...     Shintarô Katsu\n",
              "2542   116157  ...   Vesa-Matti Loiri\n",
              "857      6832  ...        Melissa Leo\n",
              "2313    64896  ...       Michael Wong\n",
              "948      8171  ...           Ludacris\n",
              "2544   116494  ...        Eddy Waller\n",
              "1277    12139  ...  Lolita Davidovich\n",
              "1851    26727  ...          Dean Shek\n",
              "2490    96302  ...      Paul E. Burns\n",
              "1989    31717  ...      January Jones\n",
              "1928    29987  ...         Bert Roach\n",
              "2025    33971  ...          Bud Geary\n",
              "2388    79856  ...      Tony Maudsley\n",
              "\n",
              "[15 rows x 5 columns]"
            ]
          },
          "metadata": {
            "tags": []
          },
          "execution_count": 116
        }
      ]
    },
    {
      "cell_type": "code",
      "metadata": {
        "colab": {
          "base_uri": "https://localhost:8080/",
          "height": 491
        },
        "id": "eRSLxd1Yuu0R",
        "outputId": "e429bf79-9b8c-4c24-cd77-29e293939e12"
      },
      "source": [
        "cast_ratings.sort_values(by=['avg_rating'], ascending=False)[:15]"
      ],
      "execution_count": 121,
      "outputs": [
        {
          "output_type": "execute_result",
          "data": {
            "text/html": [
              "<div>\n",
              "<style scoped>\n",
              "    .dataframe tbody tr th:only-of-type {\n",
              "        vertical-align: middle;\n",
              "    }\n",
              "\n",
              "    .dataframe tbody tr th {\n",
              "        vertical-align: top;\n",
              "    }\n",
              "\n",
              "    .dataframe thead th {\n",
              "        text-align: right;\n",
              "    }\n",
              "</style>\n",
              "<table border=\"1\" class=\"dataframe\">\n",
              "  <thead>\n",
              "    <tr style=\"text-align: right;\">\n",
              "      <th></th>\n",
              "      <th>cast_id</th>\n",
              "      <th>ratings</th>\n",
              "      <th>avg_rating</th>\n",
              "      <th>community</th>\n",
              "      <th>name</th>\n",
              "    </tr>\n",
              "  </thead>\n",
              "  <tbody>\n",
              "    <tr>\n",
              "      <th>429</th>\n",
              "      <td>2750</td>\n",
              "      <td>[7.4, 7.7, 7.2, 7.4, 6.8, 8.0, 10.0]</td>\n",
              "      <td>7.785714</td>\n",
              "      <td>1</td>\n",
              "      <td>Julie Harris</td>\n",
              "    </tr>\n",
              "    <tr>\n",
              "      <th>337</th>\n",
              "      <td>2171</td>\n",
              "      <td>[6.8, 6.6, 6.9, 6.3, 9.0, 10.0]</td>\n",
              "      <td>7.600000</td>\n",
              "      <td>1</td>\n",
              "      <td>Griffin Dunne</td>\n",
              "    </tr>\n",
              "    <tr>\n",
              "      <th>2040</th>\n",
              "      <td>34285</td>\n",
              "      <td>[8.2, 7.0, 6.6, 8.3, 8.0, 7.0]</td>\n",
              "      <td>7.516667</td>\n",
              "      <td>1</td>\n",
              "      <td>William Frawley</td>\n",
              "    </tr>\n",
              "    <tr>\n",
              "      <th>1977</th>\n",
              "      <td>31007</td>\n",
              "      <td>[7.5, 7.2, 7.9, 8.2, 7.6, 7.4, 6.6]</td>\n",
              "      <td>7.485714</td>\n",
              "      <td>1</td>\n",
              "      <td>John Capodice</td>\n",
              "    </tr>\n",
              "    <tr>\n",
              "      <th>466</th>\n",
              "      <td>3026</td>\n",
              "      <td>[7.7, 7.9, 8.3, 7.9, 7.2, 6.6, 7.0, 6.9]</td>\n",
              "      <td>7.437500</td>\n",
              "      <td>1</td>\n",
              "      <td>Rob Reiner</td>\n",
              "    </tr>\n",
              "    <tr>\n",
              "      <th>853</th>\n",
              "      <td>6774</td>\n",
              "      <td>[6.9, 7.4, 8.1, 5.8, 6.2, 10.0]</td>\n",
              "      <td>7.400000</td>\n",
              "      <td>1</td>\n",
              "      <td>Joe Santos</td>\n",
              "    </tr>\n",
              "    <tr>\n",
              "      <th>1082</th>\n",
              "      <td>9781</td>\n",
              "      <td>[7.3, 7.9, 7.1, 6.4, 8.5, 7.1]</td>\n",
              "      <td>7.383333</td>\n",
              "      <td>1</td>\n",
              "      <td>Nia Long</td>\n",
              "    </tr>\n",
              "    <tr>\n",
              "      <th>695</th>\n",
              "      <td>4943</td>\n",
              "      <td>[6.3, 7.4, 7.9, 7.3, 7.9, 7.4]</td>\n",
              "      <td>7.366667</td>\n",
              "      <td>1</td>\n",
              "      <td>Bruce A. Young</td>\n",
              "    </tr>\n",
              "    <tr>\n",
              "      <th>1860</th>\n",
              "      <td>27164</td>\n",
              "      <td>[7.6, 6.8, 7.7, 6.5, 8.0, 7.6]</td>\n",
              "      <td>7.366667</td>\n",
              "      <td>1</td>\n",
              "      <td>Frank Baker</td>\n",
              "    </tr>\n",
              "    <tr>\n",
              "      <th>253</th>\n",
              "      <td>1581</td>\n",
              "      <td>[8.3, 7.0, 8.2, 7.8, 6.7, 7.9, 5.4]</td>\n",
              "      <td>7.328571</td>\n",
              "      <td>1</td>\n",
              "      <td>Mary McDonnell</td>\n",
              "    </tr>\n",
              "    <tr>\n",
              "      <th>1614</th>\n",
              "      <td>18197</td>\n",
              "      <td>[6.9, 8.3, 7.0, 6.1, 7.3, 8.0]</td>\n",
              "      <td>7.266667</td>\n",
              "      <td>1</td>\n",
              "      <td>Anna Karina</td>\n",
              "    </tr>\n",
              "    <tr>\n",
              "      <th>1698</th>\n",
              "      <td>20056</td>\n",
              "      <td>[6.9, 7.5, 7.4, 6.6, 7.3, 7.9]</td>\n",
              "      <td>7.266667</td>\n",
              "      <td>1</td>\n",
              "      <td>Keith Allen</td>\n",
              "    </tr>\n",
              "    <tr>\n",
              "      <th>1874</th>\n",
              "      <td>27858</td>\n",
              "      <td>[8.1, 7.5, 5.6, 6.6, 6.7, 6.3, 10.0]</td>\n",
              "      <td>7.257143</td>\n",
              "      <td>1</td>\n",
              "      <td>Adam Trese</td>\n",
              "    </tr>\n",
              "    <tr>\n",
              "      <th>1150</th>\n",
              "      <td>10739</td>\n",
              "      <td>[7.1, 7.9, 7.9, 7.3, 6.5, 7.7, 6.3]</td>\n",
              "      <td>7.242857</td>\n",
              "      <td>1</td>\n",
              "      <td>Bebe Neuwirth</td>\n",
              "    </tr>\n",
              "    <tr>\n",
              "      <th>1239</th>\n",
              "      <td>11617</td>\n",
              "      <td>[6.4, 6.9, 6.8, 6.6, 8.0, 7.3, 9.0, 6.9]</td>\n",
              "      <td>7.237500</td>\n",
              "      <td>1</td>\n",
              "      <td>Mischa Barton</td>\n",
              "    </tr>\n",
              "  </tbody>\n",
              "</table>\n",
              "</div>"
            ],
            "text/plain": [
              "      cast_id  ...             name\n",
              "429      2750  ...     Julie Harris\n",
              "337      2171  ...    Griffin Dunne\n",
              "2040    34285  ...  William Frawley\n",
              "1977    31007  ...    John Capodice\n",
              "466      3026  ...       Rob Reiner\n",
              "853      6774  ...       Joe Santos\n",
              "1082     9781  ...         Nia Long\n",
              "695      4943  ...   Bruce A. Young\n",
              "1860    27164  ...      Frank Baker\n",
              "253      1581  ...   Mary McDonnell\n",
              "1614    18197  ...      Anna Karina\n",
              "1698    20056  ...      Keith Allen\n",
              "1874    27858  ...       Adam Trese\n",
              "1150    10739  ...    Bebe Neuwirth\n",
              "1239    11617  ...    Mischa Barton\n",
              "\n",
              "[15 rows x 5 columns]"
            ]
          },
          "metadata": {
            "tags": []
          },
          "execution_count": 121
        }
      ]
    },
    {
      "cell_type": "code",
      "metadata": {
        "id": "q2hzys08wBkz"
      },
      "source": [
        ""
      ],
      "execution_count": 123,
      "outputs": []
    },
    {
      "cell_type": "code",
      "metadata": {
        "id": "QYNNbaoT0ESC"
      },
      "source": [
        "cast_df = cast_df.merge(m_meta[['revenue','id']], how='left', left_on='movieId', right_on='id')"
      ],
      "execution_count": 127,
      "outputs": []
    },
    {
      "cell_type": "code",
      "metadata": {
        "id": "vXTmOiS00E03"
      },
      "source": [
        "cast_meta = cast_df.groupby('cast_id').agg({\n",
        "    'id':lambda x:x.tolist(),\n",
        "    'revenue':lambda x:x.tolist()\n",
        "}).rename({'id':'movie_ids'}).reset_index()"
      ],
      "execution_count": 135,
      "outputs": []
    },
    {
      "cell_type": "code",
      "metadata": {
        "id": "AYJ1vZaD0Qps"
      },
      "source": [
        "cast_ratings = cast_ratings.merge(cast_meta)"
      ],
      "execution_count": 140,
      "outputs": []
    },
    {
      "cell_type": "code",
      "metadata": {
        "colab": {
          "base_uri": "https://localhost:8080/"
        },
        "id": "UEUhvXms2CS8",
        "outputId": "50174749-a537-40c4-af58-ec1d4f3b6ec1"
      },
      "source": [
        "cast_ratings['non_zero_revenue_avg'] = cast_ratings['revenue'].apply(lambda x: np.mean([i for i in x if i!=0]))"
      ],
      "execution_count": 144,
      "outputs": [
        {
          "output_type": "stream",
          "text": [
            "/usr/local/lib/python3.7/dist-packages/numpy/core/fromnumeric.py:3373: RuntimeWarning: Mean of empty slice.\n",
            "  out=out, **kwargs)\n"
          ],
          "name": "stderr"
        }
      ]
    },
    {
      "cell_type": "code",
      "metadata": {
        "id": "1MVjs74j26Jq"
      },
      "source": [
        "cast_ratings['non_zero_revenue_avg'].fillna(0, inplace=True)"
      ],
      "execution_count": 151,
      "outputs": []
    },
    {
      "cell_type": "code",
      "metadata": {
        "id": "1y78Fh-R2Ph3"
      },
      "source": [
        "bad_revenue = np.mean(cast_ratings[cast_ratings['community']==0]['non_zero_revenue_avg'])\n",
        "good_revenue = np.mean(cast_ratings[cast_ratings['community']==1]['non_zero_revenue_avg'])"
      ],
      "execution_count": 155,
      "outputs": []
    },
    {
      "cell_type": "code",
      "metadata": {
        "colab": {
          "base_uri": "https://localhost:8080/"
        },
        "id": "VzryXoMh2pcZ",
        "outputId": "855740b6-0180-4cdc-9a4c-af67355f3e0a"
      },
      "source": [
        "bad_revenue, good_revenue"
      ],
      "execution_count": 157,
      "outputs": [
        {
          "output_type": "execute_result",
          "data": {
            "text/plain": [
              "(96876559.67341343, 113256525.10497771)"
            ]
          },
          "metadata": {
            "tags": []
          },
          "execution_count": 157
        }
      ]
    },
    {
      "cell_type": "code",
      "metadata": {
        "colab": {
          "base_uri": "https://localhost:8080/"
        },
        "id": "RPJIkuW-3CDT",
        "outputId": "951f3012-81d1-422d-f132-ce122a5e2700"
      },
      "source": [
        "((good_revenue-bad_revenue)/bad_revenue)*100"
      ],
      "execution_count": 160,
      "outputs": [
        {
          "output_type": "execute_result",
          "data": {
            "text/plain": [
              "16.9080791956112"
            ]
          },
          "metadata": {
            "tags": []
          },
          "execution_count": 160
        }
      ]
    },
    {
      "cell_type": "code",
      "metadata": {
        "id": "JbjSlgLG3h4k"
      },
      "source": [
        "cast_ratings.to_csv(\"/content/drive/MyDrive/movies_big/emb/actor_community_df.csv\", index=False)"
      ],
      "execution_count": 162,
      "outputs": []
    },
    {
      "cell_type": "code",
      "metadata": {
        "id": "u_dwVVma3tz6"
      },
      "source": [
        ""
      ],
      "execution_count": null,
      "outputs": []
    },
    {
      "cell_type": "code",
      "metadata": {
        "id": "dDujfqyR4IQv"
      },
      "source": [
        ""
      ],
      "execution_count": null,
      "outputs": []
    },
    {
      "cell_type": "code",
      "metadata": {
        "id": "djPlWlJh4IT4"
      },
      "source": [
        ""
      ],
      "execution_count": 14,
      "outputs": []
    },
    {
      "cell_type": "code",
      "metadata": {
        "id": "8ViI92kh4IWe"
      },
      "source": [
        ""
      ],
      "execution_count": null,
      "outputs": []
    },
    {
      "cell_type": "code",
      "metadata": {
        "colab": {
          "base_uri": "https://localhost:8080/",
          "height": 620
        },
        "id": "kcFftFeC4Icg",
        "outputId": "0e8f8118-46cd-44a4-ad6f-7269a6f9a2e0"
      },
      "source": [
        "cast_ratings"
      ],
      "execution_count": 163,
      "outputs": [
        {
          "output_type": "execute_result",
          "data": {
            "text/html": [
              "<div>\n",
              "<style scoped>\n",
              "    .dataframe tbody tr th:only-of-type {\n",
              "        vertical-align: middle;\n",
              "    }\n",
              "\n",
              "    .dataframe tbody tr th {\n",
              "        vertical-align: top;\n",
              "    }\n",
              "\n",
              "    .dataframe thead th {\n",
              "        text-align: right;\n",
              "    }\n",
              "</style>\n",
              "<table border=\"1\" class=\"dataframe\">\n",
              "  <thead>\n",
              "    <tr style=\"text-align: right;\">\n",
              "      <th></th>\n",
              "      <th>cast_id</th>\n",
              "      <th>ratings</th>\n",
              "      <th>avg_rating</th>\n",
              "      <th>community</th>\n",
              "      <th>name</th>\n",
              "      <th>id</th>\n",
              "      <th>revenue</th>\n",
              "      <th>non_zero_revenue_avg</th>\n",
              "    </tr>\n",
              "  </thead>\n",
              "  <tbody>\n",
              "    <tr>\n",
              "      <th>0</th>\n",
              "      <td>2</td>\n",
              "      <td>[7.4, 4.3, 6.6, 5.0, 7.0, 7.0, 0.0]</td>\n",
              "      <td>5.328571</td>\n",
              "      <td>0</td>\n",
              "      <td>Mark Hamill</td>\n",
              "      <td>[260, 332, 4734, 45047, 74436, 99351, 173433]</td>\n",
              "      <td>[0.0, 0.0, 138000.0, 0.0, 0.0, 0.0, 0.0]</td>\n",
              "      <td>1.380000e+05</td>\n",
              "    </tr>\n",
              "    <tr>\n",
              "      <th>1</th>\n",
              "      <td>3</td>\n",
              "      <td>[7.4, 5.1, 7.3, 6.9, 0.0, 5.3, 6.4, 5.4, 8.2, ...</td>\n",
              "      <td>5.780000</td>\n",
              "      <td>0</td>\n",
              "      <td>Harrison Ford</td>\n",
              "      <td>[260, 349, 457, 541, 1488, 1608, 1894, 2115, 2...</td>\n",
              "      <td>[0.0, 0.0, 0.0, 0.0, 0.0, 0.0, 649398328.0, 0....</td>\n",
              "      <td>6.493983e+08</td>\n",
              "    </tr>\n",
              "    <tr>\n",
              "      <th>2</th>\n",
              "      <td>4</td>\n",
              "      <td>[7.4, 7.5, 7.3, 6.7, 5.7, 6.5, 6.6, 5.9, 7.3, ...</td>\n",
              "      <td>6.458333</td>\n",
              "      <td>1</td>\n",
              "      <td>Carrie Fisher</td>\n",
              "      <td>[260, 1126, 2072, 3048, 3489, 4228, 4734, 8884...</td>\n",
              "      <td>[0.0, 0.0, 0.0, 0.0, 16930884.0, 0.0, 138000.0...</td>\n",
              "      <td>8.534442e+06</td>\n",
              "    </tr>\n",
              "    <tr>\n",
              "      <th>3</th>\n",
              "      <td>5</td>\n",
              "      <td>[7.4, 6.9, 6.8, 5.8, 6.6, 7.1, 4.5, 4.7, 2.7, ...</td>\n",
              "      <td>5.800000</td>\n",
              "      <td>0</td>\n",
              "      <td>Peter Cushing</td>\n",
              "      <td>[260, 1941, 2652, 5552, 5595, 6976, 8743, 2626...</td>\n",
              "      <td>[0.0, 21750000.0, 7022209.0, 0.0, 0.0, 0.0, 0....</td>\n",
              "      <td>9.625238e+06</td>\n",
              "    </tr>\n",
              "    <tr>\n",
              "      <th>4</th>\n",
              "      <td>13</td>\n",
              "      <td>[8.0, 7.1, 7.2, 6.4, 6.9, 6.1, 6.9, 6.6, 6.3]</td>\n",
              "      <td>6.833333</td>\n",
              "      <td>1</td>\n",
              "      <td>Albert Brooks</td>\n",
              "      <td>[111, 1414, 1677, 1911, 1912, 5769, 42740, 516...</td>\n",
              "      <td>[65884703.0, 0.0, 124731534.0, 61698899.0, 0.0...</td>\n",
              "      <td>7.247878e+07</td>\n",
              "    </tr>\n",
              "    <tr>\n",
              "      <th>...</th>\n",
              "      <td>...</td>\n",
              "      <td>...</td>\n",
              "      <td>...</td>\n",
              "      <td>...</td>\n",
              "      <td>...</td>\n",
              "      <td>...</td>\n",
              "      <td>...</td>\n",
              "      <td>...</td>\n",
              "    </tr>\n",
              "    <tr>\n",
              "      <th>2641</th>\n",
              "      <td>1395666</td>\n",
              "      <td>[7.2, 6.7, 4.0, 7.7, 5.1, 8.0]</td>\n",
              "      <td>6.450000</td>\n",
              "      <td>1</td>\n",
              "      <td>Edward Biby</td>\n",
              "      <td>[922, 954, 3122, 3936, 41831, 113757]</td>\n",
              "      <td>[0.0, 457696359.0, 0.0, 0.0, 0.0, 0.0]</td>\n",
              "      <td>4.576964e+08</td>\n",
              "    </tr>\n",
              "    <tr>\n",
              "      <th>2642</th>\n",
              "      <td>1422389</td>\n",
              "      <td>[7.4, 6.7, 6.8, 6.4, 5.1, 1.7]</td>\n",
              "      <td>5.683333</td>\n",
              "      <td>0</td>\n",
              "      <td>Jesse Graves</td>\n",
              "      <td>[923, 954, 1934, 7219, 41831, 84643]</td>\n",
              "      <td>[55000000.0, 457696359.0, 289317794.0, 0.0, 0....</td>\n",
              "      <td>2.673381e+08</td>\n",
              "    </tr>\n",
              "    <tr>\n",
              "      <th>2643</th>\n",
              "      <td>1468172</td>\n",
              "      <td>[7.4, 6.6, 6.6, 8.1, 6.4, 7.3, 1.7]</td>\n",
              "      <td>6.300000</td>\n",
              "      <td>0</td>\n",
              "      <td>Tom Coleman</td>\n",
              "      <td>[923, 953, 1942, 3780, 8491, 9008, 84643]</td>\n",
              "      <td>[55000000.0, 532680671.0, 0.0, 0.0, 30218387.0...</td>\n",
              "      <td>1.695472e+08</td>\n",
              "    </tr>\n",
              "    <tr>\n",
              "      <th>2644</th>\n",
              "      <td>1584544</td>\n",
              "      <td>[6.4, 5.9, 5.9, 7.6, 7.7, 7.2, 6.3, 7.5, 6.5, ...</td>\n",
              "      <td>6.544444</td>\n",
              "      <td>1</td>\n",
              "      <td>Philip Ettington</td>\n",
              "      <td>[6, 296, 318, 527, 593, 628, 1266, 1387, 1589,...</td>\n",
              "      <td>[12136938.0, 435000000.0, 0.0, 2201126.0, 0.0,...</td>\n",
              "      <td>1.027557e+08</td>\n",
              "    </tr>\n",
              "    <tr>\n",
              "      <th>2645</th>\n",
              "      <td>1787560</td>\n",
              "      <td>[7.2, 6.5, 5.1, 0.0, 7.5, 6.8]</td>\n",
              "      <td>5.516667</td>\n",
              "      <td>0</td>\n",
              "      <td>Larri Thomas</td>\n",
              "      <td>[3549, 4587, 26123, 32866, 81646, 87514]</td>\n",
              "      <td>[0.0, 35419397.0, 0.0, 0.0, 0.0, 0.0]</td>\n",
              "      <td>3.541940e+07</td>\n",
              "    </tr>\n",
              "  </tbody>\n",
              "</table>\n",
              "<p>2646 rows × 8 columns</p>\n",
              "</div>"
            ],
            "text/plain": [
              "      cast_id  ... non_zero_revenue_avg\n",
              "0           2  ...         1.380000e+05\n",
              "1           3  ...         6.493983e+08\n",
              "2           4  ...         8.534442e+06\n",
              "3           5  ...         9.625238e+06\n",
              "4          13  ...         7.247878e+07\n",
              "...       ...  ...                  ...\n",
              "2641  1395666  ...         4.576964e+08\n",
              "2642  1422389  ...         2.673381e+08\n",
              "2643  1468172  ...         1.695472e+08\n",
              "2644  1584544  ...         1.027557e+08\n",
              "2645  1787560  ...         3.541940e+07\n",
              "\n",
              "[2646 rows x 8 columns]"
            ]
          },
          "metadata": {
            "tags": []
          },
          "execution_count": 163
        }
      ]
    },
    {
      "cell_type": "code",
      "metadata": {
        "id": "faXlkwfL4JId"
      },
      "source": [
        ""
      ],
      "execution_count": null,
      "outputs": []
    },
    {
      "cell_type": "markdown",
      "metadata": {
        "id": "-vzm0irc5IyA"
      },
      "source": [
        "Topics Analysis"
      ]
    },
    {
      "cell_type": "code",
      "metadata": {
        "colab": {
          "base_uri": "https://localhost:8080/",
          "height": 1000
        },
        "id": "9ruDgUTy5Kb6",
        "outputId": "d1f2f860-86f8-4a1a-b1b8-8dc2025f63ba"
      },
      "source": [
        "!pip install contextualized-topic-models"
      ],
      "execution_count": 1,
      "outputs": [
        {
          "output_type": "stream",
          "text": [
            "Collecting contextualized-topic-models\n",
            "  Downloading https://files.pythonhosted.org/packages/50/49/41666f628c5ab1f48aa2e7228d9aa332d8ab1d2e0a3b25d7d78e3565b7ec/contextualized_topic_models-1.8.2-py2.py3-none-any.whl\n",
            "Collecting tqdm==4.56.0\n",
            "\u001b[?25l  Downloading https://files.pythonhosted.org/packages/80/02/8f8880a4fd6625461833abcf679d4c12a44c76f9925f92bf212bb6cefaad/tqdm-4.56.0-py2.py3-none-any.whl (72kB)\n",
            "\u001b[K     |████████████████████████████████| 81kB 4.7MB/s \n",
            "\u001b[?25hCollecting matplotlib==3.1.3\n",
            "\u001b[?25l  Downloading https://files.pythonhosted.org/packages/4c/9b/35ab3469fd1509f7636a344940569ebfd33239673fd2318e80b4700a257c/matplotlib-3.1.3-cp37-cp37m-manylinux1_x86_64.whl (13.1MB)\n",
            "\u001b[K     |████████████████████████████████| 13.1MB 322kB/s \n",
            "\u001b[?25hCollecting numpy==1.19.1\n",
            "\u001b[?25l  Downloading https://files.pythonhosted.org/packages/50/8f/29d5688614f9bba59931683d5d353d738d4a3007833219ee19c455732753/numpy-1.19.1-cp37-cp37m-manylinux2010_x86_64.whl (14.5MB)\n",
            "\u001b[K     |████████████████████████████████| 14.5MB 241kB/s \n",
            "\u001b[?25hRequirement already satisfied: torch>=1.6.0 in /usr/local/lib/python3.7/dist-packages (from contextualized-topic-models) (1.8.0+cu101)\n",
            "Collecting gensim==3.8.3\n",
            "\u001b[?25l  Downloading https://files.pythonhosted.org/packages/5c/4e/afe2315e08a38967f8a3036bbe7e38b428e9b7a90e823a83d0d49df1adf5/gensim-3.8.3-cp37-cp37m-manylinux1_x86_64.whl (24.2MB)\n",
            "\u001b[K     |████████████████████████████████| 24.2MB 97kB/s \n",
            "\u001b[?25hRequirement already satisfied: scipy==1.4.1 in /usr/local/lib/python3.7/dist-packages (from contextualized-topic-models) (1.4.1)\n",
            "Collecting sentence-transformers==0.4.1\n",
            "\u001b[?25l  Downloading https://files.pythonhosted.org/packages/41/88/d6c744af5b7bc0eadc3878a675c6a52cd48f387372f8ba67feddd3db67c6/sentence-transformers-0.4.1.tar.gz (64kB)\n",
            "\u001b[K     |████████████████████████████████| 71kB 7.4MB/s \n",
            "\u001b[?25hRequirement already satisfied: torchvision>=0.7.0 in /usr/local/lib/python3.7/dist-packages (from contextualized-topic-models) (0.9.0+cu101)\n",
            "Collecting wordcloud==1.8.1\n",
            "\u001b[?25l  Downloading https://files.pythonhosted.org/packages/1b/06/0516bdba2ebdc0d5bd476aa66f94666dd0ad6b9abda723fdf28e451db919/wordcloud-1.8.1-cp37-cp37m-manylinux1_x86_64.whl (366kB)\n",
            "\u001b[K     |████████████████████████████████| 368kB 30.8MB/s \n",
            "\u001b[?25hRequirement already satisfied: pyparsing!=2.0.4,!=2.1.2,!=2.1.6,>=2.0.1 in /usr/local/lib/python3.7/dist-packages (from matplotlib==3.1.3->contextualized-topic-models) (2.4.7)\n",
            "Requirement already satisfied: cycler>=0.10 in /usr/local/lib/python3.7/dist-packages (from matplotlib==3.1.3->contextualized-topic-models) (0.10.0)\n",
            "Requirement already satisfied: kiwisolver>=1.0.1 in /usr/local/lib/python3.7/dist-packages (from matplotlib==3.1.3->contextualized-topic-models) (1.3.1)\n",
            "Requirement already satisfied: python-dateutil>=2.1 in /usr/local/lib/python3.7/dist-packages (from matplotlib==3.1.3->contextualized-topic-models) (2.8.1)\n",
            "Requirement already satisfied: typing-extensions in /usr/local/lib/python3.7/dist-packages (from torch>=1.6.0->contextualized-topic-models) (3.7.4.3)\n",
            "Requirement already satisfied: six>=1.5.0 in /usr/local/lib/python3.7/dist-packages (from gensim==3.8.3->contextualized-topic-models) (1.15.0)\n",
            "Requirement already satisfied: smart-open>=1.8.1 in /usr/local/lib/python3.7/dist-packages (from gensim==3.8.3->contextualized-topic-models) (4.2.0)\n",
            "Collecting transformers<5.0.0,>=3.1.0\n",
            "\u001b[?25l  Downloading https://files.pythonhosted.org/packages/ed/d5/f4157a376b8a79489a76ce6cfe147f4f3be1e029b7144fa7b8432e8acb26/transformers-4.4.2-py3-none-any.whl (2.0MB)\n",
            "\u001b[K     |████████████████████████████████| 2.0MB 24.9MB/s \n",
            "\u001b[?25hRequirement already satisfied: scikit-learn in /usr/local/lib/python3.7/dist-packages (from sentence-transformers==0.4.1->contextualized-topic-models) (0.22.2.post1)\n",
            "Requirement already satisfied: nltk in /usr/local/lib/python3.7/dist-packages (from sentence-transformers==0.4.1->contextualized-topic-models) (3.2.5)\n",
            "Collecting sentencepiece\n",
            "\u001b[?25l  Downloading https://files.pythonhosted.org/packages/f5/99/e0808cb947ba10f575839c43e8fafc9cc44e4a7a2c8f79c60db48220a577/sentencepiece-0.1.95-cp37-cp37m-manylinux2014_x86_64.whl (1.2MB)\n",
            "\u001b[K     |████████████████████████████████| 1.2MB 27.1MB/s \n",
            "\u001b[?25hRequirement already satisfied: pillow>=4.1.1 in /usr/local/lib/python3.7/dist-packages (from torchvision>=0.7.0->contextualized-topic-models) (7.0.0)\n",
            "Requirement already satisfied: packaging in /usr/local/lib/python3.7/dist-packages (from transformers<5.0.0,>=3.1.0->sentence-transformers==0.4.1->contextualized-topic-models) (20.9)\n",
            "Requirement already satisfied: importlib-metadata; python_version < \"3.8\" in /usr/local/lib/python3.7/dist-packages (from transformers<5.0.0,>=3.1.0->sentence-transformers==0.4.1->contextualized-topic-models) (3.7.2)\n",
            "Collecting sacremoses\n",
            "\u001b[?25l  Downloading https://files.pythonhosted.org/packages/7d/34/09d19aff26edcc8eb2a01bed8e98f13a1537005d31e95233fd48216eed10/sacremoses-0.0.43.tar.gz (883kB)\n",
            "\u001b[K     |████████████████████████████████| 890kB 37.3MB/s \n",
            "\u001b[?25hRequirement already satisfied: filelock in /usr/local/lib/python3.7/dist-packages (from transformers<5.0.0,>=3.1.0->sentence-transformers==0.4.1->contextualized-topic-models) (3.0.12)\n",
            "Requirement already satisfied: regex!=2019.12.17 in /usr/local/lib/python3.7/dist-packages (from transformers<5.0.0,>=3.1.0->sentence-transformers==0.4.1->contextualized-topic-models) (2019.12.20)\n",
            "Requirement already satisfied: requests in /usr/local/lib/python3.7/dist-packages (from transformers<5.0.0,>=3.1.0->sentence-transformers==0.4.1->contextualized-topic-models) (2.23.0)\n",
            "Collecting tokenizers<0.11,>=0.10.1\n",
            "\u001b[?25l  Downloading https://files.pythonhosted.org/packages/71/23/2ddc317b2121117bf34dd00f5b0de194158f2a44ee2bf5e47c7166878a97/tokenizers-0.10.1-cp37-cp37m-manylinux2010_x86_64.whl (3.2MB)\n",
            "\u001b[K     |████████████████████████████████| 3.2MB 36.0MB/s \n",
            "\u001b[?25hRequirement already satisfied: joblib>=0.11 in /usr/local/lib/python3.7/dist-packages (from scikit-learn->sentence-transformers==0.4.1->contextualized-topic-models) (1.0.1)\n",
            "Requirement already satisfied: zipp>=0.5 in /usr/local/lib/python3.7/dist-packages (from importlib-metadata; python_version < \"3.8\"->transformers<5.0.0,>=3.1.0->sentence-transformers==0.4.1->contextualized-topic-models) (3.4.1)\n",
            "Requirement already satisfied: click in /usr/local/lib/python3.7/dist-packages (from sacremoses->transformers<5.0.0,>=3.1.0->sentence-transformers==0.4.1->contextualized-topic-models) (7.1.2)\n",
            "Requirement already satisfied: certifi>=2017.4.17 in /usr/local/lib/python3.7/dist-packages (from requests->transformers<5.0.0,>=3.1.0->sentence-transformers==0.4.1->contextualized-topic-models) (2020.12.5)\n",
            "Requirement already satisfied: idna<3,>=2.5 in /usr/local/lib/python3.7/dist-packages (from requests->transformers<5.0.0,>=3.1.0->sentence-transformers==0.4.1->contextualized-topic-models) (2.10)\n",
            "Requirement already satisfied: chardet<4,>=3.0.2 in /usr/local/lib/python3.7/dist-packages (from requests->transformers<5.0.0,>=3.1.0->sentence-transformers==0.4.1->contextualized-topic-models) (3.0.4)\n",
            "Requirement already satisfied: urllib3!=1.25.0,!=1.25.1,<1.26,>=1.21.1 in /usr/local/lib/python3.7/dist-packages (from requests->transformers<5.0.0,>=3.1.0->sentence-transformers==0.4.1->contextualized-topic-models) (1.24.3)\n",
            "Building wheels for collected packages: sentence-transformers, sacremoses\n",
            "  Building wheel for sentence-transformers (setup.py) ... \u001b[?25l\u001b[?25hdone\n",
            "  Created wheel for sentence-transformers: filename=sentence_transformers-0.4.1-cp37-none-any.whl size=103051 sha256=2058959dd4d351c232e47dd99ed392cc083d1123180c2faeba808c5a3fe57300\n",
            "  Stored in directory: /root/.cache/pip/wheels/4d/61/1e/d8a2fc8fcfc0f86af8477bcdbca4a8832dd9230e2051c82cb0\n",
            "  Building wheel for sacremoses (setup.py) ... \u001b[?25l\u001b[?25hdone\n",
            "  Created wheel for sacremoses: filename=sacremoses-0.0.43-cp37-none-any.whl size=893262 sha256=95b6e98f6ab340f29896b8f96c8060ab886a54099f0c2cda26a991f73c75879c\n",
            "  Stored in directory: /root/.cache/pip/wheels/29/3c/fd/7ce5c3f0666dab31a50123635e6fb5e19ceb42ce38d4e58f45\n",
            "Successfully built sentence-transformers sacremoses\n",
            "\u001b[31mERROR: tensorflow 2.4.1 has requirement numpy~=1.19.2, but you'll have numpy 1.19.1 which is incompatible.\u001b[0m\n",
            "\u001b[31mERROR: datascience 0.10.6 has requirement folium==0.2.1, but you'll have folium 0.8.3 which is incompatible.\u001b[0m\n",
            "\u001b[31mERROR: albumentations 0.1.12 has requirement imgaug<0.2.7,>=0.2.5, but you'll have imgaug 0.2.9 which is incompatible.\u001b[0m\n",
            "Installing collected packages: tqdm, numpy, matplotlib, gensim, sacremoses, tokenizers, transformers, sentencepiece, sentence-transformers, wordcloud, contextualized-topic-models\n",
            "  Found existing installation: tqdm 4.41.1\n",
            "    Uninstalling tqdm-4.41.1:\n",
            "      Successfully uninstalled tqdm-4.41.1\n",
            "  Found existing installation: numpy 1.19.5\n",
            "    Uninstalling numpy-1.19.5:\n",
            "      Successfully uninstalled numpy-1.19.5\n",
            "  Found existing installation: matplotlib 3.2.2\n",
            "    Uninstalling matplotlib-3.2.2:\n",
            "      Successfully uninstalled matplotlib-3.2.2\n",
            "  Found existing installation: gensim 3.6.0\n",
            "    Uninstalling gensim-3.6.0:\n",
            "      Successfully uninstalled gensim-3.6.0\n",
            "  Found existing installation: wordcloud 1.5.0\n",
            "    Uninstalling wordcloud-1.5.0:\n",
            "      Successfully uninstalled wordcloud-1.5.0\n",
            "Successfully installed contextualized-topic-models-1.8.2 gensim-3.8.3 matplotlib-3.1.3 numpy-1.19.1 sacremoses-0.0.43 sentence-transformers-0.4.1 sentencepiece-0.1.95 tokenizers-0.10.1 tqdm-4.56.0 transformers-4.4.2 wordcloud-1.8.1\n"
          ],
          "name": "stdout"
        },
        {
          "output_type": "display_data",
          "data": {
            "application/vnd.colab-display-data+json": {
              "pip_warning": {
                "packages": [
                  "matplotlib",
                  "mpl_toolkits",
                  "numpy"
                ]
              }
            }
          },
          "metadata": {
            "tags": []
          }
        }
      ]
    },
    {
      "cell_type": "code",
      "metadata": {
        "id": "G1L8PNr_5Ktz"
      },
      "source": [
        "import joblib\n",
        "m_ids = joblib.load(\"/content/drive/MyDrive/movies_big/topic/m_ids.pkl\")\n",
        "topic_vectors = joblib.load(\"/content/drive/MyDrive/movies_big/topic/topic_vectors.pkl\")\n",
        "import numpy as np\n",
        "import pandas as pd\n",
        "import matplotlib.pyplot as plt\n",
        "import seaborn as sns\n",
        "import joblib"
      ],
      "execution_count": 1,
      "outputs": []
    },
    {
      "cell_type": "code",
      "metadata": {
        "id": "gXOz8pGqRQqw"
      },
      "source": [
        ""
      ],
      "execution_count": 7,
      "outputs": []
    },
    {
      "cell_type": "code",
      "metadata": {
        "id": "1pKPx-cT5VGn"
      },
      "source": [
        "m_topics_vecs = {}\n",
        "for m_id, m_vec in zip(m_ids, topic_vectors):\n",
        "    m_topics_vecs[m_id]=m_vec"
      ],
      "execution_count": 4,
      "outputs": []
    },
    {
      "cell_type": "code",
      "metadata": {
        "id": "rGMIBu7v6JCk"
      },
      "source": [
        "def mean_topic_vector(ids):\n",
        "    idxs = [idx for idx, mid in enumerate(m_ids) if mid in ids]\n",
        "    return np.mean(topic_vectors[idxs], axis=0)"
      ],
      "execution_count": 5,
      "outputs": []
    },
    {
      "cell_type": "code",
      "metadata": {
        "id": "txmEy0NjR0BF"
      },
      "source": [
        "cast_ratings = pd.read_csv(\"/content/drive/MyDrive/movies_big/emb/actor_community_df.csv\")"
      ],
      "execution_count": 12,
      "outputs": []
    },
    {
      "cell_type": "code",
      "metadata": {
        "id": "Rou-fijIRmqV"
      },
      "source": [
        "cast_ratings['id'] = cast_ratings['id'].apply(lambda x: eval(x))"
      ],
      "execution_count": 17,
      "outputs": []
    },
    {
      "cell_type": "code",
      "metadata": {
        "id": "WPxc2LXy5zyN"
      },
      "source": [
        "actor_vectors = {}\n",
        "for _, row in cast_ratings.iterrows():\n",
        "    c_id = row['cast_id']\n",
        "    c_vec = mean_topic_vector(row['id'])\n",
        "    actor_vectors[c_id]=c_vec"
      ],
      "execution_count": 19,
      "outputs": []
    },
    {
      "cell_type": "code",
      "metadata": {
        "id": "VivqwR3p7QPP"
      },
      "source": [
        "bad_actor_ids = cast_ratings[cast_ratings['community']==0]['cast_id'].values\n",
        "good_actor_ids = cast_ratings[cast_ratings['community']==1]['cast_id'].values"
      ],
      "execution_count": 20,
      "outputs": []
    },
    {
      "cell_type": "code",
      "metadata": {
        "colab": {
          "base_uri": "https://localhost:8080/"
        },
        "id": "UR7sS0uCFeIG",
        "outputId": "ff2a893f-3c5b-4e35-bc60-dc966f8a9029"
      },
      "source": [
        "set(good_actor_ids).intersection(bad_actor_ids)"
      ],
      "execution_count": 21,
      "outputs": [
        {
          "output_type": "execute_result",
          "data": {
            "text/plain": [
              "set()"
            ]
          },
          "metadata": {
            "tags": []
          },
          "execution_count": 21
        }
      ]
    },
    {
      "cell_type": "code",
      "metadata": {
        "colab": {
          "base_uri": "https://localhost:8080/"
        },
        "id": "LksT8GxSE9Ez",
        "outputId": "a68ea02d-9c67-4a1f-9cd6-13f615adc11e"
      },
      "source": [
        "cast_ratings.shape"
      ],
      "execution_count": 22,
      "outputs": [
        {
          "output_type": "execute_result",
          "data": {
            "text/plain": [
              "(2646, 9)"
            ]
          },
          "metadata": {
            "tags": []
          },
          "execution_count": 22
        }
      ]
    },
    {
      "cell_type": "code",
      "metadata": {
        "id": "kdikraHD99Us"
      },
      "source": [
        "good_actor_mat = []\n",
        "bad_actor_mat = []\n",
        "for idx, row in cast_ratings.iterrows():\n",
        "    if row['community']==0:\n",
        "        bad_actor_mat.append(actor_vectors[row['cast_id']])\n",
        "    else:\n",
        "        good_actor_mat.append(actor_vectors[row['cast_id']])\n",
        "good_actor_mat = np.array(good_actor_mat)\n",
        "bad_actor_mat = np.array(bad_actor_mat)"
      ],
      "execution_count": 23,
      "outputs": []
    },
    {
      "cell_type": "code",
      "metadata": {
        "id": "-DAgSqUyBAxw"
      },
      "source": [
        "import scipy\n",
        "import numpy as np\n",
        "import networkx as nx"
      ],
      "execution_count": 204,
      "outputs": []
    },
    {
      "cell_type": "code",
      "metadata": {
        "id": "MMpRJZ9R_j6Y"
      },
      "source": [
        "from sklearn import metrics\n",
        "def create_weighted_adjacency_mat(mat, thresh):\n",
        "    mat[mat<thresh]=0\n",
        "    return mat"
      ],
      "execution_count": 199,
      "outputs": []
    },
    {
      "cell_type": "code",
      "metadata": {
        "id": "n0XIepd1_T4G"
      },
      "source": [
        "sim_mat = metrics.pairwise.cosine_similarity(good_actor_mat)"
      ],
      "execution_count": 239,
      "outputs": []
    },
    {
      "cell_type": "code",
      "metadata": {
        "id": "gF0mlLqmAkaP"
      },
      "source": [
        "sim_mat = create_weighted_adjacency_mat(sim_mat, 0.85)\n",
        "np.fill_diagonal(sim_mat, 0)"
      ],
      "execution_count": 240,
      "outputs": []
    },
    {
      "cell_type": "code",
      "metadata": {
        "colab": {
          "base_uri": "https://localhost:8080/"
        },
        "id": "sJuCSZsfAC_4",
        "outputId": "61b8569b-279f-4bbf-a935-0f6f1b642fd6"
      },
      "source": [
        "r_keep_idxs = ~np.all(sim_mat == 0, axis=1)\n",
        "c_keep_idxs = ~np.all(sim_mat.T == 0, axis=1)\n",
        "print(\"Sanity: \", np.all(r_keep_idxs == c_keep_idxs))\n",
        "sum(r_keep_idxs)"
      ],
      "execution_count": 241,
      "outputs": [
        {
          "output_type": "stream",
          "text": [
            "Sanity:  True\n"
          ],
          "name": "stdout"
        },
        {
          "output_type": "execute_result",
          "data": {
            "text/plain": [
              "1349"
            ]
          },
          "metadata": {
            "tags": []
          },
          "execution_count": 241
        }
      ]
    },
    {
      "cell_type": "code",
      "metadata": {
        "colab": {
          "base_uri": "https://localhost:8080/"
        },
        "id": "GSssNIaTAEFr",
        "outputId": "d067176d-8ecc-4fc6-d6cf-41b658898d46"
      },
      "source": [
        "print(sim_mat.shape)\n",
        "sim_mat = scipy.sparse.csr_matrix(sim_mat)\n",
        "sim_mat = sim_mat[r_keep_idxs]\n",
        "sim_mat = sim_mat.T[c_keep_idxs].T\n",
        "print(sim_mat.shape)"
      ],
      "execution_count": 242,
      "outputs": [
        {
          "output_type": "stream",
          "text": [
            "(1349, 1349)\n",
            "(1349, 1349)\n"
          ],
          "name": "stdout"
        }
      ]
    },
    {
      "cell_type": "code",
      "metadata": {
        "colab": {
          "base_uri": "https://localhost:8080/"
        },
        "id": "KcnJtD88A7BS",
        "outputId": "d1d84408-dde6-4e5d-c82e-3564369e7b2a"
      },
      "source": [
        "G = nx.convert_matrix.from_scipy_sparse_matrix(sim_mat)\n",
        "partition = community_louvain.best_partition(G, weight='weight')\n",
        "community_louvain.modularity(partition, G, weight='weight')"
      ],
      "execution_count": 243,
      "outputs": [
        {
          "output_type": "execute_result",
          "data": {
            "text/plain": [
              "0.11487265695579309"
            ]
          },
          "metadata": {
            "tags": []
          },
          "execution_count": 243
        }
      ]
    },
    {
      "cell_type": "code",
      "metadata": {
        "colab": {
          "base_uri": "https://localhost:8080/"
        },
        "id": "Cz3UvFAXBSm2",
        "outputId": "e04d925a-d033-4d30-91f9-d316d8cff9f2"
      },
      "source": [
        "np.unique(list(partition.values()))"
      ],
      "execution_count": 244,
      "outputs": [
        {
          "output_type": "execute_result",
          "data": {
            "text/plain": [
              "array([0, 1, 2, 3, 4])"
            ]
          },
          "metadata": {
            "tags": []
          },
          "execution_count": 244
        }
      ]
    },
    {
      "cell_type": "code",
      "metadata": {
        "id": "_THF6vGfBviS"
      },
      "source": [
        "good_community_df = pd.DataFrame({'cast_id':list(cast_ratings[cast_ratings['community']==1]['cast_id']), 'sub_community':list(partition.values())})"
      ],
      "execution_count": 245,
      "outputs": []
    },
    {
      "cell_type": "code",
      "metadata": {
        "colab": {
          "base_uri": "https://localhost:8080/"
        },
        "id": "y7npmrH6DXlJ",
        "outputId": "a0999514-cd5c-45e5-dd6c-9c9a848e5bf0"
      },
      "source": [
        "sim_mat = metrics.pairwise.cosine_similarity(bad_actor_mat)\n",
        "sim_mat = create_weighted_adjacency_mat(sim_mat, 0.85)\n",
        "np.fill_diagonal(sim_mat, 0)\n",
        "r_keep_idxs = ~np.all(sim_mat == 0, axis=1)\n",
        "c_keep_idxs = ~np.all(sim_mat.T == 0, axis=1)\n",
        "print(\"Sanity: \", np.all(r_keep_idxs == c_keep_idxs))\n",
        "sum(r_keep_idxs)"
      ],
      "execution_count": 247,
      "outputs": [
        {
          "output_type": "stream",
          "text": [
            "Sanity:  True\n"
          ],
          "name": "stdout"
        },
        {
          "output_type": "execute_result",
          "data": {
            "text/plain": [
              "1297"
            ]
          },
          "metadata": {
            "tags": []
          },
          "execution_count": 247
        }
      ]
    },
    {
      "cell_type": "code",
      "metadata": {
        "colab": {
          "base_uri": "https://localhost:8080/"
        },
        "id": "qcnOnacxDXod",
        "outputId": "2e53887a-e697-4a55-a44f-93c3152c1d7f"
      },
      "source": [
        "print(sim_mat.shape)\n",
        "sim_mat = scipy.sparse.csr_matrix(sim_mat)\n",
        "sim_mat = sim_mat[r_keep_idxs]\n",
        "sim_mat = sim_mat.T[c_keep_idxs].T\n",
        "print(sim_mat.shape)"
      ],
      "execution_count": 248,
      "outputs": [
        {
          "output_type": "stream",
          "text": [
            "(1297, 1297)\n",
            "(1297, 1297)\n"
          ],
          "name": "stdout"
        }
      ]
    },
    {
      "cell_type": "code",
      "metadata": {
        "colab": {
          "base_uri": "https://localhost:8080/"
        },
        "id": "ZdnHLeY-DXra",
        "outputId": "c578beb2-c732-48b1-9eac-12612a751154"
      },
      "source": [
        "G = nx.convert_matrix.from_scipy_sparse_matrix(sim_mat)\n",
        "partition = community_louvain.best_partition(G, weight='weight')\n",
        "community_louvain.modularity(partition, G, weight='weight')"
      ],
      "execution_count": 249,
      "outputs": [
        {
          "output_type": "execute_result",
          "data": {
            "text/plain": [
              "0.14547247174975295"
            ]
          },
          "metadata": {
            "tags": []
          },
          "execution_count": 249
        }
      ]
    },
    {
      "cell_type": "code",
      "metadata": {
        "colab": {
          "base_uri": "https://localhost:8080/"
        },
        "id": "yUmWQZ7RDogj",
        "outputId": "451db0e3-5032-44ed-da39-d15df6931342"
      },
      "source": [
        "np.unique(list(partition.values()))"
      ],
      "execution_count": 250,
      "outputs": [
        {
          "output_type": "execute_result",
          "data": {
            "text/plain": [
              "array([0, 1, 2, 3])"
            ]
          },
          "metadata": {
            "tags": []
          },
          "execution_count": 250
        }
      ]
    },
    {
      "cell_type": "code",
      "metadata": {
        "colab": {
          "base_uri": "https://localhost:8080/"
        },
        "id": "R-BYfIWVGF2a",
        "outputId": "dd01a17f-b003-48d2-a839-addabcb28e05"
      },
      "source": [
        "partition.keys()"
      ],
      "execution_count": 251,
      "outputs": [
        {
          "output_type": "execute_result",
          "data": {
            "text/plain": [
              "dict_keys([0, 1, 2, 3, 4, 5, 6, 7, 8, 9, 10, 11, 12, 13, 14, 15, 16, 17, 18, 19, 20, 21, 22, 23, 24, 25, 26, 27, 28, 29, 30, 31, 32, 33, 34, 35, 36, 37, 38, 39, 40, 41, 42, 43, 44, 45, 46, 47, 48, 49, 50, 51, 52, 53, 54, 55, 56, 57, 58, 59, 60, 61, 62, 63, 64, 65, 66, 67, 68, 69, 70, 71, 72, 73, 74, 75, 76, 77, 78, 79, 80, 81, 82, 83, 84, 85, 86, 87, 88, 89, 90, 91, 92, 93, 94, 95, 96, 97, 98, 99, 100, 101, 102, 103, 104, 105, 106, 107, 108, 109, 110, 111, 112, 113, 114, 115, 116, 117, 118, 119, 120, 121, 122, 123, 124, 125, 126, 127, 128, 129, 130, 131, 132, 133, 134, 135, 136, 137, 138, 139, 140, 141, 142, 143, 144, 145, 146, 147, 148, 149, 150, 151, 152, 153, 154, 155, 156, 157, 158, 159, 160, 161, 162, 163, 164, 165, 166, 167, 168, 169, 170, 171, 172, 173, 174, 175, 176, 177, 178, 179, 180, 181, 182, 183, 184, 185, 186, 187, 188, 189, 190, 191, 192, 193, 194, 195, 196, 197, 198, 199, 200, 201, 202, 203, 204, 205, 206, 207, 208, 209, 210, 211, 212, 213, 214, 215, 216, 217, 218, 219, 220, 221, 222, 223, 224, 225, 226, 227, 228, 229, 230, 231, 232, 233, 234, 235, 236, 237, 238, 239, 240, 241, 242, 243, 244, 245, 246, 247, 248, 249, 250, 251, 252, 253, 254, 255, 256, 257, 258, 259, 260, 261, 262, 263, 264, 265, 266, 267, 268, 269, 270, 271, 272, 273, 274, 275, 276, 277, 278, 279, 280, 281, 282, 283, 284, 285, 286, 287, 288, 289, 290, 291, 292, 293, 294, 295, 296, 297, 298, 299, 300, 301, 302, 303, 304, 305, 306, 307, 308, 309, 310, 311, 312, 313, 314, 315, 316, 317, 318, 319, 320, 321, 322, 323, 324, 325, 326, 327, 328, 329, 330, 331, 332, 333, 334, 335, 336, 337, 338, 339, 340, 341, 342, 343, 344, 345, 346, 347, 348, 349, 350, 351, 352, 353, 354, 355, 356, 357, 358, 359, 360, 361, 362, 363, 364, 365, 366, 367, 368, 369, 370, 371, 372, 373, 374, 375, 376, 377, 378, 379, 380, 381, 382, 383, 384, 385, 386, 387, 388, 389, 390, 391, 392, 393, 394, 395, 396, 397, 398, 399, 400, 401, 402, 403, 404, 405, 406, 407, 408, 409, 410, 411, 412, 413, 414, 415, 416, 417, 418, 419, 420, 421, 422, 423, 424, 425, 426, 427, 428, 429, 430, 431, 432, 433, 434, 435, 436, 437, 438, 439, 440, 441, 442, 443, 444, 445, 446, 447, 448, 449, 450, 451, 452, 453, 454, 455, 456, 457, 458, 459, 460, 461, 462, 463, 464, 465, 466, 467, 468, 469, 470, 471, 472, 473, 474, 475, 476, 477, 478, 479, 480, 481, 482, 483, 484, 485, 486, 487, 488, 489, 490, 491, 492, 493, 494, 495, 496, 497, 498, 499, 500, 501, 502, 503, 504, 505, 506, 507, 508, 509, 510, 511, 512, 513, 514, 515, 516, 517, 518, 519, 520, 521, 522, 523, 524, 525, 526, 527, 528, 529, 530, 531, 532, 533, 534, 535, 536, 537, 538, 539, 540, 541, 542, 543, 544, 545, 546, 547, 548, 549, 550, 551, 552, 553, 554, 555, 556, 557, 558, 559, 560, 561, 562, 563, 564, 565, 566, 567, 568, 569, 570, 571, 572, 573, 574, 575, 576, 577, 578, 579, 580, 581, 582, 583, 584, 585, 586, 587, 588, 589, 590, 591, 592, 593, 594, 595, 596, 597, 598, 599, 600, 601, 602, 603, 604, 605, 606, 607, 608, 609, 610, 611, 612, 613, 614, 615, 616, 617, 618, 619, 620, 621, 622, 623, 624, 625, 626, 627, 628, 629, 630, 631, 632, 633, 634, 635, 636, 637, 638, 639, 640, 641, 642, 643, 644, 645, 646, 647, 648, 649, 650, 651, 652, 653, 654, 655, 656, 657, 658, 659, 660, 661, 662, 663, 664, 665, 666, 667, 668, 669, 670, 671, 672, 673, 674, 675, 676, 677, 678, 679, 680, 681, 682, 683, 684, 685, 686, 687, 688, 689, 690, 691, 692, 693, 694, 695, 696, 697, 698, 699, 700, 701, 702, 703, 704, 705, 706, 707, 708, 709, 710, 711, 712, 713, 714, 715, 716, 717, 718, 719, 720, 721, 722, 723, 724, 725, 726, 727, 728, 729, 730, 731, 732, 733, 734, 735, 736, 737, 738, 739, 740, 741, 742, 743, 744, 745, 746, 747, 748, 749, 750, 751, 752, 753, 754, 755, 756, 757, 758, 759, 760, 761, 762, 763, 764, 765, 766, 767, 768, 769, 770, 771, 772, 773, 774, 775, 776, 777, 778, 779, 780, 781, 782, 783, 784, 785, 786, 787, 788, 789, 790, 791, 792, 793, 794, 795, 796, 797, 798, 799, 800, 801, 802, 803, 804, 805, 806, 807, 808, 809, 810, 811, 812, 813, 814, 815, 816, 817, 818, 819, 820, 821, 822, 823, 824, 825, 826, 827, 828, 829, 830, 831, 832, 833, 834, 835, 836, 837, 838, 839, 840, 841, 842, 843, 844, 845, 846, 847, 848, 849, 850, 851, 852, 853, 854, 855, 856, 857, 858, 859, 860, 861, 862, 863, 864, 865, 866, 867, 868, 869, 870, 871, 872, 873, 874, 875, 876, 877, 878, 879, 880, 881, 882, 883, 884, 885, 886, 887, 888, 889, 890, 891, 892, 893, 894, 895, 896, 897, 898, 899, 900, 901, 902, 903, 904, 905, 906, 907, 908, 909, 910, 911, 912, 913, 914, 915, 916, 917, 918, 919, 920, 921, 922, 923, 924, 925, 926, 927, 928, 929, 930, 931, 932, 933, 934, 935, 936, 937, 938, 939, 940, 941, 942, 943, 944, 945, 946, 947, 948, 949, 950, 951, 952, 953, 954, 955, 956, 957, 958, 959, 960, 961, 962, 963, 964, 965, 966, 967, 968, 969, 970, 971, 972, 973, 974, 975, 976, 977, 978, 979, 980, 981, 982, 983, 984, 985, 986, 987, 988, 989, 990, 991, 992, 993, 994, 995, 996, 997, 998, 999, 1000, 1001, 1002, 1003, 1004, 1005, 1006, 1007, 1008, 1009, 1010, 1011, 1012, 1013, 1014, 1015, 1016, 1017, 1018, 1019, 1020, 1021, 1022, 1023, 1024, 1025, 1026, 1027, 1028, 1029, 1030, 1031, 1032, 1033, 1034, 1035, 1036, 1037, 1038, 1039, 1040, 1041, 1042, 1043, 1044, 1045, 1046, 1047, 1048, 1049, 1050, 1051, 1052, 1053, 1054, 1055, 1056, 1057, 1058, 1059, 1060, 1061, 1062, 1063, 1064, 1065, 1066, 1067, 1068, 1069, 1070, 1071, 1072, 1073, 1074, 1075, 1076, 1077, 1078, 1079, 1080, 1081, 1082, 1083, 1084, 1085, 1086, 1087, 1088, 1089, 1090, 1091, 1092, 1093, 1094, 1095, 1096, 1097, 1098, 1099, 1100, 1101, 1102, 1103, 1104, 1105, 1106, 1107, 1108, 1109, 1110, 1111, 1112, 1113, 1114, 1115, 1116, 1117, 1118, 1119, 1120, 1121, 1122, 1123, 1124, 1125, 1126, 1127, 1128, 1129, 1130, 1131, 1132, 1133, 1134, 1135, 1136, 1137, 1138, 1139, 1140, 1141, 1142, 1143, 1144, 1145, 1146, 1147, 1148, 1149, 1150, 1151, 1152, 1153, 1154, 1155, 1156, 1157, 1158, 1159, 1160, 1161, 1162, 1163, 1164, 1165, 1166, 1167, 1168, 1169, 1170, 1171, 1172, 1173, 1174, 1175, 1176, 1177, 1178, 1179, 1180, 1181, 1182, 1183, 1184, 1185, 1186, 1187, 1188, 1189, 1190, 1191, 1192, 1193, 1194, 1195, 1196, 1197, 1198, 1199, 1200, 1201, 1202, 1203, 1204, 1205, 1206, 1207, 1208, 1209, 1210, 1211, 1212, 1213, 1214, 1215, 1216, 1217, 1218, 1219, 1220, 1221, 1222, 1223, 1224, 1225, 1226, 1227, 1228, 1229, 1230, 1231, 1232, 1233, 1234, 1235, 1236, 1237, 1238, 1239, 1240, 1241, 1242, 1243, 1244, 1245, 1246, 1247, 1248, 1249, 1250, 1251, 1252, 1253, 1254, 1255, 1256, 1257, 1258, 1259, 1260, 1261, 1262, 1263, 1264, 1265, 1266, 1267, 1268, 1269, 1270, 1271, 1272, 1273, 1274, 1275, 1276, 1277, 1278, 1279, 1280, 1281, 1282, 1283, 1284, 1285, 1286, 1287, 1288, 1289, 1290, 1291, 1292, 1293, 1294, 1295, 1296])"
            ]
          },
          "metadata": {
            "tags": []
          },
          "execution_count": 251
        }
      ]
    },
    {
      "cell_type": "code",
      "metadata": {
        "id": "5YzyRPrBDwrz"
      },
      "source": [
        "bad_community_df = pd.DataFrame({'cast_id':list(cast_ratings[cast_ratings['community']==0]['cast_id']), 'sub_community':list(partition.values())})"
      ],
      "execution_count": 252,
      "outputs": []
    },
    {
      "cell_type": "code",
      "metadata": {
        "id": "r9LpTf4iEVrx"
      },
      "source": [
        "good_bad_community_df = good_community_df.append(bad_community_df)"
      ],
      "execution_count": 253,
      "outputs": []
    },
    {
      "cell_type": "code",
      "metadata": {
        "colab": {
          "base_uri": "https://localhost:8080/"
        },
        "id": "u5AM618-EVu-",
        "outputId": "cd4a705e-0c6a-4502-ef95-3d5725ccb904"
      },
      "source": [
        "len(good_bad_community_df['cast_id'].unique())"
      ],
      "execution_count": 254,
      "outputs": [
        {
          "output_type": "execute_result",
          "data": {
            "text/plain": [
              "2646"
            ]
          },
          "metadata": {
            "tags": []
          },
          "execution_count": 254
        }
      ]
    },
    {
      "cell_type": "code",
      "metadata": {
        "colab": {
          "base_uri": "https://localhost:8080/"
        },
        "id": "X24iAzOOEo72",
        "outputId": "a6366a1e-9ad9-41d4-91b6-3f340cf687e2"
      },
      "source": [
        "good_actor_mat.shape[0]+bad_actor_mat.shape[0]"
      ],
      "execution_count": 226,
      "outputs": [
        {
          "output_type": "execute_result",
          "data": {
            "text/plain": [
              "2646"
            ]
          },
          "metadata": {
            "tags": []
          },
          "execution_count": 226
        }
      ]
    },
    {
      "cell_type": "code",
      "metadata": {
        "id": "4O3D9wVeDCjJ"
      },
      "source": [
        "cast_ratings = cast_ratings.merge(good_bad_community_df, how='left', on='cast_id')"
      ],
      "execution_count": 256,
      "outputs": []
    },
    {
      "cell_type": "code",
      "metadata": {
        "id": "PAacwsgqDDf-"
      },
      "source": [
        "cast_ratings.to_csv(\"/content/drive/MyDrive/movies_big/emb/actor_community_df.csv\", index=False)"
      ],
      "execution_count": 257,
      "outputs": []
    },
    {
      "cell_type": "code",
      "metadata": {
        "colab": {
          "base_uri": "https://localhost:8080/",
          "height": 363
        },
        "id": "o9M6JaIZHXet",
        "outputId": "f21f00ea-30f8-4010-d9f9-57820db4a304"
      },
      "source": [
        "cast_ratings.head()"
      ],
      "execution_count": 260,
      "outputs": [
        {
          "output_type": "execute_result",
          "data": {
            "text/html": [
              "<div>\n",
              "<style scoped>\n",
              "    .dataframe tbody tr th:only-of-type {\n",
              "        vertical-align: middle;\n",
              "    }\n",
              "\n",
              "    .dataframe tbody tr th {\n",
              "        vertical-align: top;\n",
              "    }\n",
              "\n",
              "    .dataframe thead th {\n",
              "        text-align: right;\n",
              "    }\n",
              "</style>\n",
              "<table border=\"1\" class=\"dataframe\">\n",
              "  <thead>\n",
              "    <tr style=\"text-align: right;\">\n",
              "      <th></th>\n",
              "      <th>cast_id</th>\n",
              "      <th>ratings</th>\n",
              "      <th>avg_rating</th>\n",
              "      <th>community</th>\n",
              "      <th>name</th>\n",
              "      <th>id</th>\n",
              "      <th>revenue</th>\n",
              "      <th>non_zero_revenue_avg</th>\n",
              "      <th>sub_community</th>\n",
              "    </tr>\n",
              "  </thead>\n",
              "  <tbody>\n",
              "    <tr>\n",
              "      <th>0</th>\n",
              "      <td>2</td>\n",
              "      <td>[7.4, 4.3, 6.6, 5.0, 7.0, 7.0, 0.0]</td>\n",
              "      <td>5.328571</td>\n",
              "      <td>0</td>\n",
              "      <td>Mark Hamill</td>\n",
              "      <td>[260, 332, 4734, 45047, 74436, 99351, 173433]</td>\n",
              "      <td>[0.0, 0.0, 138000.0, 0.0, 0.0, 0.0, 0.0]</td>\n",
              "      <td>1.380000e+05</td>\n",
              "      <td>0</td>\n",
              "    </tr>\n",
              "    <tr>\n",
              "      <th>1</th>\n",
              "      <td>3</td>\n",
              "      <td>[7.4, 5.1, 7.3, 6.9, 0.0, 5.3, 6.4, 5.4, 8.2, ...</td>\n",
              "      <td>5.780000</td>\n",
              "      <td>0</td>\n",
              "      <td>Harrison Ford</td>\n",
              "      <td>[260, 349, 457, 541, 1488, 1608, 1894, 2115, 2...</td>\n",
              "      <td>[0.0, 0.0, 0.0, 0.0, 0.0, 0.0, 649398328.0, 0....</td>\n",
              "      <td>6.493983e+08</td>\n",
              "      <td>1</td>\n",
              "    </tr>\n",
              "    <tr>\n",
              "      <th>2</th>\n",
              "      <td>4</td>\n",
              "      <td>[7.4, 7.5, 7.3, 6.7, 5.7, 6.5, 6.6, 5.9, 7.3, ...</td>\n",
              "      <td>6.458333</td>\n",
              "      <td>1</td>\n",
              "      <td>Carrie Fisher</td>\n",
              "      <td>[260, 1126, 2072, 3048, 3489, 4228, 4734, 8884...</td>\n",
              "      <td>[0.0, 0.0, 0.0, 0.0, 16930884.0, 0.0, 138000.0...</td>\n",
              "      <td>8.534442e+06</td>\n",
              "      <td>3</td>\n",
              "    </tr>\n",
              "    <tr>\n",
              "      <th>3</th>\n",
              "      <td>5</td>\n",
              "      <td>[7.4, 6.9, 6.8, 5.8, 6.6, 7.1, 4.5, 4.7, 2.7, ...</td>\n",
              "      <td>5.800000</td>\n",
              "      <td>0</td>\n",
              "      <td>Peter Cushing</td>\n",
              "      <td>[260, 1941, 2652, 5552, 5595, 6976, 8743, 2626...</td>\n",
              "      <td>[0.0, 21750000.0, 7022209.0, 0.0, 0.0, 0.0, 0....</td>\n",
              "      <td>9.625238e+06</td>\n",
              "      <td>2</td>\n",
              "    </tr>\n",
              "    <tr>\n",
              "      <th>4</th>\n",
              "      <td>13</td>\n",
              "      <td>[8.0, 7.1, 7.2, 6.4, 6.9, 6.1, 6.9, 6.6, 6.3]</td>\n",
              "      <td>6.833333</td>\n",
              "      <td>1</td>\n",
              "      <td>Albert Brooks</td>\n",
              "      <td>[111, 1414, 1677, 1911, 1912, 5769, 42740, 516...</td>\n",
              "      <td>[65884703.0, 0.0, 124731534.0, 61698899.0, 0.0...</td>\n",
              "      <td>7.247878e+07</td>\n",
              "      <td>1</td>\n",
              "    </tr>\n",
              "  </tbody>\n",
              "</table>\n",
              "</div>"
            ],
            "text/plain": [
              "   cast_id  ... sub_community\n",
              "0        2  ...             0\n",
              "1        3  ...             1\n",
              "2        4  ...             3\n",
              "3        5  ...             2\n",
              "4       13  ...             1\n",
              "\n",
              "[5 rows x 9 columns]"
            ]
          },
          "metadata": {
            "tags": []
          },
          "execution_count": 260
        }
      ]
    },
    {
      "cell_type": "code",
      "metadata": {
        "id": "HX2Ccx9bH0N1"
      },
      "source": [
        "good_cast_ratings = cast_ratings[cast_ratings['community']==1].reset_index()\n",
        "bad_cast_ratings = cast_ratings[cast_ratings['community']==0].reset_index()"
      ],
      "execution_count": 27,
      "outputs": []
    },
    {
      "cell_type": "code",
      "metadata": {
        "id": "giiWIt4kTxf6"
      },
      "source": [
        ""
      ],
      "execution_count": 27,
      "outputs": []
    },
    {
      "cell_type": "code",
      "metadata": {
        "id": "77C1h0lvKMgh"
      },
      "source": [
        "from itertools import chain"
      ],
      "execution_count": 28,
      "outputs": []
    },
    {
      "cell_type": "code",
      "metadata": {
        "id": "vnfwOq7RI9fD"
      },
      "source": [
        "good_coms = pd.DataFrame(good_cast_ratings.groupby('sub_community').agg({\n",
        "    'cast_id':lambda x: x.tolist(),\n",
        "    'avg_rating':lambda x: x.tolist(),\n",
        "    'id':lambda x: list(chain.from_iterable(x.tolist())),\n",
        "    'non_zero_revenue_avg':lambda x: x.tolist()\n",
        "}).reset_index())\n",
        "\n",
        "bad_coms = pd.DataFrame(bad_cast_ratings.groupby('sub_community').agg({\n",
        "    'cast_id':lambda x: x.tolist(),\n",
        "    'avg_rating':lambda x: x.tolist(),\n",
        "    'id':lambda x: list(chain.from_iterable(x.tolist())),\n",
        "    'non_zero_revenue_avg':lambda x: x.tolist()\n",
        "}).reset_index())"
      ],
      "execution_count": 29,
      "outputs": []
    },
    {
      "cell_type": "code",
      "metadata": {
        "colab": {
          "base_uri": "https://localhost:8080/",
          "height": 296
        },
        "id": "3h1UGEbqJAqy",
        "outputId": "4a5eb381-0bee-4af1-fb2d-8dab7f491de6"
      },
      "source": [
        "good_coms"
      ],
      "execution_count": 30,
      "outputs": [
        {
          "output_type": "execute_result",
          "data": {
            "text/html": [
              "<div>\n",
              "<style scoped>\n",
              "    .dataframe tbody tr th:only-of-type {\n",
              "        vertical-align: middle;\n",
              "    }\n",
              "\n",
              "    .dataframe tbody tr th {\n",
              "        vertical-align: top;\n",
              "    }\n",
              "\n",
              "    .dataframe thead th {\n",
              "        text-align: right;\n",
              "    }\n",
              "</style>\n",
              "<table border=\"1\" class=\"dataframe\">\n",
              "  <thead>\n",
              "    <tr style=\"text-align: right;\">\n",
              "      <th></th>\n",
              "      <th>sub_community</th>\n",
              "      <th>cast_id</th>\n",
              "      <th>avg_rating</th>\n",
              "      <th>id</th>\n",
              "      <th>non_zero_revenue_avg</th>\n",
              "    </tr>\n",
              "  </thead>\n",
              "  <tbody>\n",
              "    <tr>\n",
              "      <th>0</th>\n",
              "      <td>0</td>\n",
              "      <td>[228, 290, 478, 504, 783, 1039, 1064, 1461, 15...</td>\n",
              "      <td>[6.761111111111113, 6.063157894736843, 6.72857...</td>\n",
              "      <td>[14, 150, 257, 276, 454, 1127, 1682, 3016, 311...</td>\n",
              "      <td>[133531834.0, 100663400.83333331, 0.0, 7846591...</td>\n",
              "    </tr>\n",
              "    <tr>\n",
              "      <th>1</th>\n",
              "      <td>1</td>\n",
              "      <td>[13, 52, 102, 110, 112, 349, 388, 452, 500, 50...</td>\n",
              "      <td>[6.833333333333332, 6.2875, 6.5875, 6.76923076...</td>\n",
              "      <td>[111, 1414, 1677, 1911, 1912, 5769, 42740, 516...</td>\n",
              "      <td>[72478784.0, 59101833.5, 293213925.3333333, 18...</td>\n",
              "    </tr>\n",
              "    <tr>\n",
              "      <th>2</th>\n",
              "      <td>2</td>\n",
              "      <td>[31, 33, 35, 62, 109, 138, 139, 147, 194, 207,...</td>\n",
              "      <td>[6.742105263157897, 6.525, 6.08, 6.3, 6.13125,...</td>\n",
              "      <td>[150, 508, 539, 581, 2028, 2072, 2100, 3114, 3...</td>\n",
              "      <td>[116409890.75, 45599073.0, 35514077.0, 1364815...</td>\n",
              "    </tr>\n",
              "    <tr>\n",
              "      <th>3</th>\n",
              "      <td>3</td>\n",
              "      <td>[4, 20, 32, 40, 98, 155, 193, 227, 230, 378, 4...</td>\n",
              "      <td>[6.458333333333332, 6.262499999999998, 6.75555...</td>\n",
              "      <td>[260, 1126, 2072, 3048, 3489, 4228, 4734, 8884...</td>\n",
              "      <td>[8534442.0, 28455841.25, 76195685.6, 52230566....</td>\n",
              "    </tr>\n",
              "    <tr>\n",
              "      <th>4</th>\n",
              "      <td>4</td>\n",
              "      <td>[18, 53, 65, 130, 131, 190, 205, 206, 287, 351...</td>\n",
              "      <td>[6.25, 6.235294117647059, 6.141176470588236, 6...</td>\n",
              "      <td>[158, 2355, 5482, 46972, 53569, 81847, 112460,...</td>\n",
              "      <td>[22222308.0, 104777336.14285716, 139261493.6, ...</td>\n",
              "    </tr>\n",
              "  </tbody>\n",
              "</table>\n",
              "</div>"
            ],
            "text/plain": [
              "   sub_community  ...                               non_zero_revenue_avg\n",
              "0              0  ...  [133531834.0, 100663400.83333331, 0.0, 7846591...\n",
              "1              1  ...  [72478784.0, 59101833.5, 293213925.3333333, 18...\n",
              "2              2  ...  [116409890.75, 45599073.0, 35514077.0, 1364815...\n",
              "3              3  ...  [8534442.0, 28455841.25, 76195685.6, 52230566....\n",
              "4              4  ...  [22222308.0, 104777336.14285716, 139261493.6, ...\n",
              "\n",
              "[5 rows x 5 columns]"
            ]
          },
          "metadata": {
            "tags": []
          },
          "execution_count": 30
        }
      ]
    },
    {
      "cell_type": "code",
      "metadata": {
        "colab": {
          "base_uri": "https://localhost:8080/",
          "height": 250
        },
        "id": "-6hoJPxCKtGu",
        "outputId": "1e3e990f-aca4-4510-e1fd-14b226f92742"
      },
      "source": [
        "bad_coms"
      ],
      "execution_count": 31,
      "outputs": [
        {
          "output_type": "execute_result",
          "data": {
            "text/html": [
              "<div>\n",
              "<style scoped>\n",
              "    .dataframe tbody tr th:only-of-type {\n",
              "        vertical-align: middle;\n",
              "    }\n",
              "\n",
              "    .dataframe tbody tr th {\n",
              "        vertical-align: top;\n",
              "    }\n",
              "\n",
              "    .dataframe thead th {\n",
              "        text-align: right;\n",
              "    }\n",
              "</style>\n",
              "<table border=\"1\" class=\"dataframe\">\n",
              "  <thead>\n",
              "    <tr style=\"text-align: right;\">\n",
              "      <th></th>\n",
              "      <th>sub_community</th>\n",
              "      <th>cast_id</th>\n",
              "      <th>avg_rating</th>\n",
              "      <th>id</th>\n",
              "      <th>non_zero_revenue_avg</th>\n",
              "    </tr>\n",
              "  </thead>\n",
              "  <tbody>\n",
              "    <tr>\n",
              "      <th>0</th>\n",
              "      <td>0</td>\n",
              "      <td>[2, 85, 99, 212, 326, 385, 477, 540, 569, 935,...</td>\n",
              "      <td>[5.328571428571427, 5.839130434782607, 5.9, 5....</td>\n",
              "      <td>[260, 332, 4734, 45047, 74436, 99351, 173433, ...</td>\n",
              "      <td>[138000.0, 118765643.875, 237473390.0, 5770254...</td>\n",
              "    </tr>\n",
              "    <tr>\n",
              "      <th>1</th>\n",
              "      <td>1</td>\n",
              "      <td>[3, 48, 64, 114, 134, 141, 192, 454, 515, 529,...</td>\n",
              "      <td>[5.78, 5.5705882352941165, 5.9823529411764715,...</td>\n",
              "      <td>[260, 349, 457, 541, 1488, 1608, 1894, 2115, 2...</td>\n",
              "      <td>[649398328.0, 158294428.33333334, 111107616.16...</td>\n",
              "    </tr>\n",
              "    <tr>\n",
              "      <th>2</th>\n",
              "      <td>2</td>\n",
              "      <td>[5, 23, 50, 113, 204, 350, 380, 448, 516, 517,...</td>\n",
              "      <td>[5.800000000000002, 6.333333333333332, 5.62666...</td>\n",
              "      <td>[260, 1941, 2652, 5552, 5595, 6976, 8743, 2626...</td>\n",
              "      <td>[9625237.666666666, 516729786.0, 107339167.0, ...</td>\n",
              "    </tr>\n",
              "    <tr>\n",
              "      <th>3</th>\n",
              "      <td>3</td>\n",
              "      <td>[19, 34, 63, 118, 258, 335, 429, 526, 649, 725...</td>\n",
              "      <td>[6.044444444444445, 5.8909090909090915, 5.5454...</td>\n",
              "      <td>[438, 664, 994, 1810, 1894, 2295, 45431, 46772...</td>\n",
              "      <td>[293502505.5, 64559092.66666666, 7665067.0, 89...</td>\n",
              "    </tr>\n",
              "  </tbody>\n",
              "</table>\n",
              "</div>"
            ],
            "text/plain": [
              "   sub_community  ...                               non_zero_revenue_avg\n",
              "0              0  ...  [138000.0, 118765643.875, 237473390.0, 5770254...\n",
              "1              1  ...  [649398328.0, 158294428.33333334, 111107616.16...\n",
              "2              2  ...  [9625237.666666666, 516729786.0, 107339167.0, ...\n",
              "3              3  ...  [293502505.5, 64559092.66666666, 7665067.0, 89...\n",
              "\n",
              "[4 rows x 5 columns]"
            ]
          },
          "metadata": {
            "tags": []
          },
          "execution_count": 31
        }
      ]
    },
    {
      "cell_type": "code",
      "metadata": {
        "id": "UHRlxQS0LGGK"
      },
      "source": [
        "good_vecs = []\n",
        "for _, row in good_coms.iterrows():\n",
        "    cast_ids = row['cast_id']\n",
        "    mean_vec = []\n",
        "    for c_id in cast_ids:\n",
        "        mean_vec.append(actor_vectors[c_id])\n",
        "    mean_vec = np.mean(mean_vec,axis=0)\n",
        "    good_vecs.append(mean_vec)\n",
        "\n",
        "bad_vecs = []\n",
        "for _, row in bad_coms.iterrows():\n",
        "    cast_ids = row['cast_id']\n",
        "    mean_vec = []\n",
        "    for c_id in cast_ids:\n",
        "        mean_vec.append(actor_vectors[c_id])\n",
        "    mean_vec = np.mean(mean_vec,axis=0)\n",
        "    bad_vecs.append(mean_vec)"
      ],
      "execution_count": 32,
      "outputs": []
    },
    {
      "cell_type": "code",
      "metadata": {
        "colab": {
          "base_uri": "https://localhost:8080/"
        },
        "id": "QNmR0_3xMyQA",
        "outputId": "1546f347-f290-4767-acd8-93005c798ae8"
      },
      "source": [
        "len(good_vecs), len(bad_vecs)"
      ],
      "execution_count": 33,
      "outputs": [
        {
          "output_type": "execute_result",
          "data": {
            "text/plain": [
              "(5, 4)"
            ]
          },
          "metadata": {
            "tags": []
          },
          "execution_count": 33
        }
      ]
    },
    {
      "cell_type": "code",
      "metadata": {
        "colab": {
          "base_uri": "https://localhost:8080/",
          "height": 296
        },
        "id": "iIL34N_2VRGI",
        "outputId": "60dfb0f8-af56-48ae-f09a-bce7bdf52749"
      },
      "source": [
        "good_coms"
      ],
      "execution_count": 34,
      "outputs": [
        {
          "output_type": "execute_result",
          "data": {
            "text/html": [
              "<div>\n",
              "<style scoped>\n",
              "    .dataframe tbody tr th:only-of-type {\n",
              "        vertical-align: middle;\n",
              "    }\n",
              "\n",
              "    .dataframe tbody tr th {\n",
              "        vertical-align: top;\n",
              "    }\n",
              "\n",
              "    .dataframe thead th {\n",
              "        text-align: right;\n",
              "    }\n",
              "</style>\n",
              "<table border=\"1\" class=\"dataframe\">\n",
              "  <thead>\n",
              "    <tr style=\"text-align: right;\">\n",
              "      <th></th>\n",
              "      <th>sub_community</th>\n",
              "      <th>cast_id</th>\n",
              "      <th>avg_rating</th>\n",
              "      <th>id</th>\n",
              "      <th>non_zero_revenue_avg</th>\n",
              "    </tr>\n",
              "  </thead>\n",
              "  <tbody>\n",
              "    <tr>\n",
              "      <th>0</th>\n",
              "      <td>0</td>\n",
              "      <td>[228, 290, 478, 504, 783, 1039, 1064, 1461, 15...</td>\n",
              "      <td>[6.761111111111113, 6.063157894736843, 6.72857...</td>\n",
              "      <td>[14, 150, 257, 276, 454, 1127, 1682, 3016, 311...</td>\n",
              "      <td>[133531834.0, 100663400.83333331, 0.0, 7846591...</td>\n",
              "    </tr>\n",
              "    <tr>\n",
              "      <th>1</th>\n",
              "      <td>1</td>\n",
              "      <td>[13, 52, 102, 110, 112, 349, 388, 452, 500, 50...</td>\n",
              "      <td>[6.833333333333332, 6.2875, 6.5875, 6.76923076...</td>\n",
              "      <td>[111, 1414, 1677, 1911, 1912, 5769, 42740, 516...</td>\n",
              "      <td>[72478784.0, 59101833.5, 293213925.3333333, 18...</td>\n",
              "    </tr>\n",
              "    <tr>\n",
              "      <th>2</th>\n",
              "      <td>2</td>\n",
              "      <td>[31, 33, 35, 62, 109, 138, 139, 147, 194, 207,...</td>\n",
              "      <td>[6.742105263157897, 6.525, 6.08, 6.3, 6.13125,...</td>\n",
              "      <td>[150, 508, 539, 581, 2028, 2072, 2100, 3114, 3...</td>\n",
              "      <td>[116409890.75, 45599073.0, 35514077.0, 1364815...</td>\n",
              "    </tr>\n",
              "    <tr>\n",
              "      <th>3</th>\n",
              "      <td>3</td>\n",
              "      <td>[4, 20, 32, 40, 98, 155, 193, 227, 230, 378, 4...</td>\n",
              "      <td>[6.458333333333332, 6.262499999999998, 6.75555...</td>\n",
              "      <td>[260, 1126, 2072, 3048, 3489, 4228, 4734, 8884...</td>\n",
              "      <td>[8534442.0, 28455841.25, 76195685.6, 52230566....</td>\n",
              "    </tr>\n",
              "    <tr>\n",
              "      <th>4</th>\n",
              "      <td>4</td>\n",
              "      <td>[18, 53, 65, 130, 131, 190, 205, 206, 287, 351...</td>\n",
              "      <td>[6.25, 6.235294117647059, 6.141176470588236, 6...</td>\n",
              "      <td>[158, 2355, 5482, 46972, 53569, 81847, 112460,...</td>\n",
              "      <td>[22222308.0, 104777336.14285716, 139261493.6, ...</td>\n",
              "    </tr>\n",
              "  </tbody>\n",
              "</table>\n",
              "</div>"
            ],
            "text/plain": [
              "   sub_community  ...                               non_zero_revenue_avg\n",
              "0              0  ...  [133531834.0, 100663400.83333331, 0.0, 7846591...\n",
              "1              1  ...  [72478784.0, 59101833.5, 293213925.3333333, 18...\n",
              "2              2  ...  [116409890.75, 45599073.0, 35514077.0, 1364815...\n",
              "3              3  ...  [8534442.0, 28455841.25, 76195685.6, 52230566....\n",
              "4              4  ...  [22222308.0, 104777336.14285716, 139261493.6, ...\n",
              "\n",
              "[5 rows x 5 columns]"
            ]
          },
          "metadata": {
            "tags": []
          },
          "execution_count": 34
        }
      ]
    },
    {
      "cell_type": "code",
      "metadata": {
        "colab": {
          "base_uri": "https://localhost:8080/",
          "height": 1000
        },
        "id": "4FM66sTrM6yD",
        "outputId": "cc128569-79b9-4f6c-c9f8-e5f21adf5c13"
      },
      "source": [
        "t_idxs = []\n",
        "for t_vec in (good_vecs):\n",
        "    t_idxs.append(np.argsort(t_vec)[::-1][:4])\n",
        "for c_id, v in enumerate(good_vecs):\n",
        "\n",
        "    print(\"Community:\",c_id)\n",
        "    print(\"Avg Rating:\", np.round(np.mean(good_coms.iloc[c_id]['avg_rating']),2), \"Avg Revenue\", np.round(np.mean(good_coms.iloc[c_id]['non_zero_revenue_avg']),2))\n",
        "    # print(\"Top 3 topics:\", t_idxs[c_id])\n",
        "    # com_vector = np.zeros(vec.shape)\n",
        "    # com_vector[t_idxs[c_id]] = vec[t_idxs[c_id]]\n",
        "    # plt.bar(x=range(len(v)),height=v)\n",
        "    # plt.xticks(range(len(v)))\n",
        "    # plt.show()\n",
        "\n",
        "    print(\"Top 3 topics:\", t_idxs[c_id])\n",
        "    com_vector = np.zeros(v.shape)\n",
        "    com_vector[t_idxs[c_id]] = v[t_idxs[c_id]]\n",
        "    plt.bar(range(len(com_vector)), com_vector)\n",
        "    plt.xticks(range(len(com_vector)))\n",
        "    plt.show()"
      ],
      "execution_count": 306,
      "outputs": [
        {
          "output_type": "stream",
          "text": [
            "Community: 0\n",
            "Avg Rating: 6.57 Avg Revenue 106068951.0\n",
            "Top 3 topics: [13  8  2  7]\n"
          ],
          "name": "stdout"
        },
        {
          "output_type": "display_data",
          "data": {
            "image/png": "[encoded data removed]",
            "text/plain": [
              "<Figure size 432x288 with 1 Axes>"
            ]
          },
          "metadata": {
            "tags": [],
            "needs_background": "light"
          }
        },
        {
          "output_type": "stream",
          "text": [
            "Community: 1\n",
            "Avg Rating: 6.5 Avg Revenue 139035377.72\n",
            "Top 3 topics: [17  7 16  5]\n"
          ],
          "name": "stdout"
        },
        {
          "output_type": "display_data",
          "data": {
            "image/png": "[encoded data removed]",
            "text/plain": [
              "<Figure size 432x288 with 1 Axes>"
            ]
          },
          "metadata": {
            "tags": [],
            "needs_background": "light"
          }
        },
        {
          "output_type": "stream",
          "text": [
            "Community: 2\n",
            "Avg Rating: 6.5 Avg Revenue 101885295.28\n",
            "Top 3 topics: [6 5 0 3]\n"
          ],
          "name": "stdout"
        },
        {
          "output_type": "display_data",
          "data": {
            "image/png": "[encoded data removed]",
            "text/plain": [
              "<Figure size 432x288 with 1 Axes>"
            ]
          },
          "metadata": {
            "tags": [],
            "needs_background": "light"
          }
        },
        {
          "output_type": "stream",
          "text": [
            "Community: 3\n",
            "Avg Rating: 6.59 Avg Revenue 109399512.42\n",
            "Top 3 topics: [19 14 18  5]\n"
          ],
          "name": "stdout"
        },
        {
          "output_type": "display_data",
          "data": {
            "image/png": "[encoded data removed]",
            "text/plain": [
              "<Figure size 432x288 with 1 Axes>"
            ]
          },
          "metadata": {
            "tags": [],
            "needs_background": "light"
          }
        },
        {
          "output_type": "stream",
          "text": [
            "Community: 4\n",
            "Avg Rating: 6.51 Avg Revenue 100808288.49\n",
            "Top 3 topics: [12 10 15  9]\n"
          ],
          "name": "stdout"
        },
        {
          "output_type": "display_data",
          "data": {
            "image/png": "[encoded data removed]",
            "text/plain": [
              "<Figure size 432x288 with 1 Axes>"
            ]
          },
          "metadata": {
            "tags": [],
            "needs_background": "light"
          }
        }
      ]
    },
    {
      "cell_type": "code",
      "metadata": {
        "colab": {
          "base_uri": "https://localhost:8080/",
          "height": 1000
        },
        "id": "MXMVHfBWNpgF",
        "outputId": "83ab411e-3736-4e9e-825d-5239d9fe3cf0"
      },
      "source": [
        "t_idxs = []\n",
        "for t_vec in (bad_vecs):\n",
        "    t_idxs.append(np.argsort(t_vec)[::-1][:4])\n",
        "for c_id, v in enumerate(bad_vecs):\n",
        "\n",
        "    print(\"Community:\",c_id)\n",
        "    # print(\"Top 3 topics:\", t_idxs[c_id])\n",
        "    # com_vector = np.zeros(vec.shape)\n",
        "    # com_vector[t_idxs[c_id]] = vec[t_idxs[c_id]]\n",
        "    # plt.bar(x=range(len(v)),height=v)\n",
        "    # plt.xticks(range(len(v)))\n",
        "    # plt.show()\n",
        "\n",
        "    print(\"Top 3 topics:\", t_idxs[c_id])\n",
        "    com_vector = np.zeros(v.shape)\n",
        "    com_vector[t_idxs[c_id]] = v[t_idxs[c_id]]\n",
        "    plt.bar(range(len(com_vector)), com_vector)\n",
        "    plt.xticks(range(len(com_vector)))\n",
        "    plt.show()"
      ],
      "execution_count": 298,
      "outputs": [
        {
          "output_type": "stream",
          "text": [
            "Community: 0\n",
            "Top 3 topics: [ 7 19 17  6]\n"
          ],
          "name": "stdout"
        },
        {
          "output_type": "display_data",
          "data": {
            "image/png": "[encoded data removed]",
            "text/plain": [
              "<Figure size 432x288 with 1 Axes>"
            ]
          },
          "metadata": {
            "tags": [],
            "needs_background": "light"
          }
        },
        {
          "output_type": "stream",
          "text": [
            "Community: 1\n",
            "Top 3 topics: [10 15  3 12]\n"
          ],
          "name": "stdout"
        },
        {
          "output_type": "display_data",
          "data": {
            "image/png": "[encoded data removed]",
            "text/plain": [
              "<Figure size 432x288 with 1 Axes>"
            ]
          },
          "metadata": {
            "tags": [],
            "needs_background": "light"
          }
        },
        {
          "output_type": "stream",
          "text": [
            "Community: 2\n",
            "Top 3 topics: [17 16  5  7]\n"
          ],
          "name": "stdout"
        },
        {
          "output_type": "display_data",
          "data": {
            "image/png": "[encoded data removed]",
            "text/plain": [
              "<Figure size 432x288 with 1 Axes>"
            ]
          },
          "metadata": {
            "tags": [],
            "needs_background": "light"
          }
        },
        {
          "output_type": "stream",
          "text": [
            "Community: 3\n",
            "Top 3 topics: [13  8  2 19]\n"
          ],
          "name": "stdout"
        },
        {
          "output_type": "display_data",
          "data": {
            "image/png": "[encoded data removed]",
            "text/plain": [
              "<Figure size 432x288 with 1 Axes>"
            ]
          },
          "metadata": {
            "tags": [],
            "needs_background": "light"
          }
        }
      ]
    },
    {
      "cell_type": "code",
      "metadata": {
        "colab": {
          "base_uri": "https://localhost:8080/"
        },
        "id": "qycBi62VNttb",
        "outputId": "59a37165-d9e1-46b0-8f26-a6bcfaad25ee"
      },
      "source": [
        "print(1)"
      ],
      "execution_count": 307,
      "outputs": [
        {
          "output_type": "stream",
          "text": [
            "1\n"
          ],
          "name": "stdout"
        }
      ]
    },
    {
      "cell_type": "code",
      "metadata": {
        "id": "_MfSotmLRSRR"
      },
      "source": [
        "good_vecs = np.array(good_vecs)\n",
        "bad_vecs = np.array(bad_vecs)"
      ],
      "execution_count": 38,
      "outputs": []
    },
    {
      "cell_type": "code",
      "metadata": {
        "id": "Vhoe9VxfU8Td"
      },
      "source": [
        "t_idxs = []\n",
        "# for t_vec in (community_topic_vecs-mean_com_topic_vec):\n",
        "for t_vec in (good_vecs):\n",
        "    t_idxs.append(np.argsort(t_vec)[::-1][:3])\n",
        "\n",
        "cluster_ids = []\n",
        "t_vecs = []\n",
        "for c_id, vec in enumerate(good_vecs):  \n",
        "    com_vector = np.zeros(vec.shape)\n",
        "    com_vector[t_idxs[c_id]] = vec[t_idxs[c_id]]\n",
        "    # data_viz.append({'cluster_id':int(c_id), 'topic_vector':list(com_vector)})\n",
        "    cluster_ids.append(c_id)\n",
        "    t_vecs.append(com_vector)\n",
        "\n",
        "t_vecs = np.array(t_vecs)\n",
        "t_vecs = t_vecs/np.sum(t_vecs, axis=1).reshape(-1,1)\n",
        "t_vecs = np.round(t_vecs, 2)"
      ],
      "execution_count": 61,
      "outputs": []
    },
    {
      "cell_type": "code",
      "metadata": {
        "colab": {
          "base_uri": "https://localhost:8080/",
          "height": 351
        },
        "id": "LlKw74mpUPla",
        "outputId": "e5afab3d-eda5-4828-deb1-4fce073f471c"
      },
      "source": [
        "plt.figure(figsize=(12,5))\n",
        "sns.heatmap(t_vecs, annot=True, cmap='viridis')\n",
        "plt.xlabel(\"Topic IDs\")\n",
        "plt.ylabel(\"Good Actor Communities IDs\")"
      ],
      "execution_count": 62,
      "outputs": [
        {
          "output_type": "execute_result",
          "data": {
            "text/plain": [
              "Text(87.0, 0.5, 'Good Actor Communities IDs')"
            ]
          },
          "metadata": {
            "tags": []
          },
          "execution_count": 62
        },
        {
          "output_type": "display_data",
          "data": {
            "image/png": "[encoded data removed]",
            "text/plain": [
              "<Figure size 864x360 with 2 Axes>"
            ]
          },
          "metadata": {
            "tags": [],
            "needs_background": "light"
          }
        }
      ]
    },
    {
      "cell_type": "code",
      "metadata": {
        "id": "yZ8lVK-4UeXn"
      },
      "source": [
        "t_idxs = []\n",
        "# for t_vec in (community_topic_vecs-mean_com_topic_vec):\n",
        "for t_vec in (bad_vecs):\n",
        "    t_idxs.append(np.argsort(t_vec)[::-1][:3])\n",
        "\n",
        "cluster_ids = []\n",
        "t_vecs = []\n",
        "for c_id, vec in enumerate(bad_vecs):  \n",
        "    com_vector = np.zeros(vec.shape)\n",
        "    com_vector[t_idxs[c_id]] = vec[t_idxs[c_id]]\n",
        "    # data_viz.append({'cluster_id':int(c_id), 'topic_vector':list(com_vector)})\n",
        "    cluster_ids.append(c_id)\n",
        "    t_vecs.append(com_vector)\n",
        "\n",
        "t_vecs = np.array(t_vecs)\n",
        "t_vecs = t_vecs/np.sum(t_vecs, axis=1).reshape(-1,1)\n",
        "t_vecs = np.round(t_vecs, 2)"
      ],
      "execution_count": 63,
      "outputs": []
    },
    {
      "cell_type": "code",
      "metadata": {
        "colab": {
          "base_uri": "https://localhost:8080/",
          "height": 351
        },
        "id": "A-3OdWiPWxq_",
        "outputId": "2e4f0ea3-e6b6-4822-892f-fe44e7ab49c1"
      },
      "source": [
        "plt.figure(figsize=(12,5))\n",
        "sns.heatmap(t_vecs, annot=True, cmap='viridis')\n",
        "plt.xlabel(\"Topic IDs\")\n",
        "plt.ylabel(\"Bad Actor Communities IDs\")"
      ],
      "execution_count": 64,
      "outputs": [
        {
          "output_type": "execute_result",
          "data": {
            "text/plain": [
              "Text(87.0, 0.5, 'Bad Actor Communities IDs')"
            ]
          },
          "metadata": {
            "tags": []
          },
          "execution_count": 64
        },
        {
          "output_type": "display_data",
          "data": {
            "image/png": "[encoded data removed]",
            "text/plain": [
              "<Figure size 864x360 with 2 Axes>"
            ]
          },
          "metadata": {
            "tags": [],
            "needs_background": "light"
          }
        }
      ]
    },
    {
      "cell_type": "code",
      "metadata": {
        "colab": {
          "base_uri": "https://localhost:8080/"
        },
        "id": "k3D2F9ihW0Fe",
        "outputId": "9e95a7ad-5682-4172-c4d0-eef263614adf"
      },
      "source": [
        "bad_coms['avg_rating'].apply(lambda x: np.mean(x))"
      ],
      "execution_count": 66,
      "outputs": [
        {
          "output_type": "execute_result",
          "data": {
            "text/plain": [
              "0    5.640081\n",
              "1    5.659626\n",
              "2    5.661175\n",
              "3    5.691898\n",
              "Name: avg_rating, dtype: float64"
            ]
          },
          "metadata": {
            "tags": []
          },
          "execution_count": 66
        }
      ]
    },
    {
      "cell_type": "code",
      "metadata": {
        "colab": {
          "base_uri": "https://localhost:8080/"
        },
        "id": "C7TwHjSMZA5w",
        "outputId": "38fca1e9-fd49-437a-e9fd-9dd5fa32465f"
      },
      "source": [
        "good_coms['avg_rating'].apply(lambda x: np.mean(x))"
      ],
      "execution_count": 71,
      "outputs": [
        {
          "output_type": "execute_result",
          "data": {
            "text/plain": [
              "0    6.573677\n",
              "1    6.497940\n",
              "2    6.496551\n",
              "3    6.587199\n",
              "4    6.514758\n",
              "Name: avg_rating, dtype: float64"
            ]
          },
          "metadata": {
            "tags": []
          },
          "execution_count": 71
        }
      ]
    },
    {
      "cell_type": "code",
      "metadata": {
        "id": "w90Wyy4sberG"
      },
      "source": [
        ""
      ],
      "execution_count": null,
      "outputs": []
    }
  ]
}