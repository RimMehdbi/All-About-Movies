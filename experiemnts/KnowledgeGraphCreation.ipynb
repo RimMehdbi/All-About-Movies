{
  "cells": [
    {
      "cell_type": "code",
      "execution_count": null,
      "metadata": {
        "id": "AfYC3nsmzJKv"
      },
      "outputs": [],
      "source": [
        "import pandas as pd\n",
        "import numpy as np\n",
        "import matplotlib.pyplot as plt\n",
        "import seaborn as sns\n",
        "from neo4j import GraphDatabase\n",
        "pd.set_option(\"display.max_colwidth\", 500)"
      ]
    },
    {
      "cell_type": "markdown",
      "metadata": {
        "id": "DJG_NkY2zJKw"
      },
      "source": [
        "# Data exploration and processing # "
      ]
    },
    {
      "cell_type": "code",
      "execution_count": null,
      "metadata": {
        "id": "3i2NNxqJzJKx"
      },
      "outputs": [],
      "source": [
        "## load movies metadata\n",
        "movies_df = pd.read_csv(\"movies_metadata.csv\", low_memory=False)\n",
        "movies_df.drop_duplicates(subset=['id'], inplace=True)\n",
        "movies_df['genres'] = movies_df['genres'].apply(lambda x: eval(x))\n",
        "movies_df.dropna(subset=['title'], inplace=True)\n",
        "## load cast and credits\n",
        "credits_df = pd.read_csv('credits.csv')\n",
        "credits_df.drop_duplicates(subset=['id'], inplace=True)\n",
        "movies_df['id'] = movies_df['id'].astype(str)\n",
        "credits_df['id'] = credits_df['id'].astype(str)\n",
        "credits_df['cast'] = credits_df['cast'].apply(lambda x: eval(x))\n",
        "# load production houses\n",
        "movies_df['production_companies'] = movies_df['production_companies'].apply(lambda x: eval(x))\n",
        "movies_df.dropna(subset=['release_date'], inplace=True)\n",
        "# Adding cast and crew to movie dataframe\n",
        "movies_df = pd.merge(movies_df, credits_df, how='inner', on='id')"
      ]
    },
    {
      "cell_type": "markdown",
      "metadata": {
        "id": "YQpPr53azJK9"
      },
      "source": [
        " ### Neo4J _ Knowledge Graph"
      ]
    },
    {
      "cell_type": "code",
      "execution_count": null,
      "metadata": {
        "id": "Qjh04T_ZzJK9"
      },
      "outputs": [],
      "source": [
        "## Connect to DB\n",
        "d = GraphDatabase.driver(\"bolt://localhost:7687\", auth=(\"neo4j\", \"admin\"), encrypted=False)"
      ]
    },
    {
      "cell_type": "code",
      "execution_count": null,
      "metadata": {
        "id": "YY_I1HGtzJK-"
      },
      "outputs": [],
      "source": [
        "def name_property_check(func):\n",
        "    def validate_func(**kwargs):\n",
        "        print(kwargs)\n",
        "        return func(*kwargs)\n",
        "    return validate_func"
      ]
    },
    {
      "cell_type": "code",
      "execution_count": null,
      "metadata": {
        "id": "-PHX85kuzJK_"
      },
      "outputs": [],
      "source": [
        "class GraphUtils:\n",
        "    def __init__(self):\n",
        "        pass\n",
        "    ## Utitlity to convert the dictionary object to into string ({'key1':'value1'} -> \"{key1:'value'}\")\n",
        "    def _get_property_in_cypher_format(self, dic):\n",
        "        format_string = \"{\"\n",
        "        for k,v in dic.items():\n",
        "            format_string += k + ':\"%s\", '%(v)\n",
        "        format_string = format_string[:-2] # removing the last/trailing \", \"\n",
        "        format_string+=\"}\"\n",
        "        return format_string\n",
        "    def insert_HTR(self, head_type,head_id,head_properties,tail_type,tail_id,tail_properties,rel_type,rel_properties=None):\n",
        "        ## all the properties expcet rel_properties must have a 'id' field\n",
        "        ## add a decorator here for validation\n",
        "        head_properties = self._get_property_in_cypher_format(head_properties)\n",
        "        tail_properties = self._get_property_in_cypher_format(tail_properties)\n",
        "        ## for relation types make sure to check before that, that particular relation doesn't exist\n",
        "        \n",
        "        if rel_properties is None:\n",
        "            query = \"\"\"\\\n",
        "            MERGE(head: {head_type} {{ id:\"{head_id}\" }})\n",
        "            SET head += {head_properties}\n",
        "            MERGE(tail: {tail_type} {{ id:\"{tail_id}\" }}) \n",
        "            SET tail += {tail_properties}\n",
        "            MERGE (head)-[rel: {rel_type}]->(tail) return head, tail, rel\"\"\".format(head_type=head_type,\n",
        "                                                                                    head_id=head_id, \n",
        "                                                                                    head_properties=head_properties,\n",
        "                                                                                    tail_type=tail_type, \n",
        "                                                                                    tail_id=tail_id,\n",
        "                                                                                    tail_properties=tail_properties, \n",
        "                                                                                    rel_type=rel_type)\n",
        "            ## initialize this d object with a singleton\n",
        "            with d.session() as session:\n",
        "                session.run(query)\n",
        "                "
      ]
    },
    {
      "cell_type": "code",
      "execution_count": null,
      "metadata": {
        "id": "4597ZZ1CzJLB"
      },
      "outputs": [],
      "source": [
        "class HRT_Extractor:\n",
        "    def __init__(self):\n",
        "        pass\n",
        "    def _movie_genre_htr(self, mids, titles, genres):\n",
        "        for m_id, genre_json_list, title in zip(mids, genres, titles):\n",
        "            if len(genre_json_list)==0:\n",
        "                continue\n",
        "            for genre_json in genre_json_list:\n",
        "                htr_dict = {\n",
        "                       'head_type' : 'Movie',\n",
        "                       'head_id' : str(m_id),\n",
        "                       'head_properties' : {'id': str(m_id), 'title': str(title).replace('\"',\"'\")},\n",
        "                       'tail_type' : 'Genre',\n",
        "                       'tail_id' : str(genre_json['id']),\n",
        "                       'tail_properties' : genre_json,\n",
        "                       'rel_type' : 'has_genre'\n",
        "                   }\n",
        "                yield htr_dict\n",
        "                \n",
        "    def movie_genre_population(self, movie_ids_list: list, movie_titles_list: list, genres: dict):\n",
        "        idx = 0\n",
        "        for _obj in self._movie_genre_htr(movie_ids_list, movie_titles_list, genres):\n",
        "            GraphUtils().insert_HTR(**_obj)\n",
        "            \n",
        "            print(idx)\n",
        "            if idx%100==0:\n",
        "                clear_output()\n",
        "            idx+=1\n",
        "        clear_output()\n",
        "        print(idx, \"Completed\")\n",
        "        \n",
        "    def _movie_actor_htr(self, mids, actors):\n",
        "        for m_id, actor_json_list in zip(mids, actors):\n",
        "            if len(actor_json_list)==0:\n",
        "                continue\n",
        "            for actor_json in actor_json_list:\n",
        "                actor_json = {'id':actor_json['id'], 'name':actor_json['name'].replace('\"',\"'\"), 'gender':str(actor_json['gender'])}\n",
        "                if actor_json['name'] == \"\"\"\"Weird Al\" Yankovic\"\"\" or actor_json['name'] == \"'Weird Al' Yankovic\":\n",
        "                    print(actor_json)\n",
        "           \n",
        "                htr_dict = {\n",
        "                       'head_type' : 'Movie',\n",
        "                       'head_id' : str(m_id),\n",
        "                       'head_properties' : {'id': str(m_id)},\n",
        "                       'tail_type' : 'Actor',\n",
        "                       'tail_id' : str(actor_json['id']),\n",
        "                       'tail_properties' : actor_json,\n",
        "                       'rel_type' : 'acted_by'\n",
        "                   }\n",
        "                yield htr_dict\n",
        "                \n",
        "    def movie_actor_population(self, movie_ids_list: list, actors: dict):\n",
        "        idx = 0\n",
        "        for _obj in self._movie_actor_htr(movie_ids_list,actors):\n",
        "            GraphUtils().insert_HTR(**_obj)\n",
        "            \n",
        "            if idx%100==0:\n",
        "                print(idx)\n",
        "            if idx%1000==0:\n",
        "                clear_output()\n",
        "            idx+=1\n",
        "        clear_output()\n",
        "        print(idx, \"Completed\")\n",
        "        \n",
        "        \n",
        "    def _movie_production_company_htr(self, mids, titles, prod_comps):\n",
        "        for m_id, prod_comp_json_list, title in zip(mids, prod_comps, titles):\n",
        "            if len(prod_comp_json_list)==0:\n",
        "                continue\n",
        "            for prod_comp_json in prod_comp_json_list:\n",
        "                htr_dict = {\n",
        "                       'head_type' : 'Movie',\n",
        "                       'head_id' : str(m_id),\n",
        "                       'head_properties' : {'id': str(m_id), 'title': str(title).replace('\"',\"'\")},\n",
        "                       'tail_type' : 'ProductionCompany',\n",
        "                       'tail_id' : str(prod_comp_json['id']),\n",
        "                       'tail_properties' : prod_comp_json,\n",
        "                       'rel_type' : 'is_produced_by'\n",
        "                   }\n",
        "                yield htr_dict\n",
        "                \n",
        "    def movie_production_company_population(self, movie_ids_list: list, movie_titles_list: list, prod_comps: dict):\n",
        "        idx = 0\n",
        "        for _obj in self._movie_production_company_htr(movie_ids_list, movie_titles_list, prod_comps):\n",
        "            GraphUtils().insert_HTR(**_obj)\n",
        "            \n",
        "            print(idx)\n",
        "            if idx%100==0:\n",
        "                clear_output()\n",
        "            idx+=1\n",
        "        clear_output()\n",
        "        print(idx, \"Completed\")\n",
        "        \n",
        "        \n",
        "        \n",
        "    def _movie_year_htr(self, mids, titles, year):\n",
        "        for m_id, year, title in zip(mids, year, titles):\n",
        "            \n",
        "            htr_dict = {\n",
        "                       'head_type' : 'Movie',\n",
        "                       'head_id' : str(m_id),\n",
        "                       'head_properties' : {'id': str(m_id), 'title': str(title).replace('\"',\"'\")},\n",
        "                       'tail_type' : 'Year',\n",
        "                       'tail_id' : str(year),\n",
        "                       'tail_properties' : {'id': str(year), 'year': str(year)},\n",
        "                       'rel_type' : 'released_in'\n",
        "                   }\n",
        "            yield  htr_dict\n",
        "        \n",
        "                \n",
        "    def movie_year_population(self, movie_ids_list: list, movie_titles_list: list, year):\n",
        "        idx = 0\n",
        "        for _obj in self._movie_year_htr(movie_ids_list, movie_titles_list, year):\n",
        "            GraphUtils().insert_HTR(**_obj)\n",
        "            \n",
        "            print(idx)\n",
        "            if idx%100==0:\n",
        "                clear_output()\n",
        "            idx+=1\n",
        "        clear_output()\n",
        "        print(idx, \"Completed\")\n",
        "        \n",
        "        \n",
        "                \n",
        "    def _movie_director_htr(self, mids, directors):\n",
        "        for m_id, director_json_list in zip(mids, directors):\n",
        "            if len(director_json_list)==0:\n",
        "                continue\n",
        "            for director_json in director_json_list:\n",
        "                director_json = {'id':director_json['id'], 'name':director_json['name'].replace('\"',\"'\"), 'gender':str(director_json['gender'])}\n",
        "\n",
        "                htr_dict = {\n",
        "                       'head_type' : 'Movie',\n",
        "                       'head_id' : str(m_id),\n",
        "                       'head_properties' : {'id': str(m_id)},\n",
        "                       'tail_type' : 'director',\n",
        "                       'tail_id' : str(director_json['id']),\n",
        "                       'tail_properties' : director_json,\n",
        "                       'rel_type' : 'directed_by'\n",
        "                   }\n",
        "                yield htr_dict\n",
        "                \n",
        "    def movie_director_population(self, movie_ids_list: list, directors: dict):\n",
        "        idx = 0\n",
        "        for _obj in self._movie_director_htr(movie_ids_list,directors):\n",
        "            GraphUtils().insert_HTR(**_obj)\n",
        "            \n",
        "            if idx%100==0:\n",
        "                print(idx)\n",
        "            if idx%1000==0:\n",
        "                clear_output()\n",
        "            idx+=1\n",
        "        clear_output()\n",
        "        print(idx, \"Completed\")"
      ]
    },
    {
      "cell_type": "markdown",
      "metadata": {
        "id": "SGgSOs_pzJLE"
      },
      "source": [
        "# Adding Movie - Genre nodes #"
      ]
    },
    {
      "cell_type": "code",
      "execution_count": null,
      "metadata": {
        "id": "zLii3gG9zJLE",
        "outputId": "7223db93-e77f-43d0-cc42-170823e4929e"
      },
      "outputs": [
        {
          "name": "stdout",
          "output_type": "stream",
          "text": [
            "2398 Completed\n"
          ]
        }
      ],
      "source": [
        "HRT_Extractor().movie_genre_population(movies_df['id'], movies_df['title'], movies_df['genres'])"
      ]
    },
    {
      "cell_type": "markdown",
      "metadata": {
        "id": "IHTJxwDxzJLF"
      },
      "source": [
        "# Adding Movie nodes #"
      ]
    },
    {
      "cell_type": "code",
      "execution_count": null,
      "metadata": {
        "id": "AzoSf0AxzJLF",
        "outputId": "6ea5f451-0ea8-463c-9037-a973ef369bee"
      },
      "outputs": [
        {
          "name": "stdout",
          "output_type": "stream",
          "text": [
            "17368 Completed\n"
          ]
        }
      ],
      "source": [
        "HRT_Extractor().movie_actor_population(movies_df['id'], movies_df['cast'])"
      ]
    },
    {
      "cell_type": "markdown",
      "metadata": {
        "id": "Wpd-0pnLzJLG"
      },
      "source": [
        "# Adding production companies #"
      ]
    },
    {
      "cell_type": "code",
      "execution_count": null,
      "metadata": {
        "id": "uSfQImaizJLG",
        "outputId": "1d743bb4-79ea-447a-fe87-a0b2567c544d"
      },
      "outputs": [
        {
          "name": "stdout",
          "output_type": "stream",
          "text": [
            "1962 Completed\n"
          ]
        }
      ],
      "source": [
        "HRT_Extractor().movie_production_company_population(movies_df['id'], movies_df['title'], movies_df['production_companies'])"
      ]
    },
    {
      "cell_type": "markdown",
      "metadata": {
        "id": "7C37KJzQzJLH"
      },
      "source": [
        "# Adding Year node #"
      ]
    },
    {
      "cell_type": "code",
      "execution_count": null,
      "metadata": {
        "id": "ThNHvqoTzJLI"
      },
      "outputs": [],
      "source": [
        "from datetime import datetime\n",
        "# funtion to extract year from date\n",
        "def Extract_year(x): \n",
        "    x= str(x)\n",
        "    dt = datetime.strptime(x, '%Y-%m-%d')\n",
        "    return dt.year"
      ]
    },
    {
      "cell_type": "code",
      "execution_count": null,
      "metadata": {
        "id": "AFUcvVQwzJLJ",
        "outputId": "7536e3d5-7fc7-475d-e516-540a88a8dd0b"
      },
      "outputs": [
        {
          "name": "stdout",
          "output_type": "stream",
          "text": [
            "998 Completed\n"
          ]
        }
      ],
      "source": [
        "movies_df['release_year'] = movies_df['release_date'].apply(lambda x: Extract_year(x))\n",
        "HRT_Extractor().movie_year_population(movies_df['id'], movies_df['title'], movies_df['release_year'])"
      ]
    },
    {
      "cell_type": "markdown",
      "metadata": {
        "id": "qaPYd7zpzJLJ"
      },
      "source": [
        "# Adding director and writer #"
      ]
    },
    {
      "cell_type": "code",
      "execution_count": null,
      "metadata": {
        "id": "cQSpv5CDzJLK"
      },
      "outputs": [],
      "source": [
        "credits_df['crew'] = credits_df['crew'].apply(lambda x: eval(x))"
      ]
    },
    {
      "cell_type": "code",
      "execution_count": null,
      "metadata": {
        "id": "6sfvOim6zJLK"
      },
      "outputs": [],
      "source": [
        "def MovieDirector(movie_crew):\n",
        "    t=[]\n",
        "    for i in range (len(movie_crew)):\n",
        "        if (movie_crew[i]['job']== 'Director'):\n",
        "            t.append(movie_crew[i])\n",
        "    return (t)"
      ]
    },
    {
      "cell_type": "code",
      "execution_count": null,
      "metadata": {
        "id": "wB5uUkyrzJLK"
      },
      "outputs": [],
      "source": [
        "movies_df['Director'] = movies_df['crew'].apply(lambda x : MovieDirector(x))"
      ]
    },
    {
      "cell_type": "code",
      "execution_count": null,
      "metadata": {
        "id": "Fad_2F0izJLL",
        "outputId": "ae693205-900d-4da1-b208-a7d0988755aa"
      },
      "outputs": [
        {
          "name": "stdout",
          "output_type": "stream",
          "text": [
            "1046 Completed\n"
          ]
        }
      ],
      "source": [
        "HRT_Extractor().movie_director_population(movies_df['id'],  movies_df['Director'])"
      ]
    },
    {
      "cell_type": "markdown",
      "source": [
        "<img src=\"https://drive.google.com/uc?export=view&id=1O4jndDGd5jwqZ1UrzYcYTFqaKblJUmSy\"></img>"
      ],
      "metadata": {
        "id": "t4QOhP3J36NX"
      }
    },
    {
      "cell_type": "code",
      "source": [
        ""
      ],
      "metadata": {
        "id": "9SackxKz4lXn"
      },
      "execution_count": null,
      "outputs": []
    }
  ],
  "metadata": {
    "kernelspec": {
      "display_name": "Python 3",
      "language": "python",
      "name": "python3"
    },
    "language_info": {
      "codemirror_mode": {
        "name": "ipython",
        "version": 3
      },
      "file_extension": ".py",
      "mimetype": "text/x-python",
      "name": "python",
      "nbconvert_exporter": "python",
      "pygments_lexer": "ipython3",
      "version": "3.7.4"
    },
    "colab": {
      "name": "KnowledgeGraphCreation.ipynb",
      "provenance": [],
      "collapsed_sections": []
    }
  },
  "nbformat": 4,
  "nbformat_minor": 0
}